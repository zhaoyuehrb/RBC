{
 "cells": [
  {
   "cell_type": "code",
   "execution_count": 1,
   "metadata": {},
   "outputs": [],
   "source": [
    "import numpy as np\n",
    "import pandas as pd"
   ]
  },
  {
   "cell_type": "code",
   "execution_count": 2,
   "metadata": {},
   "outputs": [],
   "source": [
    "import os\n",
    "from os import path\n",
    "import weblogo"
   ]
  },
  {
   "cell_type": "code",
   "execution_count": 3,
   "metadata": {},
   "outputs": [],
   "source": [
    "import seqlogo"
   ]
  },
  {
   "cell_type": "code",
   "execution_count": 4,
   "metadata": {},
   "outputs": [],
   "source": [
    "np.random.seed(42)"
   ]
  },
  {
   "cell_type": "code",
   "execution_count": 5,
   "metadata": {},
   "outputs": [],
   "source": [
    "random_ppm = np.random.dirichlet(np.ones(4), size=6)"
   ]
  },
  {
   "cell_type": "code",
   "execution_count": null,
   "metadata": {},
   "outputs": [],
   "source": []
  },
  {
   "cell_type": "code",
   "execution_count": 7,
   "metadata": {},
   "outputs": [],
   "source": [
    "pfm = pd.DataFrame(np.random.randint(0, 36, size=(8, 4)))\n",
    "pwm = seqlogo.Ppm(seqlogo.pfm2ppm(pfm))"
   ]
  },
  {
   "cell_type": "code",
   "execution_count": 8,
   "metadata": {},
   "outputs": [
    {
     "data": {
      "image/png": "[encoded data removed]",
      "text/plain": [
       "<IPython.core.display.Image object>"
      ]
     },
     "execution_count": 8,
     "metadata": {},
     "output_type": "execute_result"
    }
   ],
   "source": [
    "seqlogo.seqlogo(pwm, ic_scale = True, format = 'png', size = 'medium',filename='test.png')"
   ]
  },
  {
   "cell_type": "code",
   "execution_count": 9,
   "metadata": {},
   "outputs": [
    {
     "data": {
      "text/html": [
       "<div>\n",
       "<style scoped>\n",
       "    .dataframe tbody tr th:only-of-type {\n",
       "        vertical-align: middle;\n",
       "    }\n",
       "\n",
       "    .dataframe tbody tr th {\n",
       "        vertical-align: top;\n",
       "    }\n",
       "\n",
       "    .dataframe thead th {\n",
       "        text-align: right;\n",
       "    }\n",
       "</style>\n",
       "<table border=\"1\" class=\"dataframe\">\n",
       "  <thead>\n",
       "    <tr style=\"text-align: right;\">\n",
       "      <th></th>\n",
       "      <th>A</th>\n",
       "      <th>C</th>\n",
       "      <th>G</th>\n",
       "      <th>T</th>\n",
       "    </tr>\n",
       "  </thead>\n",
       "  <tbody>\n",
       "    <tr>\n",
       "      <th>0</th>\n",
       "      <td>0.055556</td>\n",
       "      <td>0.166667</td>\n",
       "      <td>0.555556</td>\n",
       "      <td>0.222222</td>\n",
       "    </tr>\n",
       "    <tr>\n",
       "      <th>1</th>\n",
       "      <td>0.298246</td>\n",
       "      <td>0.052632</td>\n",
       "      <td>0.421053</td>\n",
       "      <td>0.228070</td>\n",
       "    </tr>\n",
       "    <tr>\n",
       "      <th>2</th>\n",
       "      <td>0.150943</td>\n",
       "      <td>0.471698</td>\n",
       "      <td>0.018868</td>\n",
       "      <td>0.358491</td>\n",
       "    </tr>\n",
       "    <tr>\n",
       "      <th>3</th>\n",
       "      <td>0.364865</td>\n",
       "      <td>0.081081</td>\n",
       "      <td>0.094595</td>\n",
       "      <td>0.459459</td>\n",
       "    </tr>\n",
       "    <tr>\n",
       "      <th>4</th>\n",
       "      <td>0.194030</td>\n",
       "      <td>0.238806</td>\n",
       "      <td>0.522388</td>\n",
       "      <td>0.044776</td>\n",
       "    </tr>\n",
       "    <tr>\n",
       "      <th>5</th>\n",
       "      <td>0.027027</td>\n",
       "      <td>0.135135</td>\n",
       "      <td>0.081081</td>\n",
       "      <td>0.756757</td>\n",
       "    </tr>\n",
       "    <tr>\n",
       "      <th>6</th>\n",
       "      <td>0.202381</td>\n",
       "      <td>0.297619</td>\n",
       "      <td>0.392857</td>\n",
       "      <td>0.107143</td>\n",
       "    </tr>\n",
       "    <tr>\n",
       "      <th>7</th>\n",
       "      <td>0.380435</td>\n",
       "      <td>0.141304</td>\n",
       "      <td>0.326087</td>\n",
       "      <td>0.152174</td>\n",
       "    </tr>\n",
       "  </tbody>\n",
       "</table>\n",
       "</div>"
      ],
      "text/plain": [
       "          A         C         G         T\n",
       "0  0.055556  0.166667  0.555556  0.222222\n",
       "1  0.298246  0.052632  0.421053  0.228070\n",
       "2  0.150943  0.471698  0.018868  0.358491\n",
       "3  0.364865  0.081081  0.094595  0.459459\n",
       "4  0.194030  0.238806  0.522388  0.044776\n",
       "5  0.027027  0.135135  0.081081  0.756757\n",
       "6  0.202381  0.297619  0.392857  0.107143\n",
       "7  0.380435  0.141304  0.326087  0.152174"
      ]
     },
     "metadata": {},
     "output_type": "display_data"
    },
    {
     "data": {
      "text/plain": []
     },
     "execution_count": 9,
     "metadata": {},
     "output_type": "execute_result"
    }
   ],
   "source": [
    "pwm"
   ]
  },
  {
   "cell_type": "code",
   "execution_count": 10,
   "metadata": {},
   "outputs": [
    {
     "ename": "NameError",
     "evalue": "name 'ppm2' is not defined",
     "output_type": "error",
     "traceback": [
      "\u001b[0;31m---------------------------------------------------------------------------\u001b[0m",
      "\u001b[0;31mNameError\u001b[0m                                 Traceback (most recent call last)",
      "\u001b[0;32m<ipython-input-10-a8a9696b38c6>\u001b[0m in \u001b[0;36m<module>\u001b[0;34m\u001b[0m\n\u001b[0;32m----> 1\u001b[0;31m \u001b[0mtype\u001b[0m\u001b[0;34m(\u001b[0m\u001b[0mppm2\u001b[0m\u001b[0;34m)\u001b[0m\u001b[0;34m\u001b[0m\u001b[0;34m\u001b[0m\u001b[0m\n\u001b[0m",
      "\u001b[0;31mNameError\u001b[0m: name 'ppm2' is not defined"
     ]
    }
   ],
   "source": [
    "type(ppm2)"
   ]
  },
  {
   "cell_type": "code",
   "execution_count": 13,
   "metadata": {},
   "outputs": [
    {
     "data": {
      "text/plain": [
       "True"
      ]
     },
     "execution_count": 13,
     "metadata": {},
     "output_type": "execute_result"
    }
   ],
   "source": [
    "os.path.isfile('fpUTR_ACAGTG-s_7_1.txt')"
   ]
  },
  {
   "cell_type": "code",
   "execution_count": null,
   "metadata": {},
   "outputs": [],
   "source": []
  },
  {
   "cell_type": "markdown",
   "metadata": {},
   "source": [
    "## Filename to dataset mapping\n",
    "\n",
    "load previous saved file index table"
   ]
  },
  {
   "cell_type": "code",
   "execution_count": 6,
   "metadata": {},
   "outputs": [
    {
     "name": "stdout",
     "output_type": "stream",
     "text": [
      "/Users/zhaoy/Documents/My Projects/RBC/SeqLogo\r\n"
     ]
    }
   ],
   "source": [
    "!pwd"
   ]
  },
  {
   "cell_type": "code",
   "execution_count": 7,
   "metadata": {},
   "outputs": [
    {
     "data": {
      "text/html": [
       "<div>\n",
       "<style scoped>\n",
       "    .dataframe tbody tr th:only-of-type {\n",
       "        vertical-align: middle;\n",
       "    }\n",
       "\n",
       "    .dataframe tbody tr th {\n",
       "        vertical-align: top;\n",
       "    }\n",
       "\n",
       "    .dataframe thead th {\n",
       "        text-align: right;\n",
       "    }\n",
       "</style>\n",
       "<table border=\"1\" class=\"dataframe\">\n",
       "  <thead>\n",
       "    <tr style=\"text-align: right;\">\n",
       "      <th></th>\n",
       "      <th>Barcodes</th>\n",
       "      <th>Sets</th>\n",
       "      <th>Types</th>\n",
       "      <th>Timepoint</th>\n",
       "      <th>Position</th>\n",
       "      <th>FileName</th>\n",
       "    </tr>\n",
       "  </thead>\n",
       "  <tbody>\n",
       "    <tr>\n",
       "      <th>0</th>\n",
       "      <td>ATCACG</td>\n",
       "      <td>8</td>\n",
       "      <td>S24</td>\n",
       "      <td>0</td>\n",
       "      <td>ATCACG</td>\n",
       "      <td>ATCACG-s_5_1</td>\n",
       "    </tr>\n",
       "    <tr>\n",
       "      <th>1</th>\n",
       "      <td>TTAGGC</td>\n",
       "      <td>8</td>\n",
       "      <td>S24</td>\n",
       "      <td>1</td>\n",
       "      <td>TTAGGC</td>\n",
       "      <td>TTAGGC-s_5_1</td>\n",
       "    </tr>\n",
       "  </tbody>\n",
       "</table>\n",
       "</div>"
      ],
      "text/plain": [
       "  Barcodes  Sets Types  Timepoint Position      FileName\n",
       "0   ATCACG     8   S24          0   ATCACG  ATCACG-s_5_1\n",
       "1   TTAGGC     8   S24          1   TTAGGC  TTAGGC-s_5_1"
      ]
     },
     "execution_count": 7,
     "metadata": {},
     "output_type": "execute_result"
    }
   ],
   "source": [
    "fileIdxTable = pd.read_csv('../RBC_fid_table.csv')\n",
    "fileIdxTable.head(2)"
   ]
  },
  {
   "cell_type": "code",
   "execution_count": 8,
   "metadata": {},
   "outputs": [],
   "source": [
    "## exact same barcode and timepoint, slightly change the name\n",
    "fileIdxTable.iloc[17,5] = 'ACTTGA-s_7_1_f6'"
   ]
  },
  {
   "cell_type": "code",
   "execution_count": null,
   "metadata": {},
   "outputs": [],
   "source": []
  },
  {
   "cell_type": "code",
   "execution_count": null,
   "metadata": {},
   "outputs": [],
   "source": []
  },
  {
   "cell_type": "markdown",
   "metadata": {},
   "source": [
    "## experiment ways to create pfm from data"
   ]
  },
  {
   "cell_type": "code",
   "execution_count": 9,
   "metadata": {},
   "outputs": [],
   "source": [
    "pfm = pd.DataFrame(np.random.randint(0, 36, size=(30, 4)))"
   ]
  },
  {
   "cell_type": "code",
   "execution_count": 10,
   "metadata": {},
   "outputs": [],
   "source": [
    "arr = np.zeros((30,4))\n",
    "pd.DataFrame(arr)\n",
    "a=seqlogo.Pfm(pfm)"
   ]
  },
  {
   "cell_type": "code",
   "execution_count": 11,
   "metadata": {},
   "outputs": [
    {
     "data": {
      "image/png": "[encoded data removed]",
      "text/plain": [
       "<IPython.core.display.Image object>"
      ]
     },
     "execution_count": 11,
     "metadata": {},
     "output_type": "execute_result"
    }
   ],
   "source": [
    "ppmt = seqlogo.pfm2ppm(seqlogo.Pfm(pfm))\n",
    "seqlogo.seqlogo(seqlogo.Ppm(ppmt), ic_scale = True, format = 'png', size = 'large',filename='test.png')"
   ]
  },
  {
   "cell_type": "code",
   "execution_count": null,
   "metadata": {},
   "outputs": [],
   "source": []
  },
  {
   "cell_type": "code",
   "execution_count": null,
   "metadata": {},
   "outputs": [],
   "source": []
  },
  {
   "cell_type": "code",
   "execution_count": 12,
   "metadata": {},
   "outputs": [
    {
     "data": {
      "text/plain": [
       "'S24_0_8'"
      ]
     },
     "execution_count": 12,
     "metadata": {},
     "output_type": "execute_result"
    }
   ],
   "source": [
    "barcode = 'ATCACG-s_5_1'\n",
    "r = fileIdxTable.loc[fileIdxTable['FileName']==barcode]\n",
    "datset = ''+r['Types'][0] + '_' + str(r['Timepoint'][0]) + '_' + str(r['Sets'][0])\n",
    "datset"
   ]
  },
  {
   "cell_type": "code",
   "execution_count": 13,
   "metadata": {},
   "outputs": [],
   "source": [
    "seqfName = 'fpUTR_'+barcode+'.txt'"
   ]
  },
  {
   "cell_type": "code",
   "execution_count": 14,
   "metadata": {},
   "outputs": [],
   "source": []
  },
  {
   "cell_type": "code",
   "execution_count": 36,
   "metadata": {},
   "outputs": [],
   "source": [
    "def file2count(fname):\n",
    "    raw_count = np.zeros((30,4))\n",
    "    with open(fname) as f:\n",
    "        lines = f.read().splitlines()\n",
    "    lines_tr=[''.join(s) for s in zip(*lines)]\n",
    "    print('#lines = ',len(lines))\n",
    "    for i in range(30):\n",
    "        raw_count[i][0] = lines_tr[i].count('A')\n",
    "        raw_count[i][1] = lines_tr[i].count('C')\n",
    "        raw_count[i][2] = lines_tr[i].count('G')\n",
    "        raw_count[i][3] = lines_tr[i].count('T')\n",
    "    return raw_count"
   ]
  },
  {
   "cell_type": "code",
   "execution_count": 37,
   "metadata": {},
   "outputs": [],
   "source": [
    "def plotlogo(datset,raw_count):\n",
    "    pfm_pd=pd.DataFrame(raw_count)\n",
    "    ppm_pd=seqlogo.pfm2ppm(pfm_pd)\n",
    "    ppm = seqlogo.Ppm(ppm_pd)\n",
    "    seqlogo.seqlogo(ppm, ic_scale = True, format = 'png', size = 'xlarge',filename=datset+'.png')\n",
    "    seqlogo.seqlogo(ppm, ic_scale = True, format = 'svg', size = 'medium',filename=datset+'.svg')"
   ]
  },
  {
   "cell_type": "code",
   "execution_count": null,
   "metadata": {},
   "outputs": [],
   "source": []
  },
  {
   "cell_type": "code",
   "execution_count": 38,
   "metadata": {},
   "outputs": [
    {
     "name": "stdout",
     "output_type": "stream",
     "text": [
      "#lines =  343708\n",
      "#lines =  395437\n",
      "#lines =  306243\n",
      "#lines =  353589\n",
      "#lines =  342620\n",
      "#lines =  378190\n",
      "#lines =  343170\n",
      "#lines =  341832\n",
      "#lines =  336674\n",
      "#lines =  334185\n",
      "#lines =  298979\n",
      "#lines =  354572\n",
      "#lines =  159364\n",
      "#lines =  174031\n",
      "#lines =  119414\n",
      "#lines =  134217\n",
      "#lines =  122265\n",
      "#lines =  134960\n",
      "#lines =  202666\n",
      "#lines =  202102\n",
      "#lines =  197646\n",
      "#lines =  198247\n",
      "#lines =  182186\n",
      "#lines =  211473\n",
      "#lines =  610216\n",
      "#lines =  618821\n",
      "#lines =  658206\n",
      "#lines =  718064\n",
      "#lines =  444882\n",
      "#lines =  528891\n",
      "#lines =  260556\n",
      "#lines =  250103\n",
      "#lines =  299060\n",
      "#lines =  271399\n",
      "#lines =  145034\n",
      "#lines =  155300\n",
      "#lines =  778\n",
      "#lines =  339\n",
      "#lines =  941\n",
      "#lines =  538\n",
      "#lines =  1773\n",
      "#lines =  587\n",
      "#lines =  1228\n",
      "#lines =  567\n",
      "#lines =  3024\n",
      "#lines =  1516\n",
      "#lines =  1184\n",
      "#lines =  496\n",
      "#lines =  321016\n",
      "#lines =  349165\n",
      "#lines =  177534\n",
      "#lines =  195482\n",
      "#lines =  207408\n",
      "#lines =  212819\n",
      "#lines =  583663\n",
      "#lines =  559911\n",
      "#lines =  776799\n",
      "#lines =  756015\n",
      "#lines =  556504\n",
      "#lines =  667016\n"
     ]
    }
   ],
   "source": [
    "for index, row in fileIdxTable.iterrows():\n",
    "    barcode = row['FileName']\n",
    "    fpFile = 'fpUTR_'+barcode+'.txt'\n",
    "    #print(fpFile)\n",
    "    datset = ''+row['Types'] + '_' + str(row['Timepoint']) + '_' + str(row['Sets'])\n",
    "    raw_count = file2count(fpFile)\n",
    "    plotlogo('fpUTR/'+datset,raw_count)\n",
    "    orfFile = 'orf_left5percent_'+barcode+'.txt'\n",
    "    datset = ''+row['Types'] + '_' + str(row['Timepoint']) + '_' + str(row['Sets'])\n",
    "    raw_count = file2count(orfFile)\n",
    "    plotlogo('ORF/'+datset,raw_count)    "
   ]
  },
  {
   "cell_type": "code",
   "execution_count": null,
   "metadata": {},
   "outputs": [],
   "source": []
  },
  {
   "cell_type": "code",
   "execution_count": null,
   "metadata": {},
   "outputs": [],
   "source": []
  },
  {
   "cell_type": "code",
   "execution_count": 42,
   "metadata": {},
   "outputs": [
    {
     "data": {
      "text/plain": [
       "['a1ax', 'b2by', 'c3cz', 'd4dz']"
      ]
     },
     "execution_count": 42,
     "metadata": {},
     "output_type": "execute_result"
    }
   ],
   "source": [
    "b=['abcd','1234','abcd','xyzz']\n",
    "a=[''.join(s) for s in zip(*b)]\n",
    "a"
   ]
  },
  {
   "cell_type": "code",
   "execution_count": null,
   "metadata": {},
   "outputs": [],
   "source": []
  },
  {
   "cell_type": "code",
   "execution_count": null,
   "metadata": {},
   "outputs": [],
   "source": []
  },
  {
   "cell_type": "code",
   "execution_count": null,
   "metadata": {},
   "outputs": [],
   "source": []
  }
 ],
 "metadata": {
  "kernelspec": {
   "display_name": "Python 3",
   "language": "python",
   "name": "python3"
  },
  "language_info": {
   "codemirror_mode": {
    "name": "ipython",
    "version": 3
   },
   "file_extension": ".py",
   "mimetype": "text/x-python",
   "name": "python",
   "nbconvert_exporter": "python",
   "pygments_lexer": "ipython3",
   "version": "3.7.4"
  }
 },
 "nbformat": 4,
 "nbformat_minor": 2
}
