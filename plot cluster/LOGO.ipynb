{
 "cells": [
  {
   "cell_type": "code",
   "execution_count": 1,
   "metadata": {},
   "outputs": [],
   "source": [
    "import pandas as pd\n",
    "import numpy as np\n",
    "import csv\n",
    "import os\n",
    "from os import path\n",
    "import weblogo\n",
    "import seqlogo\n",
    "%matplotlib inline"
   ]
  },
  {
   "cell_type": "code",
   "execution_count": 2,
   "metadata": {},
   "outputs": [],
   "source": [
    "filteredGeneList = pd.read_csv('../Database/filteredGenesDetails_human_240118.txt',sep='\\t')\n",
    "acc2gene={}\n",
    "gene2acc={}\n",
    "for idx,row in filteredGeneList.iterrows():\n",
    "    acc2gene[row['AccNum']] = row['GeneName']\n",
    "    gene2acc[row['GeneName']] = row['AccNum']"
   ]
  },
  {
   "cell_type": "code",
   "execution_count": null,
   "metadata": {},
   "outputs": [],
   "source": []
  },
  {
   "cell_type": "code",
   "execution_count": 3,
   "metadata": {},
   "outputs": [],
   "source": [
    "def get_fa(filename,onlyKeys = 'All'):\n",
    "    keyD = dict()\n",
    "    if onlyKeys!='All':\n",
    "        for k in onlyKeys: keyD[k] = None\n",
    "        \n",
    "    def addEntry(current,d):\n",
    "        entry = current.split('\\n')\n",
    "        if entry[0]!='' and (onlyKeys=='All' or keyD.has_key(entry[0])):\n",
    "            d[entry[0]] = ''.join(entry[1:])\n",
    "\n",
    "    d = dict()\n",
    "    bf = open(filename)\n",
    "    current = ['\\n']\n",
    "    for line in bf:\n",
    "        if line[0]=='>':\n",
    "            addEntry(''.join(current),d)\n",
    "            if len(line)>1: current = [line[1:]]\n",
    "            else: current = ['\\n']\n",
    "        else: current.append(line)\n",
    "    addEntry(''.join(current),d)\n",
    "    bf.close()\n",
    "    return d"
   ]
  },
  {
   "cell_type": "code",
   "execution_count": 4,
   "metadata": {},
   "outputs": [],
   "source": [
    "splicedGenes = get_fa('../Database/splicedGenes_240118.txt')\n",
    "## truncate the keys to only accNum\n",
    "ks = list(splicedGenes.keys())\n",
    "for key in ks:\n",
    "    splicedGenes[key.split('_chr')[0]] = splicedGenes[key]\n",
    "    splicedGenes.pop(key)\n",
    "splicedORFs = get_fa('../Database/splicedORFs_240118.txt')"
   ]
  },
  {
   "cell_type": "code",
   "execution_count": 5,
   "metadata": {},
   "outputs": [],
   "source": [
    "fpUTR={}\n",
    "tpUTR = {}\n",
    "ORFs = {}\n",
    "for idx,row in filteredGeneList.iterrows():\n",
    "    accNum = row['AccNum']\n",
    "    fpLen = row['fpUTR_length']\n",
    "    tpLen = row['tpUTR_length']\n",
    "    fpUTR[accNum] = splicedGenes[accNum][0:fpLen]\n",
    "    tpUTR[accNum] = splicedGenes[accNum][-tpLen:]\n",
    "    ORFs[accNum] = splicedORFs[accNum]"
   ]
  },
  {
   "cell_type": "code",
   "execution_count": 6,
   "metadata": {},
   "outputs": [
    {
     "name": "stdout",
     "output_type": "stream",
     "text": [
      "bit\t\t\t\t    fil8_cluster_mergeRPKM_logonce.png\r\n",
      "deseq_test\t\t\t    fil8_cluster_mergeRPKM.png\r\n",
      "download.png\t\t\t    L24_t1_depleted_fil5.png\r\n",
      "fil2_cluster_mergeRPKM\t\t    L24_t1_depleted_fil5_prob.png\r\n",
      "fil2_cluster_mergeRPKM_logonce.png  L24_t1_enriched_fil5.png\r\n",
      "fil2_cluster_mergeRPKM.png\t    L24_t1_enriched_fil5_prob.png\r\n",
      "fil5_cluster_mergeRPKM\t\t    LOGO.ipynb\r\n",
      "fil5_cluster_mergeRPKM_logonce.png  prob\r\n",
      "fil8_cluster_mergeRPKM\t\t    te\\ heatmap\\ append\\ rpkm.ipynb\r\n"
     ]
    }
   ],
   "source": [
    "!dir\n",
    "def write_fa(dic,fname):\n",
    "    with open(fname, 'a') as the_file:\n",
    "        for key in dic.keys():\n",
    "            the_file.write('>'+key+'\\n')\n",
    "            the_file.write(dic[key]+'\\n')\n",
    "write_fa(fpUTR,'../Database/fpUTR.fa')\n",
    "write_fa(ORFs,'../Database/ORF.fa')\n",
    "write_fa(tpUTR,'../Database/tpUTR.fa')"
   ]
  },
  {
   "cell_type": "code",
   "execution_count": null,
   "metadata": {},
   "outputs": [],
   "source": []
  },
  {
   "cell_type": "code",
   "execution_count": 29,
   "metadata": {},
   "outputs": [],
   "source": [
    "class Sequences:\n",
    "    \n",
    "    @staticmethod\n",
    "    def genes2seq(genes):\n",
    "        seqs = []\n",
    "        for gene in genes:\n",
    "            fp=fpUTR[gene]\n",
    "            if len(fp)<40:\n",
    "                #print('No fpUTR encountered: ',acc2gene[gene])\n",
    "                continue\n",
    "            seq = fp[-35:-19] #position -35 to position -20\n",
    "            seq = fp[-16:]+ORFs[gene][:19]\n",
    "            seq = fp[-8:]+ORFs[gene][:33]\n",
    "            seq = ORFs[gene][:33]\n",
    "            seqs.append(seq)\n",
    "        print('# of valid seqs: ',len(seqs))\n",
    "        return seqs\n",
    "    \n",
    "    def __init__(self,seqs):\n",
    "        self.seqs=seqs\n",
    "        self.pfm, self.ppm = self.comp_count()\n",
    "        self.flat = self.ppm2flat()\n",
    "    \n",
    "    def addseqs(self,seqs):\n",
    "        self.seqs.extend(seqs)\n",
    "        self.pfm,self.ppm = self.comp_count()\n",
    "        self.flat = self.ppm2flat()\n",
    "    \n",
    "    def __len__(self):\n",
    "        return len(self.seqs)\n",
    "    \n",
    "    def comp_count(self,seqLen=33):\n",
    "        \n",
    "        raw_count = np.zeros((seqLen,4))\n",
    "        lines_tr=[''.join(s) for s in zip(*(self.seqs))]\n",
    "        #print('#lines = ',len(seqs))\n",
    "        for i in range(seqLen):\n",
    "            raw_count[i][0] = lines_tr[i].count('A')\n",
    "            raw_count[i][1] = lines_tr[i].count('C')\n",
    "            raw_count[i][2] = lines_tr[i].count('G')\n",
    "            raw_count[i][3] = lines_tr[i].count('T')\n",
    "        ppm = self.pfm2ppm(raw_count)\n",
    "        return raw_count, ppm\n",
    "    \n",
    "    ## Note: ppm here is the same as the so-called pwm in R,\n",
    "    ## True meaning of 'pwm' vary from literatures\n",
    "    def pfm2ppm(self,pfm):\n",
    "        sum_of_rows = pfm.sum(axis=1)\n",
    "        return pfm / sum_of_rows[:, np.newaxis]\n",
    "    \n",
    "    def plotlogo(self):\n",
    "        pfm_pd=pd.DataFrame(self.pfm)\n",
    "        ppm_pd=seqlogo.pfm2ppm(pfm_pd)\n",
    "        ppm = seqlogo.Ppm(ppm_pd)\n",
    "        plt=seqlogo.seqlogo(ppm, ic_scale = True, format = 'png', size = 'large')#,filename=datset+'.png')\n",
    "        #seqlogo.seqlogo(ppm, ic_scale = True, format = 'svg', size = 'medium')#,filename=datset+'.svg')\n",
    "        return plt\n",
    "    \n",
    "#     def ppm2flat(self):\n",
    "#         return self.ppm.reshape(-1)\n",
    "    \n",
    "    def ppm2flat(self):\n",
    "        return self.ppm[list(range(3,33)), 0:4].reshape(-1)\n",
    "    \n",
    "    \n",
    "    def bootstrap(self,num):    # with replacement\n",
    "        sample_seqs = np.random.choice(self.seqs, size=num)\n",
    "        return Sequences(sample_seqs.tolist())\n",
    "    \n",
    "    def sample(self,num): # without replacement\n",
    "        sample_seqs = np.random.choice(self.seqs, size=num,replace=False)\n",
    "        return Sequences(sample_seqs.tolist())\n",
    "\n",
    "    def __gt__(self, seq2):\n",
    "        return True"
   ]
  },
  {
   "cell_type": "code",
   "execution_count": 8,
   "metadata": {},
   "outputs": [],
   "source": [
    "from scipy.stats import chisquare\n",
    "import seaborn as sns\n",
    "class TestSeq:\n",
    "    \n",
    "    def __init__(self,target,test,resample=10000,num=None):\n",
    "        self.resample=resample\n",
    "        self.target=target\n",
    "        self.test=test\n",
    "        self.ps, self.seqs=self.createTest(target,test,resample,num)\n",
    "        \n",
    "    @classmethod\n",
    "    def createTest(cls,target,test,resample=10000,num=None):\n",
    "        if num==None:\n",
    "            num=len(target)\n",
    "        ps = []\n",
    "        seqs=[]\n",
    "        for i in range(0,resample):\n",
    "            seq = test.sample(num)\n",
    "            target = target.sample(num)\n",
    "            ## dof = (4-1)*(8+8) = 48, number of freqs = 64\n",
    "            ## dof = k - 1 - ddof\n",
    "            ## ddof = 64 - 1 - 48 = 15\n",
    "            _, p = chisquare(seq.flat*len(target),f_exp=target.flat*len(target),ddof=14)\n",
    "            ps.append(p)\n",
    "            seqs.append(seq)\n",
    "        both = sorted(zip(ps,seqs))\n",
    "        ps,seqs = [y for y,x in both],[x for y,x in both]\n",
    "        return ps, seqs\n",
    "\n",
    "    def dist(self):\n",
    "        return sns.distplot(self.ps)\n",
    "    def logdist(self):\n",
    "        return sns.distplot(np.log2(self.ps),bins=100)"
   ]
  },
  {
   "cell_type": "code",
   "execution_count": 9,
   "metadata": {},
   "outputs": [],
   "source": [
    "def pfm2ppm_df(pfm):\n",
    "    pfm_pd=pd.DataFrame(pfm)\n",
    "    ppm_pd=seqlogo.pfm2ppm(pfm_pd)\n",
    "    return seqlogo.Ppm(ppm_pd).T"
   ]
  },
  {
   "cell_type": "code",
   "execution_count": null,
   "metadata": {},
   "outputs": [],
   "source": []
  },
  {
   "cell_type": "code",
   "execution_count": 33,
   "metadata": {},
   "outputs": [
    {
     "data": {
      "text/html": [
       "<div>\n",
       "<style scoped>\n",
       "    .dataframe tbody tr th:only-of-type {\n",
       "        vertical-align: middle;\n",
       "    }\n",
       "\n",
       "    .dataframe tbody tr th {\n",
       "        vertical-align: top;\n",
       "    }\n",
       "\n",
       "    .dataframe thead th {\n",
       "        text-align: right;\n",
       "    }\n",
       "</style>\n",
       "<table border=\"1\" class=\"dataframe\">\n",
       "  <thead>\n",
       "    <tr style=\"text-align: right;\">\n",
       "      <th></th>\n",
       "      <th>Unnamed: 0</th>\n",
       "      <th>id</th>\n",
       "      <th>k_means_8</th>\n",
       "      <th>te_T0</th>\n",
       "      <th>te_T1</th>\n",
       "      <th>te_T2</th>\n",
       "      <th>RNA_0</th>\n",
       "      <th>RNA_1</th>\n",
       "      <th>RNA_2</th>\n",
       "      <th>totalRPF_0</th>\n",
       "      <th>totalRPF_1</th>\n",
       "      <th>totalRPF_2</th>\n",
       "    </tr>\n",
       "  </thead>\n",
       "  <tbody>\n",
       "    <tr>\n",
       "      <th>0</th>\n",
       "      <td>6</td>\n",
       "      <td>NM_000027</td>\n",
       "      <td>1</td>\n",
       "      <td>0.63</td>\n",
       "      <td>0.73</td>\n",
       "      <td>0.48</td>\n",
       "      <td>15.779673</td>\n",
       "      <td>9.853032</td>\n",
       "      <td>11.982563</td>\n",
       "      <td>46.979570</td>\n",
       "      <td>33.656786</td>\n",
       "      <td>29.065811</td>\n",
       "    </tr>\n",
       "    <tr>\n",
       "      <th>1</th>\n",
       "      <td>17</td>\n",
       "      <td>NM_000097</td>\n",
       "      <td>1</td>\n",
       "      <td>0.21</td>\n",
       "      <td>1.00</td>\n",
       "      <td>0.16</td>\n",
       "      <td>28.458655</td>\n",
       "      <td>90.727115</td>\n",
       "      <td>379.128313</td>\n",
       "      <td>62.544405</td>\n",
       "      <td>363.153345</td>\n",
       "      <td>742.768500</td>\n",
       "    </tr>\n",
       "    <tr>\n",
       "      <th>2</th>\n",
       "      <td>22</td>\n",
       "      <td>NM_000108</td>\n",
       "      <td>1</td>\n",
       "      <td>1.23</td>\n",
       "      <td>1.60</td>\n",
       "      <td>0.93</td>\n",
       "      <td>31.595398</td>\n",
       "      <td>45.824872</td>\n",
       "      <td>24.910036</td>\n",
       "      <td>140.722476</td>\n",
       "      <td>279.857036</td>\n",
       "      <td>82.512417</td>\n",
       "    </tr>\n",
       "    <tr>\n",
       "      <th>3</th>\n",
       "      <td>23</td>\n",
       "      <td>NM_000110</td>\n",
       "      <td>1</td>\n",
       "      <td>-0.12</td>\n",
       "      <td>0.14</td>\n",
       "      <td>-0.40</td>\n",
       "      <td>12.743533</td>\n",
       "      <td>3.634789</td>\n",
       "      <td>2.724057</td>\n",
       "      <td>22.396782</td>\n",
       "      <td>8.076889</td>\n",
       "      <td>3.573496</td>\n",
       "    </tr>\n",
       "    <tr>\n",
       "      <th>4</th>\n",
       "      <td>25</td>\n",
       "      <td>NM_000113</td>\n",
       "      <td>1</td>\n",
       "      <td>0.43</td>\n",
       "      <td>0.67</td>\n",
       "      <td>0.39</td>\n",
       "      <td>26.830445</td>\n",
       "      <td>13.692785</td>\n",
       "      <td>13.217789</td>\n",
       "      <td>68.783423</td>\n",
       "      <td>43.303580</td>\n",
       "      <td>30.326759</td>\n",
       "    </tr>\n",
       "  </tbody>\n",
       "</table>\n",
       "</div>"
      ],
      "text/plain": [
       "   Unnamed: 0         id  k_means_8  te_T0  te_T1  te_T2      RNA_0  \\\n",
       "0           6  NM_000027          1   0.63   0.73   0.48  15.779673   \n",
       "1          17  NM_000097          1   0.21   1.00   0.16  28.458655   \n",
       "2          22  NM_000108          1   1.23   1.60   0.93  31.595398   \n",
       "3          23  NM_000110          1  -0.12   0.14  -0.40  12.743533   \n",
       "4          25  NM_000113          1   0.43   0.67   0.39  26.830445   \n",
       "\n",
       "       RNA_1       RNA_2  totalRPF_0  totalRPF_1  totalRPF_2  \n",
       "0   9.853032   11.982563   46.979570   33.656786   29.065811  \n",
       "1  90.727115  379.128313   62.544405  363.153345  742.768500  \n",
       "2  45.824872   24.910036  140.722476  279.857036   82.512417  \n",
       "3   3.634789    2.724057   22.396782    8.076889    3.573496  \n",
       "4  13.692785   13.217789   68.783423   43.303580   30.326759  "
      ]
     },
     "execution_count": 33,
     "metadata": {},
     "output_type": "execute_result"
    }
   ],
   "source": [
    "fil = 8\n",
    "name = 'fil'+str(fil)+'_cluster_mergeRPKM'\n",
    "df = pd.read_csv(name)\n",
    "df.head()"
   ]
  },
  {
   "cell_type": "code",
   "execution_count": 34,
   "metadata": {},
   "outputs": [
    {
     "name": "stdout",
     "output_type": "stream",
     "text": [
      "# of valid seqs:  974\n",
      "# of valid seqs:  783\n",
      "# of valid seqs:  1000\n",
      "# of valid seqs:  807\n",
      "# of valid seqs:  1021\n",
      "# of valid seqs:  1106\n",
      "# of valid seqs:  989\n",
      "# of valid seqs:  1083\n"
     ]
    }
   ],
   "source": [
    "for i in range(1,9):\n",
    "    ids = list(df.loc[df['k_means_8'] == i, 'id'])\n",
    "    seq = Sequences(Sequences.genes2seq(ids))\n",
    "    img=seq.plotlogo()\n",
    "    with open(\"bit/fil\"+str(fil)+\"/cluster \"+str(i)+\".png\", \"wb\") as png:\n",
    "        png.write(img.data)"
   ]
  },
  {
   "cell_type": "code",
   "execution_count": 35,
   "metadata": {},
   "outputs": [
    {
     "data": {
      "image/png": "[encoded data removed]",
      "text/plain": [
       "<IPython.core.display.Image object>"
      ]
     },
     "execution_count": 35,
     "metadata": {},
     "output_type": "execute_result"
    }
   ],
   "source": [
    "seq.plotlogo()"
   ]
  },
  {
   "cell_type": "code",
   "execution_count": null,
   "metadata": {},
   "outputs": [],
   "source": []
  },
  {
   "cell_type": "code",
   "execution_count": null,
   "metadata": {},
   "outputs": [],
   "source": []
  },
  {
   "cell_type": "code",
   "execution_count": 75,
   "metadata": {},
   "outputs": [
    {
     "data": {
      "text/html": [
       "<div>\n",
       "<style scoped>\n",
       "    .dataframe tbody tr th:only-of-type {\n",
       "        vertical-align: middle;\n",
       "    }\n",
       "\n",
       "    .dataframe tbody tr th {\n",
       "        vertical-align: top;\n",
       "    }\n",
       "\n",
       "    .dataframe thead th {\n",
       "        text-align: right;\n",
       "    }\n",
       "</style>\n",
       "<table border=\"1\" class=\"dataframe\">\n",
       "  <thead>\n",
       "    <tr style=\"text-align: right;\">\n",
       "      <th></th>\n",
       "      <th>Unnamed: 0</th>\n",
       "      <th>baseMean</th>\n",
       "      <th>log2FoldChange</th>\n",
       "      <th>lfcSE</th>\n",
       "      <th>stat</th>\n",
       "      <th>pvalue</th>\n",
       "      <th>padj</th>\n",
       "    </tr>\n",
       "  </thead>\n",
       "  <tbody>\n",
       "    <tr>\n",
       "      <th>0</th>\n",
       "      <td>NM_017847</td>\n",
       "      <td>111.932801</td>\n",
       "      <td>-0.675241</td>\n",
       "      <td>0.277067</td>\n",
       "      <td>-2.437106</td>\n",
       "      <td>0.014805</td>\n",
       "      <td>0.123898</td>\n",
       "    </tr>\n",
       "    <tr>\n",
       "      <th>1</th>\n",
       "      <td>NM_001003803</td>\n",
       "      <td>184.246490</td>\n",
       "      <td>-0.145361</td>\n",
       "      <td>0.225600</td>\n",
       "      <td>-0.644331</td>\n",
       "      <td>0.519361</td>\n",
       "      <td>0.787685</td>\n",
       "    </tr>\n",
       "  </tbody>\n",
       "</table>\n",
       "</div>"
      ],
      "text/plain": [
       "     Unnamed: 0    baseMean  log2FoldChange     lfcSE      stat    pvalue  \\\n",
       "0     NM_017847  111.932801       -0.675241  0.277067 -2.437106  0.014805   \n",
       "1  NM_001003803  184.246490       -0.145361  0.225600 -0.644331  0.519361   \n",
       "\n",
       "       padj  \n",
       "0  0.123898  \n",
       "1  0.787685  "
      ]
     },
     "execution_count": 75,
     "metadata": {},
     "output_type": "execute_result"
    }
   ],
   "source": [
    "df = pd.read_csv('../Deseq2 Analysis/shift15/coding/csv_raw/fil5/ER_L24_t1.csv')\n",
    "df.head(2)"
   ]
  },
  {
   "cell_type": "code",
   "execution_count": 76,
   "metadata": {},
   "outputs": [],
   "source": [
    "en = list(df.loc[df['log2FoldChange']>0.75,'Unnamed: 0'])\n",
    "dep = list(df.loc[df['log2FoldChange']<-0.75,'Unnamed: 0'])"
   ]
  },
  {
   "cell_type": "code",
   "execution_count": null,
   "metadata": {},
   "outputs": [],
   "source": [
    "for i in range(1,9):\n",
    "    ids = list(df.loc[df['k_means_8'] == i, 'id'])\n",
    "    seq = Sequences(Sequences.genes2seq(ids))\n",
    "    img=seq.plotlogo()\n",
    "    with open(\"bit/fil\"+str(fil)+\"/cluster \"+str(i)+\".png\", \"wb\") as png:\n",
    "        png.write(img.data)"
   ]
  },
  {
   "cell_type": "code",
   "execution_count": 80,
   "metadata": {},
   "outputs": [
    {
     "name": "stdout",
     "output_type": "stream",
     "text": [
      "# of valid seqs:  261\n",
      "# of valid seqs:  36\n"
     ]
    }
   ],
   "source": [
    "seq = Sequences(Sequences.genes2seq(en))\n",
    "img=seq.plotlogo()\n",
    "with open(\"L24_t1_enriched_fil5_prob.png\", \"wb\") as png:\n",
    "    png.write(img.data)\n",
    "    \n",
    "seq = Sequences(Sequences.genes2seq(dep))\n",
    "img=seq.plotlogo()\n",
    "with open(\"L24_t1_depleted_fil5_prob.png\", \"wb\") as png:\n",
    "    png.write(img.data)"
   ]
  },
  {
   "cell_type": "code",
   "execution_count": null,
   "metadata": {},
   "outputs": [],
   "source": []
  },
  {
   "cell_type": "code",
   "execution_count": null,
   "metadata": {},
   "outputs": [],
   "source": []
  },
  {
   "cell_type": "code",
   "execution_count": null,
   "metadata": {},
   "outputs": [],
   "source": []
  },
  {
   "cell_type": "code",
   "execution_count": 81,
   "metadata": {},
   "outputs": [
    {
     "name": "stdout",
     "output_type": "stream",
     "text": [
      "4 -> 2 -> 1 -> 3 -> 8\n"
     ]
    }
   ],
   "source": [
    "# Python3 implementation of the above approach \n",
    "v = [[] for i in range(100)] \n",
    "  \n",
    "# An utility function to add an edge in an \n",
    "# undirected graph. \n",
    "def addEdge(x, y): \n",
    "    v[x].append(y) \n",
    "    v[y].append(x) \n",
    "  \n",
    "# A function to print the path between \n",
    "# the given pair of nodes. \n",
    "def printPath(stack): \n",
    "    for i in range(len(stack) - 1): \n",
    "        print(stack[i], end = \" -> \") \n",
    "    print(stack[-1]) \n",
    "  \n",
    "# An utility function to do \n",
    "# DFS of graph recursively \n",
    "# from a given vertex x. \n",
    "def DFS(vis, x, y, stack): \n",
    "    stack.append(x) \n",
    "    if (x == y): \n",
    "  \n",
    "        # print the path and return on \n",
    "        # reaching the destination node \n",
    "        printPath(stack) \n",
    "        return\n",
    "    vis[x] = True\n",
    "  \n",
    "    # if backtracking is taking place \n",
    "  \n",
    "    if (len(v[x]) > 0): \n",
    "        for j in v[x]: \n",
    "              \n",
    "            # if the node is not visited \n",
    "            if (vis[j] == False): \n",
    "                DFS(vis, j, y, stack) \n",
    "                  \n",
    "    del stack[-1] \n",
    "  \n",
    "# A utility function to initialise \n",
    "# visited for the node and call \n",
    "# DFS function for a given vertex x. \n",
    "def DFSCall(x, y, n, stack): \n",
    "      \n",
    "    # visited array \n",
    "    vis = [0 for i in range(n + 1)] \n",
    "  \n",
    "    #memset(vis, false, sizeof(vis)) \n",
    "  \n",
    "    # DFS function call \n",
    "    DFS(vis, x, y, stack) \n",
    "  \n",
    "# Driver Code \n",
    "n = 10\n",
    "stack = [] \n",
    "  \n",
    "# Vertex numbers should be from 1 to 9. \n",
    "addEdge(1, 2) \n",
    "addEdge(1, 3) \n",
    "addEdge(2, 4) \n",
    "addEdge(2, 5) \n",
    "addEdge(2, 6) \n",
    "addEdge(3, 7) \n",
    "addEdge(3, 8) \n",
    "addEdge(3, 9) \n",
    "  \n",
    "# Function Call \n",
    "DFSCall(4, 8, n, stack)"
   ]
  },
  {
   "cell_type": "code",
   "execution_count": null,
   "metadata": {},
   "outputs": [],
   "source": []
  },
  {
   "cell_type": "code",
   "execution_count": 10,
   "metadata": {},
   "outputs": [
    {
     "name": "stdout",
     "output_type": "stream",
     "text": [
      "/media/zhaoy/7E0214A802146803/Users/Putatu/Documents/HGLab/RBC/plot cluster\r\n"
     ]
    }
   ],
   "source": [
    "!pwd"
   ]
  },
  {
   "cell_type": "code",
   "execution_count": 11,
   "metadata": {},
   "outputs": [
    {
     "name": "stdout",
     "output_type": "stream",
     "text": [
      "8812\n"
     ]
    },
    {
     "data": {
      "text/html": [
       "<div>\n",
       "<style scoped>\n",
       "    .dataframe tbody tr th:only-of-type {\n",
       "        vertical-align: middle;\n",
       "    }\n",
       "\n",
       "    .dataframe tbody tr th {\n",
       "        vertical-align: top;\n",
       "    }\n",
       "\n",
       "    .dataframe thead th {\n",
       "        text-align: right;\n",
       "    }\n",
       "</style>\n",
       "<table border=\"1\" class=\"dataframe\">\n",
       "  <thead>\n",
       "    <tr style=\"text-align: right;\">\n",
       "      <th></th>\n",
       "      <th>Unnamed: 0</th>\n",
       "      <th>baseMean</th>\n",
       "      <th>log2FoldChange</th>\n",
       "      <th>lfcSE</th>\n",
       "      <th>stat</th>\n",
       "      <th>pvalue</th>\n",
       "      <th>padj</th>\n",
       "    </tr>\n",
       "  </thead>\n",
       "  <tbody>\n",
       "    <tr>\n",
       "      <th>6582</th>\n",
       "      <td>NM_001142579</td>\n",
       "      <td>27.307252</td>\n",
       "      <td>-1.532826</td>\n",
       "      <td>0.489615</td>\n",
       "      <td>-3.130677</td>\n",
       "      <td>0.001744</td>\n",
       "      <td>0.033410</td>\n",
       "    </tr>\n",
       "    <tr>\n",
       "      <th>4853</th>\n",
       "      <td>NM_001352299</td>\n",
       "      <td>56.569596</td>\n",
       "      <td>-0.992991</td>\n",
       "      <td>0.298354</td>\n",
       "      <td>-3.328230</td>\n",
       "      <td>0.000874</td>\n",
       "      <td>0.020985</td>\n",
       "    </tr>\n",
       "  </tbody>\n",
       "</table>\n",
       "</div>"
      ],
      "text/plain": [
       "        Unnamed: 0   baseMean  log2FoldChange     lfcSE      stat    pvalue  \\\n",
       "6582  NM_001142579  27.307252       -1.532826  0.489615 -3.130677  0.001744   \n",
       "4853  NM_001352299  56.569596       -0.992991  0.298354 -3.328230  0.000874   \n",
       "\n",
       "          padj  \n",
       "6582  0.033410  \n",
       "4853  0.020985  "
      ]
     },
     "execution_count": 11,
     "metadata": {},
     "output_type": "execute_result"
    }
   ],
   "source": [
    "batch = 'ER_L24_t1'\n",
    "deseq = pd.read_csv('../Deseq2 Analysis/shift15/coding/csv_raw/fil5/'+batch+'.csv')\n",
    "deseq = deseq.sort_values(by=['log2FoldChange'])\n",
    "print(len(deseq))\n",
    "deseq.head(2)"
   ]
  },
  {
   "cell_type": "code",
   "execution_count": 30,
   "metadata": {},
   "outputs": [
    {
     "name": "stdout",
     "output_type": "stream",
     "text": [
      "126 17\n"
     ]
    }
   ],
   "source": [
    "background = deseq['Unnamed: 0']\n",
    "deseq_filtered = deseq.loc[deseq['padj']<0.05]\n",
    "up_num = sum(deseq_filtered['log2FoldChange'] > 0.75)\n",
    "target = deseq_filtered.tail(up_num)['Unnamed: 0']   # i.e. Interest group, upper right on volcano plot\n",
    "down_num=sum(deseq_filtered['log2FoldChange']<-0.75)\n",
    "print(up_num,down_num)\n"
   ]
  },
  {
   "cell_type": "code",
   "execution_count": 13,
   "metadata": {},
   "outputs": [
    {
     "name": "stdout",
     "output_type": "stream",
     "text": [
      "mkdir: cannot create directory ‘deseq_test’: File exists\n",
      "# of valid seqs:  107\n",
      "# of valid seqs:  8281\n",
      "# of valid seqs:  125\n"
     ]
    }
   ],
   "source": [
    "!mkdir deseq_test\n",
    "target_seq = Sequences(Sequences.genes2seq(target))\n",
    "bg_seq = Sequences(Sequences.genes2seq(background))\n",
    "down_num=sum(deseq_filtered['log2FoldChange']<-1)\n",
    "dep_seq=Sequences(Sequences.genes2seq(deseq_filtered.head(up_num)['Unnamed: 0']))\n",
    "\n",
    "ppm_out = pfm2ppm_df(target_seq.pfm)\n",
    "#ppm_out.to_csv(\"deseq_test/pwms/\"+batch+\"/\"+batch+\"_enriched\"+\".csv\")\n",
    "ppm_out = pfm2ppm_df(dep_seq.pfm)\n",
    "#ppm_out.to_csv(\"deseq_test/pwms/\"+batch+\"/\"+batch+\"_depleted\"+\".csv\")\n",
    "ppm_out = pfm2ppm_df(bg_seq.pfm)\n",
    "#ppm_out.to_csv(\"deseq_test/pwms/\"+batch+\"/\"+\"bg\"+\".csv\")"
   ]
  },
  {
   "cell_type": "code",
   "execution_count": 19,
   "metadata": {},
   "outputs": [],
   "source": [
    "np.random.seed(1234)\n",
    "test = TestSeq(target_seq,bg_seq,50000)\n",
    "test2 = TestSeq(dep_seq,bg_seq,50000,len(target_seq))"
   ]
  },
  {
   "cell_type": "code",
   "execution_count": 20,
   "metadata": {},
   "outputs": [
    {
     "data": {
      "image/png": "[encoded data removed]",
      "text/plain": [
       "<IPython.core.display.Image object>"
      ]
     },
     "execution_count": 20,
     "metadata": {},
     "output_type": "execute_result"
    }
   ],
   "source": [
    "target_seq.plotlogo()"
   ]
  },
  {
   "cell_type": "code",
   "execution_count": 21,
   "metadata": {},
   "outputs": [
    {
     "data": {
      "text/plain": [
       "<matplotlib.axes._subplots.AxesSubplot at 0x7fc9537b6c50>"
      ]
     },
     "execution_count": 21,
     "metadata": {},
     "output_type": "execute_result"
    },
    {
     "data": {
      "image/png": "[encoded data removed]",
      "text/plain": [
       "<Figure size 432x288 with 1 Axes>"
      ]
     },
     "metadata": {
      "needs_background": "light"
     },
     "output_type": "display_data"
    }
   ],
   "source": [
    "test.logdist()"
   ]
  },
  {
   "cell_type": "code",
   "execution_count": 22,
   "metadata": {},
   "outputs": [
    {
     "data": {
      "text/plain": [
       "<matplotlib.axes._subplots.AxesSubplot at 0x7fc94d03ad50>"
      ]
     },
     "execution_count": 22,
     "metadata": {},
     "output_type": "execute_result"
    },
    {
     "data": {
      "image/png": "[encoded data removed]",
      "text/plain": [
       "<Figure size 432x288 with 1 Axes>"
      ]
     },
     "metadata": {
      "needs_background": "light"
     },
     "output_type": "display_data"
    }
   ],
   "source": [
    "test2.logdist()"
   ]
  },
  {
   "cell_type": "code",
   "execution_count": 27,
   "metadata": {},
   "outputs": [
    {
     "data": {
      "image/png": "[encoded data removed]",
      "text/plain": [
       "<Figure size 1440x720 with 1 Axes>"
      ]
     },
     "metadata": {
      "needs_background": "light"
     },
     "output_type": "display_data"
    }
   ],
   "source": [
    "import matplotlib.pyplot as plt\n",
    "plt.figure(figsize=(20,10))\n",
    "test.logdist()\n",
    "test2.logdist()\n",
    "ax=plt.gca()\n",
    "ax.legend(['enriched','depleted'])\n",
    "plt.savefig('deseq_test/en_vs_dep_pvals.png')"
   ]
  },
  {
   "cell_type": "code",
   "execution_count": 31,
   "metadata": {},
   "outputs": [],
   "source": [
    "img=bg_seq.plotlogo()\n",
    "with open(\"bg_bit.png\", \"wb\") as png:\n",
    "    png.write(img.data)"
   ]
  },
  {
   "cell_type": "code",
   "execution_count": null,
   "metadata": {},
   "outputs": [],
   "source": []
  }
 ],
 "metadata": {
  "kernelspec": {
   "display_name": "Python 3",
   "language": "python",
   "name": "python3"
  },
  "language_info": {
   "codemirror_mode": {
    "name": "ipython",
    "version": 3
   },
   "file_extension": ".py",
   "mimetype": "text/x-python",
   "name": "python",
   "nbconvert_exporter": "python",
   "pygments_lexer": "ipython3",
   "version": "3.7.6"
  }
 },
 "nbformat": 4,
 "nbformat_minor": 4
}
