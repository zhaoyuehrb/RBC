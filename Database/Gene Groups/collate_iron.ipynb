{
 "cells": [
  {
   "cell_type": "code",
   "execution_count": 1,
   "metadata": {},
   "outputs": [],
   "source": [
    "import sys,os\n",
    "import pandas as pd\n",
    "import glob"
   ]
  },
  {
   "cell_type": "code",
   "execution_count": 2,
   "metadata": {},
   "outputs": [
    {
     "name": "stdout",
     "output_type": "stream",
     "text": [
      "['iron_genesets/geneset_responseToFeII.txt', 'iron_genesets/geneset_ironTransportAgain.txt', 'iron_genesets/geneset_FeSclusterAssembly_reactome.txt', 'iron_genesets/geneset_ironCoordEntityTpt.txt', 'iron_genesets/geneset_ferricIronBinding.txt', 'iron_genesets/geneset_responseToFeIII.txt', 'iron_genesets/geneset_ironTransport.txt', 'iron_genesets/geneset_maturationByFeScluster.txt', 'iron_genesets/geneset_ironSclusterAssembly.txt', 'iron_genesets/geneset_ironIonBinding.txt', 'iron_genesets/geneset_regulationFeTpt.txt', 'iron_genesets/geneset_catalyzeRedoxFromFeSprotein.txt', 'iron_genesets/geneset_ironIonHomeostasis.txt', 'iron_genesets/geneset_twoIronTwoSulphur.txt', 'iron_genesets/geneset_ferrousIronBinding.txt', 'iron_genesets/geneset_ironTransporter.txt', 'iron_genesets/geneset_sequesteringFe.txt', 'iron_genesets/geneset_ironStoresInOrganism.txt', 'iron_genesets/geneset_mt_FeClusterBiogenesis_reactome.txt', 'iron_genesets/geneset_ironImport.txt', 'iron_genesets/geneset_responseToFe.txt', 'iron_genesets/geneset_ironIonHomeo.txt', 'iron_genesets/geneset_fourIronFourSulphur.txt', 'iron_genesets/geneset_FeUptakeTpt_reactome.txt', 'iron_genesets/geneset_cellResponseToIron.txt']\n"
     ]
    }
   ],
   "source": [
    "print(glob.glob(\"iron_genesets/*.txt\"))"
   ]
  },
  {
   "cell_type": "code",
   "execution_count": 4,
   "metadata": {},
   "outputs": [
    {
     "name": "stdout",
     "output_type": "stream",
     "text": [
      "25\n"
     ]
    }
   ],
   "source": [
    "files = glob.glob(\"iron_genesets/*.txt\")\n",
    "print(len(files))"
   ]
  },
  {
   "cell_type": "code",
   "execution_count": 47,
   "metadata": {},
   "outputs": [],
   "source": [
    "uniqueGenes = {}"
   ]
  },
  {
   "cell_type": "code",
   "execution_count": 49,
   "metadata": {},
   "outputs": [],
   "source": [
    "for file in files:\n",
    "    f=pd.read_csv(file,header=None)\n",
    "    for i,r in f.iterrows():\n",
    "        #print(r[0])\n",
    "        uniqueGenes[r[0]] = 1"
   ]
  },
  {
   "cell_type": "code",
   "execution_count": 50,
   "metadata": {},
   "outputs": [
    {
     "name": "stdout",
     "output_type": "stream",
     "text": [
      "341\n"
     ]
    }
   ],
   "source": [
    "print(len(uniqueGenes))"
   ]
  },
  {
   "cell_type": "code",
   "execution_count": 77,
   "metadata": {},
   "outputs": [],
   "source": [
    "uniqueList = (uniqueGenes).keys()"
   ]
  },
  {
   "cell_type": "code",
   "execution_count": 78,
   "metadata": {},
   "outputs": [],
   "source": [
    "with open('iron_genesets/iron_collate.csv', 'w') as f:\n",
    "    for item in uniqueList:\n",
    "        f.write(\"%s\\n\" % item)"
   ]
  },
  {
   "cell_type": "code",
   "execution_count": 79,
   "metadata": {},
   "outputs": [
    {
     "data": {
      "text/plain": [
       "341"
      ]
     },
     "execution_count": 79,
     "metadata": {},
     "output_type": "execute_result"
    }
   ],
   "source": [
    "len(uniqueList)"
   ]
  },
  {
   "cell_type": "code",
   "execution_count": null,
   "metadata": {},
   "outputs": [],
   "source": []
  }
 ],
 "metadata": {
  "kernelspec": {
   "display_name": "Python 3",
   "language": "python",
   "name": "python3"
  },
  "language_info": {
   "codemirror_mode": {
    "name": "ipython",
    "version": 3
   },
   "file_extension": ".py",
   "mimetype": "text/x-python",
   "name": "python",
   "nbconvert_exporter": "python",
   "pygments_lexer": "ipython3",
   "version": "3.7.4"
  }
 },
 "nbformat": 4,
 "nbformat_minor": 2
}
