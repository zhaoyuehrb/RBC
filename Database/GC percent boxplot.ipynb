{
 "cells": [
  {
   "cell_type": "code",
   "execution_count": 2,
   "metadata": {},
   "outputs": [],
   "source": [
    "import matplotlib.pyplot as plt\n",
    "import seaborn as sns\n",
    "import pandas as pd\n",
    "import glob"
   ]
  },
  {
   "cell_type": "code",
   "execution_count": 30,
   "metadata": {},
   "outputs": [],
   "source": [
    "filteredGeneList = pd.read_csv('filteredGenesDetails_human_240118.txt',sep='\\t')\n",
    "acc2gene={}\n",
    "gene2acc={}\n",
    "for idx,row in filteredGeneList.iterrows():\n",
    "    acc2gene[row['AccNum']] = row['GeneName']\n",
    "    gene2acc[row['GeneName']] = row['AccNum']"
   ]
  },
  {
   "cell_type": "code",
   "execution_count": 31,
   "metadata": {},
   "outputs": [],
   "source": [
    "def get_fa(filename,onlyKeys = 'All'):\n",
    "    keyD = dict()\n",
    "    if onlyKeys!='All':\n",
    "        for k in onlyKeys: keyD[k] = None\n",
    "        \n",
    "    def addEntry(current,d):\n",
    "        entry = current.split('\\n')\n",
    "        if entry[0]!='' and (onlyKeys=='All' or keyD.has_key(entry[0])):\n",
    "            d[entry[0]] = ''.join(entry[1:])\n",
    "\n",
    "    d = dict()\n",
    "    bf = open(filename)\n",
    "    current = ['\\n']\n",
    "    for line in bf:\n",
    "        if line[0]=='>':\n",
    "            addEntry(''.join(current),d)\n",
    "            if len(line)>1: current = [line[1:]]\n",
    "            else: current = ['\\n']\n",
    "        else: current.append(line)\n",
    "    addEntry(''.join(current),d)\n",
    "    bf.close()\n",
    "    return d"
   ]
  },
  {
   "cell_type": "code",
   "execution_count": 32,
   "metadata": {},
   "outputs": [],
   "source": [
    "splicedGenes = get_fa('splicedGenes_240118.txt')\n",
    "## truncate the keys to only accNum\n",
    "ks = list(splicedGenes.keys())\n",
    "for key in ks:\n",
    "    splicedGenes[key.split('_chr')[0]] = splicedGenes[key]\n",
    "    splicedGenes.pop(key)\n",
    "splicedORFs = get_fa('splicedORFs_240118.txt')"
   ]
  },
  {
   "cell_type": "code",
   "execution_count": 33,
   "metadata": {},
   "outputs": [],
   "source": [
    "fpUTR={}\n",
    "tpUTR = {}\n",
    "ORFs = {}\n",
    "for idx,row in filteredGeneList.iterrows():\n",
    "    accNum = row['AccNum']\n",
    "    fpLen = row['fpUTR_length']\n",
    "    tpLen = row['tpUTR_length']\n",
    "    fpUTR[accNum] = splicedGenes[accNum][0:fpLen]\n",
    "    tpUTR[accNum] = splicedGenes[accNum][-tpLen:]\n",
    "    ORFs[accNum] = splicedORFs[accNum]"
   ]
  },
  {
   "cell_type": "code",
   "execution_count": null,
   "metadata": {},
   "outputs": [],
   "source": []
  },
  {
   "cell_type": "code",
   "execution_count": 34,
   "metadata": {},
   "outputs": [],
   "source": [
    "# df = pd.read_csv('ORF.csv',header=None)\n",
    "# ORFs = pd.Series(df[1].values,index=df[0].values).to_dict()"
   ]
  },
  {
   "cell_type": "code",
   "execution_count": 35,
   "metadata": {},
   "outputs": [
    {
     "data": {
      "text/html": [
       "<div>\n",
       "<style scoped>\n",
       "    .dataframe tbody tr th:only-of-type {\n",
       "        vertical-align: middle;\n",
       "    }\n",
       "\n",
       "    .dataframe tbody tr th {\n",
       "        vertical-align: top;\n",
       "    }\n",
       "\n",
       "    .dataframe thead th {\n",
       "        text-align: right;\n",
       "    }\n",
       "</style>\n",
       "<table border=\"1\" class=\"dataframe\">\n",
       "  <thead>\n",
       "    <tr style=\"text-align: right;\">\n",
       "      <th></th>\n",
       "      <th>Unnamed: 0</th>\n",
       "      <th>baseMean</th>\n",
       "      <th>log2FoldChange</th>\n",
       "      <th>lfcSE</th>\n",
       "      <th>stat</th>\n",
       "      <th>pvalue</th>\n",
       "      <th>padj</th>\n",
       "    </tr>\n",
       "  </thead>\n",
       "  <tbody>\n",
       "    <tr>\n",
       "      <th>0</th>\n",
       "      <td>NM_017847</td>\n",
       "      <td>111.932801</td>\n",
       "      <td>-0.675241</td>\n",
       "      <td>0.277067</td>\n",
       "      <td>-2.437106</td>\n",
       "      <td>0.014805</td>\n",
       "      <td>0.123898</td>\n",
       "    </tr>\n",
       "    <tr>\n",
       "      <th>1</th>\n",
       "      <td>NM_001003803</td>\n",
       "      <td>184.246490</td>\n",
       "      <td>-0.145361</td>\n",
       "      <td>0.225600</td>\n",
       "      <td>-0.644331</td>\n",
       "      <td>0.519361</td>\n",
       "      <td>0.787685</td>\n",
       "    </tr>\n",
       "    <tr>\n",
       "      <th>2</th>\n",
       "      <td>NM_001003800</td>\n",
       "      <td>351.011933</td>\n",
       "      <td>0.060343</td>\n",
       "      <td>0.369557</td>\n",
       "      <td>0.163284</td>\n",
       "      <td>0.870295</td>\n",
       "      <td>0.958260</td>\n",
       "    </tr>\n",
       "    <tr>\n",
       "      <th>3</th>\n",
       "      <td>NM_016649</td>\n",
       "      <td>208.780288</td>\n",
       "      <td>-0.631475</td>\n",
       "      <td>0.288866</td>\n",
       "      <td>-2.186051</td>\n",
       "      <td>0.028812</td>\n",
       "      <td>0.180576</td>\n",
       "    </tr>\n",
       "    <tr>\n",
       "      <th>4</th>\n",
       "      <td>NM_016647</td>\n",
       "      <td>147.915697</td>\n",
       "      <td>0.734807</td>\n",
       "      <td>0.619052</td>\n",
       "      <td>1.186986</td>\n",
       "      <td>0.235233</td>\n",
       "      <td>0.547560</td>\n",
       "    </tr>\n",
       "  </tbody>\n",
       "</table>\n",
       "</div>"
      ],
      "text/plain": [
       "     Unnamed: 0    baseMean  log2FoldChange     lfcSE      stat    pvalue  \\\n",
       "0     NM_017847  111.932801       -0.675241  0.277067 -2.437106  0.014805   \n",
       "1  NM_001003803  184.246490       -0.145361  0.225600 -0.644331  0.519361   \n",
       "2  NM_001003800  351.011933        0.060343  0.369557  0.163284  0.870295   \n",
       "3     NM_016649  208.780288       -0.631475  0.288866 -2.186051  0.028812   \n",
       "4     NM_016647  147.915697        0.734807  0.619052  1.186986  0.235233   \n",
       "\n",
       "       padj  \n",
       "0  0.123898  \n",
       "1  0.787685  \n",
       "2  0.958260  \n",
       "3  0.180576  \n",
       "4  0.547560  "
      ]
     },
     "execution_count": 35,
     "metadata": {},
     "output_type": "execute_result"
    }
   ],
   "source": [
    "L24_t1 = pd.read_csv('../Deseq2 Analysis/shift15/coding/csv_raw/fil5/ER_L24_t1.csv')\n",
    "L24_t1.head()"
   ]
  },
  {
   "cell_type": "code",
   "execution_count": 45,
   "metadata": {},
   "outputs": [],
   "source": [
    "L24_t1 = L24_t1.loc[L24_t1['padj']<0.05]\n",
    "accs = {}\n",
    "en= L24_t1.loc[L24_t1['log2FoldChange']>0.75, 'Unnamed: 0'].values\n",
    "de= L24_t1.loc[L24_t1['log2FoldChange']<-0.75, 'Unnamed: 0'].values"
   ]
  },
  {
   "cell_type": "code",
   "execution_count": 73,
   "metadata": {},
   "outputs": [],
   "source": [
    "def countGC(seq):\n",
    "    if len(seq) is 0:\n",
    "        return None\n",
    "    gc = seq.count('G')+seq.count('C')\n",
    "    return gc/len(seq)"
   ]
  },
  {
   "cell_type": "code",
   "execution_count": 84,
   "metadata": {},
   "outputs": [],
   "source": [
    "# Long type dataframe\n",
    "data = pd.DataFrame({'fc':'enriched','AccNum':en})\n",
    "data = data.append(pd.DataFrame({'fc':'depleted','AccNum':de}))"
   ]
  },
  {
   "cell_type": "code",
   "execution_count": 85,
   "metadata": {},
   "outputs": [],
   "source": [
    "gc_orf = [countGC(ORFs[acc]) for acc in data['AccNum']]\n",
    "gc_fp = [countGC(fpUTR[acc]) for acc in data['AccNum']]\n",
    "gc_tp = [countGC(tpUTR[acc]) for acc in data['AccNum']]"
   ]
  },
  {
   "cell_type": "code",
   "execution_count": 86,
   "metadata": {},
   "outputs": [],
   "source": [
    "d = data.copy()\n",
    "d['pos'] = 'fpUTR'\n",
    "d['gc_percent'] = gc_fp\n",
    "d2 = data.copy()\n",
    "d2['pos'] = 'tpUTR'\n",
    "d2['gc_percent'] = gc_tp\n",
    "data['pos'] = 'CDS'\n",
    "data['gc_percent'] = gc_orf\n",
    "data = data.append(d)\n",
    "data = data.append(d2)"
   ]
  },
  {
   "cell_type": "code",
   "execution_count": 92,
   "metadata": {},
   "outputs": [
    {
     "data": {
      "image/png": "[encoded data removed]",
      "text/plain": [
       "<Figure size 576x576 with 1 Axes>"
      ]
     },
     "metadata": {
      "needs_background": "light"
     },
     "output_type": "display_data"
    }
   ],
   "source": [
    "fig = plt.figure(figsize=(8,8))\n",
    "sns.boxplot(data=data,x='pos',y='gc_percent',hue='fc')\n",
    "fig.savefig('gc percent plot L24t1.png')"
   ]
  },
  {
   "cell_type": "code",
   "execution_count": 60,
   "metadata": {},
   "outputs": [
    {
     "data": {
      "text/plain": [
       "0.2"
      ]
     },
     "execution_count": 60,
     "metadata": {},
     "output_type": "execute_result"
    }
   ],
   "source": [
    "countGC('ATTTG')"
   ]
  },
  {
   "cell_type": "code",
   "execution_count": null,
   "metadata": {},
   "outputs": [],
   "source": []
  }
 ],
 "metadata": {
  "kernelspec": {
   "display_name": "Python 3",
   "language": "python",
   "name": "python3"
  },
  "language_info": {
   "codemirror_mode": {
    "name": "ipython",
    "version": 3
   },
   "file_extension": ".py",
   "mimetype": "text/x-python",
   "name": "python",
   "nbconvert_exporter": "python",
   "pygments_lexer": "ipython3",
   "version": "3.7.7"
  }
 },
 "nbformat": 4,
 "nbformat_minor": 4
}
