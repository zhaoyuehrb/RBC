{
 "cells": [
  {
   "cell_type": "code",
   "execution_count": 1,
   "metadata": {},
   "outputs": [],
   "source": [
    "import matplotlib.pyplot as plt\n",
    "import seaborn as sns\n",
    "import pandas as pd\n",
    "import glob"
   ]
  },
  {
   "cell_type": "code",
   "execution_count": 2,
   "metadata": {},
   "outputs": [],
   "source": [
    "filteredGeneList = pd.read_csv('filteredGenesDetails_human_240118.txt',sep='\\t')\n",
    "acc2gene={}\n",
    "gene2acc={}\n",
    "for idx,row in filteredGeneList.iterrows():\n",
    "    acc2gene[row['AccNum']] = row['GeneName']\n",
    "    gene2acc[row['GeneName']] = row['AccNum']"
   ]
  },
  {
   "cell_type": "code",
   "execution_count": 3,
   "metadata": {},
   "outputs": [],
   "source": [
    "def get_fa(filename,onlyKeys = 'All'):\n",
    "    keyD = dict()\n",
    "    if onlyKeys!='All':\n",
    "        for k in onlyKeys: keyD[k] = None\n",
    "        \n",
    "    def addEntry(current,d):\n",
    "        entry = current.split('\\n')\n",
    "        if entry[0]!='' and (onlyKeys=='All' or keyD.has_key(entry[0])):\n",
    "            d[entry[0]] = ''.join(entry[1:])\n",
    "\n",
    "    d = dict()\n",
    "    bf = open(filename)\n",
    "    current = ['\\n']\n",
    "    for line in bf:\n",
    "        if line[0]=='>':\n",
    "            addEntry(''.join(current),d)\n",
    "            if len(line)>1: current = [line[1:]]\n",
    "            else: current = ['\\n']\n",
    "        else: current.append(line)\n",
    "    addEntry(''.join(current),d)\n",
    "    bf.close()\n",
    "    return d"
   ]
  },
  {
   "cell_type": "code",
   "execution_count": 4,
   "metadata": {},
   "outputs": [],
   "source": [
    "splicedGenes = get_fa('splicedGenes_240118.txt')\n",
    "## truncate the keys to only accNum\n",
    "ks = list(splicedGenes.keys())\n",
    "for key in ks:\n",
    "    splicedGenes[key.split('_chr')[0]] = splicedGenes[key]\n",
    "    splicedGenes.pop(key)\n",
    "splicedORFs = get_fa('splicedORFs_240118.txt')"
   ]
  },
  {
   "cell_type": "code",
   "execution_count": 5,
   "metadata": {},
   "outputs": [],
   "source": [
    "fpUTR={}\n",
    "tpUTR = {}\n",
    "ORFs = {}\n",
    "for idx,row in filteredGeneList.iterrows():\n",
    "    accNum = row['AccNum']\n",
    "    fpLen = row['fpUTR_length']\n",
    "    tpLen = row['tpUTR_length']\n",
    "    fpUTR[accNum] = splicedGenes[accNum][0:fpLen]\n",
    "    tpUTR[accNum] = splicedGenes[accNum][-tpLen:]\n",
    "    ORFs[accNum] = splicedORFs[accNum]"
   ]
  },
  {
   "cell_type": "code",
   "execution_count": null,
   "metadata": {},
   "outputs": [],
   "source": []
  },
  {
   "cell_type": "code",
   "execution_count": 6,
   "metadata": {},
   "outputs": [],
   "source": [
    "# df = pd.read_csv('ORF.csv',header=None)\n",
    "# ORFs = pd.Series(df[1].values,index=df[0].values).to_dict()"
   ]
  },
  {
   "cell_type": "code",
   "execution_count": 7,
   "metadata": {},
   "outputs": [
    {
     "data": {
      "text/html": [
       "<div>\n",
       "<style scoped>\n",
       "    .dataframe tbody tr th:only-of-type {\n",
       "        vertical-align: middle;\n",
       "    }\n",
       "\n",
       "    .dataframe tbody tr th {\n",
       "        vertical-align: top;\n",
       "    }\n",
       "\n",
       "    .dataframe thead th {\n",
       "        text-align: right;\n",
       "    }\n",
       "</style>\n",
       "<table border=\"1\" class=\"dataframe\">\n",
       "  <thead>\n",
       "    <tr style=\"text-align: right;\">\n",
       "      <th></th>\n",
       "      <th>Unnamed: 0</th>\n",
       "      <th>baseMean</th>\n",
       "      <th>log2FoldChange</th>\n",
       "      <th>lfcSE</th>\n",
       "      <th>stat</th>\n",
       "      <th>pvalue</th>\n",
       "      <th>padj</th>\n",
       "    </tr>\n",
       "  </thead>\n",
       "  <tbody>\n",
       "    <tr>\n",
       "      <th>0</th>\n",
       "      <td>NM_017847</td>\n",
       "      <td>111.932801</td>\n",
       "      <td>-0.675241</td>\n",
       "      <td>0.277067</td>\n",
       "      <td>-2.437106</td>\n",
       "      <td>0.014805</td>\n",
       "      <td>0.123898</td>\n",
       "    </tr>\n",
       "    <tr>\n",
       "      <th>1</th>\n",
       "      <td>NM_001003803</td>\n",
       "      <td>184.246490</td>\n",
       "      <td>-0.145361</td>\n",
       "      <td>0.225600</td>\n",
       "      <td>-0.644331</td>\n",
       "      <td>0.519361</td>\n",
       "      <td>0.787685</td>\n",
       "    </tr>\n",
       "    <tr>\n",
       "      <th>2</th>\n",
       "      <td>NM_001003800</td>\n",
       "      <td>351.011933</td>\n",
       "      <td>0.060343</td>\n",
       "      <td>0.369557</td>\n",
       "      <td>0.163284</td>\n",
       "      <td>0.870295</td>\n",
       "      <td>0.958260</td>\n",
       "    </tr>\n",
       "    <tr>\n",
       "      <th>3</th>\n",
       "      <td>NM_016649</td>\n",
       "      <td>208.780288</td>\n",
       "      <td>-0.631475</td>\n",
       "      <td>0.288866</td>\n",
       "      <td>-2.186051</td>\n",
       "      <td>0.028812</td>\n",
       "      <td>0.180576</td>\n",
       "    </tr>\n",
       "    <tr>\n",
       "      <th>4</th>\n",
       "      <td>NM_016647</td>\n",
       "      <td>147.915697</td>\n",
       "      <td>0.734807</td>\n",
       "      <td>0.619052</td>\n",
       "      <td>1.186986</td>\n",
       "      <td>0.235233</td>\n",
       "      <td>0.547560</td>\n",
       "    </tr>\n",
       "  </tbody>\n",
       "</table>\n",
       "</div>"
      ],
      "text/plain": [
       "     Unnamed: 0    baseMean  log2FoldChange     lfcSE      stat    pvalue  \\\n",
       "0     NM_017847  111.932801       -0.675241  0.277067 -2.437106  0.014805   \n",
       "1  NM_001003803  184.246490       -0.145361  0.225600 -0.644331  0.519361   \n",
       "2  NM_001003800  351.011933        0.060343  0.369557  0.163284  0.870295   \n",
       "3     NM_016649  208.780288       -0.631475  0.288866 -2.186051  0.028812   \n",
       "4     NM_016647  147.915697        0.734807  0.619052  1.186986  0.235233   \n",
       "\n",
       "       padj  \n",
       "0  0.123898  \n",
       "1  0.787685  \n",
       "2  0.958260  \n",
       "3  0.180576  \n",
       "4  0.547560  "
      ]
     },
     "execution_count": 7,
     "metadata": {},
     "output_type": "execute_result"
    }
   ],
   "source": [
    "L24_t1 = pd.read_csv('../Deseq2 Analysis/shift15/coding/csv_raw/fil5/ER_L24_t1.csv')\n",
    "L24_t1.head()"
   ]
  },
  {
   "cell_type": "code",
   "execution_count": 8,
   "metadata": {},
   "outputs": [],
   "source": [
    "L24_t1 = L24_t1.loc[L24_t1['padj']<0.05]\n",
    "accs = {}\n",
    "en= L24_t1.loc[L24_t1['log2FoldChange']>0.75, 'Unnamed: 0'].values\n",
    "de= L24_t1.loc[L24_t1['log2FoldChange']<-0.75, 'Unnamed: 0'].values"
   ]
  },
  {
   "cell_type": "code",
   "execution_count": 9,
   "metadata": {},
   "outputs": [],
   "source": [
    "def countGC(seq):\n",
    "    if len(seq) is 0:\n",
    "        return None\n",
    "    gc = seq.count('G')+seq.count('C')\n",
    "    return gc/len(seq)"
   ]
  },
  {
   "cell_type": "code",
   "execution_count": 84,
   "metadata": {},
   "outputs": [],
   "source": [
    "# Long type dataframe\n",
    "data = pd.DataFrame({'fc':'enriched','AccNum':en})\n",
    "data = data.append(pd.DataFrame({'fc':'depleted','AccNum':de}))"
   ]
  },
  {
   "cell_type": "code",
   "execution_count": 85,
   "metadata": {},
   "outputs": [],
   "source": [
    "gc_orf = [countGC(ORFs[acc]) for acc in data['AccNum']]\n",
    "gc_fp = [countGC(fpUTR[acc]) for acc in data['AccNum']]\n",
    "gc_tp = [countGC(tpUTR[acc]) for acc in data['AccNum']]"
   ]
  },
  {
   "cell_type": "code",
   "execution_count": 86,
   "metadata": {},
   "outputs": [],
   "source": [
    "d = data.copy()\n",
    "d['pos'] = 'fpUTR'\n",
    "d['gc_percent'] = gc_fp\n",
    "d2 = data.copy()\n",
    "d2['pos'] = 'tpUTR'\n",
    "d2['gc_percent'] = gc_tp\n",
    "data['pos'] = 'CDS'\n",
    "data['gc_percent'] = gc_orf\n",
    "data = data.append(d)\n",
    "data = data.append(d2)"
   ]
  },
  {
   "cell_type": "code",
   "execution_count": 92,
   "metadata": {},
   "outputs": [
    {
     "data": {
      "image/png": "[encoded data removed]",
      "text/plain": [
       "<Figure size 576x576 with 1 Axes>"
      ]
     },
     "metadata": {
      "needs_background": "light"
     },
     "output_type": "display_data"
    }
   ],
   "source": [
    "fig = plt.figure(figsize=(8,8))\n",
    "sns.boxplot(data=data,x='pos',y='gc_percent',hue='fc')\n",
    "fig.savefig('gc percent plot L24t1.png')"
   ]
  },
  {
   "cell_type": "code",
   "execution_count": 60,
   "metadata": {},
   "outputs": [
    {
     "data": {
      "text/plain": [
       "0.2"
      ]
     },
     "execution_count": 60,
     "metadata": {},
     "output_type": "execute_result"
    }
   ],
   "source": [
    "countGC('ATTTG')"
   ]
  },
  {
   "cell_type": "code",
   "execution_count": null,
   "metadata": {},
   "outputs": [],
   "source": []
  },
  {
   "cell_type": "code",
   "execution_count": null,
   "metadata": {},
   "outputs": [],
   "source": []
  },
  {
   "cell_type": "code",
   "execution_count": null,
   "metadata": {},
   "outputs": [],
   "source": []
  },
  {
   "cell_type": "code",
   "execution_count": null,
   "metadata": {},
   "outputs": [],
   "source": []
  },
  {
   "cell_type": "code",
   "execution_count": 93,
   "metadata": {},
   "outputs": [],
   "source": [
    "###"
   ]
  },
  {
   "cell_type": "code",
   "execution_count": 101,
   "metadata": {},
   "outputs": [
    {
     "data": {
      "text/html": [
       "<div>\n",
       "<style scoped>\n",
       "    .dataframe tbody tr th:only-of-type {\n",
       "        vertical-align: middle;\n",
       "    }\n",
       "\n",
       "    .dataframe tbody tr th {\n",
       "        vertical-align: top;\n",
       "    }\n",
       "\n",
       "    .dataframe thead th {\n",
       "        text-align: right;\n",
       "    }\n",
       "</style>\n",
       "<table border=\"1\" class=\"dataframe\">\n",
       "  <thead>\n",
       "    <tr style=\"text-align: right;\">\n",
       "      <th></th>\n",
       "      <th>AccNum</th>\n",
       "      <th>Energy</th>\n",
       "    </tr>\n",
       "  </thead>\n",
       "  <tbody>\n",
       "    <tr>\n",
       "      <th>0</th>\n",
       "      <td>NM_017582</td>\n",
       "      <td>-0.570471</td>\n",
       "    </tr>\n",
       "    <tr>\n",
       "      <th>1</th>\n",
       "      <td>NM_001276267</td>\n",
       "      <td>-0.371455</td>\n",
       "    </tr>\n",
       "  </tbody>\n",
       "</table>\n",
       "</div>"
      ],
      "text/plain": [
       "         AccNum    Energy\n",
       "0     NM_017582 -0.570471\n",
       "1  NM_001276267 -0.371455"
      ]
     },
     "execution_count": 101,
     "metadata": {},
     "output_type": "execute_result"
    }
   ],
   "source": [
    "mfe = pd.read_csv('../MOTIF/rnafold/utr_and_orf_minE_normbyLen.csv')\n",
    "mfe_dict = {}\n",
    "for idx,row in mfe.iterrows():\n",
    "    mfe_dict[row['AccNum']] = row['Energy']\n",
    "mfe.head(2)"
   ]
  },
  {
   "cell_type": "code",
   "execution_count": 100,
   "metadata": {},
   "outputs": [
    {
     "data": {
      "text/html": [
       "<div>\n",
       "<style scoped>\n",
       "    .dataframe tbody tr th:only-of-type {\n",
       "        vertical-align: middle;\n",
       "    }\n",
       "\n",
       "    .dataframe tbody tr th {\n",
       "        vertical-align: top;\n",
       "    }\n",
       "\n",
       "    .dataframe thead th {\n",
       "        text-align: right;\n",
       "    }\n",
       "</style>\n",
       "<table border=\"1\" class=\"dataframe\">\n",
       "  <thead>\n",
       "    <tr style=\"text-align: right;\">\n",
       "      <th></th>\n",
       "      <th>fc</th>\n",
       "      <th>AccNum</th>\n",
       "      <th>MFE</th>\n",
       "    </tr>\n",
       "  </thead>\n",
       "  <tbody>\n",
       "    <tr>\n",
       "      <th>0</th>\n",
       "      <td>enriched</td>\n",
       "      <td>NM_000485</td>\n",
       "      <td>-0.372519</td>\n",
       "    </tr>\n",
       "    <tr>\n",
       "      <th>1</th>\n",
       "      <td>enriched</td>\n",
       "      <td>NM_006411</td>\n",
       "      <td>-0.498621</td>\n",
       "    </tr>\n",
       "    <tr>\n",
       "      <th>2</th>\n",
       "      <td>enriched</td>\n",
       "      <td>NM_024299</td>\n",
       "      <td>-0.419892</td>\n",
       "    </tr>\n",
       "    <tr>\n",
       "      <th>3</th>\n",
       "      <td>enriched</td>\n",
       "      <td>NM_004642</td>\n",
       "      <td>-0.577219</td>\n",
       "    </tr>\n",
       "    <tr>\n",
       "      <th>4</th>\n",
       "      <td>enriched</td>\n",
       "      <td>NM_001319658</td>\n",
       "      <td>-0.500354</td>\n",
       "    </tr>\n",
       "    <tr>\n",
       "      <th>...</th>\n",
       "      <td>...</td>\n",
       "      <td>...</td>\n",
       "      <td>...</td>\n",
       "    </tr>\n",
       "    <tr>\n",
       "      <th>12</th>\n",
       "      <td>depleted</td>\n",
       "      <td>NM_001324376</td>\n",
       "      <td>-0.271644</td>\n",
       "    </tr>\n",
       "    <tr>\n",
       "      <th>13</th>\n",
       "      <td>depleted</td>\n",
       "      <td>NM_001142579</td>\n",
       "      <td>-0.283127</td>\n",
       "    </tr>\n",
       "    <tr>\n",
       "      <th>14</th>\n",
       "      <td>depleted</td>\n",
       "      <td>NM_001352272</td>\n",
       "      <td>-0.307800</td>\n",
       "    </tr>\n",
       "    <tr>\n",
       "      <th>15</th>\n",
       "      <td>depleted</td>\n",
       "      <td>NM_152581</td>\n",
       "      <td>-0.301696</td>\n",
       "    </tr>\n",
       "    <tr>\n",
       "      <th>16</th>\n",
       "      <td>depleted</td>\n",
       "      <td>NM_001354432</td>\n",
       "      <td>-0.406444</td>\n",
       "    </tr>\n",
       "  </tbody>\n",
       "</table>\n",
       "<p>143 rows × 3 columns</p>\n",
       "</div>"
      ],
      "text/plain": [
       "          fc        AccNum       MFE\n",
       "0   enriched     NM_000485 -0.372519\n",
       "1   enriched     NM_006411 -0.498621\n",
       "2   enriched     NM_024299 -0.419892\n",
       "3   enriched     NM_004642 -0.577219\n",
       "4   enriched  NM_001319658 -0.500354\n",
       "..       ...           ...       ...\n",
       "12  depleted  NM_001324376 -0.271644\n",
       "13  depleted  NM_001142579 -0.283127\n",
       "14  depleted  NM_001352272 -0.307800\n",
       "15  depleted     NM_152581 -0.301696\n",
       "16  depleted  NM_001354432 -0.406444\n",
       "\n",
       "[143 rows x 3 columns]"
      ]
     },
     "execution_count": 100,
     "metadata": {},
     "output_type": "execute_result"
    }
   ],
   "source": [
    "data = pd.DataFrame({'fc':'enriched','AccNum':en})\n",
    "data = data.append(pd.DataFrame({'fc':'depleted','AccNum':de}))\n",
    "data['MFE'] = [(mfe_dict[acc]) for acc in data['AccNum']]"
   ]
  },
  {
   "cell_type": "code",
   "execution_count": 103,
   "metadata": {},
   "outputs": [
    {
     "data": {
      "image/png": "[encoded data removed]",
      "text/plain": [
       "<Figure size 576x576 with 1 Axes>"
      ]
     },
     "metadata": {
      "needs_background": "light"
     },
     "output_type": "display_data"
    }
   ],
   "source": [
    "fig = plt.figure(figsize=(8,8))\n",
    "sns.boxplot(data=data,x='fc',y='MFE')#,hue='fc')\n",
    "fig.savefig('mfe against fc L24t1.png')"
   ]
  },
  {
   "cell_type": "code",
   "execution_count": null,
   "metadata": {},
   "outputs": [],
   "source": []
  },
  {
   "cell_type": "code",
   "execution_count": null,
   "metadata": {},
   "outputs": [],
   "source": []
  },
  {
   "cell_type": "code",
   "execution_count": 10,
   "metadata": {},
   "outputs": [
    {
     "data": {
      "text/html": [
       "<div>\n",
       "<style scoped>\n",
       "    .dataframe tbody tr th:only-of-type {\n",
       "        vertical-align: middle;\n",
       "    }\n",
       "\n",
       "    .dataframe tbody tr th {\n",
       "        vertical-align: top;\n",
       "    }\n",
       "\n",
       "    .dataframe thead th {\n",
       "        text-align: right;\n",
       "    }\n",
       "</style>\n",
       "<table border=\"1\" class=\"dataframe\">\n",
       "  <thead>\n",
       "    <tr style=\"text-align: right;\">\n",
       "      <th></th>\n",
       "      <th>Unnamed: 0</th>\n",
       "      <th>baseMean</th>\n",
       "      <th>log2FoldChange</th>\n",
       "      <th>lfcSE</th>\n",
       "      <th>stat</th>\n",
       "      <th>pvalue</th>\n",
       "      <th>padj</th>\n",
       "    </tr>\n",
       "  </thead>\n",
       "  <tbody>\n",
       "    <tr>\n",
       "      <th>0</th>\n",
       "      <td>NM_017847</td>\n",
       "      <td>111.932801</td>\n",
       "      <td>-0.675241</td>\n",
       "      <td>0.277067</td>\n",
       "      <td>-2.437106</td>\n",
       "      <td>0.014805</td>\n",
       "      <td>0.123898</td>\n",
       "    </tr>\n",
       "    <tr>\n",
       "      <th>1</th>\n",
       "      <td>NM_001003803</td>\n",
       "      <td>184.246490</td>\n",
       "      <td>-0.145361</td>\n",
       "      <td>0.225600</td>\n",
       "      <td>-0.644331</td>\n",
       "      <td>0.519361</td>\n",
       "      <td>0.787685</td>\n",
       "    </tr>\n",
       "    <tr>\n",
       "      <th>2</th>\n",
       "      <td>NM_001003800</td>\n",
       "      <td>351.011933</td>\n",
       "      <td>0.060343</td>\n",
       "      <td>0.369557</td>\n",
       "      <td>0.163284</td>\n",
       "      <td>0.870295</td>\n",
       "      <td>0.958260</td>\n",
       "    </tr>\n",
       "    <tr>\n",
       "      <th>3</th>\n",
       "      <td>NM_016649</td>\n",
       "      <td>208.780288</td>\n",
       "      <td>-0.631475</td>\n",
       "      <td>0.288866</td>\n",
       "      <td>-2.186051</td>\n",
       "      <td>0.028812</td>\n",
       "      <td>0.180576</td>\n",
       "    </tr>\n",
       "    <tr>\n",
       "      <th>4</th>\n",
       "      <td>NM_016647</td>\n",
       "      <td>147.915697</td>\n",
       "      <td>0.734807</td>\n",
       "      <td>0.619052</td>\n",
       "      <td>1.186986</td>\n",
       "      <td>0.235233</td>\n",
       "      <td>0.547560</td>\n",
       "    </tr>\n",
       "  </tbody>\n",
       "</table>\n",
       "</div>"
      ],
      "text/plain": [
       "     Unnamed: 0    baseMean  log2FoldChange     lfcSE      stat    pvalue  \\\n",
       "0     NM_017847  111.932801       -0.675241  0.277067 -2.437106  0.014805   \n",
       "1  NM_001003803  184.246490       -0.145361  0.225600 -0.644331  0.519361   \n",
       "2  NM_001003800  351.011933        0.060343  0.369557  0.163284  0.870295   \n",
       "3     NM_016649  208.780288       -0.631475  0.288866 -2.186051  0.028812   \n",
       "4     NM_016647  147.915697        0.734807  0.619052  1.186986  0.235233   \n",
       "\n",
       "       padj  \n",
       "0  0.123898  \n",
       "1  0.787685  \n",
       "2  0.958260  \n",
       "3  0.180576  \n",
       "4  0.547560  "
      ]
     },
     "execution_count": 10,
     "metadata": {},
     "output_type": "execute_result"
    }
   ],
   "source": [
    "L24_t1 = pd.read_csv('../Deseq2 Analysis/shift15/coding/csv_raw/fil5/ER_L24_t1.csv')\n",
    "L24_t1.head()"
   ]
  },
  {
   "cell_type": "code",
   "execution_count": 12,
   "metadata": {},
   "outputs": [
    {
     "data": {
      "text/html": [
       "<div>\n",
       "<style scoped>\n",
       "    .dataframe tbody tr th:only-of-type {\n",
       "        vertical-align: middle;\n",
       "    }\n",
       "\n",
       "    .dataframe tbody tr th {\n",
       "        vertical-align: top;\n",
       "    }\n",
       "\n",
       "    .dataframe thead th {\n",
       "        text-align: right;\n",
       "    }\n",
       "</style>\n",
       "<table border=\"1\" class=\"dataframe\">\n",
       "  <thead>\n",
       "    <tr style=\"text-align: right;\">\n",
       "      <th></th>\n",
       "      <th>Unnamed: 0</th>\n",
       "      <th>baseMean</th>\n",
       "      <th>log2FoldChange</th>\n",
       "      <th>lfcSE</th>\n",
       "      <th>stat</th>\n",
       "      <th>pvalue</th>\n",
       "      <th>padj</th>\n",
       "      <th>gc_orf</th>\n",
       "    </tr>\n",
       "  </thead>\n",
       "  <tbody>\n",
       "    <tr>\n",
       "      <th>0</th>\n",
       "      <td>NM_017847</td>\n",
       "      <td>111.932801</td>\n",
       "      <td>-0.675241</td>\n",
       "      <td>0.277067</td>\n",
       "      <td>-2.437106</td>\n",
       "      <td>0.014805</td>\n",
       "      <td>0.123898</td>\n",
       "      <td>0.389011</td>\n",
       "    </tr>\n",
       "    <tr>\n",
       "      <th>1</th>\n",
       "      <td>NM_001003803</td>\n",
       "      <td>184.246490</td>\n",
       "      <td>-0.145361</td>\n",
       "      <td>0.225600</td>\n",
       "      <td>-0.644331</td>\n",
       "      <td>0.519361</td>\n",
       "      <td>0.787685</td>\n",
       "      <td>0.449074</td>\n",
       "    </tr>\n",
       "    <tr>\n",
       "      <th>2</th>\n",
       "      <td>NM_001003800</td>\n",
       "      <td>351.011933</td>\n",
       "      <td>0.060343</td>\n",
       "      <td>0.369557</td>\n",
       "      <td>0.163284</td>\n",
       "      <td>0.870295</td>\n",
       "      <td>0.958260</td>\n",
       "      <td>0.625000</td>\n",
       "    </tr>\n",
       "    <tr>\n",
       "      <th>3</th>\n",
       "      <td>NM_016649</td>\n",
       "      <td>208.780288</td>\n",
       "      <td>-0.631475</td>\n",
       "      <td>0.288866</td>\n",
       "      <td>-2.186051</td>\n",
       "      <td>0.028812</td>\n",
       "      <td>0.180576</td>\n",
       "      <td>0.371674</td>\n",
       "    </tr>\n",
       "    <tr>\n",
       "      <th>4</th>\n",
       "      <td>NM_016647</td>\n",
       "      <td>147.915697</td>\n",
       "      <td>0.734807</td>\n",
       "      <td>0.619052</td>\n",
       "      <td>1.186986</td>\n",
       "      <td>0.235233</td>\n",
       "      <td>0.547560</td>\n",
       "      <td>0.708134</td>\n",
       "    </tr>\n",
       "  </tbody>\n",
       "</table>\n",
       "</div>"
      ],
      "text/plain": [
       "     Unnamed: 0    baseMean  log2FoldChange     lfcSE      stat    pvalue  \\\n",
       "0     NM_017847  111.932801       -0.675241  0.277067 -2.437106  0.014805   \n",
       "1  NM_001003803  184.246490       -0.145361  0.225600 -0.644331  0.519361   \n",
       "2  NM_001003800  351.011933        0.060343  0.369557  0.163284  0.870295   \n",
       "3     NM_016649  208.780288       -0.631475  0.288866 -2.186051  0.028812   \n",
       "4     NM_016647  147.915697        0.734807  0.619052  1.186986  0.235233   \n",
       "\n",
       "       padj    gc_orf  \n",
       "0  0.123898  0.389011  \n",
       "1  0.787685  0.449074  \n",
       "2  0.958260  0.625000  \n",
       "3  0.180576  0.371674  \n",
       "4  0.547560  0.708134  "
      ]
     },
     "execution_count": 12,
     "metadata": {},
     "output_type": "execute_result"
    }
   ],
   "source": [
    "gc_orf = [countGC(ORFs[acc]) for acc in L24_t1['Unnamed: 0']]\n",
    "L24_t1['gc_orf'] = gc_orf\n",
    "L24_t1.head()"
   ]
  },
  {
   "cell_type": "code",
   "execution_count": 15,
   "metadata": {},
   "outputs": [],
   "source": [
    "import math\n",
    "gc_ = [math.floor(gc*10) for gc in gc_orf]\n",
    "L24_t1['gc_'] = gc_"
   ]
  },
  {
   "cell_type": "code",
   "execution_count": 17,
   "metadata": {},
   "outputs": [
    {
     "data": {
      "image/png": "[encoded data removed]",
      "text/plain": [
       "<Figure size 576x576 with 1 Axes>"
      ]
     },
     "metadata": {
      "needs_background": "light"
     },
     "output_type": "display_data"
    }
   ],
   "source": [
    "fig = plt.figure(figsize=(8,8))\n",
    "sns.boxplot(data=L24_t1,x='gc_',y='log2FoldChange')#,hue='fc')\n",
    "fig.savefig('ER_L24_t1_vs_gc.png')"
   ]
  },
  {
   "cell_type": "code",
   "execution_count": 16,
   "metadata": {},
   "outputs": [
    {
     "name": "stdout",
     "output_type": "stream",
     "text": [
      "/media/zhaoy/7E0214A802146803/Users/Putatu/Documents/HGLab/RBC/Database\r\n"
     ]
    }
   ],
   "source": [
    "!pwd"
   ]
  },
  {
   "cell_type": "code",
   "execution_count": 20,
   "metadata": {
    "scrolled": true
   },
   "outputs": [
    {
     "data": {
      "image/png": "[encoded data removed]",
      "text/plain": [
       "<Figure size 576x576 with 1 Axes>"
      ]
     },
     "metadata": {
      "needs_background": "light"
     },
     "output_type": "display_data"
    }
   ],
   "source": [
    "fig = plt.figure(figsize=(8,8))\n",
    "sns.scatterplot(data=L24_t1,x='gc_orf',y='log2FoldChange')\n",
    "fig.savefig('ER_L24_t1_vs_gc_scatter.png')"
   ]
  },
  {
   "cell_type": "code",
   "execution_count": null,
   "metadata": {},
   "outputs": [],
   "source": []
  }
 ],
 "metadata": {
  "kernelspec": {
   "display_name": "Python 3",
   "language": "python",
   "name": "python3"
  },
  "language_info": {
   "codemirror_mode": {
    "name": "ipython",
    "version": 3
   },
   "file_extension": ".py",
   "mimetype": "text/x-python",
   "name": "python",
   "nbconvert_exporter": "python",
   "pygments_lexer": "ipython3",
   "version": "3.7.6"
  }
 },
 "nbformat": 4,
 "nbformat_minor": 4
}
