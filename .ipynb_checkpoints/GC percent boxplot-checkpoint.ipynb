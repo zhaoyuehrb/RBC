{
 "cells": [
  {
   "cell_type": "code",
   "execution_count": 1,
   "metadata": {},
   "outputs": [],
   "source": [
    "import matplotlib.pyplot as plt\n",
    "import seaborn as sns\n",
    "import pandas as pd\n",
    "import glob"
   ]
  },
  {
   "cell_type": "code",
   "execution_count": 3,
   "metadata": {},
   "outputs": [
    {
     "name": "stdout",
     "output_type": "stream",
     "text": [
      " Volume in drive C has no label.\n",
      " Volume Serial Number is 0214-6803\n",
      "\n",
      " Directory of C:\\Users\\Putatu\\Documents\\HGLab\\RBC\n",
      "\n",
      "09/07/2020  04:48 PM    <DIR>          .\n",
      "09/07/2020  04:48 PM    <DIR>          ..\n",
      "08/05/2020  04:42 PM               166 .gitignore\n",
      "09/07/2020  04:47 PM    <DIR>          .ipynb_checkpoints\n",
      "05/05/2020  06:37 AM           295,530 accnum2init_eff.csv\n",
      "08/08/2020  04:29 PM    <DIR>          AUG meta analysis\n",
      "05/05/2020  06:37 AM    <DIR>          Codon Percent Corr\n",
      "05/19/2020  08:58 PM    <DIR>          Dabest Python Collection\n",
      "06/19/2020  12:04 PM    <DIR>          Database\n",
      "05/05/2020  06:37 AM    <DIR>          Deseq2 Analysis\n",
      "09/07/2020  04:48 PM               789 GC percent boxplot.ipynb\n",
      "05/05/2020  06:37 AM    <DIR>          MOTIF\n",
      "06/17/2020  03:56 PM    <DIR>          paper\n",
      "09/06/2020  05:45 PM    <DIR>          plot cluster\n",
      "06/22/2020  02:52 PM    <DIR>          pymols\n",
      "05/05/2020  06:37 AM             1,159 RBC_fid_table.csv\n",
      "05/05/2020  06:37 AM                 7 README.md\n",
      "05/05/2020  06:37 AM    <DIR>          RPKM with refseq\n",
      "05/05/2020  06:37 AM    <DIR>          script\n",
      "05/05/2020  06:37 AM    <DIR>          SeqLogo\n",
      "05/05/2020  06:37 AM        46,178,609 TAC Meeting 3_Jiemin.pptx\n",
      "05/05/2020  06:37 AM    <DIR>          VennK562HSC\n",
      "05/05/2020  06:37 AM    <DIR>          Wiggle Plot\n",
      "               6 File(s)     46,476,260 bytes\n",
      "              17 Dir(s)  88,207,982,592 bytes free\n"
     ]
    }
   ],
   "source": []
  },
  {
   "cell_type": "code",
   "execution_count": null,
   "metadata": {},
   "outputs": [],
   "source": []
  }
 ],
 "metadata": {
  "kernelspec": {
   "display_name": "Python 3",
   "language": "python",
   "name": "python3"
  },
  "language_info": {
   "codemirror_mode": {
    "name": "ipython",
    "version": 3
   },
   "file_extension": ".py",
   "mimetype": "text/x-python",
   "name": "python",
   "nbconvert_exporter": "python",
   "pygments_lexer": "ipython3",
   "version": "3.7.7"
  }
 },
 "nbformat": 4,
 "nbformat_minor": 4
}
