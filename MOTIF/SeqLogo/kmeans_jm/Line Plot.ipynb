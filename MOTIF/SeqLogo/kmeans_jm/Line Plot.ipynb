{
 "cells": [
  {
   "cell_type": "code",
   "execution_count": 1,
   "metadata": {},
   "outputs": [],
   "source": [
    "import pandas as pd\n",
    "import matplotlib.pyplot as plt\n",
    "import seaborn as sns"
   ]
  },
  {
   "cell_type": "code",
   "execution_count": 2,
   "metadata": {},
   "outputs": [
    {
     "data": {
      "text/plain": [
       "['genes\\\\cluster 1 genes.txt',\n",
       " 'genes\\\\cluster 2 genes.txt',\n",
       " 'genes\\\\cluster 3 genes.txt',\n",
       " 'genes\\\\cluster 4 genes.txt',\n",
       " 'genes\\\\cluster 5 genes.txt',\n",
       " 'genes\\\\cluster 6 genes.txt',\n",
       " 'genes\\\\cluster 7 genes.txt',\n",
       " 'genes\\\\cluster 8 genes.txt']"
      ]
     },
     "execution_count": 2,
     "metadata": {},
     "output_type": "execute_result"
    }
   ],
   "source": [
    "import glob\n",
    "glob.glob('genes/*')"
   ]
  },
  {
   "cell_type": "code",
   "execution_count": 6,
   "metadata": {},
   "outputs": [],
   "source": [
    "TEs = {}\n",
    "te0 = pd.read_csv('../../../Deseq2 Analysis/shift15/coding/csv_raw/TE_t0.csv')\n",
    "te1 = pd.read_csv('../../../Deseq2 Analysis/shift15/coding/csv_raw/TE_t1.csv')\n",
    "te2 = pd.read_csv('../../../Deseq2 Analysis/shift15/coding/csv_raw/TE_t2.csv')"
   ]
  },
  {
   "cell_type": "code",
   "execution_count": null,
   "metadata": {},
   "outputs": [],
   "source": []
  },
  {
   "cell_type": "code",
   "execution_count": 24,
   "metadata": {},
   "outputs": [],
   "source": [
    "import os\n",
    "for i in range(1,9):\n",
    "    TEs = {}\n",
    "    newpath = 'lineplot/' \n",
    "    if not os.path.exists(newpath):\n",
    "        os.makedirs(newpath)\n",
    "    \n",
    "    f = pd.read_csv('genes/cluster '+str(i)+' genes.txt',header=None)\n",
    "    genes = list(f[0])\n",
    "    TEs['Genes'] = genes\n",
    "    TEs['TE0'] = list(te0.loc[te0['Unnamed: 0'].isin(genes),'log2FoldChange'])\n",
    "    TEs['TE1'] = list(te1.loc[te0['Unnamed: 0'].isin(genes),'log2FoldChange'])\n",
    "    TEs['TE2'] = list(te2.loc[te0['Unnamed: 0'].isin(genes),'log2FoldChange'])\n",
    "    TEdf = pd.DataFrame(TEs)\n",
    "    TEdf.to_csv('lineplot/cluster'+str(i)+'_TE.csv')\n",
    "    #plt.figure()\n",
    "    #ax = sns.lineplot(estimator=None, color='black', #lw=1,\n",
    "    #              data=TEdf.transpose(),\n",
    "    #            dashes=False,legend=False,sort=False,ci=None,n_boot=None)\n",
    "    #ax.get_figure().savefig('lineplot/cluster'+str(i)+\"_TE_lines.png\")"
   ]
  },
  {
   "cell_type": "code",
   "execution_count": 23,
   "metadata": {},
   "outputs": [
    {
     "data": {
      "text/html": [
       "<div>\n",
       "<style scoped>\n",
       "    .dataframe tbody tr th:only-of-type {\n",
       "        vertical-align: middle;\n",
       "    }\n",
       "\n",
       "    .dataframe tbody tr th {\n",
       "        vertical-align: top;\n",
       "    }\n",
       "\n",
       "    .dataframe thead th {\n",
       "        text-align: right;\n",
       "    }\n",
       "</style>\n",
       "<table border=\"1\" class=\"dataframe\">\n",
       "  <thead>\n",
       "    <tr style=\"text-align: right;\">\n",
       "      <th></th>\n",
       "      <th>Genes</th>\n",
       "      <th>TE0</th>\n",
       "      <th>TE1</th>\n",
       "      <th>TE2</th>\n",
       "    </tr>\n",
       "  </thead>\n",
       "  <tbody>\n",
       "    <tr>\n",
       "      <th>0</th>\n",
       "      <td>NM_001199107</td>\n",
       "      <td>-0.626665</td>\n",
       "      <td>-0.557044</td>\n",
       "      <td>-0.264365</td>\n",
       "    </tr>\n",
       "    <tr>\n",
       "      <th>1</th>\n",
       "      <td>NM_024571</td>\n",
       "      <td>-1.228628</td>\n",
       "      <td>-0.755353</td>\n",
       "      <td>-0.689504</td>\n",
       "    </tr>\n",
       "    <tr>\n",
       "      <th>2</th>\n",
       "      <td>NM_020457</td>\n",
       "      <td>-2.100014</td>\n",
       "      <td>-1.115286</td>\n",
       "      <td>-0.691297</td>\n",
       "    </tr>\n",
       "    <tr>\n",
       "      <th>3</th>\n",
       "      <td>NM_006893</td>\n",
       "      <td>-0.796347</td>\n",
       "      <td>-0.527393</td>\n",
       "      <td>-0.431205</td>\n",
       "    </tr>\n",
       "    <tr>\n",
       "      <th>4</th>\n",
       "      <td>NM_032344</td>\n",
       "      <td>-0.433304</td>\n",
       "      <td>-0.184485</td>\n",
       "      <td>-0.391263</td>\n",
       "    </tr>\n",
       "    <tr>\n",
       "      <th>...</th>\n",
       "      <td>...</td>\n",
       "      <td>...</td>\n",
       "      <td>...</td>\n",
       "      <td>...</td>\n",
       "    </tr>\n",
       "    <tr>\n",
       "      <th>898</th>\n",
       "      <td>NM_024646</td>\n",
       "      <td>-0.866155</td>\n",
       "      <td>-0.196203</td>\n",
       "      <td>0.058284</td>\n",
       "    </tr>\n",
       "    <tr>\n",
       "      <th>899</th>\n",
       "      <td>NM_019044</td>\n",
       "      <td>-0.439992</td>\n",
       "      <td>0.068023</td>\n",
       "      <td>-0.238338</td>\n",
       "    </tr>\n",
       "    <tr>\n",
       "      <th>900</th>\n",
       "      <td>NM_018279</td>\n",
       "      <td>-0.665015</td>\n",
       "      <td>-0.286008</td>\n",
       "      <td>0.056746</td>\n",
       "    </tr>\n",
       "    <tr>\n",
       "      <th>901</th>\n",
       "      <td>NM_021198</td>\n",
       "      <td>-0.883569</td>\n",
       "      <td>-0.548544</td>\n",
       "      <td>-0.209209</td>\n",
       "    </tr>\n",
       "    <tr>\n",
       "      <th>902</th>\n",
       "      <td>NM_013258</td>\n",
       "      <td>-0.079306</td>\n",
       "      <td>-0.086613</td>\n",
       "      <td>0.049273</td>\n",
       "    </tr>\n",
       "  </tbody>\n",
       "</table>\n",
       "<p>903 rows × 4 columns</p>\n",
       "</div>"
      ],
      "text/plain": [
       "            Genes       TE0       TE1       TE2\n",
       "0    NM_001199107 -0.626665 -0.557044 -0.264365\n",
       "1       NM_024571 -1.228628 -0.755353 -0.689504\n",
       "2       NM_020457 -2.100014 -1.115286 -0.691297\n",
       "3       NM_006893 -0.796347 -0.527393 -0.431205\n",
       "4       NM_032344 -0.433304 -0.184485 -0.391263\n",
       "..            ...       ...       ...       ...\n",
       "898     NM_024646 -0.866155 -0.196203  0.058284\n",
       "899     NM_019044 -0.439992  0.068023 -0.238338\n",
       "900     NM_018279 -0.665015 -0.286008  0.056746\n",
       "901     NM_021198 -0.883569 -0.548544 -0.209209\n",
       "902     NM_013258 -0.079306 -0.086613  0.049273\n",
       "\n",
       "[903 rows x 4 columns]"
      ]
     },
     "execution_count": 23,
     "metadata": {},
     "output_type": "execute_result"
    }
   ],
   "source": [
    "TEdf"
   ]
  },
  {
   "cell_type": "code",
   "execution_count": null,
   "metadata": {},
   "outputs": [],
   "source": []
  }
 ],
 "metadata": {
  "kernelspec": {
   "display_name": "Python 3",
   "language": "python",
   "name": "python3"
  },
  "language_info": {
   "codemirror_mode": {
    "name": "ipython",
    "version": 3
   },
   "file_extension": ".py",
   "mimetype": "text/x-python",
   "name": "python",
   "nbconvert_exporter": "python",
   "pygments_lexer": "ipython3",
   "version": "3.7.6"
  }
 },
 "nbformat": 4,
 "nbformat_minor": 4
}
