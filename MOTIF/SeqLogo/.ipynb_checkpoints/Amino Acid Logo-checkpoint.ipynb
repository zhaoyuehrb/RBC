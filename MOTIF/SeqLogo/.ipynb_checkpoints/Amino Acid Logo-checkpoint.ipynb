{
 "cells": [
  {
   "cell_type": "code",
   "execution_count": 2,
   "metadata": {},
   "outputs": [],
   "source": [
    "import pandas as pd\n",
    "import numpy as np\n",
    "import csv\n",
    "import os\n",
    "from os import path\n",
    "#import weblogo\n",
    "#import seqlogo\n",
    "%matplotlib inline"
   ]
  },
  {
   "cell_type": "code",
   "execution_count": 3,
   "metadata": {},
   "outputs": [],
   "source": [
    "filteredGeneList = pd.read_csv('../../Database/filteredGenesDetails_human_240118.txt',sep='\\t')\n",
    "acc2gene={}\n",
    "gene2acc={}\n",
    "for idx,row in filteredGeneList.iterrows():\n",
    "    acc2gene[row['AccNum']] = row['GeneName']\n",
    "    gene2acc[row['GeneName']]=row['AccNum']"
   ]
  },
  {
   "cell_type": "code",
   "execution_count": 4,
   "metadata": {},
   "outputs": [],
   "source": [
    "def get_fa(filename,onlyKeys = 'All'):\n",
    "    keyD = dict()\n",
    "    if onlyKeys!='All':\n",
    "        for k in onlyKeys: keyD[k] = None\n",
    "        \n",
    "    def addEntry(current,d):\n",
    "        entry = current.split('\\n')\n",
    "        if entry[0]!='' and (onlyKeys=='All' or keyD.has_key(entry[0])):\n",
    "            d[entry[0]] = ''.join(entry[1:])\n",
    "\n",
    "    d = dict()\n",
    "    bf = open(filename)\n",
    "    current = ['\\n']\n",
    "    for line in bf:\n",
    "        if line[0]=='>':\n",
    "            addEntry(''.join(current),d)\n",
    "            if len(line)>1: current = [line[1:]]\n",
    "            else: current = ['\\n']\n",
    "        else: current.append(line)\n",
    "    addEntry(''.join(current),d)\n",
    "    bf.close()\n",
    "    return d"
   ]
  },
  {
   "cell_type": "code",
   "execution_count": 5,
   "metadata": {},
   "outputs": [],
   "source": [
    "splicedGenes = get_fa('../../Database/splicedGenes_240118.txt')\n",
    "## truncate the keys to only accNum\n",
    "ks = list(splicedGenes.keys())\n",
    "for key in ks:\n",
    "    splicedGenes[key.split('_chr')[0]] = splicedGenes[key]\n",
    "    splicedGenes.pop(key)\n",
    "splicedORFs = get_fa('../../Database/splicedORFs_240118.txt')"
   ]
  },
  {
   "cell_type": "code",
   "execution_count": 6,
   "metadata": {},
   "outputs": [],
   "source": [
    "fpUTR={}\n",
    "tpUTR = {}\n",
    "ORFs = {}\n",
    "for idx,row in filteredGeneList.iterrows():\n",
    "    accNum = row['AccNum']\n",
    "    fpLen = row['fpUTR_length']\n",
    "    tpLen = row['tpUTR_length']\n",
    "    fpUTR[accNum] = splicedGenes[accNum][0:fpLen]\n",
    "    tpUTR[accNum] = splicedGenes[accNum][-tpLen:]\n",
    "    ORFs[accNum] = splicedORFs[accNum]"
   ]
  },
  {
   "cell_type": "code",
   "execution_count": 22,
   "metadata": {},
   "outputs": [],
   "source": [
    "def genes2seq(genes):\n",
    "    seqs = []\n",
    "    amis = []\n",
    "    for gene in genes:\n",
    "#        fp=fpUTR[gene]\n",
    "#         if len(fp)<8:\n",
    "#             #print('No fpUTR encountered: ',acc2gene[gene])\n",
    "#             continue\n",
    "        seq = ORFs[gene][3:18]\n",
    "        seqs.append(seq)\n",
    "    #print('# of valid seqs: ',len(seqs))\n",
    "    return seqs"
   ]
  },
  {
   "cell_type": "code",
   "execution_count": 23,
   "metadata": {},
   "outputs": [
    {
     "data": {
      "text/plain": [
       "Seq('MAIVMGR*KGAR*', HasStopCodon(ExtendedIUPACProtein(), '*'))"
      ]
     },
     "execution_count": 23,
     "metadata": {},
     "output_type": "execute_result"
    }
   ],
   "source": [
    "from Bio.Seq import Seq\n",
    "seq = Seq('ATGGCCATTGTAATGGGCCGCTGAAAGGGTGCCCGATAG')\n",
    "seq.translate()"
   ]
  },
  {
   "cell_type": "code",
   "execution_count": 25,
   "metadata": {},
   "outputs": [
    {
     "data": {
      "text/plain": [
       "'ATLGH'"
      ]
     },
     "execution_count": 25,
     "metadata": {},
     "output_type": "execute_result"
    }
   ],
   "source": [
    "seq=Seq(genes2seq(['NM_001276267'])[0])\n",
    "str(seq.translate())"
   ]
  },
  {
   "cell_type": "code",
   "execution_count": 51,
   "metadata": {},
   "outputs": [
    {
     "name": "stdout",
     "output_type": "stream",
     "text": [
      "189\n"
     ]
    }
   ],
   "source": [
    "batch = 'ER_S15_t1'\n",
    "deseq = pd.read_csv('../../Deseq2 Analysis/shift15/coding/csv_raw/'+batch+'.csv')\n",
    "deseq = deseq.sort_values(by=['log2FoldChange'])\n",
    "background = deseq['Unnamed: 0']\n",
    "deseq_filtered = deseq.loc[deseq['padj']<0.05]\n",
    "up_num = sum(deseq_filtered['log2FoldChange'] > 1)\n",
    "target = deseq_filtered.tail(up_num)['Unnamed: 0']\n",
    "print(up_num)"
   ]
  },
  {
   "cell_type": "code",
   "execution_count": 52,
   "metadata": {},
   "outputs": [],
   "source": [
    "seqs=genes2seq(target)\n",
    "aminos = [str(Seq(seq).translate()) for seq in seqs]\n",
    "with open('amino_acid/'+batch+'.csv','w+') as f:\n",
    "    for item in aminos:\n",
    "         f.write(item+'\\n')"
   ]
  },
  {
   "cell_type": "code",
   "execution_count": 53,
   "metadata": {},
   "outputs": [],
   "source": [
    "import weblogo\n",
    "import seqlogo"
   ]
  },
  {
   "cell_type": "code",
   "execution_count": 69,
   "metadata": {},
   "outputs": [],
   "source": [
    "AA = \"ACDEFGHIKLMNPQRSTVWY\"\n",
    "def comp_count(aminos):\n",
    "    raw_count = np.zeros((5,20))\n",
    "    lines_tr=[''.join(s) for s in zip(*(aminos))]\n",
    "    #print('#lines = ',len(seqs))\n",
    "    for i in range(5):\n",
    "        for j in range(len(AA)):\n",
    "            raw_count[i][j] = lines_tr[i].count(AA[j])\n",
    "    return raw_count\n",
    "counts = comp_count(aminos)"
   ]
  },
  {
   "cell_type": "code",
   "execution_count": 79,
   "metadata": {},
   "outputs": [],
   "source": [
    "counts\n",
    "pfm_pd=pd.DataFrame(counts)\n",
    "ppm_pd=seqlogo.pfm2ppm(pfm_pd,alphabet_type = 'AA')\n",
    "ppm = seqlogo.Ppm(ppm_pd,alphabet_type = 'AA')\n",
    "plt=seqlogo.seqlogo(ppm, ic_scale = True, format = 'png', size = 'medium',alphabet_type = 'AA',filename='amino_acid/test.png')"
   ]
  },
  {
   "cell_type": "code",
   "execution_count": 77,
   "metadata": {},
   "outputs": [
    {
     "ename": "AttributeError",
     "evalue": "'Image' object has no attribute 'show'",
     "output_type": "error",
     "traceback": [
      "\u001b[1;31m---------------------------------------------------------------------------\u001b[0m",
      "\u001b[1;31mAttributeError\u001b[0m                            Traceback (most recent call last)",
      "\u001b[1;32m<ipython-input-77-1eb00ff78cf2>\u001b[0m in \u001b[0;36m<module>\u001b[1;34m\u001b[0m\n\u001b[1;32m----> 1\u001b[1;33m \u001b[0mplt\u001b[0m\u001b[1;33m.\u001b[0m\u001b[0mshow\u001b[0m\u001b[1;33m(\u001b[0m\u001b[1;33m)\u001b[0m\u001b[1;33m\u001b[0m\u001b[1;33m\u001b[0m\u001b[0m\n\u001b[0m",
      "\u001b[1;31mAttributeError\u001b[0m: 'Image' object has no attribute 'show'"
     ]
    }
   ],
   "source": [
    "plt.show()"
   ]
  },
  {
   "cell_type": "code",
   "execution_count": null,
   "metadata": {},
   "outputs": [],
   "source": []
  }
 ],
 "metadata": {
  "kernelspec": {
   "display_name": "Python 3",
   "language": "python",
   "name": "python3"
  },
  "language_info": {
   "codemirror_mode": {
    "name": "ipython",
    "version": 3
   },
   "file_extension": ".py",
   "mimetype": "text/x-python",
   "name": "python",
   "nbconvert_exporter": "python",
   "pygments_lexer": "ipython3",
   "version": "3.7.6"
  }
 },
 "nbformat": 4,
 "nbformat_minor": 4
}
