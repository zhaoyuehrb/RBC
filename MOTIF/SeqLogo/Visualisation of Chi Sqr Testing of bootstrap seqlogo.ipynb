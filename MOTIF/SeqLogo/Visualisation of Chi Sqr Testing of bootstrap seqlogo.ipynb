{
 "cells": [
  {
   "cell_type": "code",
   "execution_count": 2,
   "metadata": {},
   "outputs": [],
   "source": [
    "import pandas as pd\n",
    "import numpy as np\n",
    "import csv\n",
    "import os\n",
    "from os import path\n",
    "import weblogo\n",
    "import seqlogo\n",
    "%matplotlib inline\n"
   ]
  },
  {
   "cell_type": "code",
   "execution_count": 3,
   "metadata": {},
   "outputs": [],
   "source": [
    "filteredGeneList = pd.read_csv('../../Database/filteredGenesDetails_human_240118.txt',sep='\\t')\n",
    "acc2gene={}\n",
    "for idx,row in filteredGeneList.iterrows():\n",
    "    acc2gene[row['AccNum']] = row['GeneName']"
   ]
  },
  {
   "cell_type": "code",
   "execution_count": 4,
   "metadata": {},
   "outputs": [],
   "source": [
    "def get_fa(filename,onlyKeys = 'All'):\n",
    "    keyD = dict()\n",
    "    if onlyKeys!='All':\n",
    "        for k in onlyKeys: keyD[k] = None\n",
    "        \n",
    "    def addEntry(current,d):\n",
    "        entry = current.split('\\n')\n",
    "        if entry[0]!='' and (onlyKeys=='All' or keyD.has_key(entry[0])):\n",
    "            d[entry[0]] = ''.join(entry[1:])\n",
    "\n",
    "    d = dict()\n",
    "    bf = open(filename)\n",
    "    current = ['\\n']\n",
    "    for line in bf:\n",
    "        if line[0]=='>':\n",
    "            addEntry(''.join(current),d)\n",
    "            if len(line)>1: current = [line[1:]]\n",
    "            else: current = ['\\n']\n",
    "        else: current.append(line)\n",
    "    addEntry(''.join(current),d)\n",
    "    bf.close()\n",
    "    return d"
   ]
  },
  {
   "cell_type": "code",
   "execution_count": 5,
   "metadata": {},
   "outputs": [],
   "source": [
    "splicedGenes = get_fa('../../Database/splicedGenes_240118.txt')\n",
    "## truncate the keys to only accNum\n",
    "ks = list(splicedGenes.keys())\n",
    "for key in ks:\n",
    "    splicedGenes[key.split('_chr')[0]] = splicedGenes[key]\n",
    "    splicedGenes.pop(key)\n",
    "splicedORFs = get_fa('../../Database/splicedORFs_240118.txt')"
   ]
  },
  {
   "cell_type": "code",
   "execution_count": 6,
   "metadata": {},
   "outputs": [],
   "source": [
    "fpUTR={}\n",
    "tpUTR = {}\n",
    "ORFs = {}\n",
    "for idx,row in filteredGeneList.iterrows():\n",
    "    accNum = row['AccNum']\n",
    "    fpLen = row['fpUTR_length']\n",
    "    tpLen = row['tpUTR_length']\n",
    "    fpUTR[accNum] = splicedGenes[accNum][0:fpLen]\n",
    "    tpUTR[accNum] = splicedGenes[accNum][-tpLen:]\n",
    "    ORFs[accNum] = splicedORFs[accNum]"
   ]
  },
  {
   "cell_type": "code",
   "execution_count": null,
   "metadata": {},
   "outputs": [],
   "source": []
  },
  {
   "cell_type": "code",
   "execution_count": null,
   "metadata": {},
   "outputs": [],
   "source": []
  },
  {
   "cell_type": "code",
   "execution_count": null,
   "metadata": {},
   "outputs": [],
   "source": []
  },
  {
   "cell_type": "code",
   "execution_count": null,
   "metadata": {},
   "outputs": [],
   "source": []
  },
  {
   "cell_type": "code",
   "execution_count": 7,
   "metadata": {},
   "outputs": [],
   "source": [
    "class Sequences:\n",
    "    nt2coord = {'A':0,'C':1,'G':2,'T':3}\n",
    "    \n",
    "    def seqLikelihood(self,SEQ):\n",
    "        nt2coord = {'A':0,'C':1,'G':2,'T':3}\n",
    "        prob = 1\n",
    "        assert (len(SEQ)==19)\n",
    "        for i in range(8):\n",
    "            pos_prob = self.ppm[i,nt2coord[SEQ[i]]]\n",
    "            prob*= pos_prob\n",
    "        for i in range(11,19):\n",
    "            pos_prob = self.ppm[i,nt2coord[SEQ[i]]]\n",
    "            prob*= pos_prob\n",
    "        return np.log(prob)\n",
    "    \n",
    "    @staticmethod\n",
    "    def genes2seq(genes):\n",
    "        seqs = []\n",
    "        for gene in genes:\n",
    "            fp=fpUTR[gene]\n",
    "            if len(fp)<8:\n",
    "                #print('No fpUTR encountered: ',acc2gene[gene])\n",
    "                continue\n",
    "            seq = fp[-8:]+ORFs[gene][:11]\n",
    "            seqs.append(seq)\n",
    "        #print('# of valid seqs: ',len(seqs))\n",
    "        return seqs\n",
    "    \n",
    "    def __init__(self,seqs):\n",
    "        self.seqs=seqs\n",
    "        self.pfm, self.ppm = self.comp_count()\n",
    "        self.flat = self.ppm2flat()\n",
    "    \n",
    "    def addseqs(self,seqs):\n",
    "        self.seqs.extend(seqs)\n",
    "        self.pfm,self.ppm = self.comp_count()\n",
    "        self.flat = self.ppm2flat()\n",
    "    \n",
    "    def __len__(self):\n",
    "        return len(self.seqs)\n",
    "    \n",
    "    def comp_count(self,seqLen=19):\n",
    "        \n",
    "        raw_count = np.zeros((seqLen,4))\n",
    "        lines_tr=[''.join(s) for s in zip(*(self.seqs))]\n",
    "        #print('#lines = ',len(seqs))\n",
    "        for i in range(seqLen):\n",
    "            raw_count[i][0] = lines_tr[i].count('A')\n",
    "            raw_count[i][1] = lines_tr[i].count('C')\n",
    "            raw_count[i][2] = lines_tr[i].count('G')\n",
    "            raw_count[i][3] = lines_tr[i].count('T')\n",
    "        ppm = self.pfm2ppm(raw_count)\n",
    "        return raw_count, ppm\n",
    "    \n",
    "    ## Note: ppm here is the same as the so-called pwm in R,\n",
    "    ## True meaning of 'pwm' vary from literatures\n",
    "    def pfm2ppm(self,pfm):\n",
    "        sum_of_rows = pfm.sum(axis=1)\n",
    "        return pfm / sum_of_rows[:, np.newaxis]\n",
    "    \n",
    "    def plotlogo(self):\n",
    "        pfm_pd=pd.DataFrame(self.pfm)\n",
    "        ppm_pd=seqlogo.pfm2ppm(pfm_pd)\n",
    "        ppm = seqlogo.Ppm(ppm_pd)\n",
    "        plt=seqlogo.seqlogo(ppm, ic_scale = True, format = 'png', size = 'large')#,filename=datset+'.png')\n",
    "        #seqlogo.seqlogo(ppm, ic_scale = True, format = 'svg', size = 'medium')#,filename=datset+'.svg')\n",
    "        return plt\n",
    "    \n",
    "    def ppm2flat(self):\n",
    "        return self.ppm[list(range(0,8))+list(range(11,19)), 0:4].reshape(-1)\n",
    "    \n",
    "    \n",
    "    def bootstrap(self,num):    # with replacement\n",
    "        sample_seqs = np.random.choice(self.seqs, size=num)\n",
    "        return Sequences(sample_seqs.tolist())\n",
    "    \n",
    "    def sample(self,num): # without replacement\n",
    "        sample_seqs = np.random.choice(self.seqs, size=num,replace=False)\n",
    "        return Sequences(sample_seqs.tolist())\n",
    "\n",
    "    def __gt__(self, seq2):\n",
    "        return True"
   ]
  },
  {
   "cell_type": "code",
   "execution_count": 8,
   "metadata": {},
   "outputs": [],
   "source": [
    "from scipy.stats import chisquare\n",
    "import seaborn as sns\n",
    "class TestSeq:\n",
    "    \n",
    "    def __init__(self,target,test,resample=10000):\n",
    "        self.resample=resample\n",
    "        self.target=target\n",
    "        self.test=test\n",
    "        self.ps, self.seqs=self.createTest(target,test,resample)\n",
    "        \n",
    "    @classmethod\n",
    "    def createTest(cls,target,test,resample=10000):\n",
    "        ps = []\n",
    "        seqs=[]\n",
    "        for i in range(0,resample):\n",
    "            seq = test.sample(len(target))\n",
    "            ## dof = (4-1)*(8+8) = 48, number of freqs = 64\n",
    "            ## dof = k - 1 - ddof\n",
    "            ## ddof = 64 - 1 - 48 = 15\n",
    "            _, p = chisquare(seq.flat*len(target),f_exp=target.flat*len(target),ddof=14)\n",
    "            ps.append(p)\n",
    "            seqs.append(seq)\n",
    "        both = sorted(zip(ps,seqs))\n",
    "        ps,seqs = [y for y,x in both],[x for y,x in both]\n",
    "        return ps, seqs\n",
    "\n",
    "    def dist(self):\n",
    "        return sns.distplot(self.ps)\n",
    "    def logdist(self):\n",
    "        return sns.distplot(np.log2(self.ps))"
   ]
  },
  {
   "cell_type": "code",
   "execution_count": 9,
   "metadata": {},
   "outputs": [],
   "source": [
    "def pfm2ppm_df(pfm):\n",
    "    pfm_pd=pd.DataFrame(pfm)\n",
    "    ppm_pd=seqlogo.pfm2ppm(pfm_pd)\n",
    "    return seqlogo.Ppm(ppm_pd).T"
   ]
  },
  {
   "cell_type": "code",
   "execution_count": null,
   "metadata": {},
   "outputs": [],
   "source": []
  },
  {
   "cell_type": "code",
   "execution_count": null,
   "metadata": {},
   "outputs": [],
   "source": []
  },
  {
   "cell_type": "code",
   "execution_count": 15,
   "metadata": {},
   "outputs": [
    {
     "name": "stdout",
     "output_type": "stream",
     "text": [
      "7990\n"
     ]
    },
    {
     "data": {
      "text/html": [
       "<div>\n",
       "<style scoped>\n",
       "    .dataframe tbody tr th:only-of-type {\n",
       "        vertical-align: middle;\n",
       "    }\n",
       "\n",
       "    .dataframe tbody tr th {\n",
       "        vertical-align: top;\n",
       "    }\n",
       "\n",
       "    .dataframe thead th {\n",
       "        text-align: right;\n",
       "    }\n",
       "</style>\n",
       "<table border=\"1\" class=\"dataframe\">\n",
       "  <thead>\n",
       "    <tr style=\"text-align: right;\">\n",
       "      <th></th>\n",
       "      <th>Unnamed: 0</th>\n",
       "      <th>baseMean</th>\n",
       "      <th>log2FoldChange</th>\n",
       "      <th>lfcSE</th>\n",
       "      <th>stat</th>\n",
       "      <th>pvalue</th>\n",
       "      <th>padj</th>\n",
       "    </tr>\n",
       "  </thead>\n",
       "  <tbody>\n",
       "    <tr>\n",
       "      <th>4630</th>\n",
       "      <td>NM_001323903</td>\n",
       "      <td>469.064409</td>\n",
       "      <td>-0.856224</td>\n",
       "      <td>0.115062</td>\n",
       "      <td>-7.441441</td>\n",
       "      <td>9.959267e-14</td>\n",
       "      <td>7.957454e-10</td>\n",
       "    </tr>\n",
       "    <tr>\n",
       "      <th>3442</th>\n",
       "      <td>NM_002520</td>\n",
       "      <td>354.824004</td>\n",
       "      <td>-0.839931</td>\n",
       "      <td>0.212296</td>\n",
       "      <td>-3.956422</td>\n",
       "      <td>7.608086e-05</td>\n",
       "      <td>3.775690e-03</td>\n",
       "    </tr>\n",
       "  </tbody>\n",
       "</table>\n",
       "</div>"
      ],
      "text/plain": [
       "        Unnamed: 0    baseMean  log2FoldChange     lfcSE      stat  \\\n",
       "4630  NM_001323903  469.064409       -0.856224  0.115062 -7.441441   \n",
       "3442     NM_002520  354.824004       -0.839931  0.212296 -3.956422   \n",
       "\n",
       "            pvalue          padj  \n",
       "4630  9.959267e-14  7.957454e-10  \n",
       "3442  7.608086e-05  3.775690e-03  "
      ]
     },
     "execution_count": 15,
     "metadata": {},
     "output_type": "execute_result"
    }
   ],
   "source": [
    "\n",
    "batch = 'ER_L24_t1'\n",
    "deseq = pd.read_csv('../../Deseq2 Analysis/shift15/coding/csv_raw/'+batch+'.csv')\n",
    "deseq = deseq.sort_values(by=['log2FoldChange'])\n",
    "print(len(deseq))\n",
    "deseq.head(2)"
   ]
  },
  {
   "cell_type": "code",
   "execution_count": 16,
   "metadata": {},
   "outputs": [
    {
     "name": "stdout",
     "output_type": "stream",
     "text": [
      "40 0\n"
     ]
    }
   ],
   "source": [
    "background = deseq['Unnamed: 0']\n",
    "deseq_filtered = deseq.loc[deseq['padj']<0.05]\n",
    "up_num = sum(deseq_filtered['log2FoldChange'] > 1)\n",
    "target = deseq_filtered.tail(up_num)['Unnamed: 0']   # i.e. Interest group, upper right on volcano plot\n",
    "down_num=sum(deseq_filtered['log2FoldChange']<-1)\n",
    "print(up_num,down_num)\n"
   ]
  },
  {
   "cell_type": "code",
   "execution_count": 18,
   "metadata": {},
   "outputs": [],
   "source": [
    "#!mkdir deseq_test/pwms/$batch\n",
    "target_seq = Sequences(Sequences.genes2seq(target))\n",
    "bg_seq = Sequences(Sequences.genes2seq(background))\n",
    "down_num=sum(deseq_filtered['log2FoldChange']<-1)\n",
    "dep_seq=Sequences(Sequences.genes2seq(deseq_filtered.head(up_num)['Unnamed: 0']))\n",
    "\n",
    "ppm_out = pfm2ppm_df(target_seq.pfm)\n",
    "#ppm_out.to_csv(\"deseq_test/pwms/\"+batch+\"/\"+batch+\"_enriched\"+\".csv\")\n",
    "ppm_out = pfm2ppm_df(dep_seq.pfm)\n",
    "#ppm_out.to_csv(\"deseq_test/pwms/\"+batch+\"/\"+batch+\"_depleted\"+\".csv\")\n",
    "ppm_out = pfm2ppm_df(bg_seq.pfm)\n",
    "#ppm_out.to_csv(\"deseq_test/pwms/\"+batch+\"/\"+\"bg\"+\".csv\")"
   ]
  },
  {
   "cell_type": "code",
   "execution_count": null,
   "metadata": {},
   "outputs": [],
   "source": []
  },
  {
   "cell_type": "code",
   "execution_count": 19,
   "metadata": {},
   "outputs": [],
   "source": [
    "np.random.seed(42)\n",
    "test = TestSeq(target_seq,bg_seq,10000)"
   ]
  },
  {
   "cell_type": "code",
   "execution_count": null,
   "metadata": {},
   "outputs": [],
   "source": []
  },
  {
   "cell_type": "code",
   "execution_count": 40,
   "metadata": {},
   "outputs": [
    {
     "name": "stdout",
     "output_type": "stream",
     "text": [
      "mkdir: deseq_wo_replace: File exists\n",
      "mkdir: deseq_wo_replace/ER_S15_t1: File exists\n"
     ]
    }
   ],
   "source": [
    "!mkdir deseq_wo_replace\n",
    "!mkdir deseq_wo_replace/$batch\n",
    "t0 = TestSeq(target_seq,target_seq,10000)\n"
   ]
  },
  {
   "cell_type": "code",
   "execution_count": 41,
   "metadata": {},
   "outputs": [
    {
     "name": "stderr",
     "output_type": "stream",
     "text": [
      "/Users/Yue/opt/anaconda3/lib/python3.7/site-packages/seaborn/distributions.py:288: UserWarning: Data must have variance to compute a kernel density estimate.\n",
      "  warnings.warn(msg, UserWarning)\n"
     ]
    },
    {
     "data": {
      "image/png": "[encoded data removed]",
      "text/plain": [
       "<Figure size 432x288 with 1 Axes>"
      ]
     },
     "metadata": {
      "needs_background": "light"
     },
     "output_type": "display_data"
    }
   ],
   "source": [
    "ax=t0.dist()\n",
    "ax.get_figure().savefig(\"deseq_wo_replace/\"+batch+\"/\"+batch+\"_self_hist.png\")"
   ]
  },
  {
   "cell_type": "code",
   "execution_count": 42,
   "metadata": {},
   "outputs": [
    {
     "name": "stderr",
     "output_type": "stream",
     "text": [
      "/Users/Yue/opt/anaconda3/lib/python3.7/site-packages/seaborn/distributions.py:288: UserWarning: Data must have variance to compute a kernel density estimate.\n",
      "  warnings.warn(msg, UserWarning)\n"
     ]
    },
    {
     "data": {
      "image/png": "[encoded data removed]",
      "text/plain": [
       "<Figure size 432x288 with 1 Axes>"
      ]
     },
     "metadata": {
      "needs_background": "light"
     },
     "output_type": "display_data"
    }
   ],
   "source": [
    "ax=t0.logdist()\n",
    "ax.get_figure().savefig(\"deseq_wo_replace/\"+batch+\"/\"+batch+\"_self_hist_log.png\")"
   ]
  },
  {
   "cell_type": "code",
   "execution_count": 20,
   "metadata": {},
   "outputs": [
    {
     "name": "stdout",
     "output_type": "stream",
     "text": [
      "<class 'matplotlib.axes._subplots.AxesSubplot'>\n"
     ]
    },
    {
     "data": {
      "image/png": "[encoded data removed]",
      "text/plain": [
       "<Figure size 432x288 with 1 Axes>"
      ]
     },
     "metadata": {
      "needs_background": "light"
     },
     "output_type": "display_data"
    }
   ],
   "source": [
    "ax=test.logdist()\n",
    "print(type(ax))\n",
    "#ax.get_figure().savefig(\"deseq_wo_replace/\"+batch+\"/\"+batch+\"_test_hist.png\")"
   ]
  },
  {
   "cell_type": "code",
   "execution_count": 64,
   "metadata": {},
   "outputs": [
    {
     "name": "stdout",
     "output_type": "stream",
     "text": [
      "-47.61413889807437 -37.13931387613066 16.898140954499453\n"
     ]
    }
   ],
   "source": [
    "from scipy import stats\n",
    "x = ax.lines[0].get_xdata() # Get the x data of the distribution\n",
    "y = ax.lines[0].get_ydata() # Get the y data of the distribution\n",
    "maxid = np.argmax(y) # The id of the peak (maximum of y data)\n",
    "mode = x[maxid]\n",
    "logp = np.log(test.ps)\n",
    "median = np.median(logp)\n",
    "std=np.std(logp)\n",
    "print(mode,median,std)"
   ]
  },
  {
   "cell_type": "code",
   "execution_count": 65,
   "metadata": {},
   "outputs": [
    {
     "name": "stdout",
     "output_type": "stream",
     "text": [
      "809 2763 6669\n"
     ]
    }
   ],
   "source": [
    "left = np.searchsorted(logp,mode-std)\n",
    "mid = np.searchsorted(logp,mode)\n",
    "right = np.searchsorted(logp,mode+std)\n",
    "print(left,mid,right)"
   ]
  },
  {
   "cell_type": "code",
   "execution_count": 66,
   "metadata": {},
   "outputs": [
    {
     "name": "stdout",
     "output_type": "stream",
     "text": [
      "/Users/Yue/Documents/HGLab_new/RBC/MOTIF/SeqLogo\r\n"
     ]
    }
   ],
   "source": [
    "!pwd\n",
    "def disp_save_img(idx,pos):\n",
    "    num = 50\n",
    "    for i in range(num):\n",
    "        seq = test.seqs[i-num//2+idx]\n",
    "        if i == 0:\n",
    "            com_seq = seq\n",
    "        else:\n",
    "            com_seq.addseqs(seq.seqs)\n",
    "#        img=seq.plotlogo()\n",
    "        #display(img)\n",
    "#        with open(\"deseq_wo_replace/\"+batch+\"/\"+pos+str(i)+\".png\", \"wb\") as png:\n",
    "#            png.write(img.data)\n",
    "    img=com_seq.plotlogo()\n",
    "    #display(img)\n",
    "#    with open(\"deseq_wo_replace/\"+batch+\"/\"+pos+'_comb'+str(num)+\".png\", \"wb\") as png:\n",
    "#        png.write(img.data)\n",
    "    ppm_out = pfm2ppm_df(com_seq.pfm)\n",
    "    ppm_out.to_csv(\"deseq_test/pwms/\"+batch+\"/\"+batch+'_'+pos+'_comb'+str(num)+\".csv\")\n",
    "\n",
    "disp_save_img(mid,'median')\n",
    "disp_save_img(left,'leftstd')\n",
    "disp_save_img(right,'rightstd')"
   ]
  },
  {
   "cell_type": "code",
   "execution_count": 333,
   "metadata": {},
   "outputs": [],
   "source": [
    "img=target_seq.plotlogo()\n",
    "with open(\"deseq_wo_replace/\"+batch+\"/enriched\"+\".png\", \"wb\") as png:\n",
    "    png.write(img.data)\n",
    "img=bg_seq.plotlogo()\n",
    "with open(\"deseq_wo_replace/\"+batch+\"/background\"+\".png\", \"wb\") as png:\n",
    "    png.write(img.data)\n",
    "img=dep_seq.plotlogo()\n",
    "with open(\"deseq_wo_replace/\"+batch+\"/depleted\"+\".png\", \"wb\") as png:\n",
    "    png.write(img.data)"
   ]
  },
  {
   "cell_type": "code",
   "execution_count": null,
   "metadata": {},
   "outputs": [],
   "source": []
  },
  {
   "cell_type": "code",
   "execution_count": null,
   "metadata": {},
   "outputs": [],
   "source": []
  },
  {
   "cell_type": "code",
   "execution_count": 11,
   "metadata": {},
   "outputs": [
    {
     "data": {
      "text/html": [
       "<div>\n",
       "<style scoped>\n",
       "    .dataframe tbody tr th:only-of-type {\n",
       "        vertical-align: middle;\n",
       "    }\n",
       "\n",
       "    .dataframe tbody tr th {\n",
       "        vertical-align: top;\n",
       "    }\n",
       "\n",
       "    .dataframe thead th {\n",
       "        text-align: right;\n",
       "    }\n",
       "</style>\n",
       "<table border=\"1\" class=\"dataframe\">\n",
       "  <thead>\n",
       "    <tr style=\"text-align: right;\">\n",
       "      <th></th>\n",
       "      <th>GeneName</th>\n",
       "      <th>AccNum</th>\n",
       "      <th>Chrom</th>\n",
       "      <th>mRNALength</th>\n",
       "      <th>ORFLength</th>\n",
       "      <th>fpUTR_length</th>\n",
       "      <th>tpUTR_length</th>\n",
       "      <th>sumIntronLengths</th>\n",
       "    </tr>\n",
       "  </thead>\n",
       "  <tbody>\n",
       "    <tr>\n",
       "      <th>0</th>\n",
       "      <td>UBE2Q1</td>\n",
       "      <td>NM_017582</td>\n",
       "      <td>chr1</td>\n",
       "      <td>3223</td>\n",
       "      <td>1269</td>\n",
       "      <td>91</td>\n",
       "      <td>1863</td>\n",
       "      <td>6847</td>\n",
       "    </tr>\n",
       "    <tr>\n",
       "      <th>1</th>\n",
       "      <td>DUOXA1</td>\n",
       "      <td>NM_001276267</td>\n",
       "      <td>chr15</td>\n",
       "      <td>3032</td>\n",
       "      <td>897</td>\n",
       "      <td>395</td>\n",
       "      <td>1740</td>\n",
       "      <td>9479</td>\n",
       "    </tr>\n",
       "  </tbody>\n",
       "</table>\n",
       "</div>"
      ],
      "text/plain": [
       "  GeneName        AccNum  Chrom  mRNALength  ORFLength  fpUTR_length  \\\n",
       "0   UBE2Q1     NM_017582   chr1        3223       1269            91   \n",
       "1   DUOXA1  NM_001276267  chr15        3032        897           395   \n",
       "\n",
       "   tpUTR_length  sumIntronLengths  \n",
       "0          1863              6847  \n",
       "1          1740              9479  "
      ]
     },
     "execution_count": 11,
     "metadata": {},
     "output_type": "execute_result"
    }
   ],
   "source": [
    "filteredGeneList = pd.read_csv('../../Database/filteredGenesDetails_human_240118.txt',sep='\\t')\n",
    "acc2gene={}\n",
    "gene2acc={}\n",
    "for idx,row in filteredGeneList.iterrows():\n",
    "    acc2gene[row['AccNum']] = row['GeneName']\n",
    "    gene2acc[row['GeneName']] = row['AccNum']\n",
    "filteredGeneList.head(2)"
   ]
  },
  {
   "cell_type": "code",
   "execution_count": 12,
   "metadata": {},
   "outputs": [],
   "source": [
    "target_seq = Sequences(Sequences.genes2seq(target))\n",
    "bg_seq = Sequences(Sequences.genes2seq(background))"
   ]
  },
  {
   "cell_type": "code",
   "execution_count": null,
   "metadata": {},
   "outputs": [],
   "source": []
  },
  {
   "cell_type": "code",
   "execution_count": 13,
   "metadata": {},
   "outputs": [],
   "source": [
    "probs = []\n",
    "genes = []\n",
    "prob_genes = []\n",
    "for gene in target:\n",
    "    seq = Sequences.genes2seq([gene])\n",
    "    if len(seq)!=1: continue\n",
    "    prob=target_seq.seqLikelihood(seq[0])\n",
    "    prob_genes.append((prob,acc2gene[gene],gene))"
   ]
  },
  {
   "cell_type": "code",
   "execution_count": 31,
   "metadata": {},
   "outputs": [
    {
     "data": {
      "text/plain": [
       "[(-15.691570664157982, 'ALKBH4', 'NM_017621'),\n",
       " (-15.933307524572562, 'FRAT2', 'NM_012083'),\n",
       " (-16.138101937218575, 'MZT2B', 'NM_001330282'),\n",
       " (-16.66014887963749, 'TSPO', 'NM_001256530'),\n",
       " (-16.898874447357187, 'MMP14', 'NM_004995')]"
      ]
     },
     "execution_count": 31,
     "metadata": {},
     "output_type": "execute_result"
    }
   ],
   "source": [
    "prob_genes.sort(reverse=True)\n",
    "prob_genes[:5]"
   ]
  },
  {
   "cell_type": "code",
   "execution_count": 32,
   "metadata": {},
   "outputs": [
    {
     "data": {
      "text/plain": [
       "['ACGGCGCGATGGCGGCGGC',\n",
       " 'GGGGGGCCATGCCGTGCCG',\n",
       " 'CCGCGGGGATGGCGGCGCA',\n",
       " 'CAGCAGCCATGGCCCCGCC',\n",
       " 'CTCGGACCATGTCTCCCGC']"
      ]
     },
     "execution_count": 32,
     "metadata": {},
     "output_type": "execute_result"
    }
   ],
   "source": [
    "Sequences.genes2seq(['NM_017621','NM_012083','NM_001330282','NM_001256530','NM_004995'])"
   ]
  },
  {
   "cell_type": "code",
   "execution_count": 14,
   "metadata": {},
   "outputs": [],
   "source": [
    "prob_genes_bg = []\n",
    "for gene in background:\n",
    "    seq = Sequences.genes2seq([gene])\n",
    "    if len(seq)!=1: continue\n",
    "    prob=target_seq.seqLikelihood(seq[0])\n",
    "    prob_genes_bg.append((prob,acc2gene[gene],gene))"
   ]
  },
  {
   "cell_type": "code",
   "execution_count": 17,
   "metadata": {
    "scrolled": true
   },
   "outputs": [
    {
     "data": {
      "text/plain": [
       "[(-34.93667633262415, 'DMXL1', 'NM_001290322'),\n",
       " (-33.97571915376443, 'SCRN3', 'NM_024583'),\n",
       " (-33.84603221360522, 'FASTKD1', 'NM_001322046'),\n",
       " (-33.84603221360522, 'RPRD1A', 'NM_001303411'),\n",
       " (-33.68368476657378, 'SDCBP', 'NM_001348341')]"
      ]
     },
     "execution_count": 17,
     "metadata": {},
     "output_type": "execute_result"
    }
   ],
   "source": [
    "prob_genes_bg.sort(reverse=False)\n",
    "prob_genes_bg[:5]"
   ]
  },
  {
   "cell_type": "code",
   "execution_count": 35,
   "metadata": {},
   "outputs": [
    {
     "data": {
      "text/plain": [
       "['TTCATTTAATGAAATTTTC',\n",
       " 'TAAAAAAAATGGAACCTTT',\n",
       " 'TGATATAAATGAAAAAAAC',\n",
       " 'TGCAACAAATGAGAAATTC',\n",
       " 'AAAATTAAATGATAAAGCT']"
      ]
     },
     "execution_count": 35,
     "metadata": {},
     "output_type": "execute_result"
    }
   ],
   "source": [
    "Sequences.genes2seq(['NM_001290322','NM_024583','NM_001322046','NM_001303411','NM_001348341'])"
   ]
  },
  {
   "cell_type": "code",
   "execution_count": 36,
   "metadata": {},
   "outputs": [
    {
     "data": {
      "text/plain": [
       "[(-14.691182954282251, 'AFG3L2', 'NM_006796'),\n",
       " (-14.66846592799802, 'LAMP1', 'NM_005561'),\n",
       " (-14.663012077315555, 'AGFG1', 'NM_001135187'),\n",
       " (-14.550682892341635, 'PPP1R14B', 'NM_138689'),\n",
       " (-14.542486125137456, 'MYO1D', 'NM_015194')]"
      ]
     },
     "execution_count": 36,
     "metadata": {},
     "output_type": "execute_result"
    }
   ],
   "source": [
    "prob_genes_bg[-5:]"
   ]
  },
  {
   "cell_type": "code",
   "execution_count": 37,
   "metadata": {},
   "outputs": [
    {
     "data": {
      "text/plain": [
       "['CGGCGGCCATGGCGCACCG',\n",
       " 'CTCGCGCCATGGCGGCCCC',\n",
       " 'CCGCGGCCATGGCGGCCAG',\n",
       " 'CGGCCGCCATGGCGGACAG',\n",
       " 'CTGGCGCCATGGCGGAGCA']"
      ]
     },
     "execution_count": 37,
     "metadata": {},
     "output_type": "execute_result"
    }
   ],
   "source": [
    "Sequences.genes2seq(['NM_006796','NM_005561','NM_001135187','NM_138689','NM_015194'])"
   ]
  },
  {
   "cell_type": "code",
   "execution_count": 87,
   "metadata": {},
   "outputs": [
    {
     "name": "stdout",
     "output_type": "stream",
     "text": [
      "# of valid seqs:  1\n"
     ]
    },
    {
     "data": {
      "text/plain": [
       "['ACGGCGCGATGGCGGCGGC']"
      ]
     },
     "execution_count": 87,
     "metadata": {},
     "output_type": "execute_result"
    }
   ],
   "source": [
    "Sequences.genes2seq(['NM_017621'])"
   ]
  },
  {
   "cell_type": "code",
   "execution_count": 88,
   "metadata": {},
   "outputs": [
    {
     "name": "stdout",
     "output_type": "stream",
     "text": [
      "# of valid seqs:  1\n"
     ]
    },
    {
     "data": {
      "text/plain": [
       "['TTCATTTAATGAAATTTTC']"
      ]
     },
     "execution_count": 88,
     "metadata": {},
     "output_type": "execute_result"
    }
   ],
   "source": [
    "Sequences.genes2seq(['NM_001290322'])"
   ]
  },
  {
   "cell_type": "code",
   "execution_count": null,
   "metadata": {},
   "outputs": [],
   "source": []
  },
  {
   "cell_type": "code",
   "execution_count": null,
   "metadata": {},
   "outputs": [],
   "source": []
  },
  {
   "cell_type": "code",
   "execution_count": null,
   "metadata": {},
   "outputs": [],
   "source": []
  },
  {
   "cell_type": "code",
   "execution_count": null,
   "metadata": {},
   "outputs": [],
   "source": []
  },
  {
   "cell_type": "code",
   "execution_count": 10,
   "metadata": {},
   "outputs": [
    {
     "name": "stdout",
     "output_type": "stream",
     "text": [
      "7990\n"
     ]
    },
    {
     "data": {
      "text/html": [
       "<div>\n",
       "<style scoped>\n",
       "    .dataframe tbody tr th:only-of-type {\n",
       "        vertical-align: middle;\n",
       "    }\n",
       "\n",
       "    .dataframe tbody tr th {\n",
       "        vertical-align: top;\n",
       "    }\n",
       "\n",
       "    .dataframe thead th {\n",
       "        text-align: right;\n",
       "    }\n",
       "</style>\n",
       "<table border=\"1\" class=\"dataframe\">\n",
       "  <thead>\n",
       "    <tr style=\"text-align: right;\">\n",
       "      <th></th>\n",
       "      <th>Unnamed: 0</th>\n",
       "      <th>baseMean</th>\n",
       "      <th>log2FoldChange</th>\n",
       "      <th>lfcSE</th>\n",
       "      <th>stat</th>\n",
       "      <th>pvalue</th>\n",
       "      <th>padj</th>\n",
       "    </tr>\n",
       "  </thead>\n",
       "  <tbody>\n",
       "    <tr>\n",
       "      <th>7154</th>\n",
       "      <td>NM_001195144</td>\n",
       "      <td>274.30340</td>\n",
       "      <td>-1.464396</td>\n",
       "      <td>0.417503</td>\n",
       "      <td>-3.507511</td>\n",
       "      <td>0.000452</td>\n",
       "      <td>0.040863</td>\n",
       "    </tr>\n",
       "    <tr>\n",
       "      <th>5547</th>\n",
       "      <td>NM_001324355</td>\n",
       "      <td>50.93417</td>\n",
       "      <td>-1.411277</td>\n",
       "      <td>0.467037</td>\n",
       "      <td>-3.021764</td>\n",
       "      <td>0.002513</td>\n",
       "      <td>0.127085</td>\n",
       "    </tr>\n",
       "  </tbody>\n",
       "</table>\n",
       "</div>"
      ],
      "text/plain": [
       "        Unnamed: 0   baseMean  log2FoldChange     lfcSE      stat    pvalue  \\\n",
       "7154  NM_001195144  274.30340       -1.464396  0.417503 -3.507511  0.000452   \n",
       "5547  NM_001324355   50.93417       -1.411277  0.467037 -3.021764  0.002513   \n",
       "\n",
       "          padj  \n",
       "7154  0.040863  \n",
       "5547  0.127085  "
      ]
     },
     "execution_count": 10,
     "metadata": {},
     "output_type": "execute_result"
    }
   ],
   "source": [
    "batch = 'ER_S15_t2'\n",
    "\n",
    "deseq = pd.read_csv('../../Deseq2 Analysis/shift15/coding/csv_raw/'+batch+'.csv')\n",
    "deseq = deseq.sort_values(by=['log2FoldChange'])\n",
    "print(len(deseq))\n",
    "deseq.head(2)"
   ]
  },
  {
   "cell_type": "code",
   "execution_count": 11,
   "metadata": {},
   "outputs": [
    {
     "name": "stdout",
     "output_type": "stream",
     "text": [
      "33 1\n"
     ]
    }
   ],
   "source": [
    "background = deseq['Unnamed: 0']\n",
    "deseq_filtered = deseq.loc[deseq['padj']<0.05]\n",
    "up_num = sum(deseq_filtered['log2FoldChange'] > 1)\n",
    "target = deseq_filtered.tail(up_num)['Unnamed: 0']   # i.e. Interest group, upper right on volcano plot\n",
    "down_num=sum(deseq_filtered['log2FoldChange']<-1)\n",
    "print(up_num,down_num)\n",
    "target_seq = Sequences(Sequences.genes2seq(target))\n",
    "bg_seq = Sequences(Sequences.genes2seq(background))"
   ]
  },
  {
   "cell_type": "code",
   "execution_count": 12,
   "metadata": {},
   "outputs": [],
   "source": [
    "prob_genes_bg = []\n",
    "for gene in background:\n",
    "    seq = Sequences.genes2seq([gene])\n",
    "    if len(seq)!=1: continue\n",
    "    prob=target_seq.seqLikelihood(seq[0])\n",
    "    prob_genes_bg.append((prob,acc2gene[gene],gene))\n",
    "prob_genes_bg.sort(reverse=True)"
   ]
  },
  {
   "cell_type": "code",
   "execution_count": 13,
   "metadata": {},
   "outputs": [
    {
     "data": {
      "text/html": [
       "<div>\n",
       "<style scoped>\n",
       "    .dataframe tbody tr th:only-of-type {\n",
       "        vertical-align: middle;\n",
       "    }\n",
       "\n",
       "    .dataframe tbody tr th {\n",
       "        vertical-align: top;\n",
       "    }\n",
       "\n",
       "    .dataframe thead th {\n",
       "        text-align: right;\n",
       "    }\n",
       "</style>\n",
       "<table border=\"1\" class=\"dataframe\">\n",
       "  <thead>\n",
       "    <tr style=\"text-align: right;\">\n",
       "      <th></th>\n",
       "      <th>logLikelihood</th>\n",
       "      <th>Gene</th>\n",
       "      <th>AccNum</th>\n",
       "    </tr>\n",
       "  </thead>\n",
       "  <tbody>\n",
       "    <tr>\n",
       "      <th>0</th>\n",
       "      <td>-13.241358</td>\n",
       "      <td>COG3</td>\n",
       "      <td>NM_031431</td>\n",
       "    </tr>\n",
       "    <tr>\n",
       "      <th>1</th>\n",
       "      <td>-13.566780</td>\n",
       "      <td>RNF126</td>\n",
       "      <td>NM_194460</td>\n",
       "    </tr>\n",
       "    <tr>\n",
       "      <th>2</th>\n",
       "      <td>-13.634400</td>\n",
       "      <td>NMT2</td>\n",
       "      <td>NM_004808</td>\n",
       "    </tr>\n",
       "    <tr>\n",
       "      <th>3</th>\n",
       "      <td>-13.810126</td>\n",
       "      <td>ZNF839</td>\n",
       "      <td>NM_018335</td>\n",
       "    </tr>\n",
       "    <tr>\n",
       "      <th>4</th>\n",
       "      <td>-13.876347</td>\n",
       "      <td>FAM105A</td>\n",
       "      <td>NM_019018</td>\n",
       "    </tr>\n",
       "  </tbody>\n",
       "</table>\n",
       "</div>"
      ],
      "text/plain": [
       "   logLikelihood     Gene     AccNum\n",
       "0     -13.241358     COG3  NM_031431\n",
       "1     -13.566780   RNF126  NM_194460\n",
       "2     -13.634400     NMT2  NM_004808\n",
       "3     -13.810126   ZNF839  NM_018335\n",
       "4     -13.876347  FAM105A  NM_019018"
      ]
     },
     "execution_count": 13,
     "metadata": {},
     "output_type": "execute_result"
    }
   ],
   "source": [
    "df = pd.DataFrame(prob_genes_bg, columns=['logLikelihood', 'Gene', 'AccNum'])\n",
    "df.head()"
   ]
  },
  {
   "cell_type": "code",
   "execution_count": 14,
   "metadata": {},
   "outputs": [],
   "source": [
    "df.to_csv('gene_likelihood/'+batch+'_gene_likelihood.csv')"
   ]
  },
  {
   "cell_type": "code",
   "execution_count": null,
   "metadata": {},
   "outputs": [],
   "source": []
  },
  {
   "cell_type": "code",
   "execution_count": null,
   "metadata": {},
   "outputs": [],
   "source": []
  },
  {
   "cell_type": "code",
   "execution_count": null,
   "metadata": {},
   "outputs": [],
   "source": []
  },
  {
   "cell_type": "code",
   "execution_count": null,
   "metadata": {},
   "outputs": [],
   "source": []
  },
  {
   "cell_type": "code",
   "execution_count": null,
   "metadata": {},
   "outputs": [],
   "source": []
  },
  {
   "cell_type": "code",
   "execution_count": null,
   "metadata": {},
   "outputs": [],
   "source": []
  },
  {
   "cell_type": "code",
   "execution_count": null,
   "metadata": {},
   "outputs": [],
   "source": []
  },
  {
   "cell_type": "code",
   "execution_count": null,
   "metadata": {},
   "outputs": [],
   "source": []
  },
  {
   "cell_type": "code",
   "execution_count": null,
   "metadata": {},
   "outputs": [],
   "source": []
  },
  {
   "cell_type": "code",
   "execution_count": null,
   "metadata": {},
   "outputs": [],
   "source": []
  },
  {
   "cell_type": "code",
   "execution_count": null,
   "metadata": {},
   "outputs": [],
   "source": []
  },
  {
   "cell_type": "code",
   "execution_count": null,
   "metadata": {},
   "outputs": [],
   "source": []
  },
  {
   "cell_type": "code",
   "execution_count": null,
   "metadata": {},
   "outputs": [],
   "source": []
  },
  {
   "cell_type": "code",
   "execution_count": null,
   "metadata": {},
   "outputs": [],
   "source": []
  },
  {
   "cell_type": "code",
   "execution_count": null,
   "metadata": {},
   "outputs": [],
   "source": []
  },
  {
   "cell_type": "code",
   "execution_count": null,
   "metadata": {},
   "outputs": [],
   "source": []
  },
  {
   "cell_type": "code",
   "execution_count": null,
   "metadata": {},
   "outputs": [],
   "source": []
  },
  {
   "cell_type": "code",
   "execution_count": null,
   "metadata": {},
   "outputs": [],
   "source": []
  },
  {
   "cell_type": "code",
   "execution_count": null,
   "metadata": {},
   "outputs": [],
   "source": []
  },
  {
   "cell_type": "code",
   "execution_count": null,
   "metadata": {},
   "outputs": [],
   "source": []
  },
  {
   "cell_type": "code",
   "execution_count": null,
   "metadata": {},
   "outputs": [],
   "source": []
  },
  {
   "cell_type": "code",
   "execution_count": null,
   "metadata": {},
   "outputs": [],
   "source": []
  },
  {
   "cell_type": "code",
   "execution_count": null,
   "metadata": {},
   "outputs": [],
   "source": []
  },
  {
   "cell_type": "code",
   "execution_count": null,
   "metadata": {},
   "outputs": [],
   "source": []
  },
  {
   "cell_type": "code",
   "execution_count": null,
   "metadata": {},
   "outputs": [],
   "source": []
  },
  {
   "cell_type": "code",
   "execution_count": 27,
   "metadata": {},
   "outputs": [
    {
     "name": "stdout",
     "output_type": "stream",
     "text": [
      "33 1\n"
     ]
    },
    {
     "data": {
      "image/png": "[encoded data removed]",
      "text/plain": [
       "<Figure size 432x288 with 1 Axes>"
      ]
     },
     "metadata": {
      "needs_background": "light"
     },
     "output_type": "display_data"
    }
   ],
   "source": [
    "batch = 'ER_S15_t2'\n",
    "deseq = pd.read_csv('../../Deseq2 Analysis/shift15/coding/csv_raw/'+batch+'.csv')\n",
    "deseq = deseq.sort_values(by=['log2FoldChange'])\n",
    "background = deseq['Unnamed: 0']\n",
    "deseq_filtered = deseq.loc[deseq['padj']<0.05]\n",
    "up_num = sum(deseq_filtered['log2FoldChange'] > 1)\n",
    "target = deseq_filtered.tail(up_num)['Unnamed: 0']   # i.e. Interest group, upper right on volcano plot\n",
    "down_num=sum(deseq_filtered['log2FoldChange']<-1)\n",
    "print(up_num,down_num)\n",
    "target_seq = Sequences(Sequences.genes2seq(target))\n",
    "bg_seq = Sequences(Sequences.genes2seq(background))\n",
    "down_num=sum(deseq_filtered['log2FoldChange']<-1)\n",
    "dep_seq=Sequences(Sequences.genes2seq(deseq_filtered.head(up_num)['Unnamed: 0']))\n",
    "np.random.seed(42)\n",
    "test = TestSeq(target_seq,bg_seq,100000)\n",
    "ax=test.logdist()\n",
    "with open('deseq_wo_replace/ps/'+batch+\"_enrich_vs_bg_test_ps.txt\", 'w') as f:\n",
    "    for item in test.ps:\n",
    "        f.write(\"%s\\n\" % item)"
   ]
  },
  {
   "cell_type": "code",
   "execution_count": 24,
   "metadata": {},
   "outputs": [],
   "source": [
    "with open('deseq_wo_replace/ps/'+batch+\"_enrich_vs_bg_test_ps.txt\", 'w') as f:\n",
    "    for item in test.ps:\n",
    "        f.write(\"%s\\n\" % item)"
   ]
  },
  {
   "cell_type": "code",
   "execution_count": null,
   "metadata": {},
   "outputs": [],
   "source": []
  }
 ],
 "metadata": {
  "kernelspec": {
   "display_name": "Python 3",
   "language": "python",
   "name": "python3"
  },
  "language_info": {
   "codemirror_mode": {
    "name": "ipython",
    "version": 3
   },
   "file_extension": ".py",
   "mimetype": "text/x-python",
   "name": "python",
   "nbconvert_exporter": "python",
   "pygments_lexer": "ipython3",
   "version": "3.7.6"
  }
 },
 "nbformat": 4,
 "nbformat_minor": 4
}
