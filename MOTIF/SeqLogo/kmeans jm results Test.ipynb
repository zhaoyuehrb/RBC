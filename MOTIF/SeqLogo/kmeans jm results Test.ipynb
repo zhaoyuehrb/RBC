{
 "cells": [
  {
   "cell_type": "code",
   "execution_count": 1,
   "metadata": {},
   "outputs": [],
   "source": [
    "import pandas as pd\n",
    "import numpy as np\n",
    "import csv\n",
    "import os\n",
    "from os import path\n",
    "import weblogo\n",
    "import seqlogo\n",
    "%matplotlib inline"
   ]
  },
  {
   "cell_type": "code",
   "execution_count": 2,
   "metadata": {},
   "outputs": [],
   "source": [
    "filteredGeneList = pd.read_csv('../../Database/filteredGenesDetails_human_240118.txt',sep='\\t')\n",
    "acc2gene={}\n",
    "gene2acc={}\n",
    "for idx,row in filteredGeneList.iterrows():\n",
    "    acc2gene[row['AccNum']] = row['GeneName']\n",
    "    gene2acc[row['GeneName']]=row['AccNum']"
   ]
  },
  {
   "cell_type": "code",
   "execution_count": 3,
   "metadata": {},
   "outputs": [],
   "source": [
    "def get_fa(filename,onlyKeys = 'All'):\n",
    "    keyD = dict()\n",
    "    if onlyKeys!='All':\n",
    "        for k in onlyKeys: keyD[k] = None\n",
    "        \n",
    "    def addEntry(current,d):\n",
    "        entry = current.split('\\n')\n",
    "        if entry[0]!='' and (onlyKeys=='All' or keyD.has_key(entry[0])):\n",
    "            d[entry[0]] = ''.join(entry[1:])\n",
    "\n",
    "    d = dict()\n",
    "    bf = open(filename)\n",
    "    current = ['\\n']\n",
    "    for line in bf:\n",
    "        if line[0]=='>':\n",
    "            addEntry(''.join(current),d)\n",
    "            if len(line)>1: current = [line[1:]]\n",
    "            else: current = ['\\n']\n",
    "        else: current.append(line)\n",
    "    addEntry(''.join(current),d)\n",
    "    bf.close()\n",
    "    return d"
   ]
  },
  {
   "cell_type": "code",
   "execution_count": 4,
   "metadata": {},
   "outputs": [],
   "source": [
    "splicedGenes = get_fa('../../Database/splicedGenes_240118.txt')\n",
    "## truncate the keys to only accNum\n",
    "ks = list(splicedGenes.keys())\n",
    "for key in ks:\n",
    "    splicedGenes[key.split('_chr')[0]] = splicedGenes[key]\n",
    "    splicedGenes.pop(key)\n",
    "splicedORFs = get_fa('../../Database/splicedORFs_240118.txt')"
   ]
  },
  {
   "cell_type": "code",
   "execution_count": 5,
   "metadata": {},
   "outputs": [],
   "source": [
    "fpUTR={}\n",
    "tpUTR = {}\n",
    "ORFs = {}\n",
    "for idx,row in filteredGeneList.iterrows():\n",
    "    accNum = row['AccNum']\n",
    "    fpLen = row['fpUTR_length']\n",
    "    tpLen = row['tpUTR_length']\n",
    "    fpUTR[accNum] = splicedGenes[accNum][0:fpLen]\n",
    "    tpUTR[accNum] = splicedGenes[accNum][-tpLen:]\n",
    "    ORFs[accNum] = splicedORFs[accNum]"
   ]
  },
  {
   "cell_type": "code",
   "execution_count": 6,
   "metadata": {},
   "outputs": [],
   "source": [
    "class Sequences:\n",
    "    nt2coord = {'A':0,'C':1,'G':2,'T':3}\n",
    "    \n",
    "    def seqLikelihood(self,SEQ):\n",
    "        nt2coord = {'A':0,'C':1,'G':2,'T':3}\n",
    "        prob = 1\n",
    "        assert (len(SEQ)==19)\n",
    "        for i in range(8):\n",
    "            pos_prob = self.ppm[i,nt2coord[SEQ[i]]]\n",
    "            prob*= pos_prob\n",
    "        for i in range(11,19):\n",
    "            pos_prob = self.ppm[i,nt2coord[SEQ[i]]]\n",
    "            prob*= pos_prob\n",
    "        return np.log(prob)\n",
    "    \n",
    "    @staticmethod\n",
    "    def genes2seq(genes):\n",
    "        seqs = []\n",
    "        for gene in genes:\n",
    "            fp=fpUTR[gene]\n",
    "            if len(fp)<8:\n",
    "                #print('No fpUTR encountered: ',acc2gene[gene])\n",
    "                continue\n",
    "            seq = fp[-8:]+ORFs[gene][:11]\n",
    "            seqs.append(seq)\n",
    "        #print('# of valid seqs: ',len(seqs))\n",
    "        return seqs\n",
    "    \n",
    "    def __init__(self,seqs):\n",
    "        self.seqs=seqs\n",
    "        self.pfm, self.ppm = self.comp_count()\n",
    "        self.flat = self.ppm2flat()\n",
    "    \n",
    "    def addseqs(self,seqs):\n",
    "        self.seqs.extend(seqs)\n",
    "        self.pfm,self.ppm = self.comp_count()\n",
    "        self.flat = self.ppm2flat()\n",
    "    \n",
    "    def __len__(self):\n",
    "        return len(self.seqs)\n",
    "    \n",
    "    def comp_count(self,seqLen=19):\n",
    "        \n",
    "        raw_count = np.zeros((seqLen,4))\n",
    "        lines_tr=[''.join(s) for s in zip(*(self.seqs))]\n",
    "        #print('#lines = ',len(seqs))\n",
    "        for i in range(seqLen):\n",
    "            raw_count[i][0] = lines_tr[i].count('A')\n",
    "            raw_count[i][1] = lines_tr[i].count('C')\n",
    "            raw_count[i][2] = lines_tr[i].count('G')\n",
    "            raw_count[i][3] = lines_tr[i].count('T')\n",
    "        ppm = self.pfm2ppm(raw_count)\n",
    "        return raw_count, ppm\n",
    "    \n",
    "    ## Note: ppm here is the same as the so-called pwm in R,\n",
    "    ## True meaning of 'pwm' vary from literatures\n",
    "    def pfm2ppm(self,pfm):\n",
    "        sum_of_rows = pfm.sum(axis=1)\n",
    "        return pfm / sum_of_rows[:, np.newaxis]\n",
    "    \n",
    "    def plotlogo(self):\n",
    "        pfm_pd=pd.DataFrame(self.pfm)\n",
    "        ppm_pd=seqlogo.pfm2ppm(pfm_pd)\n",
    "        ppm = seqlogo.Ppm(ppm_pd)\n",
    "        plt=seqlogo.seqlogo(ppm, ic_scale = True, format = 'png', size = 'large')#,filename=datset+'.png')\n",
    "        #seqlogo.seqlogo(ppm, ic_scale = True, format = 'svg', size = 'medium')#,filename=datset+'.svg')\n",
    "        return plt\n",
    "    \n",
    "    def ppm2flat(self):\n",
    "        return self.ppm[list(range(0,8))+list(range(11,19)), 0:4].reshape(-1)\n",
    "    \n",
    "    \n",
    "    def bootstrap(self,num):    # with replacement\n",
    "        sample_seqs = np.random.choice(self.seqs, size=num)\n",
    "        return Sequences(sample_seqs.tolist())\n",
    "    \n",
    "    def sample(self,num): # without replacement\n",
    "        sample_seqs = np.random.choice(self.seqs, size=num,replace=False)\n",
    "        return Sequences(sample_seqs.tolist())\n",
    "\n",
    "    def __gt__(self, seq2):\n",
    "        return True"
   ]
  },
  {
   "cell_type": "code",
   "execution_count": 31,
   "metadata": {},
   "outputs": [],
   "source": [
    "from scipy.stats import chisquare\n",
    "import seaborn as sns\n",
    "class TestSeq:\n",
    "    \n",
    "    def __init__(self,target,test,resample=10000):\n",
    "        self.resample=resample\n",
    "        self.target=target\n",
    "        self.test=test\n",
    "        self.ps, self.seqs=self.createTest(target,test,resample)\n",
    "        \n",
    "    @classmethod\n",
    "    def createTest(cls,target,test,resample=10000):\n",
    "        ps = []\n",
    "        seqs=[]\n",
    "        for i in range(0,resample):\n",
    "            seq = test.bootstrap(len(target))\n",
    "            ## dof = (4-1)*(8+8) = 48, number of freqs = 64\n",
    "            ## dof = k - 1 - ddof\n",
    "            ## ddof = 64 - 1 - 48 = 15\n",
    "            _, p = chisquare(seq.flat*len(target),f_exp=target.flat*len(target),ddof=14)\n",
    "            ps.append(p)\n",
    "            seqs.append(seq)\n",
    "        both = sorted(zip(ps,seqs))\n",
    "        ps,seqs = [y for y,x in both],[x for y,x in both]\n",
    "        return ps, seqs\n",
    "\n",
    "    def dist(self):\n",
    "        return sns.distplot(self.ps)\n",
    "    def logdist(self):\n",
    "        return sns.distplot(np.log2(self.ps))"
   ]
  },
  {
   "cell_type": "code",
   "execution_count": 8,
   "metadata": {},
   "outputs": [],
   "source": [
    "def pfm2ppm_df(pfm):\n",
    "    pfm_pd=pd.DataFrame(pfm)\n",
    "    ppm_pd=seqlogo.pfm2ppm(pfm_pd)\n",
    "    return seqlogo.Ppm(ppm_pd).T"
   ]
  },
  {
   "cell_type": "code",
   "execution_count": 16,
   "metadata": {},
   "outputs": [],
   "source": [
    "batch2seq={}"
   ]
  },
  {
   "cell_type": "code",
   "execution_count": 24,
   "metadata": {},
   "outputs": [
    {
     "name": "stdout",
     "output_type": "stream",
     "text": [
      "7990\n"
     ]
    },
    {
     "data": {
      "text/html": [
       "<div>\n",
       "<style scoped>\n",
       "    .dataframe tbody tr th:only-of-type {\n",
       "        vertical-align: middle;\n",
       "    }\n",
       "\n",
       "    .dataframe tbody tr th {\n",
       "        vertical-align: top;\n",
       "    }\n",
       "\n",
       "    .dataframe thead th {\n",
       "        text-align: right;\n",
       "    }\n",
       "</style>\n",
       "<table border=\"1\" class=\"dataframe\">\n",
       "  <thead>\n",
       "    <tr style=\"text-align: right;\">\n",
       "      <th></th>\n",
       "      <th>Unnamed: 0</th>\n",
       "      <th>baseMean</th>\n",
       "      <th>log2FoldChange</th>\n",
       "      <th>lfcSE</th>\n",
       "      <th>stat</th>\n",
       "      <th>pvalue</th>\n",
       "      <th>padj</th>\n",
       "    </tr>\n",
       "  </thead>\n",
       "  <tbody>\n",
       "    <tr>\n",
       "      <th>7154</th>\n",
       "      <td>NM_001195144</td>\n",
       "      <td>274.30340</td>\n",
       "      <td>-1.464396</td>\n",
       "      <td>0.417503</td>\n",
       "      <td>-3.507511</td>\n",
       "      <td>0.000452</td>\n",
       "      <td>0.040863</td>\n",
       "    </tr>\n",
       "    <tr>\n",
       "      <th>5547</th>\n",
       "      <td>NM_001324355</td>\n",
       "      <td>50.93417</td>\n",
       "      <td>-1.411277</td>\n",
       "      <td>0.467037</td>\n",
       "      <td>-3.021764</td>\n",
       "      <td>0.002513</td>\n",
       "      <td>0.127085</td>\n",
       "    </tr>\n",
       "  </tbody>\n",
       "</table>\n",
       "</div>"
      ],
      "text/plain": [
       "        Unnamed: 0   baseMean  log2FoldChange     lfcSE      stat    pvalue  \\\n",
       "7154  NM_001195144  274.30340       -1.464396  0.417503 -3.507511  0.000452   \n",
       "5547  NM_001324355   50.93417       -1.411277  0.467037 -3.021764  0.002513   \n",
       "\n",
       "          padj  \n",
       "7154  0.040863  \n",
       "5547  0.127085  "
      ]
     },
     "execution_count": 24,
     "metadata": {},
     "output_type": "execute_result"
    }
   ],
   "source": [
    "batch = 'ER_S15_t2'\n",
    "deseq = pd.read_csv('../../Deseq2 Analysis/shift15/coding/csv_raw/'+batch+'.csv')\n",
    "deseq = deseq.sort_values(by=['log2FoldChange'])\n",
    "print(len(deseq))\n",
    "deseq.head(2)"
   ]
  },
  {
   "cell_type": "code",
   "execution_count": 25,
   "metadata": {},
   "outputs": [
    {
     "name": "stdout",
     "output_type": "stream",
     "text": [
      "33 1\n"
     ]
    }
   ],
   "source": [
    "background = deseq['Unnamed: 0']\n",
    "deseq_filtered = deseq.loc[deseq['padj']<0.05]\n",
    "up_num = sum(deseq_filtered['log2FoldChange'] > 1)\n",
    "target = deseq_filtered.tail(up_num)['Unnamed: 0']   # i.e. Interest group, upper right on volcano plot\n",
    "down_num=sum(deseq_filtered['log2FoldChange']<-1)\n",
    "print(up_num,down_num)"
   ]
  },
  {
   "cell_type": "code",
   "execution_count": 26,
   "metadata": {},
   "outputs": [],
   "source": [
    "target_seq = Sequences(Sequences.genes2seq(target))\n",
    "bg_seq = Sequences(Sequences.genes2seq(background))\n",
    "batch2seq[batch] = target_seq\n",
    "batch2seq['background'] = bg_seq"
   ]
  },
  {
   "cell_type": "code",
   "execution_count": 27,
   "metadata": {},
   "outputs": [],
   "source": []
  },
  {
   "cell_type": "code",
   "execution_count": null,
   "metadata": {},
   "outputs": [],
   "source": []
  },
  {
   "cell_type": "code",
   "execution_count": 12,
   "metadata": {},
   "outputs": [
    {
     "data": {
      "text/plain": [
       "['kmeans_jm\\\\cluster 1 genes.txt',\n",
       " 'kmeans_jm\\\\cluster 2 genes.txt',\n",
       " 'kmeans_jm\\\\cluster 3 genes.txt',\n",
       " 'kmeans_jm\\\\cluster 4 genes.txt',\n",
       " 'kmeans_jm\\\\cluster 5 genes.txt',\n",
       " 'kmeans_jm\\\\cluster 6 genes.txt',\n",
       " 'kmeans_jm\\\\cluster 7 genes.txt',\n",
       " 'kmeans_jm\\\\cluster 8 genes.txt',\n",
       " 'kmeans_jm\\\\logos']"
      ]
     },
     "execution_count": 12,
     "metadata": {},
     "output_type": "execute_result"
    }
   ],
   "source": [
    "import glob\n",
    "glob.glob('kmeans_jm/*')"
   ]
  },
  {
   "cell_type": "code",
   "execution_count": null,
   "metadata": {},
   "outputs": [],
   "source": []
  },
  {
   "cell_type": "code",
   "execution_count": 32,
   "metadata": {},
   "outputs": [],
   "source": [
    "for i in range(1,9):\n",
    "    newpath = 'kmeans_jm/logos' \n",
    "    if not os.path.exists(newpath):\n",
    "        os.makedirs(newpath)\n",
    "    \n",
    "    \n",
    "    f = pd.read_csv('kmeans_jm\\\\cluster '+str(i)+' genes.txt',header=None)\n",
    "    genes = list(f[0])\n",
    "    cluster_seq = Sequences(Sequences.genes2seq(genes))\n",
    "    img=cluster_seq.plotlogo()\n",
    "    #display(img)\n",
    "    with open(\"kmeans_jm/logos/cluster \"+str(i)+\" logo.png\", \"wb\") as png:\n",
    "        png.write(img.data)\n",
    "    ppm_out = pfm2ppm_df(cluster_seq.pfm)\n",
    "    ppm_out.to_csv(\"kmeans_jm/logos/cluster\"+str(i)+\"_pwm.csv\")"
   ]
  },
  {
   "cell_type": "code",
   "execution_count": 43,
   "metadata": {},
   "outputs": [],
   "source": [
    "import matplotlib.pyplot as plt\n",
    "for i in range(1,9):\n",
    "    f = pd.read_csv('kmeans_jm/genes/cluster '+str(i)+' genes.txt',header=None)\n",
    "    genes = list(f[0])\n",
    "    cluster_seq = Sequences(Sequences.genes2seq(genes))\n",
    "    np.random.seed(42)\n",
    "    for batch in ['ER_S15_t0','ER_S15_t1','ER_S15_t2','ER_L24_t1']:\n",
    "        test = TestSeq(batch2seq[batch],cluster_seq,100000)\n",
    "        with open('kmeans_jm/'+batch+\"/cluster\"+str(i)+\"_test_ps.txt\", 'w') as f:\n",
    "            for item in test.ps:\n",
    "                f.write(\"%s\\n\" % item)\n",
    "        plt.figure()\n",
    "        ax=test.logdist()\n",
    "        ax.get_figure().savefig('kmeans_jm/'+batch+\"/cluster\"+str(i)+\"_test_hist.png\")\n",
    "        plt.close()"
   ]
  },
  {
   "cell_type": "code",
   "execution_count": null,
   "metadata": {},
   "outputs": [],
   "source": []
  },
  {
   "cell_type": "code",
   "execution_count": null,
   "metadata": {},
   "outputs": [],
   "source": []
  }
 ],
 "metadata": {
  "kernelspec": {
   "display_name": "Python 3",
   "language": "python",
   "name": "python3"
  },
  "language_info": {
   "codemirror_mode": {
    "name": "ipython",
    "version": 3
   },
   "file_extension": ".py",
   "mimetype": "text/x-python",
   "name": "python",
   "nbconvert_exporter": "python",
   "pygments_lexer": "ipython3",
   "version": "3.7.6"
  }
 },
 "nbformat": 4,
 "nbformat_minor": 4
}
