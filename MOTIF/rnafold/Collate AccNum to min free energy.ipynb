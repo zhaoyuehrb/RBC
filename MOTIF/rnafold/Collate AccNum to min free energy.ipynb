{
 "cells": [
  {
   "cell_type": "code",
   "execution_count": 47,
   "metadata": {},
   "outputs": [],
   "source": [
    "import pandas as pd\n",
    "import numpy as np\n",
    "import sys,csv,glob"
   ]
  },
  {
   "cell_type": "code",
   "execution_count": null,
   "metadata": {},
   "outputs": [],
   "source": []
  },
  {
   "cell_type": "code",
   "execution_count": 13,
   "metadata": {},
   "outputs": [],
   "source": [
    "filteredGeneList = pd.read_csv('../../Database/filteredGenesDetails_human_240118.txt',sep='\\t')"
   ]
  },
  {
   "cell_type": "code",
   "execution_count": 14,
   "metadata": {},
   "outputs": [],
   "source": [
    "acc2gene={}\n",
    "gene2acc={}\n",
    "for idx,row in filteredGeneList.iterrows():\n",
    "    acc2gene[row['AccNum']] = row['GeneName']\n",
    "    gene2acc[row['GeneName']] = row['AccNum']"
   ]
  },
  {
   "cell_type": "code",
   "execution_count": 15,
   "metadata": {},
   "outputs": [],
   "source": [
    "def get_fa(filename,onlyKeys = 'All'):\n",
    "    keyD = dict()\n",
    "    if onlyKeys!='All':\n",
    "        for k in onlyKeys: keyD[k] = None\n",
    "        \n",
    "    def addEntry(current,d):\n",
    "        entry = current.split('\\n')\n",
    "        if entry[0]!='' and (onlyKeys=='All' or keyD.has_key(entry[0])):\n",
    "            d[entry[0]] = ''.join(entry[1:])\n",
    "\n",
    "    d = dict()\n",
    "    bf = open(filename)\n",
    "    current = ['\\n']\n",
    "    for line in bf:\n",
    "        if line[0]=='>':\n",
    "            addEntry(''.join(current),d)\n",
    "            if len(line)>1: current = [line[1:]]\n",
    "            else: current = ['\\n']\n",
    "        else: current.append(line)\n",
    "    addEntry(''.join(current),d)\n",
    "    bf.close()\n",
    "    return d"
   ]
  },
  {
   "cell_type": "code",
   "execution_count": 20,
   "metadata": {},
   "outputs": [],
   "source": [
    "splicedGenes = get_fa('../../Database/splicedGenes_240118.txt')\n",
    "splicedORFs = get_fa('../../Database/splicedORFs_240118.txt')"
   ]
  },
  {
   "cell_type": "code",
   "execution_count": 21,
   "metadata": {},
   "outputs": [],
   "source": [
    "ks = list(splicedGenes.keys())\n",
    "for key in ks:\n",
    "    splicedGenes[key.split('_chr')[0]] = splicedGenes[key]\n",
    "    splicedGenes.pop(key)"
   ]
  },
  {
   "cell_type": "code",
   "execution_count": 22,
   "metadata": {},
   "outputs": [],
   "source": [
    "fpUTR={}\n",
    "tpUTR = {}\n",
    "ORFs = {}\n",
    "for idx,row in filteredGeneList.iterrows():\n",
    "    accNum = row['AccNum']\n",
    "    fpLen = row['fpUTR_length']\n",
    "    tpLen = row['tpUTR_length']\n",
    "    fpUTR[accNum] = splicedGenes[accNum][0:fpLen]\n",
    "    tpUTR[accNum] = splicedGenes[accNum][-tpLen:]\n",
    "    ORFs[accNum] = splicedORFs[accNum]"
   ]
  },
  {
   "cell_type": "code",
   "execution_count": null,
   "metadata": {},
   "outputs": [],
   "source": []
  },
  {
   "cell_type": "code",
   "execution_count": null,
   "metadata": {},
   "outputs": [],
   "source": []
  },
  {
   "cell_type": "code",
   "execution_count": null,
   "metadata": {},
   "outputs": [],
   "source": []
  },
  {
   "cell_type": "code",
   "execution_count": null,
   "metadata": {},
   "outputs": [],
   "source": []
  },
  {
   "cell_type": "code",
   "execution_count": null,
   "metadata": {},
   "outputs": [],
   "source": []
  },
  {
   "cell_type": "code",
   "execution_count": null,
   "metadata": {},
   "outputs": [],
   "source": []
  },
  {
   "cell_type": "code",
   "execution_count": 2,
   "metadata": {},
   "outputs": [],
   "source": [
    "with open('fpUTR_rnafold.out') as f:\n",
    "    lines = [line.rstrip() for line in f]"
   ]
  },
  {
   "cell_type": "code",
   "execution_count": 11,
   "metadata": {},
   "outputs": [
    {
     "name": "stdout",
     "output_type": "stream",
     "text": [
      "18316.0\n"
     ]
    },
    {
     "data": {
      "text/plain": [
       "['>UBE2Q1',\n",
       " 'CGGCGGCGGCGGCGGCGGCGGCGGCGGCGGAGCCCGGAGCGCAGGCCGGAGGCUCCCGGCCCGCCGGCCCCGGAGCGGAGCGGAGCGGAGG',\n",
       " '..((.((.((....)).)).))..((((((.(((.(((((...........))))).)))))))))((.(((........))).))..... (-47.40)',\n",
       " '..((.{(.{(..,.}|.}}{|}{{((((((.(((.(((((...........))))).))))))))}}))|||..}|...,)}..}),.... [-48.98]',\n",
       " '......................((((((((.(((.(((((...........))))).))))))))).))...................... {-31.50 d=13.56}',\n",
       " ' frequency of mfe structure in ensemble 0.077272; ensemble diversity 20.82']"
      ]
     },
     "execution_count": 11,
     "metadata": {},
     "output_type": "execute_result"
    }
   ],
   "source": [
    "print(len(lines)/6.0)\n",
    "lines[:6]  ##every 6 is one set\n"
   ]
  },
  {
   "cell_type": "code",
   "execution_count": 26,
   "metadata": {},
   "outputs": [],
   "source": [
    "## verify if it is always 6 lines per entry\n",
    "for i in range(18316):\n",
    "    if lines[i*6][0]!= '>':\n",
    "        print(i)"
   ]
  },
  {
   "cell_type": "code",
   "execution_count": null,
   "metadata": {},
   "outputs": [],
   "source": []
  },
  {
   "cell_type": "code",
   "execution_count": 63,
   "metadata": {},
   "outputs": [],
   "source": [
    "acc2energy={}\n",
    "for i in range(len(lines)//6):\n",
    "    geneName = lines[i*6][1:]\n",
    "    acc = gene2acc[geneName]\n",
    "    theline = lines[i*6+3]\n",
    "    linesep = theline.split('[')\n",
    "    val = float(linesep[1][:-1])\n",
    "    acc2energy[acc]=val"
   ]
  },
  {
   "cell_type": "code",
   "execution_count": 64,
   "metadata": {},
   "outputs": [
    {
     "name": "stdout",
     "output_type": "stream",
     "text": [
      "18316\n",
      "19210\n"
     ]
    }
   ],
   "source": [
    "print(len(acc2energy))\n",
    "print(len(filteredGeneList))"
   ]
  },
  {
   "cell_type": "code",
   "execution_count": 65,
   "metadata": {},
   "outputs": [],
   "source": [
    "## norm by length\n",
    "if True:\n",
    "    for key in acc2energy.keys():\n",
    "        fpLen = len(fpUTR[key])\n",
    "        acc2energy[key] = acc2energy[key] / fpLen"
   ]
  },
  {
   "cell_type": "code",
   "execution_count": null,
   "metadata": {},
   "outputs": [],
   "source": []
  },
  {
   "cell_type": "code",
   "execution_count": 66,
   "metadata": {},
   "outputs": [
    {
     "name": "stdout",
     "output_type": "stream",
     "text": [
      "mean: -0.3766069317021581\n"
     ]
    }
   ],
   "source": [
    "mean_ = np.array(list(acc2energy.values())).mean()\n",
    "print('mean:',mean_)\n",
    "## fill with mean\n",
    "for idx,row in filteredGeneList.iterrows():\n",
    "    accNum = row['AccNum']\n",
    "    if accNum not in acc2energy:\n",
    "        acc2energy[accNum]=mean_"
   ]
  },
  {
   "cell_type": "code",
   "execution_count": 67,
   "metadata": {},
   "outputs": [
    {
     "name": "stdout",
     "output_type": "stream",
     "text": [
      "19210\n"
     ]
    }
   ],
   "source": [
    "print(len(acc2energy))"
   ]
  },
  {
   "cell_type": "code",
   "execution_count": 68,
   "metadata": {},
   "outputs": [],
   "source": [
    "## to csv\n",
    "with open('fpUTR_minE_normbyLen_fillmean.csv', 'w') as f:  # Just use 'w' mode in 3.x\n",
    "    f.write('AccNum,Energy\\n')\n",
    "    for key in acc2energy.keys():\n",
    "        f.write(\"%s,%s\\n\"%(key,acc2energy[key]))"
   ]
  },
  {
   "cell_type": "code",
   "execution_count": null,
   "metadata": {},
   "outputs": [],
   "source": []
  },
  {
   "cell_type": "code",
   "execution_count": null,
   "metadata": {},
   "outputs": [],
   "source": []
  },
  {
   "cell_type": "code",
   "execution_count": 69,
   "metadata": {},
   "outputs": [],
   "source": [
    "with open('utr_orf100.out') as f:\n",
    "    lines = [line.rstrip() for line in f]"
   ]
  },
  {
   "cell_type": "code",
   "execution_count": 78,
   "metadata": {},
   "outputs": [
    {
     "name": "stdout",
     "output_type": "stream",
     "text": [
      "19210\n"
     ]
    }
   ],
   "source": [
    "acc2energy={}\n",
    "for i in range(len(lines)//6):\n",
    "    geneName = lines[i*6][1:]\n",
    "    acc = gene2acc[geneName]\n",
    "    theline = lines[i*6+3]\n",
    "    linesep = theline.split('[')\n",
    "    val = float(linesep[1][:-1])\n",
    "    acc2energy[acc]=val\n",
    "print(len(acc2energy))"
   ]
  },
  {
   "cell_type": "code",
   "execution_count": 79,
   "metadata": {},
   "outputs": [],
   "source": [
    "## norm by length\n",
    "if True:\n",
    "    for key in acc2energy.keys():\n",
    "        fpLen = len(fpUTR[key])\n",
    "        acc2energy[key] = acc2energy[key] / (fpLen+100)"
   ]
  },
  {
   "cell_type": "code",
   "execution_count": 80,
   "metadata": {},
   "outputs": [],
   "source": [
    "## to csv\n",
    "with open('utr_and_orf_minE_normbyLen.csv', 'w') as f:  # Just use 'w' mode in 3.x\n",
    "    f.write('AccNum,Energy\\n')\n",
    "    for key in acc2energy.keys():\n",
    "        f.write(\"%s,%s\\n\"%(key,acc2energy[key]))"
   ]
  },
  {
   "cell_type": "code",
   "execution_count": null,
   "metadata": {},
   "outputs": [],
   "source": []
  }
 ],
 "metadata": {
  "kernelspec": {
   "display_name": "Python 3",
   "language": "python",
   "name": "python3"
  },
  "language_info": {
   "codemirror_mode": {
    "name": "ipython",
    "version": 3
   },
   "file_extension": ".py",
   "mimetype": "text/x-python",
   "name": "python",
   "nbconvert_exporter": "python",
   "pygments_lexer": "ipython3",
   "version": "3.7.6"
  }
 },
 "nbformat": 4,
 "nbformat_minor": 4
}
