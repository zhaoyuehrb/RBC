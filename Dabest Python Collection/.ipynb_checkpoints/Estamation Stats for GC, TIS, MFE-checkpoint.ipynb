{
 "cells": [
  {
   "cell_type": "code",
   "execution_count": 1,
   "metadata": {},
   "outputs": [
    {
     "name": "stdout",
     "output_type": "stream",
     "text": [
      "matplotlib v3.1.3\n",
      "seaborn v0.10.0\n",
      "dabest v0.3.0\n"
     ]
    }
   ],
   "source": [
    "import pandas as pd\n",
    "import dabest\n",
    "import glob\n",
    "import matplotlib as mpl\n",
    "import seaborn as sns\n",
    "\n",
    "print(\"matplotlib v{}\".format(mpl.__version__))\n",
    "print(\"seaborn v{}\".format(sns.__version__))\n",
    "print(\"dabest v{}\".format(dabest.__version__))"
   ]
  },
  {
   "cell_type": "code",
   "execution_count": 3,
   "metadata": {},
   "outputs": [],
   "source": [
    "filteredGeneList = pd.read_csv('../Database/filteredGenesDetails_human_240118.txt',sep='\\t')"
   ]
  },
  {
   "cell_type": "code",
   "execution_count": 4,
   "metadata": {},
   "outputs": [],
   "source": [
    "acc2gene={}\n",
    "gene2acc={}\n",
    "for idx,row in filteredGeneList.iterrows():\n",
    "    acc2gene[row['AccNum']] = row['GeneName']\n",
    "    gene2acc[row['GeneName']] = row['AccNum']"
   ]
  },
  {
   "cell_type": "code",
   "execution_count": 6,
   "metadata": {},
   "outputs": [
    {
     "name": "stdout",
     "output_type": "stream",
     "text": [
      "<class 'dict'>\n",
      "['NR_148357_chr1(+):11868-14361', 'NR_046018_chr1(+):11873-14408', 'NR_024540_chr1(-):14361-29369']\n"
     ]
    }
   ],
   "source": [
    "def get_fa(filename,onlyKeys = 'All'):\n",
    "    keyD = dict()\n",
    "    if onlyKeys!='All':\n",
    "        for k in onlyKeys: keyD[k] = None\n",
    "        \n",
    "    def addEntry(current,d):\n",
    "        entry = current.split('\\n')\n",
    "        if entry[0]!='' and (onlyKeys=='All' or keyD.has_key(entry[0])):\n",
    "            d[entry[0]] = ''.join(entry[1:])\n",
    "\n",
    "    d = dict()\n",
    "    bf = open(filename)\n",
    "    current = ['\\n']\n",
    "    for line in bf:\n",
    "        if line[0]=='>':\n",
    "            addEntry(''.join(current),d)\n",
    "            if len(line)>1: current = [line[1:]]\n",
    "            else: current = ['\\n']\n",
    "        else: current.append(line)\n",
    "    addEntry(''.join(current),d)\n",
    "    bf.close()\n",
    "    return d\n",
    "splicedGenes = get_fa('../Database/splicedGenes_240118.txt')\n",
    "print(type(splicedGenes))\n",
    "print(list(splicedGenes.keys())[0:3])"
   ]
  },
  {
   "cell_type": "code",
   "execution_count": 7,
   "metadata": {},
   "outputs": [
    {
     "name": "stdout",
     "output_type": "stream",
     "text": [
      "<class 'dict'>\n",
      "['NR_148357', 'NR_046018', 'NR_024540']\n"
     ]
    }
   ],
   "source": [
    "## truncate the keys to only accNum\n",
    "ks = list(splicedGenes.keys())\n",
    "for key in ks:\n",
    "    splicedGenes[key.split('_chr')[0]] = splicedGenes[key]\n",
    "    splicedGenes.pop(key)\n",
    "print(type(splicedGenes))\n",
    "print(list(splicedGenes.keys())[0:3])"
   ]
  },
  {
   "cell_type": "code",
   "execution_count": 8,
   "metadata": {},
   "outputs": [
    {
     "name": "stdout",
     "output_type": "stream",
     "text": [
      "<class 'dict'>\n",
      "['NM_017582', 'NM_001276267', 'NM_173469']\n"
     ]
    }
   ],
   "source": [
    "splicedORFs = get_fa('../Database/splicedORFs_240118.txt')\n",
    "print(type(splicedORFs))\n",
    "print(list(splicedORFs.keys())[0:3])"
   ]
  },
  {
   "cell_type": "code",
   "execution_count": 9,
   "metadata": {},
   "outputs": [],
   "source": [
    "fpUTR={}\n",
    "tpUTR = {}\n",
    "ORFs = {}\n",
    "for idx,row in filteredGeneList.iterrows():\n",
    "    accNum = row['AccNum']\n",
    "    fpLen = row['fpUTR_length']\n",
    "    tpLen = row['tpUTR_length']\n",
    "    fpUTR[accNum] = splicedGenes[accNum][0:fpLen]\n",
    "    tpUTR[accNum] = splicedGenes[accNum][-tpLen:]\n",
    "    ORFs[accNum] = splicedORFs[accNum]"
   ]
  },
  {
   "cell_type": "code",
   "execution_count": null,
   "metadata": {},
   "outputs": [],
   "source": []
  },
  {
   "cell_type": "code",
   "execution_count": null,
   "metadata": {},
   "outputs": [],
   "source": []
  },
  {
   "cell_type": "code",
   "execution_count": 16,
   "metadata": {},
   "outputs": [],
   "source": [
    "import re"
   ]
  },
  {
   "cell_type": "code",
   "execution_count": 27,
   "metadata": {},
   "outputs": [
    {
     "name": "stdout",
     "output_type": "stream",
     "text": [
      "NM_017582 0.4405043341213554\n",
      "0.3475177304964539\n",
      "NM_001276267 0.431438127090301\n",
      "0.29431438127090304\n",
      "NM_173469 0.5664893617021277\n",
      "0.550531914893617\n",
      "NM_001330474 0.4810281517747858\n",
      "0.43818849449204406\n",
      "NM_014372 0.4946236559139785\n",
      "0.4838709677419355\n"
     ]
    }
   ],
   "source": [
    "## verify counting from prev results\n",
    "for i in range(0,5):\n",
    "    acc = filteredGeneList['AccNum'][i]\n",
    "    ORF = ORFs[acc]\n",
    "    print(acc,(ORF.count('A')+ORF.count('T'))/len(ORF))  # AT percentage in ORF\n",
    "    codons = (re.findall('...?', ORF))\n",
    "    codon_tr=[''.join(s) for s in zip(*codons)]\n",
    "    print((codon_tr[2].count('A')+codon_tr[2].count('T'))/len(codons))   # AT percent, only last nt for each codon"
   ]
  },
  {
   "cell_type": "code",
   "execution_count": 28,
   "metadata": {},
   "outputs": [],
   "source": [
    "def countGC(seq):\n",
    "    gc_all_percent = (seq.count('G')+seq.count('C'))/len(seq)\n",
    "    #codons = (re.findall('...?', seq))\n",
    "    #codon_tr=[''.join(s) for s in zip(*codons)]\n",
    "    #gc_last_nt = (codon_tr[2].count('G')+codon_tr[2].count('C'))/len(codons)\n",
    "    return gc_all_percent#, gc_last_percent"
   ]
  },
  {
   "cell_type": "code",
   "execution_count": null,
   "metadata": {},
   "outputs": [],
   "source": []
  },
  {
   "cell_type": "code",
   "execution_count": null,
   "metadata": {},
   "outputs": [],
   "source": []
  },
  {
   "cell_type": "code",
   "execution_count": null,
   "metadata": {},
   "outputs": [],
   "source": []
  },
  {
   "cell_type": "code",
   "execution_count": null,
   "metadata": {},
   "outputs": [],
   "source": []
  },
  {
   "cell_type": "code",
   "execution_count": null,
   "metadata": {},
   "outputs": [],
   "source": []
  },
  {
   "cell_type": "code",
   "execution_count": 36,
   "metadata": {},
   "outputs": [],
   "source": [
    "files = glob.glob(\"../Deseq2 Analysis/shift15/coding/csv_raw/*.csv\")"
   ]
  },
  {
   "cell_type": "code",
   "execution_count": null,
   "metadata": {},
   "outputs": [],
   "source": []
  },
  {
   "cell_type": "code",
   "execution_count": 37,
   "metadata": {},
   "outputs": [
    {
     "name": "stdout",
     "output_type": "stream",
     "text": [
      "mkdir: march: File exists\n",
      "mkdir: march/gc_all_fpUTR: File exists\n"
     ]
    },
    {
     "ename": "IndexError",
     "evalue": "list index out of range",
     "output_type": "error",
     "traceback": [
      "\u001b[0;31m--------------------------------------------------------------------\u001b[0m",
      "\u001b[0;31mIndexError\u001b[0m                         Traceback (most recent call last)",
      "\u001b[0;32m<ipython-input-37-3e51ff7316dc>\u001b[0m in \u001b[0;36m<module>\u001b[0;34m\u001b[0m\n\u001b[1;32m      9\u001b[0m         \u001b[0;32mif\u001b[0m \u001b[0mlen\u001b[0m\u001b[0;34m(\u001b[0m\u001b[0mfpUTR\u001b[0m\u001b[0;34m[\u001b[0m\u001b[0mgene\u001b[0m\u001b[0;34m[\u001b[0m\u001b[0;34m'Unnamed: 0'\u001b[0m\u001b[0;34m]\u001b[0m\u001b[0;34m]\u001b[0m\u001b[0;34m)\u001b[0m \u001b[0;34m==\u001b[0m\u001b[0;36m0\u001b[0m\u001b[0;34m:\u001b[0m\u001b[0;34m\u001b[0m\u001b[0;34m\u001b[0m\u001b[0m\n\u001b[1;32m     10\u001b[0m             \u001b[0;32mcontinue\u001b[0m\u001b[0;34m\u001b[0m\u001b[0;34m\u001b[0m\u001b[0m\n\u001b[0;32m---> 11\u001b[0;31m         \u001b[0mgc\u001b[0m\u001b[0;34m,\u001b[0m\u001b[0m_\u001b[0m \u001b[0;34m=\u001b[0m \u001b[0mcountGC\u001b[0m\u001b[0;34m(\u001b[0m\u001b[0mfpUTR\u001b[0m\u001b[0;34m[\u001b[0m\u001b[0mgene\u001b[0m\u001b[0;34m[\u001b[0m\u001b[0;34m'Unnamed: 0'\u001b[0m\u001b[0;34m]\u001b[0m\u001b[0;34m]\u001b[0m\u001b[0;34m)\u001b[0m\u001b[0;34m\u001b[0m\u001b[0;34m\u001b[0m\u001b[0m\n\u001b[0m\u001b[1;32m     12\u001b[0m         \u001b[0;32mif\u001b[0m \u001b[0mgene\u001b[0m\u001b[0;34m[\u001b[0m\u001b[0;34m'log2FoldChange'\u001b[0m\u001b[0;34m]\u001b[0m \u001b[0;34m>=\u001b[0m\u001b[0;36m1\u001b[0m \u001b[0;32mand\u001b[0m \u001b[0mgene\u001b[0m\u001b[0;34m[\u001b[0m\u001b[0;34m'padj'\u001b[0m\u001b[0;34m]\u001b[0m\u001b[0;34m<=\u001b[0m\u001b[0;36m0.05\u001b[0m\u001b[0;34m:\u001b[0m\u001b[0;34m\u001b[0m\u001b[0;34m\u001b[0m\u001b[0m\n\u001b[1;32m     13\u001b[0m             \u001b[0mGroups\u001b[0m\u001b[0;34m.\u001b[0m\u001b[0mappend\u001b[0m\u001b[0;34m(\u001b[0m\u001b[0;34m'Ups'\u001b[0m\u001b[0;34m)\u001b[0m\u001b[0;34m\u001b[0m\u001b[0;34m\u001b[0m\u001b[0m\n",
      "\u001b[0;32m<ipython-input-28-c203b4f4cf56>\u001b[0m in \u001b[0;36mcountGC\u001b[0;34m(seq)\u001b[0m\n\u001b[1;32m      3\u001b[0m     \u001b[0mcodons\u001b[0m \u001b[0;34m=\u001b[0m \u001b[0;34m(\u001b[0m\u001b[0mre\u001b[0m\u001b[0;34m.\u001b[0m\u001b[0mfindall\u001b[0m\u001b[0;34m(\u001b[0m\u001b[0;34m'...?'\u001b[0m\u001b[0;34m,\u001b[0m \u001b[0mseq\u001b[0m\u001b[0;34m)\u001b[0m\u001b[0;34m)\u001b[0m\u001b[0;34m\u001b[0m\u001b[0;34m\u001b[0m\u001b[0m\n\u001b[1;32m      4\u001b[0m     \u001b[0mcodon_tr\u001b[0m\u001b[0;34m=\u001b[0m\u001b[0;34m[\u001b[0m\u001b[0;34m''\u001b[0m\u001b[0;34m.\u001b[0m\u001b[0mjoin\u001b[0m\u001b[0;34m(\u001b[0m\u001b[0ms\u001b[0m\u001b[0;34m)\u001b[0m \u001b[0;32mfor\u001b[0m \u001b[0ms\u001b[0m \u001b[0;32min\u001b[0m \u001b[0mzip\u001b[0m\u001b[0;34m(\u001b[0m\u001b[0;34m*\u001b[0m\u001b[0mcodons\u001b[0m\u001b[0;34m)\u001b[0m\u001b[0;34m]\u001b[0m\u001b[0;34m\u001b[0m\u001b[0;34m\u001b[0m\u001b[0m\n\u001b[0;32m----> 5\u001b[0;31m     \u001b[0mgc_last_nt\u001b[0m \u001b[0;34m=\u001b[0m \u001b[0;34m(\u001b[0m\u001b[0mcodon_tr\u001b[0m\u001b[0;34m[\u001b[0m\u001b[0;36m2\u001b[0m\u001b[0;34m]\u001b[0m\u001b[0;34m.\u001b[0m\u001b[0mcount\u001b[0m\u001b[0;34m(\u001b[0m\u001b[0;34m'G'\u001b[0m\u001b[0;34m)\u001b[0m\u001b[0;34m+\u001b[0m\u001b[0mcodon_tr\u001b[0m\u001b[0;34m[\u001b[0m\u001b[0;36m2\u001b[0m\u001b[0;34m]\u001b[0m\u001b[0;34m.\u001b[0m\u001b[0mcount\u001b[0m\u001b[0;34m(\u001b[0m\u001b[0;34m'C'\u001b[0m\u001b[0;34m)\u001b[0m\u001b[0;34m)\u001b[0m\u001b[0;34m/\u001b[0m\u001b[0mlen\u001b[0m\u001b[0;34m(\u001b[0m\u001b[0mcodons\u001b[0m\u001b[0;34m)\u001b[0m\u001b[0;34m\u001b[0m\u001b[0;34m\u001b[0m\u001b[0m\n\u001b[0m\u001b[1;32m      6\u001b[0m     \u001b[0;32mreturn\u001b[0m \u001b[0mgc_all_percent\u001b[0m\u001b[0;34m,\u001b[0m \u001b[0mgc_last_percent\u001b[0m\u001b[0;34m\u001b[0m\u001b[0;34m\u001b[0m\u001b[0m\n",
      "\u001b[0;31mIndexError\u001b[0m: list index out of range"
     ]
    }
   ],
   "source": [
    "!mkdir march\n",
    "!mkdir march/gc_all_fpUTR\n",
    "for i in range(0,2):#len(files)):\n",
    "    fileLabel = files[i].split(\"/\")[-1][:-4]\n",
    "    deseq_out = pd.read_csv(files[i])\n",
    "    Groups = []\n",
    "    gcs = []\n",
    "    for idx,gene in deseq_out.iterrows():\n",
    "        if len(fpUTR[gene['Unnamed: 0']]) ==0:\n",
    "            continue\n",
    "        gc,_ = countGC(fpUTR[gene['Unnamed: 0']])\n",
    "        if gene['log2FoldChange'] >=1 and gene['padj']<=0.05:\n",
    "            Groups.append('Ups')\n",
    "        else:\n",
    "            Groups.append('Others')\n",
    "        \n",
    "    data = {'Groups': Groups,'gc_percent': gcs}\n",
    "    df = pd.DataFrame(data) \n",
    "    df_dabest = dabest.load(data = df,idx=(\"Others\",\"Ups\"),paired=False,resamples=20000)\n",
    "    plt=df_dabest.mean_diff.plot(swarmplot_kwargs={\"size\":0.6},contrast_label=\"logFC\",dpi=300,es_marker_size=3);\n",
    "    #plt.savefig('coding/'+groupLabel+'/'+fileLabel+'_dabest.png',dpi=300)\n",
    "\n"
   ]
  },
  {
   "cell_type": "code",
   "execution_count": null,
   "metadata": {},
   "outputs": [],
   "source": []
  },
  {
   "cell_type": "code",
   "execution_count": null,
   "metadata": {},
   "outputs": [],
   "source": []
  },
  {
   "cell_type": "code",
   "execution_count": null,
   "metadata": {},
   "outputs": [],
   "source": []
  }
 ],
 "metadata": {
  "kernelspec": {
   "display_name": "Python 3",
   "language": "python",
   "name": "python3"
  },
  "language_info": {
   "codemirror_mode": {
    "name": "ipython",
    "version": 3
   },
   "file_extension": ".py",
   "mimetype": "text/x-python",
   "name": "python",
   "nbconvert_exporter": "python",
   "pygments_lexer": "ipython3",
   "version": "3.7.6"
  }
 },
 "nbformat": 4,
 "nbformat_minor": 4
}
