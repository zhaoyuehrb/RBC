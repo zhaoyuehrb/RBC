{
 "cells": [
  {
   "cell_type": "code",
   "execution_count": 1,
   "metadata": {},
   "outputs": [],
   "source": [
    "import pandas as pd\n",
    "import numpy as np\n",
    "import csv\n",
    "import os\n",
    "from os import path\n",
    "import weblogo\n",
    "import seqlogo\n",
    "%matplotlib inline\n"
   ]
  },
  {
   "cell_type": "code",
   "execution_count": 3,
   "metadata": {},
   "outputs": [],
   "source": [
    "filteredGeneList = pd.read_csv('../../../Database/mouse database/filteredGenesDetails_mouse_160617.txt',sep='\\t')\n",
    "acc2gene={}\n",
    "for idx,row in filteredGeneList.iterrows():\n",
    "    acc2gene[row['AccNum']] = row['GeneName']"
   ]
  },
  {
   "cell_type": "code",
   "execution_count": 4,
   "metadata": {},
   "outputs": [],
   "source": [
    "def get_fa(filename,onlyKeys = 'All'):\n",
    "    keyD = dict()\n",
    "    if onlyKeys!='All':\n",
    "        for k in onlyKeys: keyD[k] = None\n",
    "        \n",
    "    def addEntry(current,d):\n",
    "        entry = current.split('\\n')\n",
    "        if entry[0]!='' and (onlyKeys=='All' or keyD.has_key(entry[0])):\n",
    "            d[entry[0]] = ''.join(entry[1:])\n",
    "\n",
    "    d = dict()\n",
    "    bf = open(filename)\n",
    "    current = ['\\n']\n",
    "    for line in bf:\n",
    "        if line[0]=='>':\n",
    "            addEntry(''.join(current),d)\n",
    "            if len(line)>1: current = [line[1:]]\n",
    "            else: current = ['\\n']\n",
    "        else: current.append(line)\n",
    "    addEntry(''.join(current),d)\n",
    "    bf.close()\n",
    "    return d"
   ]
  },
  {
   "cell_type": "code",
   "execution_count": 6,
   "metadata": {},
   "outputs": [],
   "source": [
    "splicedGenes = get_fa('../../../Database/mouse database/splicedGenes_160617.txt')\n",
    "## truncate the keys to only accNum\n",
    "ks = list(splicedGenes.keys())\n",
    "for key in ks:\n",
    "    splicedGenes[key.split('_chr')[0]] = splicedGenes[key]\n",
    "    splicedGenes.pop(key)\n",
    "splicedORFs = get_fa('../../../Database/mouse database/splicedORFs_160617.txt')"
   ]
  },
  {
   "cell_type": "code",
   "execution_count": 7,
   "metadata": {},
   "outputs": [],
   "source": [
    "fpUTR={}\n",
    "tpUTR = {}\n",
    "ORFs = {}\n",
    "for idx,row in filteredGeneList.iterrows():\n",
    "    accNum = row['AccNum']\n",
    "    fpLen = row['fpUTR_length']\n",
    "    tpLen = row['tpUTR_length']\n",
    "    fpUTR[accNum] = splicedGenes[accNum][0:fpLen]\n",
    "    tpUTR[accNum] = splicedGenes[accNum][-tpLen:]\n",
    "    ORFs[accNum] = splicedORFs[accNum]"
   ]
  },
  {
   "cell_type": "code",
   "execution_count": null,
   "metadata": {},
   "outputs": [],
   "source": []
  },
  {
   "cell_type": "code",
   "execution_count": null,
   "metadata": {},
   "outputs": [],
   "source": []
  },
  {
   "cell_type": "code",
   "execution_count": null,
   "metadata": {},
   "outputs": [],
   "source": []
  },
  {
   "cell_type": "code",
   "execution_count": null,
   "metadata": {},
   "outputs": [],
   "source": []
  },
  {
   "cell_type": "code",
   "execution_count": 25,
   "metadata": {},
   "outputs": [],
   "source": [
    "class Sequences:\n",
    "    nt2coord = {'A':0,'C':1,'G':2,'T':3}\n",
    "    \n",
    "    def seqLikelihood(self,SEQ):\n",
    "        nt2coord = {'A':0,'C':1,'G':2,'T':3}\n",
    "        prob = 1\n",
    "        assert (len(SEQ)==19)\n",
    "        for i in range(8):\n",
    "            pos_prob = self.ppm[i,nt2coord[SEQ[i]]]\n",
    "            prob*= pos_prob\n",
    "        for i in range(11,19):\n",
    "            pos_prob = self.ppm[i,nt2coord[SEQ[i]]]\n",
    "            prob*= pos_prob\n",
    "        return np.log(prob)\n",
    "    \n",
    "    @staticmethod\n",
    "    def genes2seq(genes):\n",
    "        seqs = []\n",
    "        for gene in genes:\n",
    "            if gene in fpUTR:\n",
    "                fp=fpUTR[gene]\n",
    "                if len(fp)<8:\n",
    "                    #print('No fpUTR encountered: ',acc2gene[gene])\n",
    "                    continue\n",
    "                seq = fp[-8:]+ORFs[gene][:11]\n",
    "                seqs.append(seq)\n",
    "        #print('# of valid seqs: ',len(seqs))\n",
    "        return seqs\n",
    "    \n",
    "    def __init__(self,seqs):\n",
    "        self.seqs=seqs\n",
    "        self.pfm, self.ppm = self.comp_count()\n",
    "        self.flat = self.ppm2flat()\n",
    "    \n",
    "    def addseqs(self,seqs):\n",
    "        self.seqs.extend(seqs)\n",
    "        self.pfm,self.ppm = self.comp_count()\n",
    "        self.flat = self.ppm2flat()\n",
    "    \n",
    "    def __len__(self):\n",
    "        return len(self.seqs)\n",
    "    \n",
    "    def comp_count(self,seqLen=19):\n",
    "        \n",
    "        raw_count = np.zeros((seqLen,4))\n",
    "        lines_tr=[''.join(s) for s in zip(*(self.seqs))]\n",
    "        #print('#lines = ',len(seqs))\n",
    "        for i in range(seqLen):\n",
    "            raw_count[i][0] = lines_tr[i].count('A')\n",
    "            raw_count[i][1] = lines_tr[i].count('C')\n",
    "            raw_count[i][2] = lines_tr[i].count('G')\n",
    "            raw_count[i][3] = lines_tr[i].count('T')\n",
    "        ppm = self.pfm2ppm(raw_count)\n",
    "        return raw_count, ppm\n",
    "    \n",
    "    ## Note: ppm here is the same as the so-called pwm in R,\n",
    "    ## True meaning of 'pwm' vary from literatures\n",
    "    def pfm2ppm(self,pfm):\n",
    "        sum_of_rows = pfm.sum(axis=1)\n",
    "        return pfm / sum_of_rows[:, np.newaxis]\n",
    "    \n",
    "    def plotlogo(self):\n",
    "        pfm_pd=pd.DataFrame(self.pfm)\n",
    "        ppm_pd=seqlogo.pfm2ppm(pfm_pd)\n",
    "        ppm = seqlogo.Ppm(ppm_pd)\n",
    "        plt=seqlogo.seqlogo(ppm, ic_scale = True, format = 'png', size = 'large')#,filename=datset+'.png')\n",
    "        #seqlogo.seqlogo(ppm, ic_scale = True, format = 'svg', size = 'medium')#,filename=datset+'.svg')\n",
    "        return plt\n",
    "    \n",
    "    def ppm2flat(self):\n",
    "        return self.ppm[list(range(0,8))+list(range(11,19)), 0:4].reshape(-1)\n",
    "    \n",
    "    \n",
    "    def bootstrap(self,num):    # with replacement\n",
    "        sample_seqs = np.random.choice(self.seqs, size=num)\n",
    "        return Sequences(sample_seqs.tolist())\n",
    "    \n",
    "    def sample(self,num): # without replacement\n",
    "        sample_seqs = np.random.choice(self.seqs, size=num,replace=False)\n",
    "        return Sequences(sample_seqs.tolist())\n",
    "\n",
    "    def __gt__(self, seq2):\n",
    "        return True"
   ]
  },
  {
   "cell_type": "code",
   "execution_count": 58,
   "metadata": {},
   "outputs": [],
   "source": [
    "from scipy.stats import chisquare\n",
    "import seaborn as sns\n",
    "class TestSeq:\n",
    "    \n",
    "    def __init__(self,target,test,resample=10000,num=None):\n",
    "        self.resample=resample\n",
    "        self.target=target\n",
    "        self.test=test\n",
    "        self.ps, self.seqs=self.createTest(target,test,resample,num)\n",
    "        \n",
    "    @classmethod\n",
    "    def createTest(cls,target,test,resample=10000,num=None):\n",
    "        if num==None:\n",
    "            num=len(target)\n",
    "        ps = []\n",
    "        seqs=[]\n",
    "        for i in range(0,resample):\n",
    "            seq = test.sample(num)\n",
    "            seq.flat = seq.flat+0.01\n",
    "            target = target.sample(num)\n",
    "            target.flat = target.flat + 0.01\n",
    "            ## dof = (4-1)*(8+8) = 48, number of freqs = 64\n",
    "            ## dof = k - 1 - ddof\n",
    "            ## ddof = 64 - 1 - 48 = 15\n",
    "            _, p = chisquare(seq.flat*len(target),f_exp=target.flat*len(target),ddof=14)\n",
    "            ps.append(p)\n",
    "            seqs.append(seq)\n",
    "        both = sorted(zip(ps,seqs))\n",
    "        ps,seqs = [y for y,x in both],[x for y,x in both]\n",
    "        return ps, seqs\n",
    "\n",
    "    def dist(self):\n",
    "        return sns.distplot(self.ps)\n",
    "    def logdist(self):\n",
    "        return sns.distplot(np.log2(self.ps))"
   ]
  },
  {
   "cell_type": "code",
   "execution_count": 59,
   "metadata": {},
   "outputs": [],
   "source": [
    "def pfm2ppm_df(pfm):\n",
    "    pfm_pd=pd.DataFrame(pfm)\n",
    "    ppm_pd=seqlogo.pfm2ppm(pfm_pd)\n",
    "    return seqlogo.Ppm(ppm_pd).T"
   ]
  },
  {
   "cell_type": "code",
   "execution_count": null,
   "metadata": {},
   "outputs": [],
   "source": []
  },
  {
   "cell_type": "code",
   "execution_count": null,
   "metadata": {},
   "outputs": [],
   "source": []
  },
  {
   "cell_type": "code",
   "execution_count": 42,
   "metadata": {},
   "outputs": [
    {
     "name": "stdout",
     "output_type": "stream",
     "text": [
      "7990\n"
     ]
    },
    {
     "data": {
      "text/html": [
       "<div>\n",
       "<style scoped>\n",
       "    .dataframe tbody tr th:only-of-type {\n",
       "        vertical-align: middle;\n",
       "    }\n",
       "\n",
       "    .dataframe tbody tr th {\n",
       "        vertical-align: top;\n",
       "    }\n",
       "\n",
       "    .dataframe thead th {\n",
       "        text-align: right;\n",
       "    }\n",
       "</style>\n",
       "<table border=\"1\" class=\"dataframe\">\n",
       "  <thead>\n",
       "    <tr style=\"text-align: right;\">\n",
       "      <th></th>\n",
       "      <th>Unnamed: 0</th>\n",
       "      <th>baseMean</th>\n",
       "      <th>log2FoldChange</th>\n",
       "      <th>lfcSE</th>\n",
       "      <th>stat</th>\n",
       "      <th>pvalue</th>\n",
       "      <th>padj</th>\n",
       "    </tr>\n",
       "  </thead>\n",
       "  <tbody>\n",
       "    <tr>\n",
       "      <th>4630</th>\n",
       "      <td>NM_001323903</td>\n",
       "      <td>469.064409</td>\n",
       "      <td>-0.856224</td>\n",
       "      <td>0.115062</td>\n",
       "      <td>-7.441441</td>\n",
       "      <td>9.959267e-14</td>\n",
       "      <td>7.957454e-10</td>\n",
       "    </tr>\n",
       "    <tr>\n",
       "      <th>3442</th>\n",
       "      <td>NM_002520</td>\n",
       "      <td>354.824004</td>\n",
       "      <td>-0.839931</td>\n",
       "      <td>0.212296</td>\n",
       "      <td>-3.956422</td>\n",
       "      <td>7.608086e-05</td>\n",
       "      <td>3.775690e-03</td>\n",
       "    </tr>\n",
       "  </tbody>\n",
       "</table>\n",
       "</div>"
      ],
      "text/plain": [
       "        Unnamed: 0    baseMean  log2FoldChange     lfcSE      stat  \\\n",
       "4630  NM_001323903  469.064409       -0.856224  0.115062 -7.441441   \n",
       "3442     NM_002520  354.824004       -0.839931  0.212296 -3.956422   \n",
       "\n",
       "            pvalue          padj  \n",
       "4630  9.959267e-14  7.957454e-10  \n",
       "3442  7.608086e-05  3.775690e-03  "
      ]
     },
     "execution_count": 42,
     "metadata": {},
     "output_type": "execute_result"
    }
   ],
   "source": [
    "batch = 'ER_L24_t1'\n",
    "deseq = pd.read_csv('../../Deseq2 Analysis/shift15/coding/csv_raw/'+batch+'.csv')\n",
    "deseq = deseq.sort_values(by=['log2FoldChange'])\n",
    "print(len(deseq))\n",
    "deseq.head(2)"
   ]
  },
  {
   "cell_type": "code",
   "execution_count": 43,
   "metadata": {},
   "outputs": [
    {
     "name": "stdout",
     "output_type": "stream",
     "text": [
      "40 0\n"
     ]
    }
   ],
   "source": [
    "background = deseq['Unnamed: 0']\n",
    "deseq_filtered = deseq.loc[deseq['padj']<0.05]\n",
    "up_num = sum(deseq_filtered['log2FoldChange'] > 1)\n",
    "target = deseq_filtered.tail(up_num)['Unnamed: 0']   # i.e. Interest group, upper right on volcano plot\n",
    "down_num=sum(deseq_filtered['log2FoldChange']<-1)\n",
    "print(up_num,down_num)\n"
   ]
  },
  {
   "cell_type": "code",
   "execution_count": 44,
   "metadata": {},
   "outputs": [],
   "source": [
    "#!mkdir deseq_test/pwms/$batch\n",
    "target_seq = Sequences(Sequences.genes2seq(target))\n",
    "bg_seq = Sequences(Sequences.genes2seq(background))\n",
    "down_num=sum(deseq_filtered['log2FoldChange']<-1)\n",
    "dep_seq=Sequences(Sequences.genes2seq(deseq_filtered.head(up_num)['Unnamed: 0']))\n",
    "\n",
    "ppm_out = pfm2ppm_df(target_seq.pfm)\n",
    "#ppm_out.to_csv(\"deseq_test/pwms/\"+batch+\"/\"+batch+\"_enriched\"+\".csv\")\n",
    "ppm_out = pfm2ppm_df(dep_seq.pfm)\n",
    "#ppm_out.to_csv(\"deseq_test/pwms/\"+batch+\"/\"+batch+\"_depleted\"+\".csv\")\n",
    "ppm_out = pfm2ppm_df(bg_seq.pfm)\n",
    "#ppm_out.to_csv(\"deseq_test/pwms/\"+batch+\"/\"+\"bg\"+\".csv\")"
   ]
  },
  {
   "cell_type": "code",
   "execution_count": null,
   "metadata": {},
   "outputs": [],
   "source": []
  },
  {
   "cell_type": "code",
   "execution_count": 39,
   "metadata": {},
   "outputs": [],
   "source": [
    "np.random.seed(42)\n",
    "test = TestSeq(target_seq,bg_seq,10000)\n",
    "test2 = TestSeq(bg_seq,bg_seq,10000,len(target_seq))"
   ]
  },
  {
   "cell_type": "code",
   "execution_count": null,
   "metadata": {},
   "outputs": [],
   "source": []
  },
  {
   "cell_type": "code",
   "execution_count": 40,
   "metadata": {},
   "outputs": [
    {
     "name": "stdout",
     "output_type": "stream",
     "text": [
      "mkdir: deseq_wo_replace: File exists\n",
      "mkdir: deseq_wo_replace/ER_S15_t1: File exists\n"
     ]
    }
   ],
   "source": [
    "!mkdir deseq_wo_replace\n",
    "!mkdir deseq_wo_replace/$batch\n",
    "t0 = TestSeq(target_seq,target_seq,10000)\n"
   ]
  },
  {
   "cell_type": "code",
   "execution_count": 41,
   "metadata": {},
   "outputs": [
    {
     "name": "stderr",
     "output_type": "stream",
     "text": [
      "/Users/Yue/opt/anaconda3/lib/python3.7/site-packages/seaborn/distributions.py:288: UserWarning: Data must have variance to compute a kernel density estimate.\n",
      "  warnings.warn(msg, UserWarning)\n"
     ]
    },
    {
     "data": {
      "image/png": "[encoded data removed]",
      "text/plain": [
       "<Figure size 432x288 with 1 Axes>"
      ]
     },
     "metadata": {
      "needs_background": "light"
     },
     "output_type": "display_data"
    }
   ],
   "source": [
    "ax=t0.dist()\n",
    "ax.get_figure().savefig(\"deseq_wo_replace/\"+batch+\"/\"+batch+\"_self_hist.png\")"
   ]
  },
  {
   "cell_type": "code",
   "execution_count": 42,
   "metadata": {},
   "outputs": [
    {
     "name": "stderr",
     "output_type": "stream",
     "text": [
      "/Users/Yue/opt/anaconda3/lib/python3.7/site-packages/seaborn/distributions.py:288: UserWarning: Data must have variance to compute a kernel density estimate.\n",
      "  warnings.warn(msg, UserWarning)\n"
     ]
    },
    {
     "data": {
      "image/png": "[encoded data removed]",
      "text/plain": [
       "<Figure size 432x288 with 1 Axes>"
      ]
     },
     "metadata": {
      "needs_background": "light"
     },
     "output_type": "display_data"
    }
   ],
   "source": [
    "ax=t0.logdist()\n",
    "ax.get_figure().savefig(\"deseq_wo_replace/\"+batch+\"/\"+batch+\"_self_hist_log.png\")"
   ]
  },
  {
   "cell_type": "code",
   "execution_count": 20,
   "metadata": {},
   "outputs": [
    {
     "name": "stdout",
     "output_type": "stream",
     "text": [
      "<class 'matplotlib.axes._subplots.AxesSubplot'>\n"
     ]
    },
    {
     "data": {
      "image/png": "[encoded data removed]",
      "text/plain": [
       "<Figure size 432x288 with 1 Axes>"
      ]
     },
     "metadata": {
      "needs_background": "light"
     },
     "output_type": "display_data"
    }
   ],
   "source": [
    "ax=test.logdist()\n",
    "print(type(ax))\n",
    "#ax.get_figure().savefig(\"deseq_wo_replace/\"+batch+\"/\"+batch+\"_test_hist.png\")"
   ]
  },
  {
   "cell_type": "code",
   "execution_count": 64,
   "metadata": {},
   "outputs": [
    {
     "name": "stdout",
     "output_type": "stream",
     "text": [
      "-47.61413889807437 -37.13931387613066 16.898140954499453\n"
     ]
    }
   ],
   "source": [
    "from scipy import stats\n",
    "x = ax.lines[0].get_xdata() # Get the x data of the distribution\n",
    "y = ax.lines[0].get_ydata() # Get the y data of the distribution\n",
    "maxid = np.argmax(y) # The id of the peak (maximum of y data)\n",
    "mode = x[maxid]\n",
    "logp = np.log(test.ps)\n",
    "median = np.median(logp)\n",
    "std=np.std(logp)\n",
    "print(mode,median,std)"
   ]
  },
  {
   "cell_type": "code",
   "execution_count": 65,
   "metadata": {},
   "outputs": [
    {
     "name": "stdout",
     "output_type": "stream",
     "text": [
      "809 2763 6669\n"
     ]
    }
   ],
   "source": [
    "left = np.searchsorted(logp,mode-std)\n",
    "mid = np.searchsorted(logp,mode)\n",
    "right = np.searchsorted(logp,mode+std)\n",
    "print(left,mid,right)"
   ]
  },
  {
   "cell_type": "code",
   "execution_count": 66,
   "metadata": {},
   "outputs": [
    {
     "name": "stdout",
     "output_type": "stream",
     "text": [
      "/Users/Yue/Documents/HGLab_new/RBC/MOTIF/SeqLogo\r\n"
     ]
    }
   ],
   "source": [
    "!pwd\n",
    "def disp_save_img(idx,pos):\n",
    "    num = 50\n",
    "    for i in range(num):\n",
    "        seq = test.seqs[i-num//2+idx]\n",
    "        if i == 0:\n",
    "            com_seq = seq\n",
    "        else:\n",
    "            com_seq.addseqs(seq.seqs)\n",
    "#        img=seq.plotlogo()\n",
    "        #display(img)\n",
    "#        with open(\"deseq_wo_replace/\"+batch+\"/\"+pos+str(i)+\".png\", \"wb\") as png:\n",
    "#            png.write(img.data)\n",
    "    img=com_seq.plotlogo()\n",
    "    #display(img)\n",
    "#    with open(\"deseq_wo_replace/\"+batch+\"/\"+pos+'_comb'+str(num)+\".png\", \"wb\") as png:\n",
    "#        png.write(img.data)\n",
    "    ppm_out = pfm2ppm_df(com_seq.pfm)\n",
    "    ppm_out.to_csv(\"deseq_test/pwms/\"+batch+\"/\"+batch+'_'+pos+'_comb'+str(num)+\".csv\")\n",
    "\n",
    "disp_save_img(mid,'median')\n",
    "disp_save_img(left,'leftstd')\n",
    "disp_save_img(right,'rightstd')"
   ]
  },
  {
   "cell_type": "code",
   "execution_count": 333,
   "metadata": {},
   "outputs": [],
   "source": [
    "img=target_seq.plotlogo()\n",
    "with open(\"deseq_wo_replace/\"+batch+\"/enriched\"+\".png\", \"wb\") as png:\n",
    "    png.write(img.data)\n",
    "img=bg_seq.plotlogo()\n",
    "with open(\"deseq_wo_replace/\"+batch+\"/background\"+\".png\", \"wb\") as png:\n",
    "    png.write(img.data)\n",
    "img=dep_seq.plotlogo()\n",
    "with open(\"deseq_wo_replace/\"+batch+\"/depleted\"+\".png\", \"wb\") as png:\n",
    "    png.write(img.data)"
   ]
  },
  {
   "cell_type": "code",
   "execution_count": null,
   "metadata": {},
   "outputs": [],
   "source": []
  },
  {
   "cell_type": "code",
   "execution_count": null,
   "metadata": {},
   "outputs": [],
   "source": []
  },
  {
   "cell_type": "code",
   "execution_count": 11,
   "metadata": {},
   "outputs": [
    {
     "data": {
      "text/html": [
       "<div>\n",
       "<style scoped>\n",
       "    .dataframe tbody tr th:only-of-type {\n",
       "        vertical-align: middle;\n",
       "    }\n",
       "\n",
       "    .dataframe tbody tr th {\n",
       "        vertical-align: top;\n",
       "    }\n",
       "\n",
       "    .dataframe thead th {\n",
       "        text-align: right;\n",
       "    }\n",
       "</style>\n",
       "<table border=\"1\" class=\"dataframe\">\n",
       "  <thead>\n",
       "    <tr style=\"text-align: right;\">\n",
       "      <th></th>\n",
       "      <th>GeneName</th>\n",
       "      <th>AccNum</th>\n",
       "      <th>Chrom</th>\n",
       "      <th>mRNALength</th>\n",
       "      <th>ORFLength</th>\n",
       "      <th>fpUTR_length</th>\n",
       "      <th>tpUTR_length</th>\n",
       "      <th>sumIntronLengths</th>\n",
       "    </tr>\n",
       "  </thead>\n",
       "  <tbody>\n",
       "    <tr>\n",
       "      <th>0</th>\n",
       "      <td>UBE2Q1</td>\n",
       "      <td>NM_017582</td>\n",
       "      <td>chr1</td>\n",
       "      <td>3223</td>\n",
       "      <td>1269</td>\n",
       "      <td>91</td>\n",
       "      <td>1863</td>\n",
       "      <td>6847</td>\n",
       "    </tr>\n",
       "    <tr>\n",
       "      <th>1</th>\n",
       "      <td>DUOXA1</td>\n",
       "      <td>NM_001276267</td>\n",
       "      <td>chr15</td>\n",
       "      <td>3032</td>\n",
       "      <td>897</td>\n",
       "      <td>395</td>\n",
       "      <td>1740</td>\n",
       "      <td>9479</td>\n",
       "    </tr>\n",
       "  </tbody>\n",
       "</table>\n",
       "</div>"
      ],
      "text/plain": [
       "  GeneName        AccNum  Chrom  mRNALength  ORFLength  fpUTR_length  \\\n",
       "0   UBE2Q1     NM_017582   chr1        3223       1269            91   \n",
       "1   DUOXA1  NM_001276267  chr15        3032        897           395   \n",
       "\n",
       "   tpUTR_length  sumIntronLengths  \n",
       "0          1863              6847  \n",
       "1          1740              9479  "
      ]
     },
     "execution_count": 11,
     "metadata": {},
     "output_type": "execute_result"
    }
   ],
   "source": [
    "filteredGeneList = pd.read_csv('../../Database/filteredGenesDetails_human_240118.txt',sep='\\t')\n",
    "acc2gene={}\n",
    "gene2acc={}\n",
    "for idx,row in filteredGeneList.iterrows():\n",
    "    acc2gene[row['AccNum']] = row['GeneName']\n",
    "    gene2acc[row['GeneName']] = row['AccNum']\n",
    "filteredGeneList.head(2)"
   ]
  },
  {
   "cell_type": "code",
   "execution_count": 12,
   "metadata": {},
   "outputs": [],
   "source": [
    "target_seq = Sequences(Sequences.genes2seq(target))\n",
    "bg_seq = Sequences(Sequences.genes2seq(background))"
   ]
  },
  {
   "cell_type": "code",
   "execution_count": null,
   "metadata": {},
   "outputs": [],
   "source": []
  },
  {
   "cell_type": "code",
   "execution_count": 13,
   "metadata": {},
   "outputs": [],
   "source": [
    "probs = []\n",
    "genes = []\n",
    "prob_genes = []\n",
    "for gene in target:\n",
    "    seq = Sequences.genes2seq([gene])\n",
    "    if len(seq)!=1: continue\n",
    "    prob=target_seq.seqLikelihood(seq[0])\n",
    "    prob_genes.append((prob,acc2gene[gene],gene))"
   ]
  },
  {
   "cell_type": "code",
   "execution_count": 31,
   "metadata": {},
   "outputs": [
    {
     "data": {
      "text/plain": [
       "[(-15.691570664157982, 'ALKBH4', 'NM_017621'),\n",
       " (-15.933307524572562, 'FRAT2', 'NM_012083'),\n",
       " (-16.138101937218575, 'MZT2B', 'NM_001330282'),\n",
       " (-16.66014887963749, 'TSPO', 'NM_001256530'),\n",
       " (-16.898874447357187, 'MMP14', 'NM_004995')]"
      ]
     },
     "execution_count": 31,
     "metadata": {},
     "output_type": "execute_result"
    }
   ],
   "source": [
    "prob_genes.sort(reverse=True)\n",
    "prob_genes[:5]"
   ]
  },
  {
   "cell_type": "code",
   "execution_count": 32,
   "metadata": {},
   "outputs": [
    {
     "data": {
      "text/plain": [
       "['ACGGCGCGATGGCGGCGGC',\n",
       " 'GGGGGGCCATGCCGTGCCG',\n",
       " 'CCGCGGGGATGGCGGCGCA',\n",
       " 'CAGCAGCCATGGCCCCGCC',\n",
       " 'CTCGGACCATGTCTCCCGC']"
      ]
     },
     "execution_count": 32,
     "metadata": {},
     "output_type": "execute_result"
    }
   ],
   "source": [
    "Sequences.genes2seq(['NM_017621','NM_012083','NM_001330282','NM_001256530','NM_004995'])"
   ]
  },
  {
   "cell_type": "code",
   "execution_count": 14,
   "metadata": {},
   "outputs": [],
   "source": [
    "prob_genes_bg = []\n",
    "for gene in background:\n",
    "    seq = Sequences.genes2seq([gene])\n",
    "    if len(seq)!=1: continue\n",
    "    prob=target_seq.seqLikelihood(seq[0])\n",
    "    prob_genes_bg.append((prob,acc2gene[gene],gene))"
   ]
  },
  {
   "cell_type": "code",
   "execution_count": 17,
   "metadata": {
    "scrolled": true
   },
   "outputs": [
    {
     "data": {
      "text/plain": [
       "[(-34.93667633262415, 'DMXL1', 'NM_001290322'),\n",
       " (-33.97571915376443, 'SCRN3', 'NM_024583'),\n",
       " (-33.84603221360522, 'FASTKD1', 'NM_001322046'),\n",
       " (-33.84603221360522, 'RPRD1A', 'NM_001303411'),\n",
       " (-33.68368476657378, 'SDCBP', 'NM_001348341')]"
      ]
     },
     "execution_count": 17,
     "metadata": {},
     "output_type": "execute_result"
    }
   ],
   "source": [
    "prob_genes_bg.sort(reverse=False)\n",
    "prob_genes_bg[:5]"
   ]
  },
  {
   "cell_type": "code",
   "execution_count": 35,
   "metadata": {},
   "outputs": [
    {
     "data": {
      "text/plain": [
       "['TTCATTTAATGAAATTTTC',\n",
       " 'TAAAAAAAATGGAACCTTT',\n",
       " 'TGATATAAATGAAAAAAAC',\n",
       " 'TGCAACAAATGAGAAATTC',\n",
       " 'AAAATTAAATGATAAAGCT']"
      ]
     },
     "execution_count": 35,
     "metadata": {},
     "output_type": "execute_result"
    }
   ],
   "source": [
    "Sequences.genes2seq(['NM_001290322','NM_024583','NM_001322046','NM_001303411','NM_001348341'])"
   ]
  },
  {
   "cell_type": "code",
   "execution_count": 36,
   "metadata": {},
   "outputs": [
    {
     "data": {
      "text/plain": [
       "[(-14.691182954282251, 'AFG3L2', 'NM_006796'),\n",
       " (-14.66846592799802, 'LAMP1', 'NM_005561'),\n",
       " (-14.663012077315555, 'AGFG1', 'NM_001135187'),\n",
       " (-14.550682892341635, 'PPP1R14B', 'NM_138689'),\n",
       " (-14.542486125137456, 'MYO1D', 'NM_015194')]"
      ]
     },
     "execution_count": 36,
     "metadata": {},
     "output_type": "execute_result"
    }
   ],
   "source": [
    "prob_genes_bg[-5:]"
   ]
  },
  {
   "cell_type": "code",
   "execution_count": 37,
   "metadata": {},
   "outputs": [
    {
     "data": {
      "text/plain": [
       "['CGGCGGCCATGGCGCACCG',\n",
       " 'CTCGCGCCATGGCGGCCCC',\n",
       " 'CCGCGGCCATGGCGGCCAG',\n",
       " 'CGGCCGCCATGGCGGACAG',\n",
       " 'CTGGCGCCATGGCGGAGCA']"
      ]
     },
     "execution_count": 37,
     "metadata": {},
     "output_type": "execute_result"
    }
   ],
   "source": [
    "Sequences.genes2seq(['NM_006796','NM_005561','NM_001135187','NM_138689','NM_015194'])"
   ]
  },
  {
   "cell_type": "code",
   "execution_count": 87,
   "metadata": {},
   "outputs": [
    {
     "name": "stdout",
     "output_type": "stream",
     "text": [
      "# of valid seqs:  1\n"
     ]
    },
    {
     "data": {
      "text/plain": [
       "['ACGGCGCGATGGCGGCGGC']"
      ]
     },
     "execution_count": 87,
     "metadata": {},
     "output_type": "execute_result"
    }
   ],
   "source": [
    "Sequences.genes2seq(['NM_017621'])"
   ]
  },
  {
   "cell_type": "code",
   "execution_count": 88,
   "metadata": {},
   "outputs": [
    {
     "name": "stdout",
     "output_type": "stream",
     "text": [
      "# of valid seqs:  1\n"
     ]
    },
    {
     "data": {
      "text/plain": [
       "['TTCATTTAATGAAATTTTC']"
      ]
     },
     "execution_count": 88,
     "metadata": {},
     "output_type": "execute_result"
    }
   ],
   "source": [
    "Sequences.genes2seq(['NM_001290322'])"
   ]
  },
  {
   "cell_type": "code",
   "execution_count": null,
   "metadata": {},
   "outputs": [],
   "source": []
  },
  {
   "cell_type": "code",
   "execution_count": null,
   "metadata": {},
   "outputs": [],
   "source": []
  },
  {
   "cell_type": "code",
   "execution_count": null,
   "metadata": {},
   "outputs": [],
   "source": []
  },
  {
   "cell_type": "code",
   "execution_count": 46,
   "metadata": {},
   "outputs": [
    {
     "data": {
      "text/plain": [
       "75"
      ]
     },
     "execution_count": 46,
     "metadata": {},
     "output_type": "execute_result"
    }
   ],
   "source": [
    "len(target_seq)"
   ]
  },
  {
   "cell_type": "code",
   "execution_count": 61,
   "metadata": {},
   "outputs": [],
   "source": [
    "batch = 'rpl22'\n",
    "target = pd.read_csv(batch+'.txt',sep='\\t',header=None)[1].dropna()\n",
    "background = pd.read_csv('bg.txt',sep='\\t',header=None)[1].dropna()"
   ]
  },
  {
   "cell_type": "code",
   "execution_count": 62,
   "metadata": {},
   "outputs": [],
   "source": [
    "target_seq = Sequences(Sequences.genes2seq(target))\n",
    "bg_seq = Sequences(Sequences.genes2seq(background))"
   ]
  },
  {
   "cell_type": "code",
   "execution_count": null,
   "metadata": {},
   "outputs": [],
   "source": []
  },
  {
   "cell_type": "code",
   "execution_count": 63,
   "metadata": {},
   "outputs": [],
   "source": [
    "img=target_seq.plotlogo()\n",
    "with open(batch+\"_enriched\"+\".png\", \"wb\") as png:\n",
    "    png.write(img.data)\n",
    "img=bg_seq.plotlogo()\n",
    "with open(\"background\"+\".png\", \"wb\") as png:\n",
    "    png.write(img.data)\n"
   ]
  },
  {
   "cell_type": "code",
   "execution_count": 64,
   "metadata": {},
   "outputs": [
    {
     "name": "stderr",
     "output_type": "stream",
     "text": [
      "D:\\anaconda3\\lib\\site-packages\\ipykernel_launcher.py:35: RuntimeWarning: divide by zero encountered in log2\n"
     ]
    },
    {
     "ename": "OverflowError",
     "evalue": "cannot convert float infinity to integer",
     "output_type": "error",
     "traceback": [
      "\u001b[1;31m---------------------------------------------------------------------------\u001b[0m",
      "\u001b[1;31mOverflowError\u001b[0m                             Traceback (most recent call last)",
      "\u001b[1;32m<ipython-input-64-4543110d5a7c>\u001b[0m in \u001b[0;36m<module>\u001b[1;34m\u001b[0m\n\u001b[0;32m      1\u001b[0m \u001b[0mnp\u001b[0m\u001b[1;33m.\u001b[0m\u001b[0mrandom\u001b[0m\u001b[1;33m.\u001b[0m\u001b[0mseed\u001b[0m\u001b[1;33m(\u001b[0m\u001b[1;36m42\u001b[0m\u001b[1;33m)\u001b[0m\u001b[1;33m\u001b[0m\u001b[1;33m\u001b[0m\u001b[0m\n\u001b[0;32m      2\u001b[0m \u001b[0mtest\u001b[0m \u001b[1;33m=\u001b[0m \u001b[0mTestSeq\u001b[0m\u001b[1;33m(\u001b[0m\u001b[0mtarget_seq\u001b[0m\u001b[1;33m,\u001b[0m\u001b[0mbg_seq\u001b[0m\u001b[1;33m,\u001b[0m\u001b[1;36m10000\u001b[0m\u001b[1;33m)\u001b[0m\u001b[1;33m\u001b[0m\u001b[1;33m\u001b[0m\u001b[0m\n\u001b[1;32m----> 3\u001b[1;33m \u001b[0max\u001b[0m\u001b[1;33m=\u001b[0m\u001b[0mtest\u001b[0m\u001b[1;33m.\u001b[0m\u001b[0mlogdist\u001b[0m\u001b[1;33m(\u001b[0m\u001b[1;33m)\u001b[0m\u001b[1;33m\u001b[0m\u001b[1;33m\u001b[0m\u001b[0m\n\u001b[0m\u001b[0;32m      4\u001b[0m \u001b[0max\u001b[0m\u001b[1;33m.\u001b[0m\u001b[0mget_figure\u001b[0m\u001b[1;33m(\u001b[0m\u001b[1;33m)\u001b[0m\u001b[1;33m.\u001b[0m\u001b[0msavefig\u001b[0m\u001b[1;33m(\u001b[0m\u001b[0mbatch\u001b[0m\u001b[1;33m+\u001b[0m\u001b[1;34m\"_test_hist.png\"\u001b[0m\u001b[1;33m)\u001b[0m\u001b[1;33m\u001b[0m\u001b[1;33m\u001b[0m\u001b[0m\n",
      "\u001b[1;32m<ipython-input-58-84e340d5bedd>\u001b[0m in \u001b[0;36mlogdist\u001b[1;34m(self)\u001b[0m\n\u001b[0;32m     33\u001b[0m         \u001b[1;32mreturn\u001b[0m \u001b[0msns\u001b[0m\u001b[1;33m.\u001b[0m\u001b[0mdistplot\u001b[0m\u001b[1;33m(\u001b[0m\u001b[0mself\u001b[0m\u001b[1;33m.\u001b[0m\u001b[0mps\u001b[0m\u001b[1;33m)\u001b[0m\u001b[1;33m\u001b[0m\u001b[1;33m\u001b[0m\u001b[0m\n\u001b[0;32m     34\u001b[0m     \u001b[1;32mdef\u001b[0m \u001b[0mlogdist\u001b[0m\u001b[1;33m(\u001b[0m\u001b[0mself\u001b[0m\u001b[1;33m)\u001b[0m\u001b[1;33m:\u001b[0m\u001b[1;33m\u001b[0m\u001b[1;33m\u001b[0m\u001b[0m\n\u001b[1;32m---> 35\u001b[1;33m         \u001b[1;32mreturn\u001b[0m \u001b[0msns\u001b[0m\u001b[1;33m.\u001b[0m\u001b[0mdistplot\u001b[0m\u001b[1;33m(\u001b[0m\u001b[0mnp\u001b[0m\u001b[1;33m.\u001b[0m\u001b[0mlog2\u001b[0m\u001b[1;33m(\u001b[0m\u001b[0mself\u001b[0m\u001b[1;33m.\u001b[0m\u001b[0mps\u001b[0m\u001b[1;33m)\u001b[0m\u001b[1;33m)\u001b[0m\u001b[1;33m\u001b[0m\u001b[1;33m\u001b[0m\u001b[0m\n\u001b[0m",
      "\u001b[1;32mD:\\anaconda3\\lib\\site-packages\\seaborn\\distributions.py\u001b[0m in \u001b[0;36mdistplot\u001b[1;34m(a, bins, hist, kde, rug, fit, hist_kws, kde_kws, rug_kws, fit_kws, color, vertical, norm_hist, axlabel, label, ax)\u001b[0m\n\u001b[0;32m    215\u001b[0m     \u001b[1;32mif\u001b[0m \u001b[0mhist\u001b[0m\u001b[1;33m:\u001b[0m\u001b[1;33m\u001b[0m\u001b[1;33m\u001b[0m\u001b[0m\n\u001b[0;32m    216\u001b[0m         \u001b[1;32mif\u001b[0m \u001b[0mbins\u001b[0m \u001b[1;32mis\u001b[0m \u001b[1;32mNone\u001b[0m\u001b[1;33m:\u001b[0m\u001b[1;33m\u001b[0m\u001b[1;33m\u001b[0m\u001b[0m\n\u001b[1;32m--> 217\u001b[1;33m             \u001b[0mbins\u001b[0m \u001b[1;33m=\u001b[0m \u001b[0mmin\u001b[0m\u001b[1;33m(\u001b[0m\u001b[0m_freedman_diaconis_bins\u001b[0m\u001b[1;33m(\u001b[0m\u001b[0ma\u001b[0m\u001b[1;33m)\u001b[0m\u001b[1;33m,\u001b[0m \u001b[1;36m50\u001b[0m\u001b[1;33m)\u001b[0m\u001b[1;33m\u001b[0m\u001b[1;33m\u001b[0m\u001b[0m\n\u001b[0m\u001b[0;32m    218\u001b[0m         \u001b[0mhist_kws\u001b[0m\u001b[1;33m.\u001b[0m\u001b[0msetdefault\u001b[0m\u001b[1;33m(\u001b[0m\u001b[1;34m\"alpha\"\u001b[0m\u001b[1;33m,\u001b[0m \u001b[1;36m0.4\u001b[0m\u001b[1;33m)\u001b[0m\u001b[1;33m\u001b[0m\u001b[1;33m\u001b[0m\u001b[0m\n\u001b[0;32m    219\u001b[0m         \u001b[1;32mif\u001b[0m \u001b[0mLooseVersion\u001b[0m\u001b[1;33m(\u001b[0m\u001b[0mmpl\u001b[0m\u001b[1;33m.\u001b[0m\u001b[0m__version__\u001b[0m\u001b[1;33m)\u001b[0m \u001b[1;33m<\u001b[0m \u001b[0mLooseVersion\u001b[0m\u001b[1;33m(\u001b[0m\u001b[1;34m\"2.2\"\u001b[0m\u001b[1;33m)\u001b[0m\u001b[1;33m:\u001b[0m\u001b[1;33m\u001b[0m\u001b[1;33m\u001b[0m\u001b[0m\n",
      "\u001b[1;32mD:\\anaconda3\\lib\\site-packages\\seaborn\\distributions.py\u001b[0m in \u001b[0;36m_freedman_diaconis_bins\u001b[1;34m(a)\u001b[0m\n\u001b[0;32m     35\u001b[0m         \u001b[1;32mreturn\u001b[0m \u001b[0mint\u001b[0m\u001b[1;33m(\u001b[0m\u001b[0mnp\u001b[0m\u001b[1;33m.\u001b[0m\u001b[0msqrt\u001b[0m\u001b[1;33m(\u001b[0m\u001b[0ma\u001b[0m\u001b[1;33m.\u001b[0m\u001b[0msize\u001b[0m\u001b[1;33m)\u001b[0m\u001b[1;33m)\u001b[0m\u001b[1;33m\u001b[0m\u001b[1;33m\u001b[0m\u001b[0m\n\u001b[0;32m     36\u001b[0m     \u001b[1;32melse\u001b[0m\u001b[1;33m:\u001b[0m\u001b[1;33m\u001b[0m\u001b[1;33m\u001b[0m\u001b[0m\n\u001b[1;32m---> 37\u001b[1;33m         \u001b[1;32mreturn\u001b[0m \u001b[0mint\u001b[0m\u001b[1;33m(\u001b[0m\u001b[0mnp\u001b[0m\u001b[1;33m.\u001b[0m\u001b[0mceil\u001b[0m\u001b[1;33m(\u001b[0m\u001b[1;33m(\u001b[0m\u001b[0ma\u001b[0m\u001b[1;33m.\u001b[0m\u001b[0mmax\u001b[0m\u001b[1;33m(\u001b[0m\u001b[1;33m)\u001b[0m \u001b[1;33m-\u001b[0m \u001b[0ma\u001b[0m\u001b[1;33m.\u001b[0m\u001b[0mmin\u001b[0m\u001b[1;33m(\u001b[0m\u001b[1;33m)\u001b[0m\u001b[1;33m)\u001b[0m \u001b[1;33m/\u001b[0m \u001b[0mh\u001b[0m\u001b[1;33m)\u001b[0m\u001b[1;33m)\u001b[0m\u001b[1;33m\u001b[0m\u001b[1;33m\u001b[0m\u001b[0m\n\u001b[0m\u001b[0;32m     38\u001b[0m \u001b[1;33m\u001b[0m\u001b[0m\n\u001b[0;32m     39\u001b[0m \u001b[1;33m\u001b[0m\u001b[0m\n",
      "\u001b[1;31mOverflowError\u001b[0m: cannot convert float infinity to integer"
     ]
    },
    {
     "data": {
      "image/png": "[encoded data removed]",
      "text/plain": [
       "<Figure size 432x288 with 1 Axes>"
      ]
     },
     "metadata": {
      "needs_background": "light"
     },
     "output_type": "display_data"
    }
   ],
   "source": [
    "np.random.seed(42)\n",
    "test = TestSeq(target_seq,bg_seq,10000)\n",
    "ax=test.logdist()\n",
    "ax.get_figure().savefig(batch+\"_test_hist.png\")"
   ]
  },
  {
   "cell_type": "code",
   "execution_count": null,
   "metadata": {},
   "outputs": [],
   "source": [
    "from scipy import stats\n",
    "x = ax.lines[0].get_xdata() # Get the x data of the distribution\n",
    "y = ax.lines[0].get_ydata() # Get the y data of the distribution\n",
    "maxid = np.argmax(y) # The id of the peak (maximum of y data)\n",
    "mode = x[maxid]\n",
    "logp = np.log(test.ps)\n",
    "median = np.median(logp)\n",
    "std=np.std(logp)\n",
    "print(mode,median,std)"
   ]
  },
  {
   "cell_type": "code",
   "execution_count": null,
   "metadata": {},
   "outputs": [],
   "source": []
  },
  {
   "cell_type": "code",
   "execution_count": null,
   "metadata": {},
   "outputs": [],
   "source": []
  },
  {
   "cell_type": "code",
   "execution_count": 57,
   "metadata": {},
   "outputs": [
    {
     "data": {
      "text/plain": [
       "[0.0,\n",
       " 0.0,\n",
       " 0.0,\n",
       " 0.0,\n",
       " 4.3624544252905145e-278,\n",
       " 2.7592339062413294e-277,\n",
       " 4.915586932014141e-277,\n",
       " 5.453864061328422e-274,\n",
       " 1.432350560348456e-272,\n",
       " 2.5610519460651166e-272,\n",
       " 3.504573690347171e-271,\n",
       " 2.872841789984277e-270,\n",
       " 1.0958323351128767e-268,\n",
       " 6.039652154783967e-237,\n",
       " 8.695876053102216e-235,\n",
       " 1.289084623461567e-230,\n",
       " 2.52048137893767e-229,\n",
       " 1.79958814572947e-228,\n",
       " 1.9181241980042932e-228,\n",
       " 1.936936538999015e-228,\n",
       " 1.9393662132684778e-228,\n",
       " 2.2377549473679025e-228,\n",
       " 2.7257177409783603e-228,\n",
       " 8.975632678478113e-228,\n",
       " 1.238350849360088e-227,\n",
       " 1.4516285978003871e-227,\n",
       " 3.391777217442456e-227,\n",
       " 5.095594970588968e-227,\n",
       " 9.036983602272943e-227,\n",
       " 1.5239616778820297e-226,\n",
       " 1.674976541976617e-225,\n",
       " 1.1172460687211913e-224,\n",
       " 1.1934311098729453e-224,\n",
       " 5.299895201884472e-224,\n",
       " 1.9532631601669035e-223,\n",
       " 8.543619938007221e-223,\n",
       " 9.173729065144163e-223,\n",
       " 2.922475023584421e-222,\n",
       " 1.3972631299505042e-221,\n",
       " 5.871653252171025e-221,\n",
       " 1.1794577862041294e-220,\n",
       " 1.877741715744052e-220,\n",
       " 2.4306684494262993e-220,\n",
       " 2.4489125323562503e-220,\n",
       " 1.6728428934017904e-219,\n",
       " 1.872363989560934e-219,\n",
       " 4.4311668696408873e-219,\n",
       " 2.347593154926448e-218,\n",
       " 2.586652275981691e-217,\n",
       " 4.5673550385897954e-217,\n",
       " 5.0047570060753235e-217,\n",
       " 1.962815013905255e-216,\n",
       " 2.1917217165158844e-216,\n",
       " 3.066653785243072e-215,\n",
       " 1.177126717683529e-190,\n",
       " 3.218749841786585e-189,\n",
       " 5.095680213316844e-187,\n",
       " 2.6887562257861954e-186,\n",
       " 1.2098758659476637e-185,\n",
       " 6.229800637849865e-185,\n",
       " 9.398275291218826e-185,\n",
       " 9.53556992507464e-184,\n",
       " 9.568998737930559e-184,\n",
       " 1.150261378844022e-183,\n",
       " 4.448957989930579e-183,\n",
       " 2.0439299265406478e-182,\n",
       " 2.2015465075266542e-182,\n",
       " 3.179108457417502e-182,\n",
       " 6.984399001828566e-182,\n",
       " 7.064870455954552e-182,\n",
       " 1.1022172132802878e-181,\n",
       " 1.2882556955226319e-181,\n",
       " 3.4635187899999574e-181,\n",
       " 4.21585927977845e-181,\n",
       " 4.476253336491018e-181,\n",
       " 4.7628932462600464e-181,\n",
       " 9.68391729200998e-181,\n",
       " 1.2878100634868779e-180,\n",
       " 1.4030095229253475e-180,\n",
       " 4.820090017125306e-180,\n",
       " 5.788052845805412e-180,\n",
       " 9.764819888201509e-180,\n",
       " 2.10461475457563e-179,\n",
       " 2.124767429904443e-179,\n",
       " 3.9417286475519506e-179,\n",
       " 4.3004721803499574e-179,\n",
       " 8.003578176115107e-179,\n",
       " 9.638503036224693e-179,\n",
       " 1.2587119133019415e-178,\n",
       " 3.2576361734464273e-178,\n",
       " 3.600562307925222e-178,\n",
       " 4.157719914069748e-178,\n",
       " 7.187262181843077e-178,\n",
       " 1.3449417554656036e-177,\n",
       " 1.567990945636754e-177,\n",
       " 1.7035454202146994e-177,\n",
       " 1.9155585804904375e-177,\n",
       " 1.926314657354079e-177,\n",
       " 2.0520084022951267e-177,\n",
       " 2.100842253263783e-177,\n",
       " 2.6892249017282294e-177,\n",
       " 4.751976513584632e-177,\n",
       " 6.324235973523098e-177,\n",
       " 9.414806127786356e-177,\n",
       " 1.1660362980102139e-176,\n",
       " 2.871053013719611e-176,\n",
       " 1.196609453218086e-175,\n",
       " 1.4266820964286492e-175,\n",
       " 1.572531907261948e-175,\n",
       " 1.880533318912715e-175,\n",
       " 2.4428263316169694e-175,\n",
       " 6.793956171146926e-175,\n",
       " 7.626350359605863e-175,\n",
       " 8.968304345601408e-175,\n",
       " 9.007197325331602e-175,\n",
       " 1.1245702999055982e-174,\n",
       " 1.515732853639952e-174,\n",
       " 1.7051494344478105e-174,\n",
       " 2.281812820954536e-174,\n",
       " 2.492219431386455e-174,\n",
       " 3.263676768670323e-174,\n",
       " 4.082198153959816e-174,\n",
       " 4.587074488864777e-174,\n",
       " 5.250102318721278e-174,\n",
       " 6.772309660273805e-173,\n",
       " 9.357361868394823e-173,\n",
       " 1.0381686767490407e-172,\n",
       " 1.4969232386006276e-172,\n",
       " 2.2619840694773004e-172,\n",
       " 3.023768057228916e-172,\n",
       " 4.0776886453499295e-172,\n",
       " 4.763697532573997e-172,\n",
       " 6.13291483689103e-172,\n",
       " 7.761786358349337e-172,\n",
       " 1.0408363806105138e-171,\n",
       " 1.1827296678308828e-171,\n",
       " 1.2343830162981975e-171,\n",
       " 1.3740129319703366e-171,\n",
       " 1.6262471656217814e-171,\n",
       " 1.9065116756986097e-171,\n",
       " 2.3549987509644535e-171,\n",
       " 2.602980646602506e-171,\n",
       " 2.9080059981054302e-171,\n",
       " 4.189728729137799e-171,\n",
       " 5.928112778285758e-171,\n",
       " 7.738702532131512e-171,\n",
       " 9.38783873315221e-171,\n",
       " 1.1339095507607537e-170,\n",
       " 1.442265273757584e-170,\n",
       " 3.40160363441005e-170,\n",
       " 5.520135313480239e-170,\n",
       " 6.753347275905594e-170,\n",
       " 9.577148210956435e-170,\n",
       " 1.0591066808501518e-169,\n",
       " 2.7271291820375166e-169,\n",
       " 2.508042747087308e-168,\n",
       " 1.1959846990357906e-167,\n",
       " 2.4704321572341534e-167,\n",
       " 3.430703514676105e-167,\n",
       " 1.0086309310604065e-166,\n",
       " 9.136665947071665e-166,\n",
       " 8.728425778023825e-163,\n",
       " 8.764665495154006e-162,\n",
       " 1.6326648082131547e-155,\n",
       " 6.558270810713065e-153,\n",
       " 3.3638670816041264e-151,\n",
       " 2.0534290541464964e-149,\n",
       " 3.3857801638225328e-149,\n",
       " 1.803012325157119e-148,\n",
       " 1.9995828138804022e-148,\n",
       " 8.415392341666096e-148,\n",
       " 1.980801666433814e-147,\n",
       " 1.9163692730011873e-146,\n",
       " 5.013971081346611e-146,\n",
       " 6.854398867509566e-146,\n",
       " 1.834069944226786e-145,\n",
       " 2.847102421095398e-145,\n",
       " 6.020164686327077e-145,\n",
       " 8.931161711058306e-145,\n",
       " 8.95227277178395e-145,\n",
       " 3.4648703224699937e-144,\n",
       " 2.0108413738509447e-143,\n",
       " 2.770287053373287e-143,\n",
       " 4.73964215430832e-143,\n",
       " 9.998632885037753e-143,\n",
       " 1.2641788561666047e-142,\n",
       " 3.923902123467239e-142,\n",
       " 5.143171070983555e-142,\n",
       " 5.672588184317686e-142,\n",
       " 1.0423463854889616e-141,\n",
       " 1.4048879635181346e-141,\n",
       " 1.5195498784858734e-141,\n",
       " 3.025159615930456e-141,\n",
       " 3.265635475010436e-141,\n",
       " 3.3404688219076427e-141,\n",
       " 3.7088618497816535e-141,\n",
       " 5.279990856396272e-141,\n",
       " 7.421945669614271e-141,\n",
       " 7.482805632084375e-141,\n",
       " 1.152878303791719e-140,\n",
       " 1.3487396360532646e-140,\n",
       " 1.636846589042917e-140,\n",
       " 1.7022843026864744e-140,\n",
       " 1.79551356417056e-140,\n",
       " 1.88412517127987e-140,\n",
       " 2.109536761081265e-140,\n",
       " 2.739520765313028e-140,\n",
       " 3.1250065323700147e-140,\n",
       " 3.5451809867010843e-140,\n",
       " 5.00619930968323e-140,\n",
       " 5.0305098029073415e-140,\n",
       " 6.157635950927537e-140,\n",
       " 6.837168119066135e-140,\n",
       " 7.7964935630121235e-140,\n",
       " 1.0766084511341082e-139,\n",
       " 1.1953263147043791e-139,\n",
       " 1.3044975746361167e-139,\n",
       " 1.6695841883845549e-139,\n",
       " 1.732279945248168e-139,\n",
       " 1.8149098785091995e-139,\n",
       " 2.198152242375777e-139,\n",
       " 3.069358051643225e-139,\n",
       " 3.374153524014638e-139,\n",
       " 5.203526868389418e-139,\n",
       " 5.237816822278981e-139,\n",
       " 5.50231655981366e-139,\n",
       " 5.890355997564219e-139,\n",
       " 6.276486838229883e-139,\n",
       " 6.65232230546113e-139,\n",
       " 9.18875207851527e-139,\n",
       " 9.444965194031665e-139,\n",
       " 1.1941742875756215e-138,\n",
       " 1.2669215163083522e-138,\n",
       " 1.8313593575998633e-138,\n",
       " 2.304806659430356e-138,\n",
       " 2.778238845360378e-138,\n",
       " 3.227815848903717e-138,\n",
       " 3.2509197199343696e-138,\n",
       " 4.3851457308145947e-138,\n",
       " 4.4442958428532485e-138,\n",
       " 4.579930128122107e-138,\n",
       " 5.586258801151872e-138,\n",
       " 7.164310714194056e-138,\n",
       " 7.20613683800175e-138,\n",
       " 9.617438924815426e-138,\n",
       " 1.0035018858322768e-137,\n",
       " 1.188981624907577e-137,\n",
       " 1.98057446321431e-137,\n",
       " 2.2500156548255083e-137,\n",
       " 2.3828697329905484e-137,\n",
       " 2.534280789217734e-137,\n",
       " 2.6294444699155357e-137,\n",
       " 2.6967339272784445e-137,\n",
       " 3.0799005978765333e-137,\n",
       " 3.340148091440852e-137,\n",
       " 4.228077881895909e-137,\n",
       " 4.351012553989941e-137,\n",
       " 5.145158225962485e-137,\n",
       " 6.299848380129597e-137,\n",
       " 6.69454906579499e-137,\n",
       " 6.706283031098399e-137,\n",
       " 7.637588616277788e-137,\n",
       " 9.272313555669272e-137,\n",
       " 1.0034522596388078e-136,\n",
       " 1.096385477503052e-136,\n",
       " 1.2666523660228847e-136,\n",
       " 1.3782183452045338e-136,\n",
       " 1.4895410931079355e-136,\n",
       " 1.7215853707013468e-136,\n",
       " 1.723056291100215e-136,\n",
       " 1.847615827992605e-136,\n",
       " 1.852375117416182e-136,\n",
       " 1.914279136707852e-136,\n",
       " 1.9537780056354894e-136,\n",
       " 2.2301812308906146e-136,\n",
       " 2.269433975546794e-136,\n",
       " 2.394345217873322e-136,\n",
       " 2.5520868372616685e-136,\n",
       " 2.925732531336385e-136,\n",
       " 3.3009645915005924e-136,\n",
       " 3.417621414993017e-136,\n",
       " 4.414976428454658e-136,\n",
       " 4.481627528049185e-136,\n",
       " 4.904551214602365e-136,\n",
       " 5.7588969474890776e-136,\n",
       " 7.376207195735862e-136,\n",
       " 1.0299182614491643e-135,\n",
       " 1.3011159262763595e-135,\n",
       " 1.3465111399472703e-135,\n",
       " 1.488482412047969e-135,\n",
       " 1.5256629200547784e-135,\n",
       " 1.9228220627559843e-135,\n",
       " 2.5087459729999973e-135,\n",
       " 2.5647269152548142e-135,\n",
       " 2.895687004029855e-135,\n",
       " 5.499640965050429e-135,\n",
       " 6.142442568666944e-135,\n",
       " 6.36161130369241e-135,\n",
       " 7.92322027351851e-135,\n",
       " 9.166225780125519e-135,\n",
       " 1.1330658801389487e-134,\n",
       " 1.3314817593742034e-134,\n",
       " 1.4132446138909303e-134,\n",
       " 1.529045521661967e-134,\n",
       " 1.5321907401482523e-134,\n",
       " 1.5360312614155893e-134,\n",
       " 2.1505291694956645e-134,\n",
       " 2.503122728605767e-134,\n",
       " 2.5975067323763645e-134,\n",
       " 2.7516008049386136e-134,\n",
       " 3.0515878749427333e-134,\n",
       " 3.166824092739475e-134,\n",
       " 3.3074463500579813e-134,\n",
       " 3.4026691337127135e-134,\n",
       " 3.411011166516308e-134,\n",
       " 3.667146756224305e-134,\n",
       " 3.8745942940704223e-134,\n",
       " 4.390124516332462e-134,\n",
       " 4.439221037827254e-134,\n",
       " 5.078192119498925e-134,\n",
       " 5.50794707779709e-134,\n",
       " 5.626199430284004e-134,\n",
       " 5.777540096249472e-134,\n",
       " 6.069493705133859e-134,\n",
       " 7.362323323613928e-134,\n",
       " 8.240300713007911e-134,\n",
       " 9.278915535057445e-134,\n",
       " 1.0019185379607875e-133,\n",
       " 1.0435188001530118e-133,\n",
       " 1.2915907120806401e-133,\n",
       " 1.3196715304859323e-133,\n",
       " 1.3269924291768063e-133,\n",
       " 1.359778084726166e-133,\n",
       " 1.4167095756870664e-133,\n",
       " 1.4400649776969713e-133,\n",
       " 1.492571432291037e-133,\n",
       " 1.9293318634040125e-133,\n",
       " 2.4278892594541736e-133,\n",
       " 2.811534032585071e-133,\n",
       " 2.9535709399234252e-133,\n",
       " 3.1986547724506054e-133,\n",
       " 3.618507151829716e-133,\n",
       " 5.370584594992565e-133,\n",
       " 6.527747869809475e-133,\n",
       " 6.602875177617767e-133,\n",
       " 6.8046118406072695e-133,\n",
       " 8.298289131847079e-133,\n",
       " 9.092252085027238e-133,\n",
       " 1.0238361959034029e-132,\n",
       " 1.180821306854461e-132,\n",
       " 1.4731445474070032e-132,\n",
       " 1.474685026785421e-132,\n",
       " 1.5615000526965113e-132,\n",
       " 1.6916338098680236e-132,\n",
       " 1.9611650525998216e-132,\n",
       " 2.3047812661447027e-132,\n",
       " 2.994654689576979e-132,\n",
       " 3.0050724311167865e-132,\n",
       " 3.56297815478387e-132,\n",
       " 3.679419304477514e-132,\n",
       " 3.8839620439758e-132,\n",
       " 3.899484985563809e-132,\n",
       " 4.9673226157161683e-132,\n",
       " 5.377143228338307e-132,\n",
       " 5.439331364460201e-132,\n",
       " 6.079118043106255e-132,\n",
       " 6.607916448086278e-132,\n",
       " 9.604152310423585e-132,\n",
       " 1.1905574401004405e-131,\n",
       " 1.238416127024828e-131,\n",
       " 1.3297507578728578e-131,\n",
       " 1.6936995834523615e-131,\n",
       " 1.886330983431342e-131,\n",
       " 2.1491777688638524e-131,\n",
       " 2.179417056188507e-131,\n",
       " 2.6808873003319594e-131,\n",
       " 2.7122196717055936e-131,\n",
       " 3.7138259601189113e-131,\n",
       " 5.576283374238605e-131,\n",
       " 5.966349189247237e-131,\n",
       " 6.7373757836428e-131,\n",
       " 7.03554894389435e-131,\n",
       " 7.628328166710602e-131,\n",
       " 7.996397091290612e-131,\n",
       " 8.194623543798364e-131,\n",
       " 8.519337975761939e-131,\n",
       " 9.366128455730624e-131,\n",
       " 9.483573489424671e-131,\n",
       " 1.0586972969974467e-130,\n",
       " 1.0883485005224307e-130,\n",
       " 1.1080828213771438e-130,\n",
       " 1.1393652992190362e-130,\n",
       " 1.3580910534150849e-130,\n",
       " 1.5062015968082618e-130,\n",
       " 1.50832541285854e-130,\n",
       " 1.641095707027816e-130,\n",
       " 1.7335838571377785e-130,\n",
       " 1.8590214475228894e-130,\n",
       " 2.824262349218545e-130,\n",
       " 2.923110178613939e-130,\n",
       " 3.2900287831223927e-130,\n",
       " 3.5745872877328042e-130,\n",
       " 3.733872447445734e-130,\n",
       " 4.069486657169526e-130,\n",
       " 4.0874692041248594e-130,\n",
       " 4.642594655894147e-130,\n",
       " 5.6440167376898604e-130,\n",
       " 5.730649693241775e-130,\n",
       " 6.6349098871103136e-130,\n",
       " 7.551706967642001e-130,\n",
       " 8.11824015506436e-130,\n",
       " 9.312127762690679e-130,\n",
       " 9.876420398681671e-130,\n",
       " 1.0593634593497045e-129,\n",
       " 1.0836247159783494e-129,\n",
       " 1.1692366731232065e-129,\n",
       " 1.2339108073462003e-129,\n",
       " 1.2632275250911813e-129,\n",
       " 1.340098477527979e-129,\n",
       " 2.3881380149380045e-129,\n",
       " 2.8630404769592616e-129,\n",
       " 3.0366368622906596e-129,\n",
       " 3.1751922091227937e-129,\n",
       " 3.5716870899062804e-129,\n",
       " 3.837843091609189e-129,\n",
       " 3.90381852480631e-129,\n",
       " 6.610613432808535e-129,\n",
       " 6.688770613232851e-129,\n",
       " 7.583242830211686e-129,\n",
       " 9.87913784108875e-129,\n",
       " 1.0451121937681135e-128,\n",
       " 1.2404918039740506e-128,\n",
       " 1.2636943035459675e-128,\n",
       " 1.4955331918803192e-128,\n",
       " 1.865425319524343e-128,\n",
       " 2.526200111559981e-128,\n",
       " 3.3024296762834796e-128,\n",
       " 3.659566586994163e-128,\n",
       " 4.0867888519018735e-128,\n",
       " 4.1209688118122476e-128,\n",
       " 5.246049887559578e-128,\n",
       " 5.516541383327461e-128,\n",
       " 5.522273097694788e-128,\n",
       " 5.962655901452498e-128,\n",
       " 8.628505131901067e-128,\n",
       " 9.692277183557094e-128,\n",
       " 2.271835773089062e-127,\n",
       " 3.6383641870964823e-127,\n",
       " 3.644771051234633e-127,\n",
       " 3.97533243926856e-127,\n",
       " 4.4385475820348775e-127,\n",
       " 4.864790908566771e-127,\n",
       " 1.1046643734874419e-126,\n",
       " 1.2080487283598121e-126,\n",
       " 1.514118599117547e-126,\n",
       " 1.5285454522272083e-126,\n",
       " 1.5704278424654904e-126,\n",
       " 1.6653314878657304e-126,\n",
       " 2.552953049313885e-126,\n",
       " 3.1509201152247984e-126,\n",
       " 4.54637104302898e-126,\n",
       " 4.7244073747543666e-126,\n",
       " 4.773351189838829e-126,\n",
       " 6.109856797543865e-126,\n",
       " 6.992511124176351e-126,\n",
       " 8.065455191823849e-126,\n",
       " 1.1117894236221296e-125,\n",
       " 1.405716191855821e-125,\n",
       " 1.952186955669301e-125,\n",
       " 3.372581172228777e-125,\n",
       " 3.944256948152939e-125,\n",
       " 7.650236399370484e-125,\n",
       " 1.349901080886943e-124,\n",
       " 1.743447630484712e-124,\n",
       " 9.816773790097547e-124,\n",
       " 2.514530920899749e-123,\n",
       " 1.8175221876159708e-122,\n",
       " 1.2452104713723811e-121,\n",
       " 6.229058415453876e-120,\n",
       " 5.203481170792187e-119,\n",
       " 3.472998109397052e-116,\n",
       " 2.1059090415136224e-115,\n",
       " 9.887486760567575e-115,\n",
       " 1.4416860001497169e-114,\n",
       " 1.0503977161351735e-113,\n",
       " 8.476750527053845e-113,\n",
       " 1.6362735500190786e-112,\n",
       " 8.313461473818288e-112,\n",
       " 2.404705561931685e-111,\n",
       " 3.113700937937623e-111,\n",
       " 3.3447613772519325e-111,\n",
       " 4.7632716819935185e-111,\n",
       " 6.945964834438063e-111,\n",
       " 1.7267412121360444e-110,\n",
       " 2.028879302853636e-110,\n",
       " 3.104095537278883e-110,\n",
       " 3.258404449583229e-110,\n",
       " 3.9096324385316647e-110,\n",
       " 4.6066747463583465e-110,\n",
       " 5.57640332347717e-110,\n",
       " 6.902249128014083e-110,\n",
       " 7.344389088385873e-110,\n",
       " 2.0716470134741414e-109,\n",
       " 2.1323023326630286e-109,\n",
       " 2.382653282371363e-109,\n",
       " 2.8781219725338067e-109,\n",
       " 4.183041578069813e-109,\n",
       " 4.700368008313108e-109,\n",
       " 4.973892695552847e-109,\n",
       " 5.552956541629505e-109,\n",
       " 1.1348534898704456e-108,\n",
       " 1.9402371254710264e-108,\n",
       " 2.5207910535543435e-108,\n",
       " 3.62312529450085e-108,\n",
       " 4.5839576023159236e-108,\n",
       " 6.740077802769697e-108,\n",
       " 1.2712803719004261e-107,\n",
       " 1.5005836142883946e-107,\n",
       " 1.637433999361221e-107,\n",
       " 2.392413624078207e-107,\n",
       " 2.4279413504137737e-107,\n",
       " 3.83438337762603e-107,\n",
       " 3.880947848983896e-107,\n",
       " 4.339500814933477e-107,\n",
       " 6.037073468264974e-107,\n",
       " 6.484020726249126e-107,\n",
       " 7.26687440084002e-107,\n",
       " 8.93338764269176e-107,\n",
       " 9.103318828323251e-107,\n",
       " 1.0146459444440881e-106,\n",
       " 1.49371165127259e-106,\n",
       " 1.5434419160722421e-106,\n",
       " 1.7388175809553264e-106,\n",
       " 2.0434371342222e-106,\n",
       " 2.4584974219021114e-106,\n",
       " 4.094408824831945e-106,\n",
       " 4.205322705638744e-106,\n",
       " 4.823863597990176e-106,\n",
       " 5.631451644107352e-106,\n",
       " 5.821389195166528e-106,\n",
       " 6.192068173660529e-106,\n",
       " 7.219580332524451e-106,\n",
       " 7.222996979114965e-106,\n",
       " 7.739247578896468e-106,\n",
       " 9.45327840311564e-106,\n",
       " 1.0492260274030687e-105,\n",
       " 1.0752147697376048e-105,\n",
       " 1.5661895473452115e-105,\n",
       " 1.6551260094453205e-105,\n",
       " 1.669978974679085e-105,\n",
       " 1.9029589898043467e-105,\n",
       " 2.883021700947769e-105,\n",
       " 3.301072438944657e-105,\n",
       " 3.503671017801671e-105,\n",
       " 3.793263362293488e-105,\n",
       " 5.363338862882411e-105,\n",
       " 5.839183530285973e-105,\n",
       " 6.226123688482832e-105,\n",
       " 6.481502973344852e-105,\n",
       " 6.515550714112864e-105,\n",
       " 7.012783506487606e-105,\n",
       " 7.42969423057405e-105,\n",
       " 8.240674720800032e-105,\n",
       " 8.286932323181911e-105,\n",
       " 8.36205484492308e-105,\n",
       " 9.880058786235643e-105,\n",
       " 1.092758962485953e-104,\n",
       " 1.1244332954237493e-104,\n",
       " 1.2487884478169405e-104,\n",
       " 1.3507753530057003e-104,\n",
       " 1.4223907234210435e-104,\n",
       " 1.612101267164299e-104,\n",
       " 1.614292811092444e-104,\n",
       " 1.614942747858072e-104,\n",
       " 1.6350922858820232e-104,\n",
       " 1.822394313520055e-104,\n",
       " 1.8242572479831687e-104,\n",
       " 2.0145461656861907e-104,\n",
       " 2.1612710059998653e-104,\n",
       " 2.6668656371679132e-104,\n",
       " 2.6778015103056124e-104,\n",
       " 2.7113996281596438e-104,\n",
       " 3.4824058186626837e-104,\n",
       " 3.6077681053896165e-104,\n",
       " 3.8182665116095346e-104,\n",
       " 3.8635502315950696e-104,\n",
       " 4.0242611554789616e-104,\n",
       " 4.93475517925703e-104,\n",
       " 5.0737343262072366e-104,\n",
       " 5.25104485249378e-104,\n",
       " 6.243899788464547e-104,\n",
       " 6.425049690953822e-104,\n",
       " 6.723051641916635e-104,\n",
       " 7.550339167438365e-104,\n",
       " 7.975179090048348e-104,\n",
       " 9.926321530411772e-104,\n",
       " 1.0320698998598346e-103,\n",
       " 1.3164050144031387e-103,\n",
       " 1.3313612557030027e-103,\n",
       " 1.3354839775085093e-103,\n",
       " 1.3779703117939044e-103,\n",
       " 1.3973461155290263e-103,\n",
       " 1.6158534896864517e-103,\n",
       " 1.6165475159669743e-103,\n",
       " 1.6957924413450495e-103,\n",
       " 1.8327615157217685e-103,\n",
       " 1.9732443574412409e-103,\n",
       " 2.1360310392549446e-103,\n",
       " 2.1715172685092245e-103,\n",
       " 2.2630306784245584e-103,\n",
       " 2.3193047927324385e-103,\n",
       " 2.43802703634345e-103,\n",
       " 2.6813747744856283e-103,\n",
       " 2.82405889400683e-103,\n",
       " 3.1596061006911015e-103,\n",
       " 3.564290929485534e-103,\n",
       " 3.8184025235321004e-103,\n",
       " 3.9791088449497915e-103,\n",
       " 4.04339326076947e-103,\n",
       " 4.2134091750363516e-103,\n",
       " 4.2694555327637976e-103,\n",
       " 4.34523614504204e-103,\n",
       " 4.385400628506267e-103,\n",
       " 4.88713375503272e-103,\n",
       " 5.108001951396528e-103,\n",
       " 5.516760819083064e-103,\n",
       " 5.685413908354748e-103,\n",
       " 5.764759573317736e-103,\n",
       " 5.958831663850621e-103,\n",
       " 6.090487243055611e-103,\n",
       " 6.521894895349408e-103,\n",
       " 7.107374852582058e-103,\n",
       " 7.536985908016794e-103,\n",
       " 7.981970262090077e-103,\n",
       " 8.177185789588819e-103,\n",
       " 9.54739192426153e-103,\n",
       " 9.622616743002172e-103,\n",
       " 1.0139282702899536e-102,\n",
       " 1.0705156580185472e-102,\n",
       " 1.3022683916715006e-102,\n",
       " 1.4312813363660493e-102,\n",
       " 1.4592423885607918e-102,\n",
       " 1.5466620119813452e-102,\n",
       " 1.5696656288037699e-102,\n",
       " 1.5950472134673615e-102,\n",
       " 1.7028121648805468e-102,\n",
       " 2.174525342908053e-102,\n",
       " 2.3011488340124163e-102,\n",
       " 2.418726996549065e-102,\n",
       " 2.4297567434402444e-102,\n",
       " 2.5699713589030487e-102,\n",
       " 2.8632245970327666e-102,\n",
       " 2.8639270358945595e-102,\n",
       " 2.8903018699751368e-102,\n",
       " 2.9799919534415476e-102,\n",
       " 3.1908995523784085e-102,\n",
       " 3.734992328297421e-102,\n",
       " 4.961829894628157e-102,\n",
       " 5.039083035543869e-102,\n",
       " 5.122840743724538e-102,\n",
       " 6.024342406575528e-102,\n",
       " 6.025130317360734e-102,\n",
       " 6.064281649134881e-102,\n",
       " 6.8843816181340176e-102,\n",
       " 6.895595891655773e-102,\n",
       " 6.9600487646391025e-102,\n",
       " 8.519788857604855e-102,\n",
       " 8.556169423905446e-102,\n",
       " 9.349770821749001e-102,\n",
       " 9.572147680501877e-102,\n",
       " 9.726524845079091e-102,\n",
       " 9.786564190152747e-102,\n",
       " 9.985923740719255e-102,\n",
       " 1.0112988822927144e-101,\n",
       " 1.0996857285578747e-101,\n",
       " 1.1621608150579913e-101,\n",
       " 1.3182939619503833e-101,\n",
       " 1.3251382279767448e-101,\n",
       " 1.3521254247814064e-101,\n",
       " 1.4023652254219379e-101,\n",
       " 1.527214974867667e-101,\n",
       " 1.7187387314931498e-101,\n",
       " 1.7817685998759754e-101,\n",
       " 1.8264993103208862e-101,\n",
       " 1.8272861685174096e-101,\n",
       " 1.8481776670126563e-101,\n",
       " 2.0097059604192812e-101,\n",
       " 2.0923705126245386e-101,\n",
       " 2.1136260984435108e-101,\n",
       " 2.357834855870712e-101,\n",
       " 2.7995875900854284e-101,\n",
       " 2.8228431119095367e-101,\n",
       " 3.4952640093192126e-101,\n",
       " 4.3469898759316204e-101,\n",
       " 4.4656700767664513e-101,\n",
       " 4.916732113044903e-101,\n",
       " 5.123430519074388e-101,\n",
       " 5.365846189256084e-101,\n",
       " 5.558627932353616e-101,\n",
       " 6.183783247556272e-101,\n",
       " 6.311301308258199e-101,\n",
       " 6.359455316691926e-101,\n",
       " 6.654738730769412e-101,\n",
       " 6.755415641531849e-101,\n",
       " 6.939591127005419e-101,\n",
       " 7.744055217635923e-101,\n",
       " 7.933105767921466e-101,\n",
       " 8.707282222599649e-101,\n",
       " 8.97186020948632e-101,\n",
       " 1.0481947910373705e-100,\n",
       " 1.0891750272001688e-100,\n",
       " 1.1489808167584257e-100,\n",
       " 1.2257222079525468e-100,\n",
       " 1.2344324440478305e-100,\n",
       " 1.2569847908347673e-100,\n",
       " 1.3958830155981914e-100,\n",
       " 1.4486884846218172e-100,\n",
       " 1.4494916538116397e-100,\n",
       " 1.4984338973508974e-100,\n",
       " 1.8255296097845702e-100,\n",
       " 1.94632312216947e-100,\n",
       " 1.9501131239747844e-100,\n",
       " 2.0333994547073764e-100,\n",
       " 2.1630964888923904e-100,\n",
       " 2.2641491739159207e-100,\n",
       " 2.2713303754893275e-100,\n",
       " 2.2914968303846777e-100,\n",
       " 2.3655391993811397e-100,\n",
       " 2.4759475748281107e-100,\n",
       " 2.6139045014190655e-100,\n",
       " 2.881194567233636e-100,\n",
       " 2.8919190754301063e-100,\n",
       " 3.212403204708023e-100,\n",
       " 3.272395626578745e-100,\n",
       " 3.5017740332135986e-100,\n",
       " 4.1154691281302973e-100,\n",
       " 4.3052413796935293e-100,\n",
       " 5.04572416089768e-100,\n",
       " 5.144163110720425e-100,\n",
       " 5.400360443974427e-100,\n",
       " 5.547706292879717e-100,\n",
       " 5.58856171794166e-100,\n",
       " 5.844347002792407e-100,\n",
       " 5.863424950087695e-100,\n",
       " 6.110750197957073e-100,\n",
       " 6.778817505451033e-100,\n",
       " 7.229045487974078e-100,\n",
       " 7.624832861667643e-100,\n",
       " 7.668576040958847e-100,\n",
       " 8.31490446273601e-100,\n",
       " 8.390569453706075e-100,\n",
       " 8.649259634777972e-100,\n",
       " 8.703785392006279e-100,\n",
       " 8.961681714368606e-100,\n",
       " 9.952602507467856e-100,\n",
       " 1.013294318413987e-99,\n",
       " 1.0133453104714396e-99,\n",
       " 1.0275674975513966e-99,\n",
       " 1.161902301950859e-99,\n",
       " 1.2584003112914324e-99,\n",
       " 1.2588418647255961e-99,\n",
       " 1.2895251593748284e-99,\n",
       " 1.3368398335109908e-99,\n",
       " 1.3373485445189494e-99,\n",
       " 1.3891359977414904e-99,\n",
       " 1.4474036577282468e-99,\n",
       " 1.4958976856801354e-99,\n",
       " 1.6827820812529805e-99,\n",
       " 1.7630043508332614e-99,\n",
       " 1.8448047454742857e-99,\n",
       " 1.8536105714894483e-99,\n",
       " 1.924565081776952e-99,\n",
       " 2.0212403768525636e-99,\n",
       " 2.0475781881488593e-99,\n",
       " 2.060624136500872e-99,\n",
       " 2.2200244892339426e-99,\n",
       " 2.2330452032873838e-99,\n",
       " 2.2902282592652012e-99,\n",
       " 2.326229686240104e-99,\n",
       " 2.3384229015145155e-99,\n",
       " 2.3670270746992053e-99,\n",
       " 2.57730735742648e-99,\n",
       " 2.8213970355202975e-99,\n",
       " 3.4553196931137303e-99,\n",
       " 3.665115173159077e-99,\n",
       " 3.789937621458168e-99,\n",
       " 4.0003113723098026e-99,\n",
       " 4.1016383279084115e-99,\n",
       " 4.183872069168638e-99,\n",
       " 4.210201633545854e-99,\n",
       " 4.4421245841859635e-99,\n",
       " 4.8296580915412266e-99,\n",
       " 4.931589246308819e-99,\n",
       " 5.2409798087236786e-99,\n",
       " 5.308755607049933e-99,\n",
       " 5.5062719669774505e-99,\n",
       " 5.546842136956997e-99,\n",
       " 5.646388690980259e-99,\n",
       " 5.715541865199421e-99,\n",
       " 5.798847060174251e-99,\n",
       " 5.961217160379027e-99,\n",
       " 5.986872537520732e-99,\n",
       " 5.9975752536563566e-99,\n",
       " 6.257087295978672e-99,\n",
       " 6.291151308244119e-99,\n",
       " 6.327568526616107e-99,\n",
       " 6.80800510840006e-99,\n",
       " 7.97827380805929e-99,\n",
       " 8.016667761783009e-99,\n",
       " 8.077215180147124e-99,\n",
       " 8.355305589594238e-99,\n",
       " 8.482338147395972e-99,\n",
       " 8.86352121284917e-99,\n",
       " 9.327871307477103e-99,\n",
       " 9.597445877823842e-99,\n",
       " 9.710134124518736e-99,\n",
       " 1.0818706923982543e-98,\n",
       " 1.093137791649428e-98,\n",
       " 1.1659873488090634e-98,\n",
       " 1.2953353994312643e-98,\n",
       " 1.3720446010828503e-98,\n",
       " 1.4830774994941243e-98,\n",
       " 1.4987408912995033e-98,\n",
       " 1.509303295549435e-98,\n",
       " 1.6521729205591902e-98,\n",
       " 1.7442176805024916e-98,\n",
       " 1.747785297582953e-98,\n",
       " 1.9036587634965757e-98,\n",
       " 1.9467424423117382e-98,\n",
       " 1.9832606813880963e-98,\n",
       " 2.2955373255909524e-98,\n",
       " 2.2996112809229593e-98,\n",
       " 2.3109003715162602e-98,\n",
       " 2.445065464311261e-98,\n",
       " 2.6419751525934342e-98,\n",
       " 2.644020517955299e-98,\n",
       " 2.793515591734697e-98,\n",
       " 2.8910118680800006e-98,\n",
       " 2.9456471319992474e-98,\n",
       " 3.0418732345413334e-98,\n",
       " 3.077280587634948e-98,\n",
       " 3.3370258615459215e-98,\n",
       " 3.337714113768191e-98,\n",
       " 3.430609099995002e-98,\n",
       " 3.475007203086985e-98,\n",
       " 3.580446222048015e-98,\n",
       " 3.632002776272267e-98,\n",
       " 3.746513886836212e-98,\n",
       " 3.76325980510909e-98,\n",
       " 3.8340793427876003e-98,\n",
       " 4.009312782976836e-98,\n",
       " 4.202554592599737e-98,\n",
       " 4.528994157233816e-98,\n",
       " 4.966440581064713e-98,\n",
       " 5.220587469894673e-98,\n",
       " 5.24818311816519e-98,\n",
       " 5.2555817790581445e-98,\n",
       " 5.30853060272049e-98,\n",
       " 5.847084897158146e-98,\n",
       " 6.594653513144301e-98,\n",
       " 6.733793804504264e-98,\n",
       " 6.930070766601205e-98,\n",
       " 7.534258190948521e-98,\n",
       " 7.663414475671159e-98,\n",
       " 8.067012378074185e-98,\n",
       " 9.208264360958436e-98,\n",
       " 9.306289944414255e-98,\n",
       " 9.950283921797036e-98,\n",
       " 1.0077357825569027e-97,\n",
       " 1.0165677090387647e-97,\n",
       " 1.0422406061772973e-97,\n",
       " 1.1531613174250592e-97,\n",
       " 1.1823346747313053e-97,\n",
       " 1.246909502907062e-97,\n",
       " 1.251299534659443e-97,\n",
       " 1.2546536171189505e-97,\n",
       " 1.4027144312336393e-97,\n",
       " 1.4209628774061425e-97,\n",
       " 1.4896245627354692e-97,\n",
       " 1.61990749742528e-97,\n",
       " 1.757122590353469e-97,\n",
       " 1.7745210914059237e-97,\n",
       " 1.8788204727428626e-97,\n",
       " 1.9151808756022855e-97,\n",
       " 2.056874891088443e-97,\n",
       " 2.1012703939840808e-97,\n",
       " 2.1146436817994774e-97,\n",
       " 2.1720078309553892e-97,\n",
       " 2.345547151329653e-97,\n",
       " 2.37695152329135e-97,\n",
       " 2.390986168991821e-97,\n",
       " 2.5425753898037697e-97,\n",
       " 2.577063796703335e-97,\n",
       " 2.590407043540574e-97,\n",
       " 2.6541149545548444e-97,\n",
       " 2.690807774269167e-97,\n",
       " 2.7382880342740904e-97,\n",
       " 2.8020404856290957e-97,\n",
       " 2.9428777239349277e-97,\n",
       " 2.955351266236034e-97,\n",
       " 2.96690520821161e-97,\n",
       " 3.166297417583388e-97,\n",
       " 3.370472753478206e-97,\n",
       " 3.608016959020288e-97,\n",
       " 4.075365964168808e-97,\n",
       " 4.1091932893913506e-97,\n",
       " 4.2288917770571467e-97,\n",
       " 4.280820754160061e-97,\n",
       " 4.31030843378076e-97,\n",
       " 4.4319260604204055e-97,\n",
       " 4.6273920392847e-97,\n",
       " 4.69517256685716e-97,\n",
       " 4.873268850745871e-97,\n",
       " 4.938291175234731e-97,\n",
       " 5.133716285914827e-97,\n",
       " 5.13741949169999e-97,\n",
       " 5.562877275816053e-97,\n",
       " 5.778456689993345e-97,\n",
       " 5.823438960085296e-97,\n",
       " 5.872901105021949e-97,\n",
       " 5.883310909168847e-97,\n",
       " 5.914659198068934e-97,\n",
       " 6.005485963902492e-97,\n",
       " 6.414020878429542e-97,\n",
       " 7.095460108545395e-97,\n",
       " 7.83264683290664e-97,\n",
       " 8.065132069193671e-97,\n",
       " 8.115619221350595e-97,\n",
       " 8.13071544879639e-97,\n",
       " 8.173750849781804e-97,\n",
       " 8.424478808179635e-97,\n",
       " 9.116666354626101e-97,\n",
       " 1.2277536768922413e-96,\n",
       " 1.2907906358364567e-96,\n",
       " 1.3615655966186585e-96,\n",
       " 1.3805758812760157e-96,\n",
       " 1.4055213438579596e-96,\n",
       " 1.4954443027167046e-96,\n",
       " 1.5669027479283426e-96,\n",
       " 1.6617827603677013e-96,\n",
       " 1.6786222420569969e-96,\n",
       " 1.7153443539274327e-96,\n",
       " 1.774932755312567e-96,\n",
       " 1.7760798493403785e-96,\n",
       " 1.8037262902482363e-96,\n",
       " 1.8328752897139256e-96,\n",
       " 1.914056270117803e-96,\n",
       " 1.9985290848130455e-96,\n",
       " 2.0017958756144687e-96,\n",
       " 2.1034833541078804e-96,\n",
       " 2.1563264094240554e-96,\n",
       " 2.1751873744804335e-96,\n",
       " 2.2302621491777827e-96,\n",
       " 2.4236852069933865e-96,\n",
       " 2.4883562871646523e-96,\n",
       " 3.0915482834119774e-96,\n",
       " 3.283894224088385e-96,\n",
       " 3.2896758698603916e-96,\n",
       " 3.4333794170028477e-96,\n",
       " 3.873584701957582e-96,\n",
       " 3.928516558453041e-96,\n",
       " 4.078584424639696e-96,\n",
       " 4.173488999702686e-96,\n",
       " 4.199120838485449e-96,\n",
       " 4.360370962388138e-96,\n",
       " 4.473960987286341e-96,\n",
       " 4.5114703483121035e-96,\n",
       " 4.64161038774525e-96,\n",
       " 4.681440484752011e-96,\n",
       " 5.446672194343576e-96,\n",
       " 5.488659716715365e-96,\n",
       " 5.814976261292961e-96,\n",
       " 5.9900701984255264e-96,\n",
       " 6.490075592130311e-96,\n",
       " 6.72964420207464e-96,\n",
       " 6.973961145785396e-96,\n",
       " 7.356037995585906e-96,\n",
       " 7.639109224267517e-96,\n",
       " 7.896507445462154e-96,\n",
       " 8.305265671987746e-96,\n",
       " 8.97475798243452e-96,\n",
       " 9.021423886102143e-96,\n",
       " 9.517278452853014e-96,\n",
       " 9.603309149224929e-96,\n",
       " 9.628823997096208e-96,\n",
       " 1.0163356253300031e-95,\n",
       " 1.051885975509497e-95,\n",
       " 1.1233753129052826e-95,\n",
       " 1.1892213121310212e-95,\n",
       " 1.344358544087417e-95,\n",
       " 1.4213053662550076e-95,\n",
       " 1.4451649852019249e-95,\n",
       " 1.564285889558313e-95,\n",
       " 1.571347106140264e-95,\n",
       " 1.6210755475966888e-95,\n",
       " 1.6806425701878217e-95,\n",
       " 1.7042254478402727e-95,\n",
       " 1.785551590398892e-95,\n",
       " 1.7856992208881293e-95,\n",
       " 1.8392498839221617e-95,\n",
       " ...]"
      ]
     },
     "execution_count": 57,
     "metadata": {},
     "output_type": "execute_result"
    }
   ],
   "source": [
    "test.ps"
   ]
  },
  {
   "cell_type": "code",
   "execution_count": null,
   "metadata": {},
   "outputs": [],
   "source": []
  },
  {
   "cell_type": "code",
   "execution_count": null,
   "metadata": {},
   "outputs": [],
   "source": []
  },
  {
   "cell_type": "code",
   "execution_count": null,
   "metadata": {},
   "outputs": [],
   "source": []
  },
  {
   "cell_type": "code",
   "execution_count": null,
   "metadata": {},
   "outputs": [],
   "source": []
  },
  {
   "cell_type": "code",
   "execution_count": null,
   "metadata": {},
   "outputs": [],
   "source": []
  },
  {
   "cell_type": "code",
   "execution_count": null,
   "metadata": {},
   "outputs": [],
   "source": []
  },
  {
   "cell_type": "code",
   "execution_count": null,
   "metadata": {},
   "outputs": [],
   "source": []
  },
  {
   "cell_type": "code",
   "execution_count": null,
   "metadata": {},
   "outputs": [],
   "source": []
  },
  {
   "cell_type": "code",
   "execution_count": null,
   "metadata": {},
   "outputs": [],
   "source": []
  },
  {
   "cell_type": "code",
   "execution_count": null,
   "metadata": {},
   "outputs": [],
   "source": []
  },
  {
   "cell_type": "code",
   "execution_count": null,
   "metadata": {},
   "outputs": [],
   "source": []
  },
  {
   "cell_type": "code",
   "execution_count": null,
   "metadata": {},
   "outputs": [],
   "source": []
  },
  {
   "cell_type": "code",
   "execution_count": null,
   "metadata": {},
   "outputs": [],
   "source": []
  },
  {
   "cell_type": "code",
   "execution_count": null,
   "metadata": {},
   "outputs": [],
   "source": []
  },
  {
   "cell_type": "code",
   "execution_count": null,
   "metadata": {},
   "outputs": [],
   "source": []
  },
  {
   "cell_type": "code",
   "execution_count": null,
   "metadata": {},
   "outputs": [],
   "source": []
  },
  {
   "cell_type": "code",
   "execution_count": null,
   "metadata": {},
   "outputs": [],
   "source": []
  },
  {
   "cell_type": "code",
   "execution_count": null,
   "metadata": {},
   "outputs": [],
   "source": []
  },
  {
   "cell_type": "code",
   "execution_count": null,
   "metadata": {},
   "outputs": [],
   "source": []
  },
  {
   "cell_type": "code",
   "execution_count": null,
   "metadata": {},
   "outputs": [],
   "source": []
  },
  {
   "cell_type": "code",
   "execution_count": null,
   "metadata": {},
   "outputs": [],
   "source": []
  },
  {
   "cell_type": "code",
   "execution_count": 20,
   "metadata": {},
   "outputs": [
    {
     "name": "stdout",
     "output_type": "stream",
     "text": [
      "33 1\n",
      "189 15\n",
      "110 8\n",
      "40 0\n"
     ]
    },
    {
     "data": {
      "image/png": "[encoded data removed]",
      "text/plain": [
       "<Figure size 432x288 with 1 Axes>"
      ]
     },
     "metadata": {
      "needs_background": "light"
     },
     "output_type": "display_data"
    }
   ],
   "source": [
    "for batch in ['ER_S15_t2','ER_S15_t1','ER_S15_t0','ER_L24_t1']:\n",
    "    #batch = 'ER_S15_t2'\n",
    "    deseq = pd.read_csv('../../Deseq2 Analysis/shift15/coding/csv_raw/'+batch+'.csv')\n",
    "    deseq = deseq.sort_values(by=['log2FoldChange'])\n",
    "    background = deseq['Unnamed: 0']\n",
    "    deseq_filtered = deseq.loc[deseq['padj']<0.05]\n",
    "    up_num = sum(deseq_filtered['log2FoldChange'] > 1)\n",
    "    target = deseq_filtered.tail(up_num)['Unnamed: 0']   # i.e. Interest group, upper right on volcano plot\n",
    "    down_num=sum(deseq_filtered['log2FoldChange']<-1)\n",
    "    print(up_num,down_num)\n",
    "    target_seq = Sequences(Sequences.genes2seq(target))\n",
    "    bg_seq = Sequences(Sequences.genes2seq(background))\n",
    "    down_num=sum(deseq_filtered['log2FoldChange']<-1)\n",
    "    dep_seq=Sequences(Sequences.genes2seq(deseq_filtered.head(up_num)['Unnamed: 0']))\n",
    "    np.random.seed(42)\n",
    "    # test = TestSeq(target_seq,bg_seq,100000)\n",
    "    # ax=test.logdist()\n",
    "    # with open('deseq_wo_replace/ps/'+batch+\"_enrich_vs_bg_test_ps.txt\", 'w') as f:\n",
    "    #     for item in test.ps:\n",
    "    #         f.write(\"%s\\n\" % item)\n",
    "    test2 = TestSeq(bg_seq,bg_seq,100000,up_num)\n",
    "    ax = test2.logdist()\n",
    "    with open('deseq_wo_replace/ps/'+batch+\"_bg_vs_bg_test_ps (enrichnum).txt\", 'w') as f:\n",
    "        for item in test2.ps:\n",
    "            f.write(\"%s\\n\" % item)"
   ]
  },
  {
   "cell_type": "code",
   "execution_count": null,
   "metadata": {},
   "outputs": [],
   "source": []
  },
  {
   "cell_type": "code",
   "execution_count": 52,
   "metadata": {},
   "outputs": [
    {
     "name": "stdout",
     "output_type": "stream",
     "text": [
      "0.0\n"
     ]
    }
   ],
   "source": [
    "from pprint import pprint\n",
    ">>> pprint (TestSeq(bg_seq,bg_seq,1,up_num).ps[0])\n",
    "seq = bg_seq.sample(up_num)\n",
    "            ## dof = (4-1)*(8+8) = 48, number of freqs = 64\n",
    "            ## dof = k - 1 - ddof\n",
    "            ## ddof = 64 - 1 - 48 = 15\n",
    "_, p = chisquare(seq.flat*len(target),f_exp=target.flat*len(target),ddof=14)\n",
    "            ps.append(p)\n",
    "            seqs.append(seq)"
   ]
  },
  {
   "cell_type": "code",
   "execution_count": 18,
   "metadata": {},
   "outputs": [
    {
     "name": "stdout",
     "output_type": "stream",
     "text": [
      "0.008281543319458098\n"
     ]
    }
   ],
   "source": [
    "from pprint import pprint\n",
    ">>> pprint (TestSeq(bg_seq,bg_seq,1,up_num).ps[0])"
   ]
  },
  {
   "cell_type": "code",
   "execution_count": null,
   "metadata": {},
   "outputs": [],
   "source": [
    "target_s"
   ]
  }
 ],
 "metadata": {
  "kernelspec": {
   "display_name": "Python 3",
   "language": "python",
   "name": "python3"
  },
  "language_info": {
   "codemirror_mode": {
    "name": "ipython",
    "version": 3
   },
   "file_extension": ".py",
   "mimetype": "text/x-python",
   "name": "python",
   "nbconvert_exporter": "python",
   "pygments_lexer": "ipython3",
   "version": "3.7.6"
  }
 },
 "nbformat": 4,
 "nbformat_minor": 4
}
