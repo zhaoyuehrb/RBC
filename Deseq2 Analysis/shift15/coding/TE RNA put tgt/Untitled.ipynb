{
 "cells": [
  {
   "cell_type": "code",
   "execution_count": 1,
   "metadata": {},
   "outputs": [],
   "source": [
    "import pandas as pd"
   ]
  },
  {
   "cell_type": "code",
   "execution_count": 40,
   "metadata": {},
   "outputs": [],
   "source": [
    "te21 = pd.read_csv('RNA TE T2T1.csv')\n",
    "te10 = pd.read_csv('RNA TE T1T0.csv')"
   ]
  },
  {
   "cell_type": "code",
   "execution_count": 43,
   "metadata": {},
   "outputs": [
    {
     "data": {
      "text/html": [
       "<div>\n",
       "<style scoped>\n",
       "    .dataframe tbody tr th:only-of-type {\n",
       "        vertical-align: middle;\n",
       "    }\n",
       "\n",
       "    .dataframe tbody tr th {\n",
       "        vertical-align: top;\n",
       "    }\n",
       "\n",
       "    .dataframe thead th {\n",
       "        text-align: right;\n",
       "    }\n",
       "</style>\n",
       "<table border=\"1\" class=\"dataframe\">\n",
       "  <thead>\n",
       "    <tr style=\"text-align: right;\">\n",
       "      <th></th>\n",
       "      <th>Unnamed: 0</th>\n",
       "      <th>AccNum</th>\n",
       "      <th>Gene</th>\n",
       "      <th>TElogFC</th>\n",
       "      <th>RNAlogFC</th>\n",
       "    </tr>\n",
       "  </thead>\n",
       "  <tbody>\n",
       "    <tr>\n",
       "      <th>5255</th>\n",
       "      <td>5255</td>\n",
       "      <td>NM_001271848</td>\n",
       "      <td>ZNF700</td>\n",
       "      <td>-1.431292</td>\n",
       "      <td>-0.550929</td>\n",
       "    </tr>\n",
       "    <tr>\n",
       "      <th>5129</th>\n",
       "      <td>5129</td>\n",
       "      <td>NM_005390</td>\n",
       "      <td>PDHA2</td>\n",
       "      <td>-1.253081</td>\n",
       "      <td>-0.625701</td>\n",
       "    </tr>\n",
       "    <tr>\n",
       "      <th>7928</th>\n",
       "      <td>7928</td>\n",
       "      <td>NM_002748</td>\n",
       "      <td>MAPK6</td>\n",
       "      <td>-1.207412</td>\n",
       "      <td>0.661482</td>\n",
       "    </tr>\n",
       "    <tr>\n",
       "      <th>3226</th>\n",
       "      <td>3226</td>\n",
       "      <td>NM_001199324</td>\n",
       "      <td>ZNF615</td>\n",
       "      <td>-1.176145</td>\n",
       "      <td>-0.321274</td>\n",
       "    </tr>\n",
       "    <tr>\n",
       "      <th>1454</th>\n",
       "      <td>1454</td>\n",
       "      <td>NM_152283</td>\n",
       "      <td>ZFP62</td>\n",
       "      <td>-1.139034</td>\n",
       "      <td>-0.123822</td>\n",
       "    </tr>\n",
       "    <tr>\n",
       "      <th>...</th>\n",
       "      <td>...</td>\n",
       "      <td>...</td>\n",
       "      <td>...</td>\n",
       "      <td>...</td>\n",
       "      <td>...</td>\n",
       "    </tr>\n",
       "    <tr>\n",
       "      <th>2832</th>\n",
       "      <td>2832</td>\n",
       "      <td>NM_016565</td>\n",
       "      <td>COA4</td>\n",
       "      <td>1.492216</td>\n",
       "      <td>-0.885177</td>\n",
       "    </tr>\n",
       "    <tr>\n",
       "      <th>1408</th>\n",
       "      <td>1408</td>\n",
       "      <td>NM_032440</td>\n",
       "      <td>LCOR</td>\n",
       "      <td>1.513740</td>\n",
       "      <td>1.205329</td>\n",
       "    </tr>\n",
       "    <tr>\n",
       "      <th>6517</th>\n",
       "      <td>6517</td>\n",
       "      <td>NM_138689</td>\n",
       "      <td>PPP1R14B</td>\n",
       "      <td>1.538988</td>\n",
       "      <td>-0.517610</td>\n",
       "    </tr>\n",
       "    <tr>\n",
       "      <th>3978</th>\n",
       "      <td>3978</td>\n",
       "      <td>NM_005694</td>\n",
       "      <td>COX17</td>\n",
       "      <td>1.679055</td>\n",
       "      <td>1.447336</td>\n",
       "    </tr>\n",
       "    <tr>\n",
       "      <th>51</th>\n",
       "      <td>51</td>\n",
       "      <td>NM_006885</td>\n",
       "      <td>ZFHX3</td>\n",
       "      <td>1.753028</td>\n",
       "      <td>-0.670064</td>\n",
       "    </tr>\n",
       "  </tbody>\n",
       "</table>\n",
       "<p>7990 rows × 5 columns</p>\n",
       "</div>"
      ],
      "text/plain": [
       "      Unnamed: 0        AccNum      Gene   TElogFC  RNAlogFC\n",
       "5255        5255  NM_001271848    ZNF700 -1.431292 -0.550929\n",
       "5129        5129     NM_005390     PDHA2 -1.253081 -0.625701\n",
       "7928        7928     NM_002748     MAPK6 -1.207412  0.661482\n",
       "3226        3226  NM_001199324    ZNF615 -1.176145 -0.321274\n",
       "1454        1454     NM_152283     ZFP62 -1.139034 -0.123822\n",
       "...          ...           ...       ...       ...       ...\n",
       "2832        2832     NM_016565      COA4  1.492216 -0.885177\n",
       "1408        1408     NM_032440      LCOR  1.513740  1.205329\n",
       "6517        6517     NM_138689  PPP1R14B  1.538988 -0.517610\n",
       "3978        3978     NM_005694     COX17  1.679055  1.447336\n",
       "51            51     NM_006885     ZFHX3  1.753028 -0.670064\n",
       "\n",
       "[7990 rows x 5 columns]"
      ]
     },
     "execution_count": 43,
     "metadata": {},
     "output_type": "execute_result"
    }
   ],
   "source": [
    "te21.sort_values(by='TElogFC')"
   ]
  },
  {
   "cell_type": "code",
   "execution_count": 56,
   "metadata": {},
   "outputs": [],
   "source": [
    "cutoff=0.8"
   ]
  },
  {
   "cell_type": "code",
   "execution_count": 59,
   "metadata": {},
   "outputs": [
    {
     "name": "stdout",
     "output_type": "stream",
     "text": [
      "690\n"
     ]
    }
   ],
   "source": [
    "te10_teDown = (te10.loc[te10['TElogFC']< -cutoff])\n",
    "print(len(te10_teDown))\n",
    "with open('te10_te_down.txt', 'w') as f:\n",
    "    for item in te10_teDown['AccNum'].values:\n",
    "        f.write(\"%s\\n\" % item)"
   ]
  },
  {
   "cell_type": "code",
   "execution_count": 60,
   "metadata": {},
   "outputs": [
    {
     "name": "stdout",
     "output_type": "stream",
     "text": [
      "173\n"
     ]
    }
   ],
   "source": [
    "te10_teUp = (te10.loc[te10['TElogFC'] > cutoff])\n",
    "print(len(te10_teUp))\n",
    "with open('te10_te_up.txt', 'w') as f:\n",
    "    for item in te10_teUp['AccNum'].values:\n",
    "        f.write(\"%s\\n\" % item)"
   ]
  },
  {
   "cell_type": "code",
   "execution_count": 61,
   "metadata": {},
   "outputs": [
    {
     "name": "stdout",
     "output_type": "stream",
     "text": [
      "147\n"
     ]
    }
   ],
   "source": [
    "te21_teUp = (te21.loc[te21['TElogFC'] > cutoff])\n",
    "print(len(te21_teUp))\n",
    "with open('te21_te_up.txt', 'w') as f:\n",
    "    for item in te21_teUp['AccNum'].values:\n",
    "        f.write(\"%s\\n\" % item)"
   ]
  },
  {
   "cell_type": "code",
   "execution_count": 62,
   "metadata": {},
   "outputs": [
    {
     "name": "stdout",
     "output_type": "stream",
     "text": [
      "28\n"
     ]
    }
   ],
   "source": [
    "te21_teDown = (te21.loc[te21['TElogFC'] < -cutoff])\n",
    "print(len(te21_teDown))\n",
    "with open('te21_te_down.txt', 'w') as f:\n",
    "    for item in te21_teDown['AccNum'].values:\n",
    "        f.write(\"%s\\n\" % item)"
   ]
  },
  {
   "cell_type": "code",
   "execution_count": 55,
   "metadata": {},
   "outputs": [],
   "source": [
    "!touch commands.txt"
   ]
  },
  {
   "cell_type": "code",
   "execution_count": 58,
   "metadata": {},
   "outputs": [
    {
     "data": {
      "text/plain": [
       "True"
      ]
     },
     "execution_count": 58,
     "metadata": {},
     "output_type": "execute_result"
    }
   ],
   "source": []
  },
  {
   "cell_type": "code",
   "execution_count": null,
   "metadata": {},
   "outputs": [],
   "source": []
  }
 ],
 "metadata": {
  "kernelspec": {
   "display_name": "Python 3",
   "language": "python",
   "name": "python3"
  },
  "language_info": {
   "codemirror_mode": {
    "name": "ipython",
    "version": 3
   },
   "file_extension": ".py",
   "mimetype": "text/x-python",
   "name": "python",
   "nbconvert_exporter": "python",
   "pygments_lexer": "ipython3",
   "version": "3.7.6"
  }
 },
 "nbformat": 4,
 "nbformat_minor": 4
}
