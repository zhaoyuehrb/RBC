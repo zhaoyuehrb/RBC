{
 "cells": [
  {
   "cell_type": "code",
   "execution_count": 1,
   "metadata": {},
   "outputs": [],
   "source": [
    "# prepare MEME\n",
    "import pandas as pd\n",
    "import numpy as np\n",
    "import csv"
   ]
  },
  {
   "cell_type": "markdown",
   "metadata": {},
   "source": [
    "# Build utr/orf dicts"
   ]
  },
  {
   "cell_type": "code",
   "execution_count": 2,
   "metadata": {},
   "outputs": [
    {
     "data": {
      "text/html": [
       "<div>\n",
       "<style scoped>\n",
       "    .dataframe tbody tr th:only-of-type {\n",
       "        vertical-align: middle;\n",
       "    }\n",
       "\n",
       "    .dataframe tbody tr th {\n",
       "        vertical-align: top;\n",
       "    }\n",
       "\n",
       "    .dataframe thead th {\n",
       "        text-align: right;\n",
       "    }\n",
       "</style>\n",
       "<table border=\"1\" class=\"dataframe\">\n",
       "  <thead>\n",
       "    <tr style=\"text-align: right;\">\n",
       "      <th></th>\n",
       "      <th>GeneName</th>\n",
       "      <th>AccNum</th>\n",
       "      <th>Chrom</th>\n",
       "      <th>mRNALength</th>\n",
       "      <th>ORFLength</th>\n",
       "      <th>fpUTR_length</th>\n",
       "      <th>tpUTR_length</th>\n",
       "      <th>sumIntronLengths</th>\n",
       "    </tr>\n",
       "  </thead>\n",
       "  <tbody>\n",
       "    <tr>\n",
       "      <th>0</th>\n",
       "      <td>UBE2Q1</td>\n",
       "      <td>NM_017582</td>\n",
       "      <td>chr1</td>\n",
       "      <td>3223</td>\n",
       "      <td>1269</td>\n",
       "      <td>91</td>\n",
       "      <td>1863</td>\n",
       "      <td>6847</td>\n",
       "    </tr>\n",
       "    <tr>\n",
       "      <th>1</th>\n",
       "      <td>DUOXA1</td>\n",
       "      <td>NM_001276267</td>\n",
       "      <td>chr15</td>\n",
       "      <td>3032</td>\n",
       "      <td>897</td>\n",
       "      <td>395</td>\n",
       "      <td>1740</td>\n",
       "      <td>9479</td>\n",
       "    </tr>\n",
       "  </tbody>\n",
       "</table>\n",
       "</div>"
      ],
      "text/plain": [
       "  GeneName        AccNum  Chrom  mRNALength  ORFLength  fpUTR_length  \\\n",
       "0   UBE2Q1     NM_017582   chr1        3223       1269            91   \n",
       "1   DUOXA1  NM_001276267  chr15        3032        897           395   \n",
       "\n",
       "   tpUTR_length  sumIntronLengths  \n",
       "0          1863              6847  \n",
       "1          1740              9479  "
      ]
     },
     "execution_count": 2,
     "metadata": {},
     "output_type": "execute_result"
    }
   ],
   "source": [
    "filteredGeneList = pd.read_csv('../../../Database/filteredGenesDetails_human_240118.txt',sep='\\t')\n",
    "filteredGeneList.head(2)"
   ]
  },
  {
   "cell_type": "code",
   "execution_count": 3,
   "metadata": {},
   "outputs": [
    {
     "data": {
      "text/html": [
       "<div>\n",
       "<style scoped>\n",
       "    .dataframe tbody tr th:only-of-type {\n",
       "        vertical-align: middle;\n",
       "    }\n",
       "\n",
       "    .dataframe tbody tr th {\n",
       "        vertical-align: top;\n",
       "    }\n",
       "\n",
       "    .dataframe thead th {\n",
       "        text-align: right;\n",
       "    }\n",
       "</style>\n",
       "<table border=\"1\" class=\"dataframe\">\n",
       "  <thead>\n",
       "    <tr style=\"text-align: right;\">\n",
       "      <th></th>\n",
       "      <th>GeneName</th>\n",
       "      <th>AccNum</th>\n",
       "      <th>Chrom</th>\n",
       "      <th>mRNALength</th>\n",
       "      <th>ORFLength</th>\n",
       "      <th>fpUTR_length</th>\n",
       "      <th>tpUTR_length</th>\n",
       "      <th>sumIntronLengths</th>\n",
       "    </tr>\n",
       "  </thead>\n",
       "  <tbody>\n",
       "    <tr>\n",
       "      <th>0</th>\n",
       "      <td>UBE2Q1</td>\n",
       "      <td>NM_017582</td>\n",
       "      <td>chr1</td>\n",
       "      <td>3223</td>\n",
       "      <td>1269</td>\n",
       "      <td>91</td>\n",
       "      <td>1863</td>\n",
       "      <td>6847</td>\n",
       "    </tr>\n",
       "    <tr>\n",
       "      <th>1</th>\n",
       "      <td>DUOXA1</td>\n",
       "      <td>NM_001276267</td>\n",
       "      <td>chr15</td>\n",
       "      <td>3032</td>\n",
       "      <td>897</td>\n",
       "      <td>395</td>\n",
       "      <td>1740</td>\n",
       "      <td>9479</td>\n",
       "    </tr>\n",
       "  </tbody>\n",
       "</table>\n",
       "</div>"
      ],
      "text/plain": [
       "  GeneName        AccNum  Chrom  mRNALength  ORFLength  fpUTR_length  \\\n",
       "0   UBE2Q1     NM_017582   chr1        3223       1269            91   \n",
       "1   DUOXA1  NM_001276267  chr15        3032        897           395   \n",
       "\n",
       "   tpUTR_length  sumIntronLengths  \n",
       "0          1863              6847  \n",
       "1          1740              9479  "
      ]
     },
     "execution_count": 3,
     "metadata": {},
     "output_type": "execute_result"
    }
   ],
   "source": [
    "filteredGeneList = pd.read_csv('../../../Database/filteredGenesDetails_human_240118.txt',sep='\\t')\n",
    "filteredGeneList.head(2)"
   ]
  },
  {
   "cell_type": "code",
   "execution_count": 4,
   "metadata": {},
   "outputs": [
    {
     "data": {
      "text/plain": [
       "'UBE2Q1'"
      ]
     },
     "execution_count": 4,
     "metadata": {},
     "output_type": "execute_result"
    }
   ],
   "source": [
    "acc2gene={}\n",
    "for idx,row in filteredGeneList.iterrows():\n",
    "    acc2gene[row['AccNum']] = row['GeneName']\n",
    "acc2gene['NM_017582']"
   ]
  },
  {
   "cell_type": "code",
   "execution_count": null,
   "metadata": {},
   "outputs": [],
   "source": []
  },
  {
   "cell_type": "code",
   "execution_count": 5,
   "metadata": {},
   "outputs": [],
   "source": [
    "def get_fa(filename,onlyKeys = 'All'):\n",
    "    keyD = dict()\n",
    "    if onlyKeys!='All':\n",
    "        for k in onlyKeys: keyD[k] = None\n",
    "        \n",
    "    def addEntry(current,d):\n",
    "        entry = current.split('\\n')\n",
    "        if entry[0]!='' and (onlyKeys=='All' or keyD.has_key(entry[0])):\n",
    "            d[entry[0]] = ''.join(entry[1:])\n",
    "\n",
    "    d = dict()\n",
    "    bf = open(filename)\n",
    "    current = ['\\n']\n",
    "    for line in bf:\n",
    "        if line[0]=='>':\n",
    "            addEntry(''.join(current),d)\n",
    "            if len(line)>1: current = [line[1:]]\n",
    "            else: current = ['\\n']\n",
    "        else: current.append(line)\n",
    "    addEntry(''.join(current),d)\n",
    "    bf.close()\n",
    "    return d"
   ]
  },
  {
   "cell_type": "code",
   "execution_count": 6,
   "metadata": {},
   "outputs": [
    {
     "name": "stdout",
     "output_type": "stream",
     "text": [
      "<class 'dict'>\n",
      "['NR_148357_chr1(+):11868-14361', 'NR_046018_chr1(+):11873-14408', 'NR_024540_chr1(-):14361-29369']\n"
     ]
    }
   ],
   "source": [
    "splicedGenes = get_fa('../../../Database/splicedGenes_240118.txt')\n",
    "print(type(splicedGenes))\n",
    "print(list(splicedGenes.keys())[0:3])"
   ]
  },
  {
   "cell_type": "code",
   "execution_count": null,
   "metadata": {},
   "outputs": [],
   "source": []
  },
  {
   "cell_type": "code",
   "execution_count": 7,
   "metadata": {},
   "outputs": [
    {
     "name": "stdout",
     "output_type": "stream",
     "text": [
      "<class 'dict'>\n",
      "['NR_148357', 'NR_046018', 'NR_024540']\n"
     ]
    }
   ],
   "source": [
    "## truncate the keys to only accNum\n",
    "ks = list(splicedGenes.keys())\n",
    "for key in ks:\n",
    "    splicedGenes[key.split('_chr')[0]] = splicedGenes[key]\n",
    "    splicedGenes.pop(key)\n",
    "print(type(splicedGenes))\n",
    "print(list(splicedGenes.keys())[0:3])"
   ]
  },
  {
   "cell_type": "code",
   "execution_count": 8,
   "metadata": {},
   "outputs": [
    {
     "name": "stdout",
     "output_type": "stream",
     "text": [
      "<class 'dict'>\n",
      "['NM_017582', 'NM_001276267', 'NM_173469']\n"
     ]
    }
   ],
   "source": [
    "splicedORFs = get_fa('../../../Database/splicedORFs_240118.txt')\n",
    "print(type(splicedORFs))\n",
    "print(list(splicedORFs.keys())[0:3])"
   ]
  },
  {
   "cell_type": "code",
   "execution_count": 9,
   "metadata": {},
   "outputs": [
    {
     "data": {
      "text/html": [
       "<div>\n",
       "<style scoped>\n",
       "    .dataframe tbody tr th:only-of-type {\n",
       "        vertical-align: middle;\n",
       "    }\n",
       "\n",
       "    .dataframe tbody tr th {\n",
       "        vertical-align: top;\n",
       "    }\n",
       "\n",
       "    .dataframe thead th {\n",
       "        text-align: right;\n",
       "    }\n",
       "</style>\n",
       "<table border=\"1\" class=\"dataframe\">\n",
       "  <thead>\n",
       "    <tr style=\"text-align: right;\">\n",
       "      <th></th>\n",
       "      <th>GeneName</th>\n",
       "      <th>AccNum</th>\n",
       "      <th>Chrom</th>\n",
       "      <th>mRNALength</th>\n",
       "      <th>ORFLength</th>\n",
       "      <th>fpUTR_length</th>\n",
       "      <th>tpUTR_length</th>\n",
       "      <th>sumIntronLengths</th>\n",
       "      <th>fpUTR</th>\n",
       "      <th>tpUTR</th>\n",
       "      <th>ORF</th>\n",
       "    </tr>\n",
       "  </thead>\n",
       "  <tbody>\n",
       "    <tr>\n",
       "      <th>0</th>\n",
       "      <td>UBE2Q1</td>\n",
       "      <td>NM_017582</td>\n",
       "      <td>chr1</td>\n",
       "      <td>3223</td>\n",
       "      <td>1269</td>\n",
       "      <td>91</td>\n",
       "      <td>1863</td>\n",
       "      <td>6847</td>\n",
       "      <td></td>\n",
       "      <td></td>\n",
       "      <td></td>\n",
       "    </tr>\n",
       "    <tr>\n",
       "      <th>1</th>\n",
       "      <td>DUOXA1</td>\n",
       "      <td>NM_001276267</td>\n",
       "      <td>chr15</td>\n",
       "      <td>3032</td>\n",
       "      <td>897</td>\n",
       "      <td>395</td>\n",
       "      <td>1740</td>\n",
       "      <td>9479</td>\n",
       "      <td></td>\n",
       "      <td></td>\n",
       "      <td></td>\n",
       "    </tr>\n",
       "  </tbody>\n",
       "</table>\n",
       "</div>"
      ],
      "text/plain": [
       "  GeneName        AccNum  Chrom  mRNALength  ORFLength  fpUTR_length  \\\n",
       "0   UBE2Q1     NM_017582   chr1        3223       1269            91   \n",
       "1   DUOXA1  NM_001276267  chr15        3032        897           395   \n",
       "\n",
       "   tpUTR_length  sumIntronLengths fpUTR tpUTR ORF  \n",
       "0          1863              6847                  \n",
       "1          1740              9479                  "
      ]
     },
     "execution_count": 9,
     "metadata": {},
     "output_type": "execute_result"
    }
   ],
   "source": [
    "filteredGeneList['fpUTR'] = ''\n",
    "filteredGeneList['tpUTR'] = ''\n",
    "filteredGeneList['ORF'] = ''\n",
    "filteredGeneList.head(2)"
   ]
  },
  {
   "cell_type": "code",
   "execution_count": 10,
   "metadata": {},
   "outputs": [
    {
     "data": {
      "text/plain": [
       "'UBE2Q1'"
      ]
     },
     "execution_count": 10,
     "metadata": {},
     "output_type": "execute_result"
    }
   ],
   "source": [
    "filteredGeneList.iloc[0]['GeneName']"
   ]
  },
  {
   "cell_type": "code",
   "execution_count": 11,
   "metadata": {},
   "outputs": [],
   "source": [
    "fpUTR={}\n",
    "tpUTR = {}\n",
    "ORFs = {}\n",
    "for idx,row in filteredGeneList.iterrows():\n",
    "    accNum = row['AccNum']\n",
    "    fpLen = row['fpUTR_length']\n",
    "    tpLen = row['tpUTR_length']\n",
    "    fpUTR[accNum] = splicedGenes[accNum][0:fpLen]\n",
    "    tpUTR[accNum] = splicedGenes[accNum][-tpLen:]\n",
    "    ORFs[accNum] = splicedORFs[accNum]"
   ]
  },
  {
   "cell_type": "code",
   "execution_count": 12,
   "metadata": {},
   "outputs": [
    {
     "data": {
      "text/plain": [
       "19210"
      ]
     },
     "execution_count": 12,
     "metadata": {},
     "output_type": "execute_result"
    }
   ],
   "source": [
    "len(filteredGeneList)"
   ]
  },
  {
   "cell_type": "code",
   "execution_count": null,
   "metadata": {},
   "outputs": [],
   "source": [
    "with open('../../../Database/fpUTR.csv','w') as f:\n",
    "    for key in fpUTR.keys():\n",
    "        f.write(\"%s,%s\\n\"%(key,fpUTR[key]))"
   ]
  },
  {
   "cell_type": "code",
   "execution_count": null,
   "metadata": {},
   "outputs": [],
   "source": [
    "with open('../../../Database/tpUTR.csv','w') as f:\n",
    "    for key in tpUTR.keys():\n",
    "        f.write(\"%s,%s\\n\"%(key,tpUTR[key]))"
   ]
  },
  {
   "cell_type": "code",
   "execution_count": null,
   "metadata": {},
   "outputs": [],
   "source": [
    "with open('../../../Database/ORF.csv','w') as f:\n",
    "    for key in ORFs.keys():\n",
    "        f.write(\"%s,%s\\n\"%(key,ORFs[key]))    "
   ]
  },
  {
   "cell_type": "code",
   "execution_count": null,
   "metadata": {},
   "outputs": [],
   "source": []
  },
  {
   "cell_type": "code",
   "execution_count": null,
   "metadata": {},
   "outputs": [],
   "source": []
  },
  {
   "cell_type": "code",
   "execution_count": 13,
   "metadata": {},
   "outputs": [
    {
     "name": "stdout",
     "output_type": "stream",
     "text": [
      "/Users/zhaoy/Documents/My Projects/RBC/Deseq2 Analysis/shift15/coding\r\n"
     ]
    }
   ],
   "source": [
    "!pwd"
   ]
  },
  {
   "cell_type": "markdown",
   "metadata": {},
   "source": [
    "# Extract groups of interest"
   ]
  },
  {
   "cell_type": "code",
   "execution_count": 14,
   "metadata": {},
   "outputs": [
    {
     "name": "stdout",
     "output_type": "stream",
     "text": [
      "13\n"
     ]
    }
   ],
   "source": [
    "# L24 t0\n",
    "L24_t0 = pd.read_csv('csv_raw/ER_L24_t0.csv')\n",
    "L24_t0_filtered = L24_t0[L24_t0['padj'] < 0.05]\n",
    "print(len(L24_t0_filtered))"
   ]
  },
  {
   "cell_type": "code",
   "execution_count": null,
   "metadata": {},
   "outputs": [],
   "source": []
  },
  {
   "cell_type": "markdown",
   "metadata": {},
   "source": [
    "#### L24 t0:\n",
    "too little, ignore first"
   ]
  },
  {
   "cell_type": "code",
   "execution_count": 15,
   "metadata": {},
   "outputs": [
    {
     "name": "stdout",
     "output_type": "stream",
     "text": [
      "2\n",
      "0\n"
     ]
    },
    {
     "data": {
      "text/html": [
       "<div>\n",
       "<style scoped>\n",
       "    .dataframe tbody tr th:only-of-type {\n",
       "        vertical-align: middle;\n",
       "    }\n",
       "\n",
       "    .dataframe tbody tr th {\n",
       "        vertical-align: top;\n",
       "    }\n",
       "\n",
       "    .dataframe thead th {\n",
       "        text-align: right;\n",
       "    }\n",
       "</style>\n",
       "<table border=\"1\" class=\"dataframe\">\n",
       "  <thead>\n",
       "    <tr style=\"text-align: right;\">\n",
       "      <th></th>\n",
       "      <th>Unnamed: 0</th>\n",
       "      <th>baseMean</th>\n",
       "      <th>log2FoldChange</th>\n",
       "      <th>lfcSE</th>\n",
       "      <th>stat</th>\n",
       "      <th>pvalue</th>\n",
       "      <th>padj</th>\n",
       "    </tr>\n",
       "  </thead>\n",
       "  <tbody>\n",
       "    <tr>\n",
       "      <th>456</th>\n",
       "      <td>NM_033387</td>\n",
       "      <td>137.907415</td>\n",
       "      <td>0.776571</td>\n",
       "      <td>0.193303</td>\n",
       "      <td>4.017375</td>\n",
       "      <td>5.885001e-05</td>\n",
       "      <td>0.037928</td>\n",
       "    </tr>\n",
       "    <tr>\n",
       "      <th>3312</th>\n",
       "      <td>NM_001272068</td>\n",
       "      <td>164.297736</td>\n",
       "      <td>0.885366</td>\n",
       "      <td>0.205201</td>\n",
       "      <td>4.314619</td>\n",
       "      <td>1.598784e-05</td>\n",
       "      <td>0.027453</td>\n",
       "    </tr>\n",
       "    <tr>\n",
       "      <th>2679</th>\n",
       "      <td>NM_004074</td>\n",
       "      <td>715.242051</td>\n",
       "      <td>0.991900</td>\n",
       "      <td>0.244333</td>\n",
       "      <td>4.059630</td>\n",
       "      <td>4.915051e-05</td>\n",
       "      <td>0.035701</td>\n",
       "    </tr>\n",
       "    <tr>\n",
       "      <th>3598</th>\n",
       "      <td>NM_016633</td>\n",
       "      <td>9219.527608</td>\n",
       "      <td>1.510447</td>\n",
       "      <td>0.350191</td>\n",
       "      <td>4.313209</td>\n",
       "      <td>1.609022e-05</td>\n",
       "      <td>0.027453</td>\n",
       "    </tr>\n",
       "    <tr>\n",
       "      <th>7328</th>\n",
       "      <td>NM_001025604</td>\n",
       "      <td>1012.068880</td>\n",
       "      <td>3.970863</td>\n",
       "      <td>0.807518</td>\n",
       "      <td>4.917367</td>\n",
       "      <td>8.771593e-07</td>\n",
       "      <td>0.007009</td>\n",
       "    </tr>\n",
       "  </tbody>\n",
       "</table>\n",
       "</div>"
      ],
      "text/plain": [
       "        Unnamed: 0     baseMean  log2FoldChange     lfcSE      stat  \\\n",
       "456      NM_033387   137.907415        0.776571  0.193303  4.017375   \n",
       "3312  NM_001272068   164.297736        0.885366  0.205201  4.314619   \n",
       "2679     NM_004074   715.242051        0.991900  0.244333  4.059630   \n",
       "3598     NM_016633  9219.527608        1.510447  0.350191  4.313209   \n",
       "7328  NM_001025604  1012.068880        3.970863  0.807518  4.917367   \n",
       "\n",
       "            pvalue      padj  \n",
       "456   5.885001e-05  0.037928  \n",
       "3312  1.598784e-05  0.027453  \n",
       "2679  4.915051e-05  0.035701  \n",
       "3598  1.609022e-05  0.027453  \n",
       "7328  8.771593e-07  0.007009  "
      ]
     },
     "execution_count": 15,
     "metadata": {},
     "output_type": "execute_result"
    }
   ],
   "source": [
    "L24_t0_filtered = L24_t0_filtered.sort_values(by=['log2FoldChange'])\n",
    "topNum=sum((L24_t0_filtered['log2FoldChange']>1)*1)\n",
    "print(topNum)\n",
    "botNum=sum((L24_t0_filtered['log2FoldChange']<-1)*1)\n",
    "print(botNum)\n",
    "L24_t0_filtered.tail()"
   ]
  },
  {
   "cell_type": "code",
   "execution_count": 16,
   "metadata": {},
   "outputs": [
    {
     "name": "stdout",
     "output_type": "stream",
     "text": [
      "pass filter: 578\n",
      "up num:  40\n",
      "down num:  0\n"
     ]
    },
    {
     "data": {
      "text/html": [
       "<div>\n",
       "<style scoped>\n",
       "    .dataframe tbody tr th:only-of-type {\n",
       "        vertical-align: middle;\n",
       "    }\n",
       "\n",
       "    .dataframe tbody tr th {\n",
       "        vertical-align: top;\n",
       "    }\n",
       "\n",
       "    .dataframe thead th {\n",
       "        text-align: right;\n",
       "    }\n",
       "</style>\n",
       "<table border=\"1\" class=\"dataframe\">\n",
       "  <thead>\n",
       "    <tr style=\"text-align: right;\">\n",
       "      <th></th>\n",
       "      <th>Unnamed: 0</th>\n",
       "      <th>baseMean</th>\n",
       "      <th>log2FoldChange</th>\n",
       "      <th>lfcSE</th>\n",
       "      <th>stat</th>\n",
       "      <th>pvalue</th>\n",
       "      <th>padj</th>\n",
       "    </tr>\n",
       "  </thead>\n",
       "  <tbody>\n",
       "    <tr>\n",
       "      <th>4518</th>\n",
       "      <td>NM_019554</td>\n",
       "      <td>2782.601937</td>\n",
       "      <td>1.493255</td>\n",
       "      <td>0.381964</td>\n",
       "      <td>3.909413</td>\n",
       "      <td>9.252073e-05</td>\n",
       "      <td>4.351943e-03</td>\n",
       "    </tr>\n",
       "    <tr>\n",
       "      <th>2679</th>\n",
       "      <td>NM_004074</td>\n",
       "      <td>715.242051</td>\n",
       "      <td>1.584397</td>\n",
       "      <td>0.245659</td>\n",
       "      <td>6.449588</td>\n",
       "      <td>1.121548e-10</td>\n",
       "      <td>2.240292e-07</td>\n",
       "    </tr>\n",
       "    <tr>\n",
       "      <th>689</th>\n",
       "      <td>NM_000992</td>\n",
       "      <td>359.205401</td>\n",
       "      <td>1.593513</td>\n",
       "      <td>0.336520</td>\n",
       "      <td>4.735269</td>\n",
       "      <td>2.187652e-06</td>\n",
       "      <td>3.972577e-04</td>\n",
       "    </tr>\n",
       "    <tr>\n",
       "      <th>4546</th>\n",
       "      <td>NM_033625</td>\n",
       "      <td>148.300167</td>\n",
       "      <td>1.625403</td>\n",
       "      <td>0.517227</td>\n",
       "      <td>3.142532</td>\n",
       "      <td>1.674935e-03</td>\n",
       "      <td>3.020933e-02</td>\n",
       "    </tr>\n",
       "    <tr>\n",
       "      <th>3978</th>\n",
       "      <td>NM_005694</td>\n",
       "      <td>54.781701</td>\n",
       "      <td>1.697012</td>\n",
       "      <td>0.353176</td>\n",
       "      <td>4.805007</td>\n",
       "      <td>1.547461e-06</td>\n",
       "      <td>3.253740e-04</td>\n",
       "    </tr>\n",
       "  </tbody>\n",
       "</table>\n",
       "</div>"
      ],
      "text/plain": [
       "     Unnamed: 0     baseMean  log2FoldChange     lfcSE      stat  \\\n",
       "4518  NM_019554  2782.601937        1.493255  0.381964  3.909413   \n",
       "2679  NM_004074   715.242051        1.584397  0.245659  6.449588   \n",
       "689   NM_000992   359.205401        1.593513  0.336520  4.735269   \n",
       "4546  NM_033625   148.300167        1.625403  0.517227  3.142532   \n",
       "3978  NM_005694    54.781701        1.697012  0.353176  4.805007   \n",
       "\n",
       "            pvalue          padj  \n",
       "4518  9.252073e-05  4.351943e-03  \n",
       "2679  1.121548e-10  2.240292e-07  \n",
       "689   2.187652e-06  3.972577e-04  \n",
       "4546  1.674935e-03  3.020933e-02  \n",
       "3978  1.547461e-06  3.253740e-04  "
      ]
     },
     "execution_count": 16,
     "metadata": {},
     "output_type": "execute_result"
    }
   ],
   "source": [
    "L24_t1 = pd.read_csv('csv_raw/ER_L24_t1.csv')\n",
    "L24_t1_filtered = L24_t1[L24_t1['padj'] < 0.05]\n",
    "print('pass filter:' ,len(L24_t1_filtered))\n",
    "\n",
    "L24_t1_filtered = L24_t1_filtered.sort_values(by=['log2FoldChange'])\n",
    "topNum=sum((L24_t1_filtered['log2FoldChange']>1)*1)\n",
    "print('up num: ',topNum)\n",
    "botNum=sum((L24_t1_filtered['log2FoldChange']<-1)*1)\n",
    "print('down num: ',botNum)\n",
    "L24_t1_filtered.tail()"
   ]
  },
  {
   "cell_type": "code",
   "execution_count": 17,
   "metadata": {},
   "outputs": [],
   "source": [
    "def write_fa(filename,genes,orf=False):\n",
    "    if orf: #cap the total length to 600nt max\n",
    "            #concate fpUTR with 100nt bases of ORF\n",
    "        with open(filename,'w') as f:\n",
    "            for gene in genes:\n",
    "                fp = fpUTR[gene]\n",
    "                if len(fp)>20:\n",
    "                    fp = fp[len(fp)-20:]\n",
    "                f.write(\">%s\\n%s\\n\"%(acc2gene[gene],fp+ORFs[gene][:20]))\n",
    "                \n",
    "    else:    \n",
    "        with open(filename,'w') as f:\n",
    "            for gene in genes:\n",
    "                if len(fpUTR[gene])<8:\n",
    "                    continue\n",
    "                f.write(\">%s\\n%s\\n\"%(acc2gene[gene],fpUTR[gene]))\n",
    "    "
   ]
  },
  {
   "cell_type": "code",
   "execution_count": null,
   "metadata": {},
   "outputs": [],
   "source": [
    "write_fa('../../../MOTIF/fpUTR/L24_t1_enriched.fa',list(L24_t1_filtered.tail(topNum)['Unnamed: 0']))"
   ]
  },
  {
   "cell_type": "code",
   "execution_count": null,
   "metadata": {},
   "outputs": [],
   "source": [
    "write_fa('../../../MOTIF/fpUTR/L24_t1_depleted.fa',list(L24_t1_filtered.head(topNum)['Unnamed: 0']))"
   ]
  },
  {
   "cell_type": "code",
   "execution_count": null,
   "metadata": {},
   "outputs": [],
   "source": [
    "write_fa('../../../MOTIF/fpUTR/L24_t1_notEnriched.fa',list(L24_t1_filtered.head(-topNum)['Unnamed: 0']))"
   ]
  },
  {
   "cell_type": "code",
   "execution_count": null,
   "metadata": {},
   "outputs": [],
   "source": []
  },
  {
   "cell_type": "code",
   "execution_count": null,
   "metadata": {},
   "outputs": [],
   "source": [
    "## write for structure\n",
    "write_fa('../../../MOTIF/UTRBase/L24_t1_20_enriched.fa',list(L24_t1_filtered.tail(topNum)['Unnamed: 0']),orf=True)"
   ]
  },
  {
   "cell_type": "code",
   "execution_count": null,
   "metadata": {},
   "outputs": [],
   "source": [
    "write_fa('../../../MOTIF/UTRBase/L24_t1_depleted.fa',list(L24_t1_filtered.head(topNum)['Unnamed: 0']),orf=True)"
   ]
  },
  {
   "cell_type": "code",
   "execution_count": null,
   "metadata": {},
   "outputs": [],
   "source": [
    "write_fa('../../../MOTIF/UTRBase/L24_t1_notEnriched.fa',list(L24_t1_filtered.head(-topNum)['Unnamed: 0']),orf=True)"
   ]
  },
  {
   "cell_type": "code",
   "execution_count": null,
   "metadata": {},
   "outputs": [],
   "source": []
  },
  {
   "cell_type": "code",
   "execution_count": null,
   "metadata": {},
   "outputs": [],
   "source": []
  },
  {
   "cell_type": "code",
   "execution_count": null,
   "metadata": {},
   "outputs": [],
   "source": []
  },
  {
   "cell_type": "code",
   "execution_count": null,
   "metadata": {},
   "outputs": [],
   "source": []
  },
  {
   "cell_type": "markdown",
   "metadata": {},
   "source": [
    "## generate artificial strong MOTIF for reference"
   ]
  },
  {
   "cell_type": "code",
   "execution_count": null,
   "metadata": {},
   "outputs": [],
   "source": [
    "\n",
    "with open('../../../MOTIF/fpUTR/artificial_long.fa','w') as f:\n",
    "    for gene in list(L24_t1_filtered.tail(topNum)['Unnamed: 0']):\n",
    "        if len(fpUTR[gene])<8:\n",
    "            continue\n",
    "        art_idx = int(np.random.rand()*15)\n",
    "        seq = fpUTR[gene]\n",
    "        if art_idx>7:\n",
    "            seq = seq[0:art_idx]+'ATCCGACTGACATACGACTCT'+seq[art_idx:]\n",
    "        f.write(\">%s\\n%s\\n\"%(acc2gene[gene],seq))"
   ]
  },
  {
   "cell_type": "code",
   "execution_count": null,
   "metadata": {},
   "outputs": [],
   "source": []
  },
  {
   "cell_type": "code",
   "execution_count": null,
   "metadata": {},
   "outputs": [],
   "source": [
    "\n",
    "with open('../../../MOTIF/fpUTR/fullback.fa','w') as f:\n",
    "    for gene in list(L24_t0['Unnamed: 0']):\n",
    "        if len(fpUTR[gene])<8:\n",
    "            continue\n",
    "        f.write(\">%s\\n%s\\n\"%(acc2gene[gene],fpUTR[gene]))"
   ]
  },
  {
   "cell_type": "code",
   "execution_count": null,
   "metadata": {},
   "outputs": [],
   "source": []
  },
  {
   "cell_type": "code",
   "execution_count": null,
   "metadata": {},
   "outputs": [],
   "source": []
  },
  {
   "cell_type": "code",
   "execution_count": null,
   "metadata": {},
   "outputs": [],
   "source": []
  },
  {
   "cell_type": "code",
   "execution_count": null,
   "metadata": {},
   "outputs": [],
   "source": [
    "# S15"
   ]
  },
  {
   "cell_type": "code",
   "execution_count": 18,
   "metadata": {},
   "outputs": [
    {
     "name": "stdout",
     "output_type": "stream",
     "text": [
      "pass filter: 1271\n",
      "up num:  189\n",
      "down num:  15\n"
     ]
    },
    {
     "data": {
      "text/html": [
       "<div>\n",
       "<style scoped>\n",
       "    .dataframe tbody tr th:only-of-type {\n",
       "        vertical-align: middle;\n",
       "    }\n",
       "\n",
       "    .dataframe tbody tr th {\n",
       "        vertical-align: top;\n",
       "    }\n",
       "\n",
       "    .dataframe thead th {\n",
       "        text-align: right;\n",
       "    }\n",
       "</style>\n",
       "<table border=\"1\" class=\"dataframe\">\n",
       "  <thead>\n",
       "    <tr style=\"text-align: right;\">\n",
       "      <th></th>\n",
       "      <th>Unnamed: 0</th>\n",
       "      <th>baseMean</th>\n",
       "      <th>log2FoldChange</th>\n",
       "      <th>lfcSE</th>\n",
       "      <th>stat</th>\n",
       "      <th>pvalue</th>\n",
       "      <th>padj</th>\n",
       "    </tr>\n",
       "  </thead>\n",
       "  <tbody>\n",
       "    <tr>\n",
       "      <th>4546</th>\n",
       "      <td>NM_033625</td>\n",
       "      <td>148.300200</td>\n",
       "      <td>1.948511</td>\n",
       "      <td>0.515919</td>\n",
       "      <td>3.776773</td>\n",
       "      <td>1.588733e-04</td>\n",
       "      <td>2.904801e-03</td>\n",
       "    </tr>\n",
       "    <tr>\n",
       "      <th>5235</th>\n",
       "      <td>NM_006014</td>\n",
       "      <td>309.912400</td>\n",
       "      <td>2.084840</td>\n",
       "      <td>0.285811</td>\n",
       "      <td>7.294476</td>\n",
       "      <td>2.998229e-13</td>\n",
       "      <td>1.394083e-10</td>\n",
       "    </tr>\n",
       "    <tr>\n",
       "      <th>5530</th>\n",
       "      <td>NM_004965</td>\n",
       "      <td>261.013700</td>\n",
       "      <td>2.211505</td>\n",
       "      <td>0.164584</td>\n",
       "      <td>13.436970</td>\n",
       "      <td>3.671431e-41</td>\n",
       "      <td>2.933473e-37</td>\n",
       "    </tr>\n",
       "    <tr>\n",
       "      <th>689</th>\n",
       "      <td>NM_000992</td>\n",
       "      <td>359.205401</td>\n",
       "      <td>2.322047</td>\n",
       "      <td>0.334887</td>\n",
       "      <td>6.933830</td>\n",
       "      <td>4.095955e-12</td>\n",
       "      <td>1.422899e-09</td>\n",
       "    </tr>\n",
       "    <tr>\n",
       "      <th>1719</th>\n",
       "      <td>NM_000421</td>\n",
       "      <td>365.155577</td>\n",
       "      <td>3.083594</td>\n",
       "      <td>0.363617</td>\n",
       "      <td>8.480346</td>\n",
       "      <td>2.245253e-17</td>\n",
       "      <td>2.562796e-14</td>\n",
       "    </tr>\n",
       "  </tbody>\n",
       "</table>\n",
       "</div>"
      ],
      "text/plain": [
       "     Unnamed: 0    baseMean  log2FoldChange     lfcSE       stat  \\\n",
       "4546  NM_033625  148.300200        1.948511  0.515919   3.776773   \n",
       "5235  NM_006014  309.912400        2.084840  0.285811   7.294476   \n",
       "5530  NM_004965  261.013700        2.211505  0.164584  13.436970   \n",
       "689   NM_000992  359.205401        2.322047  0.334887   6.933830   \n",
       "1719  NM_000421  365.155577        3.083594  0.363617   8.480346   \n",
       "\n",
       "            pvalue          padj  \n",
       "4546  1.588733e-04  2.904801e-03  \n",
       "5235  2.998229e-13  1.394083e-10  \n",
       "5530  3.671431e-41  2.933473e-37  \n",
       "689   4.095955e-12  1.422899e-09  \n",
       "1719  2.245253e-17  2.562796e-14  "
      ]
     },
     "execution_count": 18,
     "metadata": {},
     "output_type": "execute_result"
    }
   ],
   "source": [
    "S15_t1 = pd.read_csv('csv_raw/ER_S15_t1.csv')\n",
    "S15_t1_filtered = S15_t1[S15_t1['padj'] < 0.05]\n",
    "print('pass filter:' ,len(S15_t1_filtered))\n",
    "\n",
    "S15_t1_filtered = S15_t1_filtered.sort_values(by=['log2FoldChange'])\n",
    "topNum=sum((S15_t1_filtered['log2FoldChange']>1)*1)\n",
    "print('up num: ',topNum)\n",
    "botNum=sum((S15_t1_filtered['log2FoldChange']<-1)*1)\n",
    "print('down num: ',botNum)\n",
    "S15_t1_filtered.tail()"
   ]
  },
  {
   "cell_type": "code",
   "execution_count": null,
   "metadata": {},
   "outputs": [],
   "source": [
    "write_fa('../../../MOTIF/fpUTR/S15_t1_enriched.fa',list(S15_t1_filtered.tail(topNum)['Unnamed: 0']))"
   ]
  },
  {
   "cell_type": "code",
   "execution_count": null,
   "metadata": {},
   "outputs": [],
   "source": [
    "write_fa('../../../MOTIF/fpUTR/S15_t1_depleted.fa',list(S15_t1_filtered.head(topNum)['Unnamed: 0']))\n"
   ]
  },
  {
   "cell_type": "code",
   "execution_count": null,
   "metadata": {},
   "outputs": [],
   "source": [
    "write_fa('../../../MOTIF/fpUTR/S15_t1_notEnriched.fa',list(S15_t1_filtered.head(-topNum)['Unnamed: 0']))\n",
    "len(list(S15_t1_filtered.head(-topNum)['Unnamed: 0']))"
   ]
  },
  {
   "cell_type": "code",
   "execution_count": null,
   "metadata": {},
   "outputs": [],
   "source": []
  },
  {
   "cell_type": "code",
   "execution_count": null,
   "metadata": {},
   "outputs": [],
   "source": []
  },
  {
   "cell_type": "code",
   "execution_count": null,
   "metadata": {},
   "outputs": [],
   "source": [
    "topNum"
   ]
  },
  {
   "cell_type": "code",
   "execution_count": null,
   "metadata": {},
   "outputs": [],
   "source": [
    "## write for structure\n",
    "write_fa('../../../MOTIF/UTRBase/S15_t1_enriched.fa',list(S15_t1_filtered.tail(topNum)['Unnamed: 0']),orf=True)"
   ]
  },
  {
   "cell_type": "code",
   "execution_count": null,
   "metadata": {},
   "outputs": [],
   "source": [
    "write_fa('../../../MOTIF/UTRBase/S15_t1_depleted.fa',list(S15_t1_filtered.head(topNum)['Unnamed: 0']),orf=True)"
   ]
  },
  {
   "cell_type": "code",
   "execution_count": null,
   "metadata": {},
   "outputs": [],
   "source": [
    "## write for structure\n",
    "write_fa('../../../MOTIF/UTRBase/S15_t1_notEnriched.fa',list(S15_t1_filtered.head(-topNum)['Unnamed: 0']),orf=True)"
   ]
  },
  {
   "cell_type": "code",
   "execution_count": null,
   "metadata": {},
   "outputs": [],
   "source": []
  },
  {
   "cell_type": "code",
   "execution_count": null,
   "metadata": {},
   "outputs": [],
   "source": []
  },
  {
   "cell_type": "code",
   "execution_count": null,
   "metadata": {},
   "outputs": [],
   "source": []
  },
  {
   "cell_type": "code",
   "execution_count": 19,
   "metadata": {},
   "outputs": [
    {
     "data": {
      "text/html": [
       "<div>\n",
       "<style scoped>\n",
       "    .dataframe tbody tr th:only-of-type {\n",
       "        vertical-align: middle;\n",
       "    }\n",
       "\n",
       "    .dataframe tbody tr th {\n",
       "        vertical-align: top;\n",
       "    }\n",
       "\n",
       "    .dataframe thead th {\n",
       "        text-align: right;\n",
       "    }\n",
       "</style>\n",
       "<table border=\"1\" class=\"dataframe\">\n",
       "  <thead>\n",
       "    <tr style=\"text-align: right;\">\n",
       "      <th></th>\n",
       "      <th>Unnamed: 0</th>\n",
       "      <th>S24_0_8</th>\n",
       "      <th>S24_1_8</th>\n",
       "      <th>S24_2_8</th>\n",
       "      <th>S24_0_9</th>\n",
       "      <th>S24_1_9</th>\n",
       "      <th>S24_2_9</th>\n",
       "      <th>L24_0_8</th>\n",
       "      <th>L24_1_8</th>\n",
       "      <th>L24_2_8</th>\n",
       "      <th>...</th>\n",
       "      <th>RNA_2_9</th>\n",
       "      <th>totalRPF_0_8</th>\n",
       "      <th>totalRPF_1_8</th>\n",
       "      <th>totalRPF_2_8</th>\n",
       "      <th>S15_0_9</th>\n",
       "      <th>S15_1_9</th>\n",
       "      <th>S15_2_9</th>\n",
       "      <th>RPF_0</th>\n",
       "      <th>RPF_1</th>\n",
       "      <th>RPF_2</th>\n",
       "    </tr>\n",
       "  </thead>\n",
       "  <tbody>\n",
       "    <tr>\n",
       "      <th>0</th>\n",
       "      <td>NM_017847</td>\n",
       "      <td>98.075215</td>\n",
       "      <td>97.527170</td>\n",
       "      <td>91.232346</td>\n",
       "      <td>82.916601</td>\n",
       "      <td>118.077866</td>\n",
       "      <td>94.707756</td>\n",
       "      <td>102.977069</td>\n",
       "      <td>78.326358</td>\n",
       "      <td>95.402696</td>\n",
       "      <td>...</td>\n",
       "      <td>187.887559</td>\n",
       "      <td>119.626839</td>\n",
       "      <td>131.960322</td>\n",
       "      <td>88.942963</td>\n",
       "      <td>93.121796</td>\n",
       "      <td>118.652650</td>\n",
       "      <td>42.843174</td>\n",
       "      <td>120.080838</td>\n",
       "      <td>136.086732</td>\n",
       "      <td>72.928319</td>\n",
       "    </tr>\n",
       "    <tr>\n",
       "      <th>1</th>\n",
       "      <td>NM_001003803</td>\n",
       "      <td>115.001902</td>\n",
       "      <td>153.762595</td>\n",
       "      <td>329.910908</td>\n",
       "      <td>100.220936</td>\n",
       "      <td>130.664846</td>\n",
       "      <td>369.749457</td>\n",
       "      <td>125.526792</td>\n",
       "      <td>171.471217</td>\n",
       "      <td>355.591868</td>\n",
       "      <td>...</td>\n",
       "      <td>145.185841</td>\n",
       "      <td>125.709559</td>\n",
       "      <td>193.094482</td>\n",
       "      <td>312.288627</td>\n",
       "      <td>121.774656</td>\n",
       "      <td>121.511750</td>\n",
       "      <td>236.494321</td>\n",
       "      <td>122.329206</td>\n",
       "      <td>170.009977</td>\n",
       "      <td>343.700739</td>\n",
       "    </tr>\n",
       "    <tr>\n",
       "      <th>2</th>\n",
       "      <td>NM_001003800</td>\n",
       "      <td>478.925670</td>\n",
       "      <td>145.897501</td>\n",
       "      <td>187.072386</td>\n",
       "      <td>603.488655</td>\n",
       "      <td>277.512953</td>\n",
       "      <td>204.983910</td>\n",
       "      <td>482.564074</td>\n",
       "      <td>143.951145</td>\n",
       "      <td>166.954718</td>\n",
       "      <td>...</td>\n",
       "      <td>307.452370</td>\n",
       "      <td>416.666362</td>\n",
       "      <td>134.196937</td>\n",
       "      <td>171.956396</td>\n",
       "      <td>667.372868</td>\n",
       "      <td>272.329276</td>\n",
       "      <td>207.360962</td>\n",
       "      <td>493.017433</td>\n",
       "      <td>202.090908</td>\n",
       "      <td>206.273009</td>\n",
       "    </tr>\n",
       "    <tr>\n",
       "      <th>3</th>\n",
       "      <td>NM_016649</td>\n",
       "      <td>136.409183</td>\n",
       "      <td>313.030757</td>\n",
       "      <td>182.464692</td>\n",
       "      <td>149.970896</td>\n",
       "      <td>392.593918</td>\n",
       "      <td>119.357720</td>\n",
       "      <td>145.821543</td>\n",
       "      <td>239.212932</td>\n",
       "      <td>143.104044</td>\n",
       "      <td>...</td>\n",
       "      <td>124.689017</td>\n",
       "      <td>167.274817</td>\n",
       "      <td>367.550500</td>\n",
       "      <td>175.909416</td>\n",
       "      <td>155.202993</td>\n",
       "      <td>419.572926</td>\n",
       "      <td>107.964799</td>\n",
       "      <td>196.242322</td>\n",
       "      <td>387.382632</td>\n",
       "      <td>143.574890</td>\n",
       "    </tr>\n",
       "    <tr>\n",
       "      <th>4</th>\n",
       "      <td>NM_016647</td>\n",
       "      <td>105.542871</td>\n",
       "      <td>124.268491</td>\n",
       "      <td>49.763098</td>\n",
       "      <td>209.094038</td>\n",
       "      <td>198.994169</td>\n",
       "      <td>171.252380</td>\n",
       "      <td>167.619608</td>\n",
       "      <td>146.068074</td>\n",
       "      <td>78.056751</td>\n",
       "      <td>...</td>\n",
       "      <td>182.763353</td>\n",
       "      <td>96.309743</td>\n",
       "      <td>77.536008</td>\n",
       "      <td>61.271819</td>\n",
       "      <td>193.406806</td>\n",
       "      <td>212.288176</td>\n",
       "      <td>157.662880</td>\n",
       "      <td>112.783748</td>\n",
       "      <td>120.434701</td>\n",
       "      <td>105.658480</td>\n",
       "    </tr>\n",
       "  </tbody>\n",
       "</table>\n",
       "<p>5 rows × 34 columns</p>\n",
       "</div>"
      ],
      "text/plain": [
       "     Unnamed: 0     S24_0_8     S24_1_8     S24_2_8     S24_0_9     S24_1_9  \\\n",
       "0     NM_017847   98.075215   97.527170   91.232346   82.916601  118.077866   \n",
       "1  NM_001003803  115.001902  153.762595  329.910908  100.220936  130.664846   \n",
       "2  NM_001003800  478.925670  145.897501  187.072386  603.488655  277.512953   \n",
       "3     NM_016649  136.409183  313.030757  182.464692  149.970896  392.593918   \n",
       "4     NM_016647  105.542871  124.268491   49.763098  209.094038  198.994169   \n",
       "\n",
       "      S24_2_9     L24_0_8     L24_1_8     L24_2_8  ...     RNA_2_9  \\\n",
       "0   94.707756  102.977069   78.326358   95.402696  ...  187.887559   \n",
       "1  369.749457  125.526792  171.471217  355.591868  ...  145.185841   \n",
       "2  204.983910  482.564074  143.951145  166.954718  ...  307.452370   \n",
       "3  119.357720  145.821543  239.212932  143.104044  ...  124.689017   \n",
       "4  171.252380  167.619608  146.068074   78.056751  ...  182.763353   \n",
       "\n",
       "   totalRPF_0_8  totalRPF_1_8  totalRPF_2_8     S15_0_9     S15_1_9  \\\n",
       "0    119.626839    131.960322     88.942963   93.121796  118.652650   \n",
       "1    125.709559    193.094482    312.288627  121.774656  121.511750   \n",
       "2    416.666362    134.196937    171.956396  667.372868  272.329276   \n",
       "3    167.274817    367.550500    175.909416  155.202993  419.572926   \n",
       "4     96.309743     77.536008     61.271819  193.406806  212.288176   \n",
       "\n",
       "      S15_2_9       RPF_0       RPF_1       RPF_2  \n",
       "0   42.843174  120.080838  136.086732   72.928319  \n",
       "1  236.494321  122.329206  170.009977  343.700739  \n",
       "2  207.360962  493.017433  202.090908  206.273009  \n",
       "3  107.964799  196.242322  387.382632  143.574890  \n",
       "4  157.662880  112.783748  120.434701  105.658480  \n",
       "\n",
       "[5 rows x 34 columns]"
      ]
     },
     "execution_count": 19,
     "metadata": {},
     "output_type": "execute_result"
    }
   ],
   "source": [
    "norm_dat = pd.read_csv('csv_raw/deseq_normed_count.csv')\n",
    "norm_dat['RPF_0'] = norm_dat[['totalRPF_0_8', 'totalRPF_0_9']].mean(axis=1)\n",
    "norm_dat['RPF_1'] = norm_dat[['totalRPF_1_8', 'totalRPF_1_9']].mean(axis=1)\n",
    "norm_dat['RPF_2'] = norm_dat[['totalRPF_2_8', 'totalRPF_2_9']].mean(axis=1)\n",
    "norm_dat.head()"
   ]
  },
  {
   "cell_type": "code",
   "execution_count": 29,
   "metadata": {},
   "outputs": [
    {
     "name": "stdout",
     "output_type": "stream",
     "text": [
      "7990\n"
     ]
    },
    {
     "data": {
      "text/html": [
       "<div>\n",
       "<style scoped>\n",
       "    .dataframe tbody tr th:only-of-type {\n",
       "        vertical-align: middle;\n",
       "    }\n",
       "\n",
       "    .dataframe tbody tr th {\n",
       "        vertical-align: top;\n",
       "    }\n",
       "\n",
       "    .dataframe thead th {\n",
       "        text-align: right;\n",
       "    }\n",
       "</style>\n",
       "<table border=\"1\" class=\"dataframe\">\n",
       "  <thead>\n",
       "    <tr style=\"text-align: right;\">\n",
       "      <th></th>\n",
       "      <th>Unnamed: 0</th>\n",
       "      <th>S24_0_8</th>\n",
       "      <th>S24_1_8</th>\n",
       "      <th>S24_2_8</th>\n",
       "      <th>S24_0_9</th>\n",
       "      <th>S24_1_9</th>\n",
       "      <th>S24_2_9</th>\n",
       "      <th>L24_0_8</th>\n",
       "      <th>L24_1_8</th>\n",
       "      <th>L24_2_8</th>\n",
       "      <th>...</th>\n",
       "      <th>RNA_2_9</th>\n",
       "      <th>totalRPF_0_8</th>\n",
       "      <th>totalRPF_1_8</th>\n",
       "      <th>totalRPF_2_8</th>\n",
       "      <th>S15_0_9</th>\n",
       "      <th>S15_1_9</th>\n",
       "      <th>S15_2_9</th>\n",
       "      <th>RPF_0</th>\n",
       "      <th>RPF_1</th>\n",
       "      <th>RPF_2</th>\n",
       "    </tr>\n",
       "  </thead>\n",
       "  <tbody>\n",
       "    <tr>\n",
       "      <th>922</th>\n",
       "      <td>NM_000342</td>\n",
       "      <td>94.590309</td>\n",
       "      <td>5361.241590</td>\n",
       "      <td>9.138348e+04</td>\n",
       "      <td>64.891253</td>\n",
       "      <td>2123.004059</td>\n",
       "      <td>9.718313e+04</td>\n",
       "      <td>329.225957</td>\n",
       "      <td>6115.806730</td>\n",
       "      <td>1.179741e+05</td>\n",
       "      <td>...</td>\n",
       "      <td>90384.164405</td>\n",
       "      <td>101.378677</td>\n",
       "      <td>4546.294014</td>\n",
       "      <td>9.988690e+04</td>\n",
       "      <td>101.478880</td>\n",
       "      <td>2140.036356</td>\n",
       "      <td>9.783667e+04</td>\n",
       "      <td>82.409032</td>\n",
       "      <td>3219.585715</td>\n",
       "      <td>9.445770e+04</td>\n",
       "    </tr>\n",
       "    <tr>\n",
       "      <th>6919</th>\n",
       "      <td>NM_000518</td>\n",
       "      <td>4215.740722</td>\n",
       "      <td>100418.772369</td>\n",
       "      <td>1.099488e+06</td>\n",
       "      <td>2384.393050</td>\n",
       "      <td>47276.099713</td>\n",
       "      <td>1.099693e+06</td>\n",
       "      <td>7097.149516</td>\n",
       "      <td>119421.234744</td>\n",
       "      <td>1.417981e+06</td>\n",
       "      <td>...</td>\n",
       "      <td>940097.110710</td>\n",
       "      <td>4261.959576</td>\n",
       "      <td>93793.221509</td>\n",
       "      <td>1.212415e+06</td>\n",
       "      <td>2616.961229</td>\n",
       "      <td>45196.652935</td>\n",
       "      <td>1.058338e+06</td>\n",
       "      <td>3133.718610</td>\n",
       "      <td>66992.957648</td>\n",
       "      <td>1.126886e+06</td>\n",
       "    </tr>\n",
       "  </tbody>\n",
       "</table>\n",
       "<p>2 rows × 34 columns</p>\n",
       "</div>"
      ],
      "text/plain": [
       "     Unnamed: 0      S24_0_8        S24_1_8       S24_2_8      S24_0_9  \\\n",
       "922   NM_000342    94.590309    5361.241590  9.138348e+04    64.891253   \n",
       "6919  NM_000518  4215.740722  100418.772369  1.099488e+06  2384.393050   \n",
       "\n",
       "           S24_1_9       S24_2_9      L24_0_8        L24_1_8       L24_2_8  \\\n",
       "922    2123.004059  9.718313e+04   329.225957    6115.806730  1.179741e+05   \n",
       "6919  47276.099713  1.099693e+06  7097.149516  119421.234744  1.417981e+06   \n",
       "\n",
       "      ...        RNA_2_9  totalRPF_0_8  totalRPF_1_8  totalRPF_2_8  \\\n",
       "922   ...   90384.164405    101.378677   4546.294014  9.988690e+04   \n",
       "6919  ...  940097.110710   4261.959576  93793.221509  1.212415e+06   \n",
       "\n",
       "          S15_0_9       S15_1_9       S15_2_9        RPF_0         RPF_1  \\\n",
       "922    101.478880   2140.036356  9.783667e+04    82.409032   3219.585715   \n",
       "6919  2616.961229  45196.652935  1.058338e+06  3133.718610  66992.957648   \n",
       "\n",
       "             RPF_2  \n",
       "922   9.445770e+04  \n",
       "6919  1.126886e+06  \n",
       "\n",
       "[2 rows x 34 columns]"
      ]
     },
     "execution_count": 29,
     "metadata": {},
     "output_type": "execute_result"
    }
   ],
   "source": [
    "norm_dat = norm_dat.sort_values(by=['RPF_2'])\n",
    "print(len(norm_dat))\n",
    "norm_dat.tail(2)"
   ]
  },
  {
   "cell_type": "code",
   "execution_count": null,
   "metadata": {},
   "outputs": [],
   "source": [
    "with open('../../../MOTIF/SeqLogo/RPF2_top.seq','w') as f:\n",
    "            for gene in norm_dat.tail(100)['Unnamed: 0']:\n",
    "                if len(fpUTR[gene])<8:\n",
    "                    continue\n",
    "                fp = fpUTR[gene]\n",
    "                f.write(\"%s\\n\"%(fp[len(fp)-8:]+ORFs[gene][:11]))"
   ]
  },
  {
   "cell_type": "markdown",
   "metadata": {},
   "source": [
    "## Collate by percentile, output centralised seq file"
   ]
  },
  {
   "cell_type": "code",
   "execution_count": null,
   "metadata": {},
   "outputs": [],
   "source": [
    "norm_dat = norm_dat.sort_values(by=['RPF_0'])\n",
    "for i in range(0,5):\n",
    "    left = len(norm_dat)//5*i\n",
    "    right = len(norm_dat)//5*(i+1)\n",
    "    d = norm_dat.iloc[left:right]\n",
    "    filename = \"../../../MOTIF/SeqLogo/RPF0_\"+str(i*20)+\"to\"+str(i*20+20)+\"percentile.seq\"\n",
    "    with open(filename,'w') as f:\n",
    "        for gene in d['Unnamed: 0']:\n",
    "            if len(fpUTR[gene])<8:\n",
    "                continue\n",
    "            fp = fpUTR[gene]\n",
    "            f.write(\"%s\\n\"%(fp[len(fp)-8:]+ORFs[gene][:11]))"
   ]
  },
  {
   "cell_type": "code",
   "execution_count": 36,
   "metadata": {},
   "outputs": [
    {
     "data": {
      "text/plain": [
       "1598"
      ]
     },
     "execution_count": 36,
     "metadata": {},
     "output_type": "execute_result"
    }
   ],
   "source": [
    "len(norm_dat)//5"
   ]
  },
  {
   "cell_type": "code",
   "execution_count": null,
   "metadata": {},
   "outputs": [],
   "source": []
  },
  {
   "cell_type": "code",
   "execution_count": 50,
   "metadata": {},
   "outputs": [
    {
     "name": "stdout",
     "output_type": "stream",
     "text": [
      "pass filter: 518\n",
      "up num:  55\n",
      "down num:  4\n"
     ]
    },
    {
     "data": {
      "text/html": [
       "<div>\n",
       "<style scoped>\n",
       "    .dataframe tbody tr th:only-of-type {\n",
       "        vertical-align: middle;\n",
       "    }\n",
       "\n",
       "    .dataframe tbody tr th {\n",
       "        vertical-align: top;\n",
       "    }\n",
       "\n",
       "    .dataframe thead th {\n",
       "        text-align: right;\n",
       "    }\n",
       "</style>\n",
       "<table border=\"1\" class=\"dataframe\">\n",
       "  <thead>\n",
       "    <tr style=\"text-align: right;\">\n",
       "      <th></th>\n",
       "      <th>Unnamed: 0</th>\n",
       "      <th>baseMean</th>\n",
       "      <th>log2FoldChange</th>\n",
       "      <th>lfcSE</th>\n",
       "      <th>stat</th>\n",
       "      <th>pvalue</th>\n",
       "      <th>padj</th>\n",
       "    </tr>\n",
       "  </thead>\n",
       "  <tbody>\n",
       "    <tr>\n",
       "      <th>5530</th>\n",
       "      <td>NM_004965</td>\n",
       "      <td>261.013700</td>\n",
       "      <td>1.459037</td>\n",
       "      <td>0.200565</td>\n",
       "      <td>7.274625</td>\n",
       "      <td>3.473844e-13</td>\n",
       "      <td>2.775601e-09</td>\n",
       "    </tr>\n",
       "    <tr>\n",
       "      <th>2630</th>\n",
       "      <td>NM_024660</td>\n",
       "      <td>148.085400</td>\n",
       "      <td>1.462557</td>\n",
       "      <td>0.268482</td>\n",
       "      <td>5.447509</td>\n",
       "      <td>5.108011e-08</td>\n",
       "      <td>3.710273e-05</td>\n",
       "    </tr>\n",
       "    <tr>\n",
       "      <th>7174</th>\n",
       "      <td>NM_001195304</td>\n",
       "      <td>42.420370</td>\n",
       "      <td>1.554738</td>\n",
       "      <td>0.417191</td>\n",
       "      <td>3.726679</td>\n",
       "      <td>1.940195e-04</td>\n",
       "      <td>2.384947e-02</td>\n",
       "    </tr>\n",
       "    <tr>\n",
       "      <th>2528</th>\n",
       "      <td>NM_019896</td>\n",
       "      <td>70.892420</td>\n",
       "      <td>1.614069</td>\n",
       "      <td>0.322847</td>\n",
       "      <td>4.999486</td>\n",
       "      <td>5.748341e-07</td>\n",
       "      <td>2.870578e-04</td>\n",
       "    </tr>\n",
       "    <tr>\n",
       "      <th>1719</th>\n",
       "      <td>NM_000421</td>\n",
       "      <td>365.155577</td>\n",
       "      <td>2.450478</td>\n",
       "      <td>0.365038</td>\n",
       "      <td>6.712949</td>\n",
       "      <td>1.907301e-11</td>\n",
       "      <td>5.079779e-08</td>\n",
       "    </tr>\n",
       "  </tbody>\n",
       "</table>\n",
       "</div>"
      ],
      "text/plain": [
       "        Unnamed: 0    baseMean  log2FoldChange     lfcSE      stat  \\\n",
       "5530     NM_004965  261.013700        1.459037  0.200565  7.274625   \n",
       "2630     NM_024660  148.085400        1.462557  0.268482  5.447509   \n",
       "7174  NM_001195304   42.420370        1.554738  0.417191  3.726679   \n",
       "2528     NM_019896   70.892420        1.614069  0.322847  4.999486   \n",
       "1719     NM_000421  365.155577        2.450478  0.365038  6.712949   \n",
       "\n",
       "            pvalue          padj  \n",
       "5530  3.473844e-13  2.775601e-09  \n",
       "2630  5.108011e-08  3.710273e-05  \n",
       "7174  1.940195e-04  2.384947e-02  \n",
       "2528  5.748341e-07  2.870578e-04  \n",
       "1719  1.907301e-11  5.079779e-08  "
      ]
     },
     "execution_count": 50,
     "metadata": {},
     "output_type": "execute_result"
    }
   ],
   "source": [
    "S15_t1 = pd.read_csv('csv_raw/ER_S15_t2.csv')\n",
    "S15_t1_filtered = S15_t1[S15_t1['padj'] < 0.5]\n",
    "print('pass filter:' ,len(S15_t1_filtered))\n",
    "\n",
    "S15_t1_filtered = S15_t1_filtered.sort_values(by=['log2FoldChange'])\n",
    "topNum=sum((S15_t1_filtered['log2FoldChange']>1)*1)\n",
    "print('up num: ',topNum)\n",
    "botNum=sum((S15_t1_filtered['log2FoldChange']<-1)*1)\n",
    "print('down num: ',botNum)\n",
    "S15_t1_filtered.tail()"
   ]
  },
  {
   "cell_type": "code",
   "execution_count": 51,
   "metadata": {},
   "outputs": [],
   "source": [
    "with open('../../../MOTIF/SeqLogo/S15_t2_bot.seq','w') as f:\n",
    "            for gene in S15_t1_filtered.head(33)['Unnamed: 0']:\n",
    "                if len(fpUTR[gene])<8:\n",
    "                    continue\n",
    "                fp = fpUTR[gene]\n",
    "                f.write(\"%s\\n\"%(fp[len(fp)-8:]+ORFs[gene][:11]))"
   ]
  },
  {
   "cell_type": "code",
   "execution_count": null,
   "metadata": {},
   "outputs": [],
   "source": []
  },
  {
   "cell_type": "code",
   "execution_count": null,
   "metadata": {},
   "outputs": [],
   "source": []
  },
  {
   "cell_type": "code",
   "execution_count": null,
   "metadata": {},
   "outputs": [],
   "source": []
  },
  {
   "cell_type": "code",
   "execution_count": null,
   "metadata": {},
   "outputs": [],
   "source": []
  },
  {
   "cell_type": "code",
   "execution_count": null,
   "metadata": {},
   "outputs": [],
   "source": []
  },
  {
   "cell_type": "code",
   "execution_count": null,
   "metadata": {},
   "outputs": [],
   "source": []
  },
  {
   "cell_type": "code",
   "execution_count": 61,
   "metadata": {},
   "outputs": [],
   "source": [
    "from matplotlib import cm\n",
    "import matplotlib.pyplot as plt\n",
    "import seaborn as sns\n",
    "import pandas as pd\n",
    "import numpy as np"
   ]
  },
  {
   "cell_type": "code",
   "execution_count": 67,
   "metadata": {},
   "outputs": [
    {
     "data": {
      "text/plain": [
       "<matplotlib.axes._subplots.AxesSubplot at 0x1242c42d0>"
      ]
     },
     "execution_count": 67,
     "metadata": {},
     "output_type": "execute_result"
    },
    {
     "data": {
      "image/png": "[encoded data removed]",
      "text/plain": [
       "<Figure size 432x288 with 1 Axes>"
      ]
     },
     "metadata": {
      "needs_background": "light"
     },
     "output_type": "display_data"
    }
   ],
   "source": [
    "sns.boxplot(filteredGeneList['fpUTR_length'],orient='v')"
   ]
  },
  {
   "cell_type": "code",
   "execution_count": 92,
   "metadata": {},
   "outputs": [
    {
     "data": {
      "text/plain": [
       "[(0, 1000)]"
      ]
     },
     "execution_count": 92,
     "metadata": {},
     "output_type": "execute_result"
    },
    {
     "data": {
      "image/png": "[encoded data removed]",
      "text/plain": [
       "<Figure size 432x288 with 1 Axes>"
      ]
     },
     "metadata": {},
     "output_type": "display_data"
    }
   ],
   "source": [
    "inBg = filteredGeneList['AccNum'].isin(S15_t1['Unnamed: 0'])\n",
    "#filteredGeneList.loc[inBg]\n",
    "sns.set(style=\"whitegrid\")\n",
    "ax=sns.boxplot(filteredGeneList[inBg]['fpUTR_length'],orient='v')\n",
    "enrich = S15_t1.loc[(S15_t1['padj']<0.05) & (S15_t1['log2FoldChange']>1)]\n",
    "inEn = filteredGeneList['AccNum'].isin(enrich['Unnamed: 0'])\n",
    "ax=sns.stripplot(filteredGeneList[inEn]['fpUTR_length'],color='r',orient='v')\n",
    "deplete = S15_t1.loc[(S15_t1['padj']<0.05) & (S15_t1['log2FoldChange']<-1)]\n",
    "inDe = filteredGeneList['AccNum'].isin(deplete['Unnamed: 0'])\n",
    "ax=sns.swarmplot(filteredGeneList[inDe]['fpUTR_length'],color='orange',orient='v',dodge=True)\n",
    "ax.set(ylim=(0,1000))"
   ]
  },
  {
   "cell_type": "code",
   "execution_count": 93,
   "metadata": {},
   "outputs": [
    {
     "data": {
      "image/png": "[encoded data removed]",
      "text/plain": [
       "<Figure size 432x288 with 1 Axes>"
      ]
     },
     "metadata": {},
     "output_type": "display_data"
    }
   ],
   "source": [
    "ax=sns.swarmplot(y='fpUTR_length',data=filteredGeneList,color='orange',orient='v')"
   ]
  },
  {
   "cell_type": "code",
   "execution_count": null,
   "metadata": {},
   "outputs": [],
   "source": []
  }
 ],
 "metadata": {
  "kernelspec": {
   "display_name": "Python 3",
   "language": "python",
   "name": "python3"
  },
  "language_info": {
   "codemirror_mode": {
    "name": "ipython",
    "version": 3
   },
   "file_extension": ".py",
   "mimetype": "text/x-python",
   "name": "python",
   "nbconvert_exporter": "python",
   "pygments_lexer": "ipython3",
   "version": "3.7.4"
  }
 },
 "nbformat": 4,
 "nbformat_minor": 2
}
