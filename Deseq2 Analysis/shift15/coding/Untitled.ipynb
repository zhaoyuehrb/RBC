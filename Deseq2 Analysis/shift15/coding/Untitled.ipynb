{
 "cells": [
  {
   "cell_type": "code",
   "execution_count": 1,
   "metadata": {},
   "outputs": [],
   "source": [
    "# prepare MEME\n",
    "import pandas as pd\n",
    "import numpy as np\n",
    "import csv"
   ]
  },
  {
   "cell_type": "markdown",
   "metadata": {},
   "source": [
    "# Build utr/orf dicts"
   ]
  },
  {
   "cell_type": "code",
   "execution_count": 2,
   "metadata": {},
   "outputs": [
    {
     "data": {
      "text/html": [
       "<div>\n",
       "<style scoped>\n",
       "    .dataframe tbody tr th:only-of-type {\n",
       "        vertical-align: middle;\n",
       "    }\n",
       "\n",
       "    .dataframe tbody tr th {\n",
       "        vertical-align: top;\n",
       "    }\n",
       "\n",
       "    .dataframe thead th {\n",
       "        text-align: right;\n",
       "    }\n",
       "</style>\n",
       "<table border=\"1\" class=\"dataframe\">\n",
       "  <thead>\n",
       "    <tr style=\"text-align: right;\">\n",
       "      <th></th>\n",
       "      <th>GeneName</th>\n",
       "      <th>AccNum</th>\n",
       "      <th>Chrom</th>\n",
       "      <th>mRNALength</th>\n",
       "      <th>ORFLength</th>\n",
       "      <th>fpUTR_length</th>\n",
       "      <th>tpUTR_length</th>\n",
       "      <th>sumIntronLengths</th>\n",
       "    </tr>\n",
       "  </thead>\n",
       "  <tbody>\n",
       "    <tr>\n",
       "      <th>0</th>\n",
       "      <td>UBE2Q1</td>\n",
       "      <td>NM_017582</td>\n",
       "      <td>chr1</td>\n",
       "      <td>3223</td>\n",
       "      <td>1269</td>\n",
       "      <td>91</td>\n",
       "      <td>1863</td>\n",
       "      <td>6847</td>\n",
       "    </tr>\n",
       "    <tr>\n",
       "      <th>1</th>\n",
       "      <td>DUOXA1</td>\n",
       "      <td>NM_001276267</td>\n",
       "      <td>chr15</td>\n",
       "      <td>3032</td>\n",
       "      <td>897</td>\n",
       "      <td>395</td>\n",
       "      <td>1740</td>\n",
       "      <td>9479</td>\n",
       "    </tr>\n",
       "  </tbody>\n",
       "</table>\n",
       "</div>"
      ],
      "text/plain": [
       "  GeneName        AccNum  Chrom  mRNALength  ORFLength  fpUTR_length  \\\n",
       "0   UBE2Q1     NM_017582   chr1        3223       1269            91   \n",
       "1   DUOXA1  NM_001276267  chr15        3032        897           395   \n",
       "\n",
       "   tpUTR_length  sumIntronLengths  \n",
       "0          1863              6847  \n",
       "1          1740              9479  "
      ]
     },
     "execution_count": 2,
     "metadata": {},
     "output_type": "execute_result"
    }
   ],
   "source": [
    "filteredGeneList = pd.read_csv('../../../Database/filteredGenesDetails_human_240118.txt',sep='\\t')\n",
    "filteredGeneList.head(2)"
   ]
  },
  {
   "cell_type": "code",
   "execution_count": 3,
   "metadata": {},
   "outputs": [
    {
     "data": {
      "text/html": [
       "<div>\n",
       "<style scoped>\n",
       "    .dataframe tbody tr th:only-of-type {\n",
       "        vertical-align: middle;\n",
       "    }\n",
       "\n",
       "    .dataframe tbody tr th {\n",
       "        vertical-align: top;\n",
       "    }\n",
       "\n",
       "    .dataframe thead th {\n",
       "        text-align: right;\n",
       "    }\n",
       "</style>\n",
       "<table border=\"1\" class=\"dataframe\">\n",
       "  <thead>\n",
       "    <tr style=\"text-align: right;\">\n",
       "      <th></th>\n",
       "      <th>GeneName</th>\n",
       "      <th>AccNum</th>\n",
       "      <th>Chrom</th>\n",
       "      <th>mRNALength</th>\n",
       "      <th>ORFLength</th>\n",
       "      <th>fpUTR_length</th>\n",
       "      <th>tpUTR_length</th>\n",
       "      <th>sumIntronLengths</th>\n",
       "    </tr>\n",
       "  </thead>\n",
       "  <tbody>\n",
       "    <tr>\n",
       "      <th>0</th>\n",
       "      <td>UBE2Q1</td>\n",
       "      <td>NM_017582</td>\n",
       "      <td>chr1</td>\n",
       "      <td>3223</td>\n",
       "      <td>1269</td>\n",
       "      <td>91</td>\n",
       "      <td>1863</td>\n",
       "      <td>6847</td>\n",
       "    </tr>\n",
       "    <tr>\n",
       "      <th>1</th>\n",
       "      <td>DUOXA1</td>\n",
       "      <td>NM_001276267</td>\n",
       "      <td>chr15</td>\n",
       "      <td>3032</td>\n",
       "      <td>897</td>\n",
       "      <td>395</td>\n",
       "      <td>1740</td>\n",
       "      <td>9479</td>\n",
       "    </tr>\n",
       "  </tbody>\n",
       "</table>\n",
       "</div>"
      ],
      "text/plain": [
       "  GeneName        AccNum  Chrom  mRNALength  ORFLength  fpUTR_length  \\\n",
       "0   UBE2Q1     NM_017582   chr1        3223       1269            91   \n",
       "1   DUOXA1  NM_001276267  chr15        3032        897           395   \n",
       "\n",
       "   tpUTR_length  sumIntronLengths  \n",
       "0          1863              6847  \n",
       "1          1740              9479  "
      ]
     },
     "execution_count": 3,
     "metadata": {},
     "output_type": "execute_result"
    }
   ],
   "source": [
    "filteredGeneList = pd.read_csv('../../../Database/filteredGenesDetails_human_240118.txt',sep='\\t')\n",
    "filteredGeneList.head(2)"
   ]
  },
  {
   "cell_type": "code",
   "execution_count": 35,
   "metadata": {},
   "outputs": [
    {
     "data": {
      "text/plain": [
       "'UBE2Q1'"
      ]
     },
     "execution_count": 35,
     "metadata": {},
     "output_type": "execute_result"
    }
   ],
   "source": [
    "acc2gene={}\n",
    "for idx,row in filteredGeneList.iterrows():\n",
    "    acc2gene[row['AccNum']] = row['GeneName']\n",
    "acc2gene['NM_017582']"
   ]
  },
  {
   "cell_type": "code",
   "execution_count": null,
   "metadata": {},
   "outputs": [],
   "source": []
  },
  {
   "cell_type": "code",
   "execution_count": 4,
   "metadata": {},
   "outputs": [],
   "source": [
    "def get_fa(filename,onlyKeys = 'All'):\n",
    "    keyD = dict()\n",
    "    if onlyKeys!='All':\n",
    "        for k in onlyKeys: keyD[k] = None\n",
    "        \n",
    "    def addEntry(current,d):\n",
    "        entry = current.split('\\n')\n",
    "        if entry[0]!='' and (onlyKeys=='All' or keyD.has_key(entry[0])):\n",
    "            d[entry[0]] = ''.join(entry[1:])\n",
    "\n",
    "    d = dict()\n",
    "    bf = open(filename)\n",
    "    current = ['\\n']\n",
    "    for line in bf:\n",
    "        if line[0]=='>':\n",
    "            addEntry(''.join(current),d)\n",
    "            if len(line)>1: current = [line[1:]]\n",
    "            else: current = ['\\n']\n",
    "        else: current.append(line)\n",
    "    addEntry(''.join(current),d)\n",
    "    bf.close()\n",
    "    return d"
   ]
  },
  {
   "cell_type": "code",
   "execution_count": 5,
   "metadata": {},
   "outputs": [
    {
     "name": "stdout",
     "output_type": "stream",
     "text": [
      "<class 'dict'>\n",
      "['NR_148357_chr1(+):11868-14361', 'NR_046018_chr1(+):11873-14408', 'NR_024540_chr1(-):14361-29369']\n"
     ]
    }
   ],
   "source": [
    "splicedGenes = get_fa('../../../Database/splicedGenes_240118.txt')\n",
    "print(type(splicedGenes))\n",
    "print(list(splicedGenes.keys())[0:3])"
   ]
  },
  {
   "cell_type": "code",
   "execution_count": null,
   "metadata": {},
   "outputs": [],
   "source": []
  },
  {
   "cell_type": "code",
   "execution_count": 6,
   "metadata": {},
   "outputs": [
    {
     "name": "stdout",
     "output_type": "stream",
     "text": [
      "<class 'dict'>\n",
      "['NR_148357', 'NR_046018', 'NR_024540']\n"
     ]
    }
   ],
   "source": [
    "## truncate the keys to only accNum\n",
    "ks = list(splicedGenes.keys())\n",
    "for key in ks:\n",
    "    splicedGenes[key.split('_chr')[0]] = splicedGenes[key]\n",
    "    splicedGenes.pop(key)\n",
    "print(type(splicedGenes))\n",
    "print(list(splicedGenes.keys())[0:3])"
   ]
  },
  {
   "cell_type": "code",
   "execution_count": 7,
   "metadata": {},
   "outputs": [
    {
     "name": "stdout",
     "output_type": "stream",
     "text": [
      "<class 'dict'>\n",
      "['NM_017582', 'NM_001276267', 'NM_173469']\n"
     ]
    }
   ],
   "source": [
    "splicedORFs = get_fa('../../../Database/splicedORFs_240118.txt')\n",
    "print(type(splicedORFs))\n",
    "print(list(splicedORFs.keys())[0:3])"
   ]
  },
  {
   "cell_type": "code",
   "execution_count": 8,
   "metadata": {},
   "outputs": [
    {
     "data": {
      "text/html": [
       "<div>\n",
       "<style scoped>\n",
       "    .dataframe tbody tr th:only-of-type {\n",
       "        vertical-align: middle;\n",
       "    }\n",
       "\n",
       "    .dataframe tbody tr th {\n",
       "        vertical-align: top;\n",
       "    }\n",
       "\n",
       "    .dataframe thead th {\n",
       "        text-align: right;\n",
       "    }\n",
       "</style>\n",
       "<table border=\"1\" class=\"dataframe\">\n",
       "  <thead>\n",
       "    <tr style=\"text-align: right;\">\n",
       "      <th></th>\n",
       "      <th>GeneName</th>\n",
       "      <th>AccNum</th>\n",
       "      <th>Chrom</th>\n",
       "      <th>mRNALength</th>\n",
       "      <th>ORFLength</th>\n",
       "      <th>fpUTR_length</th>\n",
       "      <th>tpUTR_length</th>\n",
       "      <th>sumIntronLengths</th>\n",
       "      <th>fpUTR</th>\n",
       "      <th>tpUTR</th>\n",
       "      <th>ORF</th>\n",
       "    </tr>\n",
       "  </thead>\n",
       "  <tbody>\n",
       "    <tr>\n",
       "      <th>0</th>\n",
       "      <td>UBE2Q1</td>\n",
       "      <td>NM_017582</td>\n",
       "      <td>chr1</td>\n",
       "      <td>3223</td>\n",
       "      <td>1269</td>\n",
       "      <td>91</td>\n",
       "      <td>1863</td>\n",
       "      <td>6847</td>\n",
       "      <td></td>\n",
       "      <td></td>\n",
       "      <td></td>\n",
       "    </tr>\n",
       "    <tr>\n",
       "      <th>1</th>\n",
       "      <td>DUOXA1</td>\n",
       "      <td>NM_001276267</td>\n",
       "      <td>chr15</td>\n",
       "      <td>3032</td>\n",
       "      <td>897</td>\n",
       "      <td>395</td>\n",
       "      <td>1740</td>\n",
       "      <td>9479</td>\n",
       "      <td></td>\n",
       "      <td></td>\n",
       "      <td></td>\n",
       "    </tr>\n",
       "  </tbody>\n",
       "</table>\n",
       "</div>"
      ],
      "text/plain": [
       "  GeneName        AccNum  Chrom  mRNALength  ORFLength  fpUTR_length  \\\n",
       "0   UBE2Q1     NM_017582   chr1        3223       1269            91   \n",
       "1   DUOXA1  NM_001276267  chr15        3032        897           395   \n",
       "\n",
       "   tpUTR_length  sumIntronLengths fpUTR tpUTR ORF  \n",
       "0          1863              6847                  \n",
       "1          1740              9479                  "
      ]
     },
     "execution_count": 8,
     "metadata": {},
     "output_type": "execute_result"
    }
   ],
   "source": [
    "filteredGeneList['fpUTR'] = ''\n",
    "filteredGeneList['tpUTR'] = ''\n",
    "filteredGeneList['ORF'] = ''\n",
    "filteredGeneList.head(2)"
   ]
  },
  {
   "cell_type": "code",
   "execution_count": 9,
   "metadata": {},
   "outputs": [
    {
     "data": {
      "text/plain": [
       "'UBE2Q1'"
      ]
     },
     "execution_count": 9,
     "metadata": {},
     "output_type": "execute_result"
    }
   ],
   "source": [
    "filteredGeneList.iloc[0]['GeneName']"
   ]
  },
  {
   "cell_type": "code",
   "execution_count": 16,
   "metadata": {},
   "outputs": [],
   "source": [
    "fpUTR={}\n",
    "tpUTR = {}\n",
    "ORFs = {}\n",
    "for idx,row in filteredGeneList.iterrows():\n",
    "    accNum = row['AccNum']\n",
    "    fpLen = row['fpUTR_length']\n",
    "    tpLen = row['tpUTR_length']\n",
    "    fpUTR[accNum] = splicedGenes[accNum][0:fpLen]\n",
    "    tpUTR[accNum] = splicedGenes[accNum][-tpLen:]\n",
    "    ORFs[accNum] = splicedORFs[accNum]"
   ]
  },
  {
   "cell_type": "code",
   "execution_count": 17,
   "metadata": {},
   "outputs": [
    {
     "data": {
      "text/plain": [
       "19210"
      ]
     },
     "execution_count": 17,
     "metadata": {},
     "output_type": "execute_result"
    }
   ],
   "source": [
    "len(filteredGeneList)"
   ]
  },
  {
   "cell_type": "code",
   "execution_count": 21,
   "metadata": {},
   "outputs": [],
   "source": [
    "with open('../../../Database/fpUTR.csv','w') as f:\n",
    "    for key in fpUTR.keys():\n",
    "        f.write(\"%s,%s\\n\"%(key,fpUTR[key]))"
   ]
  },
  {
   "cell_type": "code",
   "execution_count": 22,
   "metadata": {},
   "outputs": [],
   "source": [
    "with open('../../../Database/tpUTR.csv','w') as f:\n",
    "    for key in tpUTR.keys():\n",
    "        f.write(\"%s,%s\\n\"%(key,tpUTR[key]))"
   ]
  },
  {
   "cell_type": "code",
   "execution_count": 23,
   "metadata": {},
   "outputs": [],
   "source": [
    "with open('../../../Database/ORF.csv','w') as f:\n",
    "    for key in ORFs.keys():\n",
    "        f.write(\"%s,%s\\n\"%(key,ORFs[key]))    "
   ]
  },
  {
   "cell_type": "code",
   "execution_count": null,
   "metadata": {},
   "outputs": [],
   "source": []
  },
  {
   "cell_type": "code",
   "execution_count": null,
   "metadata": {},
   "outputs": [],
   "source": []
  },
  {
   "cell_type": "code",
   "execution_count": 24,
   "metadata": {},
   "outputs": [
    {
     "name": "stdout",
     "output_type": "stream",
     "text": [
      "/Users/zhaoy/Documents/My Projects/RBC/Deseq2 Analysis/shift15/coding\r\n"
     ]
    }
   ],
   "source": [
    "!pwd"
   ]
  },
  {
   "cell_type": "markdown",
   "metadata": {},
   "source": [
    "# Extract groups of interest"
   ]
  },
  {
   "cell_type": "code",
   "execution_count": 29,
   "metadata": {},
   "outputs": [
    {
     "name": "stdout",
     "output_type": "stream",
     "text": [
      "13\n"
     ]
    }
   ],
   "source": [
    "# L24 t0\n",
    "L24_t0 = pd.read_csv('csv_raw/ER_L24_t0.csv')\n",
    "L24_t0_filtered = L24_t0[L24_t0['padj'] < 0.05]\n",
    "print(len(L24_t0_filtered))"
   ]
  },
  {
   "cell_type": "code",
   "execution_count": null,
   "metadata": {},
   "outputs": [],
   "source": []
  },
  {
   "cell_type": "markdown",
   "metadata": {},
   "source": [
    "#### L24 t0:\n",
    "too little, ignore first"
   ]
  },
  {
   "cell_type": "code",
   "execution_count": 30,
   "metadata": {},
   "outputs": [
    {
     "name": "stdout",
     "output_type": "stream",
     "text": [
      "2\n",
      "0\n"
     ]
    },
    {
     "data": {
      "text/html": [
       "<div>\n",
       "<style scoped>\n",
       "    .dataframe tbody tr th:only-of-type {\n",
       "        vertical-align: middle;\n",
       "    }\n",
       "\n",
       "    .dataframe tbody tr th {\n",
       "        vertical-align: top;\n",
       "    }\n",
       "\n",
       "    .dataframe thead th {\n",
       "        text-align: right;\n",
       "    }\n",
       "</style>\n",
       "<table border=\"1\" class=\"dataframe\">\n",
       "  <thead>\n",
       "    <tr style=\"text-align: right;\">\n",
       "      <th></th>\n",
       "      <th>Unnamed: 0</th>\n",
       "      <th>baseMean</th>\n",
       "      <th>log2FoldChange</th>\n",
       "      <th>lfcSE</th>\n",
       "      <th>stat</th>\n",
       "      <th>pvalue</th>\n",
       "      <th>padj</th>\n",
       "    </tr>\n",
       "  </thead>\n",
       "  <tbody>\n",
       "    <tr>\n",
       "      <th>456</th>\n",
       "      <td>NM_033387</td>\n",
       "      <td>137.907415</td>\n",
       "      <td>0.776571</td>\n",
       "      <td>0.193303</td>\n",
       "      <td>4.017375</td>\n",
       "      <td>5.885001e-05</td>\n",
       "      <td>0.037928</td>\n",
       "    </tr>\n",
       "    <tr>\n",
       "      <th>3312</th>\n",
       "      <td>NM_001272068</td>\n",
       "      <td>164.297736</td>\n",
       "      <td>0.885366</td>\n",
       "      <td>0.205201</td>\n",
       "      <td>4.314619</td>\n",
       "      <td>1.598784e-05</td>\n",
       "      <td>0.027453</td>\n",
       "    </tr>\n",
       "    <tr>\n",
       "      <th>2679</th>\n",
       "      <td>NM_004074</td>\n",
       "      <td>715.242051</td>\n",
       "      <td>0.991900</td>\n",
       "      <td>0.244333</td>\n",
       "      <td>4.059630</td>\n",
       "      <td>4.915051e-05</td>\n",
       "      <td>0.035701</td>\n",
       "    </tr>\n",
       "    <tr>\n",
       "      <th>3598</th>\n",
       "      <td>NM_016633</td>\n",
       "      <td>9219.527608</td>\n",
       "      <td>1.510447</td>\n",
       "      <td>0.350191</td>\n",
       "      <td>4.313209</td>\n",
       "      <td>1.609022e-05</td>\n",
       "      <td>0.027453</td>\n",
       "    </tr>\n",
       "    <tr>\n",
       "      <th>7328</th>\n",
       "      <td>NM_001025604</td>\n",
       "      <td>1012.068880</td>\n",
       "      <td>3.970863</td>\n",
       "      <td>0.807518</td>\n",
       "      <td>4.917367</td>\n",
       "      <td>8.771593e-07</td>\n",
       "      <td>0.007009</td>\n",
       "    </tr>\n",
       "  </tbody>\n",
       "</table>\n",
       "</div>"
      ],
      "text/plain": [
       "        Unnamed: 0     baseMean  log2FoldChange     lfcSE      stat  \\\n",
       "456      NM_033387   137.907415        0.776571  0.193303  4.017375   \n",
       "3312  NM_001272068   164.297736        0.885366  0.205201  4.314619   \n",
       "2679     NM_004074   715.242051        0.991900  0.244333  4.059630   \n",
       "3598     NM_016633  9219.527608        1.510447  0.350191  4.313209   \n",
       "7328  NM_001025604  1012.068880        3.970863  0.807518  4.917367   \n",
       "\n",
       "            pvalue      padj  \n",
       "456   5.885001e-05  0.037928  \n",
       "3312  1.598784e-05  0.027453  \n",
       "2679  4.915051e-05  0.035701  \n",
       "3598  1.609022e-05  0.027453  \n",
       "7328  8.771593e-07  0.007009  "
      ]
     },
     "execution_count": 30,
     "metadata": {},
     "output_type": "execute_result"
    }
   ],
   "source": [
    "L24_t0_filtered = L24_t0_filtered.sort_values(by=['log2FoldChange'])\n",
    "topNum=sum((L24_t0_filtered['log2FoldChange']>1)*1)\n",
    "print(topNum)\n",
    "botNum=sum((L24_t0_filtered['log2FoldChange']<-1)*1)\n",
    "print(botNum)\n",
    "L24_t0_filtered.tail()"
   ]
  },
  {
   "cell_type": "code",
   "execution_count": 33,
   "metadata": {},
   "outputs": [
    {
     "name": "stdout",
     "output_type": "stream",
     "text": [
      "pass filter: 578\n",
      "up num:  40\n",
      "down num:  0\n"
     ]
    },
    {
     "data": {
      "text/html": [
       "<div>\n",
       "<style scoped>\n",
       "    .dataframe tbody tr th:only-of-type {\n",
       "        vertical-align: middle;\n",
       "    }\n",
       "\n",
       "    .dataframe tbody tr th {\n",
       "        vertical-align: top;\n",
       "    }\n",
       "\n",
       "    .dataframe thead th {\n",
       "        text-align: right;\n",
       "    }\n",
       "</style>\n",
       "<table border=\"1\" class=\"dataframe\">\n",
       "  <thead>\n",
       "    <tr style=\"text-align: right;\">\n",
       "      <th></th>\n",
       "      <th>Unnamed: 0</th>\n",
       "      <th>baseMean</th>\n",
       "      <th>log2FoldChange</th>\n",
       "      <th>lfcSE</th>\n",
       "      <th>stat</th>\n",
       "      <th>pvalue</th>\n",
       "      <th>padj</th>\n",
       "    </tr>\n",
       "  </thead>\n",
       "  <tbody>\n",
       "    <tr>\n",
       "      <th>4518</th>\n",
       "      <td>NM_019554</td>\n",
       "      <td>2782.601937</td>\n",
       "      <td>1.493255</td>\n",
       "      <td>0.381964</td>\n",
       "      <td>3.909413</td>\n",
       "      <td>9.252073e-05</td>\n",
       "      <td>4.351943e-03</td>\n",
       "    </tr>\n",
       "    <tr>\n",
       "      <th>2679</th>\n",
       "      <td>NM_004074</td>\n",
       "      <td>715.242051</td>\n",
       "      <td>1.584397</td>\n",
       "      <td>0.245659</td>\n",
       "      <td>6.449588</td>\n",
       "      <td>1.121548e-10</td>\n",
       "      <td>2.240292e-07</td>\n",
       "    </tr>\n",
       "    <tr>\n",
       "      <th>689</th>\n",
       "      <td>NM_000992</td>\n",
       "      <td>359.205401</td>\n",
       "      <td>1.593513</td>\n",
       "      <td>0.336520</td>\n",
       "      <td>4.735269</td>\n",
       "      <td>2.187652e-06</td>\n",
       "      <td>3.972577e-04</td>\n",
       "    </tr>\n",
       "    <tr>\n",
       "      <th>4546</th>\n",
       "      <td>NM_033625</td>\n",
       "      <td>148.300167</td>\n",
       "      <td>1.625403</td>\n",
       "      <td>0.517227</td>\n",
       "      <td>3.142532</td>\n",
       "      <td>1.674935e-03</td>\n",
       "      <td>3.020933e-02</td>\n",
       "    </tr>\n",
       "    <tr>\n",
       "      <th>3978</th>\n",
       "      <td>NM_005694</td>\n",
       "      <td>54.781701</td>\n",
       "      <td>1.697012</td>\n",
       "      <td>0.353176</td>\n",
       "      <td>4.805007</td>\n",
       "      <td>1.547461e-06</td>\n",
       "      <td>3.253740e-04</td>\n",
       "    </tr>\n",
       "  </tbody>\n",
       "</table>\n",
       "</div>"
      ],
      "text/plain": [
       "     Unnamed: 0     baseMean  log2FoldChange     lfcSE      stat  \\\n",
       "4518  NM_019554  2782.601937        1.493255  0.381964  3.909413   \n",
       "2679  NM_004074   715.242051        1.584397  0.245659  6.449588   \n",
       "689   NM_000992   359.205401        1.593513  0.336520  4.735269   \n",
       "4546  NM_033625   148.300167        1.625403  0.517227  3.142532   \n",
       "3978  NM_005694    54.781701        1.697012  0.353176  4.805007   \n",
       "\n",
       "            pvalue          padj  \n",
       "4518  9.252073e-05  4.351943e-03  \n",
       "2679  1.121548e-10  2.240292e-07  \n",
       "689   2.187652e-06  3.972577e-04  \n",
       "4546  1.674935e-03  3.020933e-02  \n",
       "3978  1.547461e-06  3.253740e-04  "
      ]
     },
     "execution_count": 33,
     "metadata": {},
     "output_type": "execute_result"
    }
   ],
   "source": [
    "L24_t1 = pd.read_csv('csv_raw/ER_L24_t1.csv')\n",
    "L24_t1_filtered = L24_t1[L24_t1['padj'] < 0.05]\n",
    "print('pass filter:' ,len(L24_t1_filtered))\n",
    "\n",
    "L24_t1_filtered = L24_t1_filtered.sort_values(by=['log2FoldChange'])\n",
    "topNum=sum((L24_t1_filtered['log2FoldChange']>1)*1)\n",
    "print('up num: ',topNum)\n",
    "botNum=sum((L24_t1_filtered['log2FoldChange']<-1)*1)\n",
    "print('down num: ',botNum)\n",
    "L24_t1_filtered.tail()"
   ]
  },
  {
   "cell_type": "code",
   "execution_count": 47,
   "metadata": {},
   "outputs": [],
   "source": [
    "def write_fa(filename,genes,orf=False):\n",
    "    with open(filename,'w') as f:\n",
    "        for gene in genes:\n",
    "            if len(fpUTR[gene])<8:\n",
    "                continue\n",
    "            f.write(\">%s\\n%s\\n\"%(acc2gene[gene],fpUTR[gene]))\n",
    "    "
   ]
  },
  {
   "cell_type": "code",
   "execution_count": 51,
   "metadata": {},
   "outputs": [],
   "source": [
    "write_fa('../../../MOTIF/fpUTR/L24_t1_enriched.fa',list(L24_t1_filtered.tail(topNum)['Unnamed: 0']))"
   ]
  },
  {
   "cell_type": "code",
   "execution_count": 52,
   "metadata": {},
   "outputs": [],
   "source": [
    "write_fa('../../../MOTIF/fpUTR/L24_t1_depleted.fa',list(L24_t1_filtered.head(topNum)['Unnamed: 0']))"
   ]
  },
  {
   "cell_type": "code",
   "execution_count": 53,
   "metadata": {},
   "outputs": [],
   "source": [
    "write_fa('../../../MOTIF/fpUTR/L24_t1_notEnriched.fa',list(L24_t1_filtered.head(-topNum)['Unnamed: 0']))"
   ]
  },
  {
   "cell_type": "code",
   "execution_count": null,
   "metadata": {},
   "outputs": [],
   "source": []
  },
  {
   "cell_type": "code",
   "execution_count": null,
   "metadata": {},
   "outputs": [],
   "source": []
  }
 ],
 "metadata": {
  "kernelspec": {
   "display_name": "Python 3",
   "language": "python",
   "name": "python3"
  },
  "language_info": {
   "codemirror_mode": {
    "name": "ipython",
    "version": 3
   },
   "file_extension": ".py",
   "mimetype": "text/x-python",
   "name": "python",
   "nbconvert_exporter": "python",
   "pygments_lexer": "ipython3",
   "version": "3.7.4"
  }
 },
 "nbformat": 4,
 "nbformat_minor": 2
}
